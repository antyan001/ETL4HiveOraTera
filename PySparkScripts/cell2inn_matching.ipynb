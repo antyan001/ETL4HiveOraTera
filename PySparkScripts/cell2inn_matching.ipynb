{
 "cells": [
  {
   "cell_type": "code",
   "execution_count": null,
   "metadata": {},
   "outputs": [],
   "source": [
    "%reload_ext autoreload\n",
    "%autoreload 2"
   ]
  },
  {
   "cell_type": "code",
   "execution_count": null,
   "metadata": {},
   "outputs": [],
   "source": [
    "import os\n",
    "import sys\n",
    "import warnings\n",
    "warnings.filterwarnings('ignore')\n",
    "\n",
    "curruser = os.environ.get('USER')\n",
    "\n",
    "# sys.path.insert(0, '/opt/workspace/{user}/system/support_library/'.format(user=curruser))\n",
    "# sys.path.insert(0, '/opt/workspace/{user}/libs/'.format(user=curruser))\n",
    "# sys.path.insert(0, '/opt/workspace/{user}/system/labdata/lib/'.format(user=curruser))\n",
    "\n",
    "# sys.path.insert(0, '/opt/workspace/{}/notebooks/Clickstream_Analytics/scr'.format(curruser))\n",
    "sys.path.insert(0, '/opt/workspace/{user}/notebooks/support_library/'.format(user=curruser)) \n",
    "sys.path.insert(0, '/opt/workspace/{user}/libs/python3.5/site-packages/'.format(user=curruser))\n",
    "sys.path.insert(0, '/opt/workspace/{user}/notebooks/labdata/lib/'.format(user=curruser))\n",
    "\n",
    "# sys.path.insert(0, '/home/{}/notebooks/support_library/'.format(curruser)) \n",
    "# sys.path.insert(0, '/home/{}/python35-libs/lib/python3.5/site-packages/'.format(curruser))\n",
    "# sys.path.insert(0, '/home/{}/notebooks/labdata/lib/'.format(curruser))\n",
    "\n",
    "# from tqdm import tqdm\n",
    "# from tqdm._tqdm_notebook import tqdm_notebook\n",
    "# tqdm_notebook.pandas()\n",
    "\n",
    "from pathlib import Path\n",
    "import pandas as pd\n",
    "import numpy as np\n",
    "import re \n",
    "import joblib\n",
    "import json\n",
    "import subprocess\n",
    "import tqdm\n",
    "# pd.set_option('display.float_format', lambda x: '%.3f' % x)\n",
    "# pd.set_option('display.max_colwidth', -1)\n",
    "# pd.set_option('display.max_rows', None)\n",
    "# pd.set_option('display.max_columns', None)\n",
    "\n",
    "from spark_connector import SparkConnector\n",
    "from sparkdb_loader import spark\n",
    "# from spark_helper import SparkHelper\n",
    "from connector import OracleDB\n",
    "import pyspark\n",
    "from pyspark import SparkContext, SparkConf, HiveContext\n",
    "from pyspark.sql.functions import udf \n",
    "from pyspark.sql import functions as f\n",
    "from pyspark.sql.window import Window\n",
    "from pyspark.sql.types import *\n",
    "from pyspark.sql.dataframe import DataFrame\n",
    "from pyspark.ml import Pipeline, PipelineModel\n",
    "from pyspark.ml.feature import StringIndexer\n",
    "\n",
    "import loader as load\n",
    "\n",
    "# from corpora_process import utils\n",
    "import time\n",
    "from datetime import datetime\n",
    "from dateutil.relativedelta import relativedelta"
   ]
  },
  {
   "cell_type": "code",
   "execution_count": null,
   "metadata": {},
   "outputs": [],
   "source": [
    "def show(self, n=10):\n",
    "    return self.limit(n).toPandas()\n",
    "\n",
    "pyspark.sql.dataframe.DataFrame.show = show"
   ]
  },
  {
   "cell_type": "code",
   "execution_count": null,
   "metadata": {},
   "outputs": [],
   "source": [
    "LOCAL_PATH = './csv'\n",
    "HDFS_PATH = '/user/{}'.format(curruser)"
   ]
  },
  {
   "cell_type": "code",
   "execution_count": null,
   "metadata": {},
   "outputs": [],
   "source": [
    "def load_as_csv(dst_df, file_name, save_local=True):\n",
    "    local_path = os.path.join(LOCAL_PATH, file_name)\n",
    "    hdfs_path = os.path.join(HDFS_PATH, file_name)\n",
    "\n",
    "    dst_df \\\n",
    "        .coalesce(1).write \\\n",
    "        .format('com.databricks.spark.csv') \\\n",
    "        .mode('overwrite') \\\n",
    "        .option('sep', ',') \\\n",
    "        .option('header', 'true') \\\n",
    "        .save(hdfs_path)\n",
    "\n",
    "    if save_local:\n",
    "        proc = subprocess.Popen(['hdfs', 'dfs', '-getmerge', hdfs_path, local_path])\n",
    "        proc.communicate()\n",
    "        print('Import to file:', local_path)\n",
    "    else:\n",
    "        print('Import to HDFS:', hdfs_path)"
   ]
  },
  {
   "cell_type": "code",
   "execution_count": null,
   "metadata": {},
   "outputs": [],
   "source": [
    "conn_schema = 'sbx_team_digitcamp'"
   ]
  },
  {
   "cell_type": "code",
   "execution_count": null,
   "metadata": {
    "scrolled": false
   },
   "outputs": [],
   "source": [
    "%%time\n",
    "sp = spark(schema='sklod_external_google_analytics',\n",
    "           queue = 'ektov1-av_ca-sbrf-ru',\n",
    "           process_label=\"anthony_\",\n",
    "           numofinstances=20, \n",
    "           numofcores=8,\n",
    "           dynamic_alloc=False,\n",
    "           kerberos_auth=False\n",
    "          ) \n",
    "print(sp.sc.version)\n",
    "hive = sp.sql"
   ]
  },
  {
   "cell_type": "code",
   "execution_count": null,
   "metadata": {},
   "outputs": [],
   "source": [
    "schema = 'sbx_t_team_speech_analytics' #'dl_t_team_speech_analytics'\n",
    "conn_schema = 'sbx_team_digitcamp'"
   ]
  },
  {
   "cell_type": "markdown",
   "metadata": {},
   "source": [
    "# Telemarketing"
   ]
  },
  {
   "cell_type": "code",
   "execution_count": null,
   "metadata": {},
   "outputs": [],
   "source": [
    "tbl = 'telemarketing'"
   ]
  },
  {
   "cell_type": "code",
   "execution_count": null,
   "metadata": {
    "scrolled": true
   },
   "outputs": [],
   "source": [
    "tele = hive.sql(\"select * from {}.{}\".format(schema,tbl))"
   ]
  },
  {
   "cell_type": "code",
   "execution_count": null,
   "metadata": {},
   "outputs": [],
   "source": [
    "tele.count()"
   ]
  },
  {
   "cell_type": "code",
   "execution_count": null,
   "metadata": {
    "scrolled": true
   },
   "outputs": [],
   "source": [
    "tele.filter(\"ucid is not Null\").count()"
   ]
  },
  {
   "cell_type": "code",
   "execution_count": null,
   "metadata": {
    "scrolled": true
   },
   "outputs": [],
   "source": [
    "tele = tele.withColumn('phone_number', f.substring('dialednumber', -10, 10))\n",
    "tele = tele.withColumn('call_dt', f.from_unixtime(f.round(f.unix_timestamp('interactiongmtstarttime')/60)*60, 'yyyy-MM-dd HH:mm:ss').cast(TimestampType()))\n",
    "tele.printSchema()\n",
    "tele.show()"
   ]
  },
  {
   "cell_type": "code",
   "execution_count": null,
   "metadata": {
    "scrolled": true
   },
   "outputs": [],
   "source": [
    "# camps inns + iskra phones\n",
    "sql  = '''SELECT DISTINCT \n",
    "                  c.inn as inn\n",
    "                 ,cast(c.active_flg as FLOAT) as active_flg\n",
    "                 ,c.rko_open\n",
    "                 --,to_date(cast(c.rko_open/1000 as TIMESTAMP)) as rko_open\n",
    "                 ,c.registration_date as reg_dt\n",
    "                 --,to_date(cast(c.registration_date/1000 as TIMESTAMP)) as reg_dt\n",
    "                 ,c.tm_camp_last as tm_name\n",
    "                 --,c.tm_date_last as tm_dt\n",
    "                 ,cast(c.tm_date_last/1000 as TIMESTAMP) as tm_dt\n",
    "                 ,c.tm_result_last as tm_result\n",
    "                 ,a.phone as phone\n",
    "            FROM sbx_team_digitcamp.SAS_A1_21_TE_COL_N a,\n",
    "                 sbx_team_digitcamp.sas_y1_tumanov_inn_rko_tm c\n",
    "            WHERE a.inn = c.inn\n",
    "                  AND a.phone is not null\n",
    "      '''\n",
    "camp = hive.sql(sql)\n",
    "camp = camp.withColumn('active_flg', f.col('active_flg').cast(IntegerType()))\n",
    "camp = camp.withColumn('phone', f.substring('phone', -10, 10))\n",
    "camp.printSchema()\n",
    "camp.show()"
   ]
  },
  {
   "cell_type": "code",
   "execution_count": null,
   "metadata": {},
   "outputs": [],
   "source": []
  },
  {
   "cell_type": "code",
   "execution_count": null,
   "metadata": {},
   "outputs": [],
   "source": [
    "# set 10 hours difference between timestamps\n",
    "days = 1\n",
    "join_condition = (camp.phone == tele.phone_number) & \\\n",
    "                 (f.abs(f.unix_timestamp(camp.tm_dt) - f.unix_timestamp(tele.call_dt)) <= days*24*60*60)\n",
    "\n",
    "new_data = camp.join(tele, join_condition)\n",
    "# new_data = new_data.withColumnRenamed('inn', 'inn2')\n",
    "\n",
    "# targets = hive.sql('''SELECT inn, fd_month, tm_date, target\n",
    "#                               FROM {}.{}'''.format(INN_TABLE))\n",
    "\n",
    "# targets = targets.withColumn('tm_date', f.col('tm_date').cast(t.DateType()))\n",
    "# targets = targets.withColumn('inn', f.col('inn').cast(t.LongType()))\n",
    "\n",
    "# cond = (f.to_date(new_data.tm_dt) == f.to_date(targets.tm_date)) & \\\n",
    "#        (new_data.inn2 == targets.inn)\n",
    "\n",
    "# new_data = new_data.join(targets, cond)"
   ]
  },
  {
   "cell_type": "code",
   "execution_count": null,
   "metadata": {},
   "outputs": [],
   "source": [
    "new_data.cache()"
   ]
  },
  {
   "cell_type": "code",
   "execution_count": null,
   "metadata": {
    "scrolled": true
   },
   "outputs": [],
   "source": [
    "new_data.select(\"interactionid\", \"ucid\", \"phone_number\", \"inn\" ).filter(\"ucid is not Null\").show()"
   ]
  },
  {
   "cell_type": "code",
   "execution_count": null,
   "metadata": {},
   "outputs": [],
   "source": [
    "new_data.select('inn', 'phone').distinct().count()"
   ]
  },
  {
   "cell_type": "code",
   "execution_count": null,
   "metadata": {},
   "outputs": [],
   "source": [
    "new_data.filter(\"ucid is not Null\").select('inn', 'phone').distinct().count()"
   ]
  },
  {
   "cell_type": "code",
   "execution_count": null,
   "metadata": {},
   "outputs": [],
   "source": [
    "res = new_data.select(\"interactionid\", \"ucid\", \"phone_number\", \"inn\" )\n",
    "res.registerTempTable(\"tmp_inn_cell\")\n",
    "hive.sql(\"drop table if exists {}.{} purge\".format(\"sbx_team_digitcamp\", \"telemarketing_cell2inn\"))\n",
    "hive.sql(\"create table {}.{} select * from tmp_inn_cell\".format(\"sbx_team_digitcamp\", \"telemarketing_cell2inn\"))"
   ]
  },
  {
   "cell_type": "code",
   "execution_count": null,
   "metadata": {},
   "outputs": [],
   "source": []
  },
  {
   "cell_type": "code",
   "execution_count": null,
   "metadata": {},
   "outputs": [],
   "source": []
  },
  {
   "cell_type": "code",
   "execution_count": null,
   "metadata": {},
   "outputs": [],
   "source": [
    "rep = hive.sql(\"select * from {}.db_sme_report_report_kc_all\".format(\"sbx_internal_kakb_sas\"))"
   ]
  },
  {
   "cell_type": "code",
   "execution_count": null,
   "metadata": {
    "scrolled": true
   },
   "outputs": [],
   "source": [
    "rep.take(1)"
   ]
  },
  {
   "cell_type": "code",
   "execution_count": null,
   "metadata": {},
   "outputs": [],
   "source": [
    "rep.select(f.max(f.to_timestamp(\"CALL_DATE\"))).show()"
   ]
  },
  {
   "cell_type": "code",
   "execution_count": null,
   "metadata": {
    "scrolled": true
   },
   "outputs": [],
   "source": [
    "rep.select(\"CALL_RESULT\", \"CALL_RESULT_EXT\", \"COMM\", \"CRM_ID\", \"INN\").show()"
   ]
  },
  {
   "cell_type": "markdown",
   "metadata": {},
   "source": [
    "# AIST_INTERACTION_HISTORY"
   ]
  },
  {
   "cell_type": "code",
   "execution_count": null,
   "metadata": {},
   "outputs": [],
   "source": [
    "aist = hive.sql(\"select * from {}.AIST_INTERACTION_HISTORY\".format(conn_schema))"
   ]
  },
  {
   "cell_type": "code",
   "execution_count": null,
   "metadata": {},
   "outputs": [],
   "source": [
    "aist.select(f.max(\"INTERACTION_START_DATE\").alias('max_interac')).show()"
   ]
  },
  {
   "cell_type": "code",
   "execution_count": null,
   "metadata": {
    "scrolled": true
   },
   "outputs": [],
   "source": [
    "aist.filter(\"ACTION_ITEM_TASK_CRM_ID is not Null\").count()"
   ]
  },
  {
   "cell_type": "code",
   "execution_count": null,
   "metadata": {
    "scrolled": true
   },
   "outputs": [],
   "source": [
    "aist.dtypes"
   ]
  },
  {
   "cell_type": "code",
   "execution_count": null,
   "metadata": {},
   "outputs": [],
   "source": [
    "aist = aist.withColumn(\"COALESCE_INTERACTION_COMMENTARY\", f.when((f.col(\"INTERACTION_COMMENTARY\")=='null')&\n",
    "                                                                 (f.col(\"ACTION_ITEM_RESULT_COMMENTARY\")!='null'),\n",
    "                                                                 f.col(\"ACTION_ITEM_RESULT_COMMENTARY\")\n",
    "                                                                ).otherwise(f.col(\"INTERACTION_COMMENTARY\")))\\\n",
    "           .withColumn(\"COALESCE_INTERACTION_REASON\", f.when((f.col(\"INTERACTION_REASON\")=='null')&\n",
    "                                                             (f.col(\"ACTION_ITEM_RESULT_REASON\")!='null'),\n",
    "                                                                f.col(\"ACTION_ITEM_RESULT_REASON\")\n",
    "                                                            ).otherwise(f.col(\"INTERACTION_REASON\")))"
   ]
  },
  {
   "cell_type": "code",
   "execution_count": null,
   "metadata": {
    "scrolled": true
   },
   "outputs": [],
   "source": [
    "aist.filter(\"INTERACTION_REASON =='null' and ACTION_ITEM_RESULT_REASON != 'null'\")\\\n",
    "    .select(\"INTERACTION_REASON\",\n",
    "            \"ACTION_ITEM_RESULT_REASON\").show(50)"
   ]
  },
  {
   "cell_type": "code",
   "execution_count": null,
   "metadata": {
    "scrolled": true
   },
   "outputs": [],
   "source": [
    "aist.filter(\"INTERACTION_COMMENTARY == 'null' and ACTION_ITEM_RESULT_COMMENTARY != 'null'\")\\\n",
    "    .select(\"INTERACTION_COMMENTARY\",\n",
    "            \"ACTION_ITEM_RESULT_COMMENTARY\",\n",
    "            \"COALESCE_INTERACTION_COMMENTARY\",\n",
    "            \"COALESCE_INTERACTION_REASON\").show(50)"
   ]
  },
  {
   "cell_type": "code",
   "execution_count": null,
   "metadata": {},
   "outputs": [],
   "source": [
    "comments = aist.select(\"INTERACTION_ID\", \"COALESCE_INTERACTION_COMMENTARY\").distinct().collect()"
   ]
  },
  {
   "cell_type": "code",
   "execution_count": null,
   "metadata": {
    "scrolled": true
   },
   "outputs": [],
   "source": [
    "reasons = aist.select(\"INTERACTION_ID\", \"COALESCE_INTERACTION_REASON\").distinct().collect()"
   ]
  },
  {
   "cell_type": "code",
   "execution_count": null,
   "metadata": {
    "scrolled": true
   },
   "outputs": [],
   "source": [
    "len(comments), len(reasons)"
   ]
  },
  {
   "cell_type": "markdown",
   "metadata": {},
   "source": [
    "## Export comments"
   ]
  },
  {
   "cell_type": "code",
   "execution_count": null,
   "metadata": {
    "scrolled": true
   },
   "outputs": [],
   "source": [
    "with open('./csv/COALESCE_INTERACTION_COMMENTARY', 'w+') as fout:\n",
    "    for item in comments:\n",
    "        if item['COALESCE_INTERACTION_COMMENTARY'] != None:\n",
    "            item = item['COALESCE_INTERACTION_COMMENTARY']+'\\n'\n",
    "            fout.writelines(item)"
   ]
  },
  {
   "cell_type": "code",
   "execution_count": null,
   "metadata": {},
   "outputs": [],
   "source": [
    "sdf = aist.filter(\"COALESCE_INTERACTION_COMMENTARY != 'null'\").select(\"INTERACTION_ID\", \"COALESCE_INTERACTION_COMMENTARY\")\n",
    "load_as_csv(sdf,'km_comments.csv')"
   ]
  },
  {
   "cell_type": "markdown",
   "metadata": {
    "collapsed": true
   },
   "source": [
    "### Check DateTime for the First non Null CALL_UCID"
   ]
  },
  {
   "cell_type": "code",
   "execution_count": null,
   "metadata": {
    "scrolled": true
   },
   "outputs": [],
   "source": [
    "isucid_min_dttm = aist.filter('CALL_UCID is not Null')\\\n",
    "                      .select(f.min('INTERACTION_START_DATE').alias('isucid_min_dttm')).collect()[0]['isucid_min_dttm']"
   ]
  },
  {
   "cell_type": "code",
   "execution_count": null,
   "metadata": {},
   "outputs": [],
   "source": [
    "isucid_min_dttm = isucid_min_dttm.split('.')[0]\n",
    "# isucid_min_dttm = re.sub(r'\\d{2}\\:\\d{2}\\:\\d{2}','00:00:00',isucid_min_dttm)\n",
    "isucid_min_dttm"
   ]
  },
  {
   "cell_type": "markdown",
   "metadata": {},
   "source": [
    "## Filter and Rebuild AIST Table"
   ]
  },
  {
   "cell_type": "code",
   "execution_count": null,
   "metadata": {},
   "outputs": [],
   "source": [
    "dct = \\\n",
    "dict(list(zip(['ACTION_ITEM_ORG_ID',\n",
    "               'CORPORATE_INTERACTION_ORG_ID',\n",
    "               'ACTION_ITEM_TASK_CRM_ID',\n",
    "               'ACTION_ITEM_PROD_OFFER_CRM_ID'], ['']*4)))"
   ]
  },
  {
   "cell_type": "code",
   "execution_count": null,
   "metadata": {
    "scrolled": true
   },
   "outputs": [],
   "source": [
    "aist = aist.fillna(dct)\n",
    "aist = aist.replace(to_replace = {'null': ''}, subset = list(dct.keys())+['CALL_PHONE_NUMBER'])"
   ]
  },
  {
   "cell_type": "code",
   "execution_count": null,
   "metadata": {},
   "outputs": [],
   "source": [
    "refdatetime = datetime.fromtimestamp(datetime.timestamp(datetime.now())-40*24*60*60)\n",
    "refdate = datetime.strftime(refdatetime, format='%Y-%m-%d')"
   ]
  },
  {
   "cell_type": "code",
   "execution_count": null,
   "metadata": {
    "scrolled": true
   },
   "outputs": [],
   "source": [
    "aist_filter = \\\n",
    "aist.select('INTERACTION_ID',\n",
    "            'CALL_ID',\n",
    "            'CALL_UCID',\n",
    "            #'CALL_EMPLOYEE_ID',\n",
    "            #'CALL_AGENT_LOGIN',\n",
    "            #'INTERACTION_LOGIN',\n",
    "            #'ACTION_ITEM_LOGIN',\n",
    "            #f.from_unixtime(f.round(f.unix_timestamp('CALL_START_DATE')/60)*60, 'yyyy-MM-dd HH:mm:ss').cast(TimestampType()).alias('CALL_START_DATE'),\n",
    "            #f.from_unixtime(f.round(f.unix_timestamp('CALL_END_DATE')/60)*60, 'yyyy-MM-dd HH:mm:ss').cast(TimestampType()).alias('CALL_END_DATE'),\n",
    "            f.from_unixtime(f.round(f.unix_timestamp('INTERACTION_START_DATE')/60)*60, 'yyyy-MM-dd HH:mm:ss').cast(TimestampType()).alias('INTERACTION_START_DATE'),\n",
    "            f.from_unixtime(f.round(f.unix_timestamp('INTERACTION_END_DATE')/60)*60, 'yyyy-MM-dd HH:mm:ss').cast(TimestampType()).alias('INTERACTION_END_DATE'),           \n",
    "            f.from_unixtime(f.round(f.unix_timestamp('ACTION_ITEM_CREATE_DATE')/60)*60, 'yyyy-MM-dd HH:mm:ss').cast(TimestampType()).alias('ACTION_ITEM_CREATE_DATE'),\n",
    "            #f.from_unixtime(f.round(f.unix_timestamp('ACTION_ITEM_FACT_START_DATE')/60)*60, 'yyyy-MM-dd HH:mm:ss').cast(TimestampType()).alias('ACTION_ITEM_FACT_START_DATE'),\n",
    "            #f.from_unixtime(f.round(f.unix_timestamp('ACTION_ITEM_FACT_END_DATE')/60)*60, 'yyyy-MM-dd HH:mm:ss').cast(TimestampType()).alias('ACTION_ITEM_FACT_END_DATE'),            \n",
    "            'CALL_INCOMING_CALL',\n",
    "            f.substring('CALL_PHONE_NUMBER',-10,10).alias('CALL_PHONE_NUMBER'),\n",
    "            f.split(f.col('ACTION_ITEM_ORG_ID'),'_').getItem(0).alias('ACTION_ITEM_ORG_ID'),\n",
    "            #f.split(f.col('CORPORATE_INTERACTION_ORG_ID'),'_').getItem(0).alias('CORPORATE_INTERACTION_ORG_ID'),\n",
    "            f.split(f.col('ACTION_ITEM_TASK_CRM_ID'),'_').getItem(0).alias('ACTION_ITEM_TASK_CRM_ID'),\n",
    "            f.split(f.col('ACTION_ITEM_PROD_OFFER_CRM_ID'),'_').getItem(0).alias('ACTION_ITEM_PROD_OFFER_CRM_ID'),\n",
    "            'ACTION_ITEM_RESULT_PRODUCT_NAME',\n",
    "            #'ACTION_ITEM_ID_PROD_OFFER_LITE',\n",
    "            'ACTION_ITEM_PRODUCT_ID',\n",
    "            'ACTION_ITEM_PRODUCT_DESCRIPTION',\n",
    "            'COALESCE_INTERACTION_COMMENTARY',\n",
    "            'COALESCE_INTERACTION_REASON'\n",
    "            ).filter((f.col('CALL_INCOMING_CALL')==0)&\n",
    "                     (f.col('CALL_PHONE_NUMBER')!='')&\n",
    "                     (f.col('INTERACTION_START_DATE').cast(TimestampType()) >= f.to_timestamp(f.lit(refdate))) #f.lit(isucid_min_dttm).cast(TimestampType())\n",
    "                    )"
   ]
  },
  {
   "cell_type": "code",
   "execution_count": null,
   "metadata": {},
   "outputs": [],
   "source": [
    "aist_filter.cache()"
   ]
  },
  {
   "cell_type": "code",
   "execution_count": null,
   "metadata": {
    "scrolled": true
   },
   "outputs": [],
   "source": [
    "aist_filter.count()"
   ]
  },
  {
   "cell_type": "code",
   "execution_count": null,
   "metadata": {
    "scrolled": true
   },
   "outputs": [],
   "source": [
    "aist_filter.filter(\"ACTION_ITEM_RESULT_PRODUCT_NAME is not Null\").count()"
   ]
  },
  {
   "cell_type": "code",
   "execution_count": null,
   "metadata": {
    "scrolled": true
   },
   "outputs": [],
   "source": [
    "aist_filter.columns"
   ]
  },
  {
   "cell_type": "code",
   "execution_count": null,
   "metadata": {
    "scrolled": true
   },
   "outputs": [],
   "source": [
    "aist_filter.filter(\"ACTION_ITEM_TASK_CRM_ID != '' \").select( 'ACTION_ITEM_ORG_ID',\n",
    "                                                             'CORPORATE_INTERACTION_ORG_ID',\n",
    "                                                             'ACTION_ITEM_TASK_CRM_ID',\n",
    "                                                             'ACTION_ITEM_PROD_OFFER_CRM_ID',\n",
    "                                                             'ACTION_ITEM_RESULT_PRODUCT_NAME',\n",
    "                                                             'ACTION_ITEM_ID_PROD_OFFER_LITE',\n",
    "                                                             'ACTION_ITEM_PRODUCT_ID',\n",
    "                                                             'ACTION_ITEM_PRODUCT_DESCRIPTION',\n",
    "                                                             'COALESCE_INTERACTION_COMMENTARY').show()"
   ]
  },
  {
   "cell_type": "code",
   "execution_count": null,
   "metadata": {
    "scrolled": true
   },
   "outputs": [],
   "source": [
    "aist_filter.filter(\"ACTION_ITEM_PROD_OFFER_CRM_ID is not Null\").select(\"ACTION_ITEM_PROD_OFFER_CRM_ID\", \n",
    "                                                                       \"ACTION_ITEM_ORG_ID\",\n",
    "                                                                       \"ACTION_ITEM_TASK_CRM_ID\"\n",
    "                                                                      ).show()"
   ]
  },
  {
   "cell_type": "markdown",
   "metadata": {},
   "source": [
    "## MA_TASK"
   ]
  },
  {
   "cell_type": "code",
   "execution_count": null,
   "metadata": {},
   "outputs": [],
   "source": [
    "matsk = hive.sql(\"select * from {}.MA_TASK\".format(conn_schema))"
   ]
  },
  {
   "cell_type": "code",
   "execution_count": null,
   "metadata": {
    "scrolled": false
   },
   "outputs": [],
   "source": [
    "matsk.show()"
   ]
  },
  {
   "cell_type": "code",
   "execution_count": null,
   "metadata": {
    "scrolled": true
   },
   "outputs": [],
   "source": [
    "matsk_filter = matsk.filter(\"CREATE_DT>=timestamp('{}')\".format(refdate)).select('CREATE_DT', \n",
    "                                                                                 'END_FACT_DT',\n",
    "                                                                                 'HOST_CUST_ORG_ID',\n",
    "                                                                                 'INN')"
   ]
  },
  {
   "cell_type": "code",
   "execution_count": null,
   "metadata": {},
   "outputs": [],
   "source": [
    "matsk_filter.cache()"
   ]
  },
  {
   "cell_type": "code",
   "execution_count": null,
   "metadata": {
    "scrolled": true
   },
   "outputs": [],
   "source": [
    "matsk_filter.count()"
   ]
  },
  {
   "cell_type": "markdown",
   "metadata": {},
   "source": [
    "### Check Intersection between MA_TASK and AIST by ORD_ID"
   ]
  },
  {
   "cell_type": "code",
   "execution_count": null,
   "metadata": {},
   "outputs": [],
   "source": [
    "matsk_filter.filter('HOST_CUST_ORG_ID = \"1-TWAUV1T\"').show()"
   ]
  },
  {
   "cell_type": "code",
   "execution_count": null,
   "metadata": {
    "scrolled": true
   },
   "outputs": [],
   "source": [
    "aist_filter.filter('ACTION_ITEM_ORG_ID = \"1-TWAUV1T\"').show()"
   ]
  },
  {
   "cell_type": "markdown",
   "metadata": {},
   "source": [
    "## Join Filtered AIST with MA_TASK"
   ]
  },
  {
   "cell_type": "code",
   "execution_count": null,
   "metadata": {},
   "outputs": [],
   "source": [
    "# # set 2 hours difference between timestamps\n",
    "# days = 1\n",
    "# join_condition = ( (f.abs(f.unix_timestamp(aist_filter.CALL_START_DATE) - \n",
    "#                           f.unix_timestamp(matsk_filter.CREATE_DT))) <= days*24*60*60)|\\\n",
    "#                  (aist_filter.CALL_START_DATE >= matsk_filter.CREATE_DT)&\\\n",
    "#                  (aist_filter.CALL_START_DATE <= matsk_filter.END_FACT_DT)\n",
    "\n",
    "# aist_filter_task = aist_filter.join(matsk_filter, on=join_condition, how='left_outer')"
   ]
  },
  {
   "cell_type": "code",
   "execution_count": null,
   "metadata": {},
   "outputs": [],
   "source": [
    "days = 2\n",
    "join_condition =  (\n",
    "                      (f.abs(\n",
    "                               f.unix_timestamp(aist_filter.INTERACTION_START_DATE) - \n",
    "                               f.unix_timestamp(matsk_filter.CREATE_DT)\n",
    "                            ) <= days*24*60*60\n",
    "                      )|\\\n",
    "                      ((aist_filter.INTERACTION_START_DATE >= matsk_filter.CREATE_DT)&\\\n",
    "                       (aist_filter.INTERACTION_START_DATE <= matsk_filter.END_FACT_DT)\n",
    "                      )\n",
    "                  )&\\\n",
    "                  (aist_filter.ACTION_ITEM_ORG_ID == matsk_filter.HOST_CUST_ORG_ID)\n",
    "\n",
    "aist_filter_task = aist_filter.join(matsk_filter, on=join_condition, how='left_outer')"
   ]
  },
  {
   "cell_type": "markdown",
   "metadata": {},
   "source": [
    "## Export Joined Table"
   ]
  },
  {
   "cell_type": "code",
   "execution_count": null,
   "metadata": {},
   "outputs": [],
   "source": [
    "import subprocess"
   ]
  },
  {
   "cell_type": "code",
   "execution_count": null,
   "metadata": {},
   "outputs": [],
   "source": [
    "aist_filter_task.registerTempTable(\"tmp_aist_task\")\n",
    "hive.sql(\"drop table if exists {}.{} purge\".format(\"sbx_team_digitcamp\", \"aist_hist_matask_join\"))\n",
    "subprocess.call(['hdfs', 'dfs', '-rm', '-r', '-f', '-skipTrash', \"hdfs://clsklsbx/user/team/team_digitcamp/hive/{}\".format(\"aist_hist_matask_join\")])\n",
    "\n",
    "hive.sql(\"create table {}.{} select * from tmp_aist_task\".format(\"sbx_team_digitcamp\", \"aist_hist_matask_join\"))"
   ]
  },
  {
   "cell_type": "markdown",
   "metadata": {},
   "source": [
    "## Check aist_hist_matask_join"
   ]
  },
  {
   "cell_type": "code",
   "execution_count": null,
   "metadata": {},
   "outputs": [],
   "source": [
    "aistmatask = hive.sql('''select \n",
    "                         ACTION_ITEM_ORG_ID, \n",
    "                         ACTION_ITEM_PRODUCT_ID,\n",
    "                         ACTION_ITEM_RESULT_PRODUCT_NAME,\n",
    "                         COALESCE_INTERACTION_COMMENTARY,\n",
    "                         CALL_UCID,\n",
    "                         CALL_PHONE_NUMBER,\n",
    "                         INTERACTION_START_DATE,\n",
    "                         INTERACTION_END_DATE,\n",
    "                         INN\n",
    "                         from sbx_team_digitcamp.aist_hist_matask_join''')"
   ]
  },
  {
   "cell_type": "code",
   "execution_count": null,
   "metadata": {},
   "outputs": [],
   "source": [
    "aistmatask.filter(\"INN is not Null\").count()"
   ]
  },
  {
   "cell_type": "code",
   "execution_count": null,
   "metadata": {
    "scrolled": true
   },
   "outputs": [],
   "source": [
    "aistmatask.filter(\"CALL_UCID = '501073771594718344'\").show(20)"
   ]
  },
  {
   "cell_type": "code",
   "execution_count": null,
   "metadata": {},
   "outputs": [],
   "source": [
    "aistmatask.select(f.min(\"CALL_START_DATE\")).show()"
   ]
  },
  {
   "cell_type": "code",
   "execution_count": null,
   "metadata": {
    "scrolled": true
   },
   "outputs": [],
   "source": [
    "aistmatask.filter((f.col(\"CALL_START_DATE\") > pd.to_datetime('2020-01-14')) &\n",
    "                  (f.col(\"CALL_START_DATE\") < pd.to_datetime('2020-01-15')) &\n",
    "                  (f.col(\"CALL_PHONE_NUMBER\") == '9246656035')).show()"
   ]
  },
  {
   "cell_type": "markdown",
   "metadata": {},
   "source": [
    "## Apply User Defined RegExp on comments field"
   ]
  },
  {
   "cell_type": "code",
   "execution_count": null,
   "metadata": {},
   "outputs": [],
   "source": [
    "aistmatask = \\\n",
    "aistmatask.withColumn(\"isNeedForCall\",\n",
    "                        f.regexp_extract(f.col('COALESCE_INTERACTION_COMMENTARY'),\n",
    "                                         '''(.*подумает.*|.*перезвон.*ближе.*|.*не\\s*удобно.*договорились.*|\n",
    "                                             .*перезвон.*|.*клиент просил.*|.*просил.*(?:набрать)*|.*позвони.*|.*(?!<не) интерес.*)''',1)\n",
    "                     )"
   ]
  },
  {
   "cell_type": "code",
   "execution_count": null,
   "metadata": {
    "scrolled": true
   },
   "outputs": [],
   "source": [
    "aistmatask.filter(\"isNeedForCall !='' and INN is not Null\").show(70)"
   ]
  },
  {
   "cell_type": "code",
   "execution_count": null,
   "metadata": {},
   "outputs": [],
   "source": [
    "df = aistmatask.filter(\"isNeedForCall !='' and INN is not Null\").toPandas()"
   ]
  },
  {
   "cell_type": "code",
   "execution_count": null,
   "metadata": {
    "scrolled": true
   },
   "outputs": [],
   "source": [
    "df.drop(columns=[\"CALL_UCID\", \"CALL_PHONE_NUMBER\"], inplace=True)"
   ]
  },
  {
   "cell_type": "code",
   "execution_count": null,
   "metadata": {},
   "outputs": [],
   "source": [
    "df.head()"
   ]
  },
  {
   "cell_type": "code",
   "execution_count": null,
   "metadata": {
    "scrolled": true
   },
   "outputs": [],
   "source": [
    "df.to_excel(\"./csv/aist_ckr_needforcall.xlsx\", index=False, encoding='utf-8')"
   ]
  },
  {
   "cell_type": "code",
   "execution_count": null,
   "metadata": {},
   "outputs": [],
   "source": []
  },
  {
   "cell_type": "code",
   "execution_count": null,
   "metadata": {},
   "outputs": [],
   "source": []
  },
  {
   "cell_type": "markdown",
   "metadata": {},
   "source": [
    "## Analyse results from NICE datamart: cell_inn_interaction_end_date"
   ]
  },
  {
   "cell_type": "code",
   "execution_count": null,
   "metadata": {
    "scrolled": true
   },
   "outputs": [],
   "source": [
    "topics = pd.read_excel('./csv/Nice_Topics.xlsx',header=None)"
   ]
  },
  {
   "cell_type": "code",
   "execution_count": null,
   "metadata": {},
   "outputs": [],
   "source": [
    "topics.reset_index(inplace=True, level=0)\n",
    "topics.rename(columns={'index':'topic_num',0:'topics'}, inplace=True)\n",
    "topics.head()"
   ]
  },
  {
   "cell_type": "code",
   "execution_count": null,
   "metadata": {},
   "outputs": [],
   "source": [
    "topics_sdf = hive.createDataFrame(topics, schema=StructType([StructField('topic_num', IntegerType()), \n",
    "                                                      StructField('topics', StringType())\n",
    "                                                     ])\n",
    "                          )"
   ]
  },
  {
   "cell_type": "code",
   "execution_count": null,
   "metadata": {},
   "outputs": [],
   "source": [
    "dialogs = hive.sql('''select inn inn_tm, \n",
    "                             substring(ucid,-18,18) ucid, \\\n",
    "                             phone_number, date, topic_num from sbx_team_digitcamp.cell_inn_interaction_end_date''')"
   ]
  },
  {
   "cell_type": "code",
   "execution_count": null,
   "metadata": {},
   "outputs": [],
   "source": [
    "dialogs = dialogs.join(topics_sdf, on='topic_num', how='left_outer')"
   ]
  },
  {
   "cell_type": "code",
   "execution_count": null,
   "metadata": {},
   "outputs": [],
   "source": [
    "dialogs.cache()"
   ]
  },
  {
   "cell_type": "code",
   "execution_count": null,
   "metadata": {
    "scrolled": true
   },
   "outputs": [],
   "source": [
    "dialogs.filter(\"ucid is not Null\").show()"
   ]
  },
  {
   "cell_type": "code",
   "execution_count": null,
   "metadata": {},
   "outputs": [],
   "source": [
    "dialogs.filter(\"inn_tm is not Null\").count()"
   ]
  },
  {
   "cell_type": "code",
   "execution_count": null,
   "metadata": {
    "scrolled": true
   },
   "outputs": [],
   "source": [
    "# dialogs = dialogs.select(f.col(\"inn_tm\").alias(\"inn_tm_\"), \n",
    "#                          f.col(\"phone_number\").alias(\"phone_number_\"), \n",
    "#                          f.col(\"topics\").alias(\"topics_\"))"
   ]
  },
  {
   "cell_type": "markdown",
   "metadata": {},
   "source": [
    "## Join with AISTMATASK"
   ]
  },
  {
   "cell_type": "code",
   "execution_count": null,
   "metadata": {},
   "outputs": [],
   "source": [
    "days = 2\n",
    "join_condition =  (\n",
    "                     ((f.abs(\n",
    "                               f.unix_timestamp(aistmatask.INTERACTION_START_DATE) - \n",
    "                               f.unix_timestamp(dialogs.date)\n",
    "                            ) <= days*24*60*60\n",
    "                      )|\\\n",
    "                      ((dialogs.date >= aistmatask.INTERACTION_START_DATE)&\\\n",
    "                       (dialogs.date <= aistmatask.INTERACTION_END_DATE)\n",
    "                      )\n",
    "                     )&(dialogs.phone_number == aistmatask.CALL_PHONE_NUMBER) \n",
    "                  )|\\\n",
    "                  (dialogs.ucid == aistmatask.CALL_UCID)\n",
    "    \n",
    "dialogsaist = dialogs.join(aistmatask, on=join_condition, how='left_outer')"
   ]
  },
  {
   "cell_type": "code",
   "execution_count": null,
   "metadata": {},
   "outputs": [],
   "source": [
    "dialogsaist.cache()"
   ]
  },
  {
   "cell_type": "code",
   "execution_count": null,
   "metadata": {},
   "outputs": [],
   "source": [
    "cols = \\\n",
    "[\n",
    " 'INN' ,\n",
    " 'inn_tm',\n",
    " 'ucid',\n",
    " 'phone_number',\n",
    " 'date',\n",
    " 'topics',\n",
    " 'ACTION_ITEM_ORG_ID',\n",
    " 'ACTION_ITEM_PRODUCT_ID',\n",
    " 'ACTION_ITEM_RESULT_PRODUCT_NAME',\n",
    " 'INTERACTION_START_DATE',\n",
    " 'INTERACTION_END_DATE'\n",
    "]"
   ]
  },
  {
   "cell_type": "code",
   "execution_count": null,
   "metadata": {
    "scrolled": true
   },
   "outputs": [],
   "source": [
    "dialogsaist = dialogsaist.select(*[cols])\n",
    "dialogsaist = dialogsaist.select([f.col(col).alias(col.upper()) for col in dialogsaist.columns])"
   ]
  },
  {
   "cell_type": "code",
   "execution_count": null,
   "metadata": {},
   "outputs": [],
   "source": [
    "dialogsaist.registerTempTable(\"tmp_aist_dialogs\")\n",
    "hive.sql(\"drop table if exists {}.{} purge\".format(\"sbx_team_digitcamp\", \"telemarketing_aist_cell2inn\"))\n",
    "subprocess.call(['hdfs', 'dfs', '-rm', '-r', '-f', '-skipTrash', \"hdfs://clsklsbx/user/team/team_digitcamp/hive/{}\".format(\"telemarketing_aist_cell2inn\")])\n",
    "\n",
    "hive.sql(\"create table {}.{} select * from tmp_aist_dialogs\".format(\"sbx_team_digitcamp\", \"telemarketing_aist_cell2inn\"))"
   ]
  },
  {
   "cell_type": "markdown",
   "metadata": {},
   "source": [
    "## telemarketing_aist_cell2inn"
   ]
  },
  {
   "cell_type": "code",
   "execution_count": null,
   "metadata": {},
   "outputs": [],
   "source": [
    "dialogsaist = hive.sql(\"select * from {}.telemarketing_aist_cell2inn\".format(conn_schema))"
   ]
  },
  {
   "cell_type": "code",
   "execution_count": null,
   "metadata": {},
   "outputs": [],
   "source": [
    "dialogsaist = \\\n",
    "dialogsaist.select(*[f.col(col).alias(col.split(\"upper(\")[-1][:-1].upper()) for col in dialogsaist.columns])"
   ]
  },
  {
   "cell_type": "code",
   "execution_count": null,
   "metadata": {
    "scrolled": false
   },
   "outputs": [],
   "source": [
    "dialogsaist.show()"
   ]
  },
  {
   "cell_type": "code",
   "execution_count": null,
   "metadata": {},
   "outputs": [],
   "source": [
    "dialogsaist.filter(\"(INN is not Null) or (INN_TM is not Null)\").count()"
   ]
  },
  {
   "cell_type": "code",
   "execution_count": null,
   "metadata": {},
   "outputs": [],
   "source": [
    "df = dialogsaist.toPandas()"
   ]
  },
  {
   "cell_type": "code",
   "execution_count": null,
   "metadata": {
    "scrolled": false
   },
   "outputs": [],
   "source": [
    "df.head()"
   ]
  },
  {
   "cell_type": "code",
   "execution_count": null,
   "metadata": {},
   "outputs": [],
   "source": [
    "df.to_excel(\"./csv/inn_telem_topics.xlsx\", index=False, encoding='utf-8')"
   ]
  },
  {
   "cell_type": "markdown",
   "metadata": {},
   "source": [
    "## CALLS_UUP_DETAIL"
   ]
  },
  {
   "cell_type": "code",
   "execution_count": null,
   "metadata": {},
   "outputs": [],
   "source": [
    "callsup = hive.sql(\"select * from {}.CALLS_UUP_DETAIL\".format(conn_schema))"
   ]
  },
  {
   "cell_type": "code",
   "execution_count": null,
   "metadata": {
    "scrolled": false
   },
   "outputs": [],
   "source": [
    "callsup.show()"
   ]
  },
  {
   "cell_type": "code",
   "execution_count": null,
   "metadata": {},
   "outputs": [],
   "source": []
  },
  {
   "cell_type": "markdown",
   "metadata": {},
   "source": [
    "# Select records from nice table"
   ]
  },
  {
   "cell_type": "code",
   "execution_count": null,
   "metadata": {},
   "outputs": [],
   "source": [
    "nice = hive.sql(\"select * from {}.nice\".format(schema))"
   ]
  },
  {
   "cell_type": "code",
   "execution_count": null,
   "metadata": {
    "scrolled": true
   },
   "outputs": [],
   "source": [
    "nice = nice.withColumn('phone_number', f.substring('phonenumbers', -10, 10))\n",
    "nice = nice.withColumn('call_dt', f.from_unixtime(f.round(f.unix_timestamp('interactiongmtstarttime')/60)*60, 'yyyy-MM-dd HH:mm:ss').cast(TimestampType()))\n",
    "nice.printSchema()"
   ]
  },
  {
   "cell_type": "code",
   "execution_count": null,
   "metadata": {
    "scrolled": true
   },
   "outputs": [],
   "source": [
    "nice = nice.replace({'NULL':''},['ucid'])"
   ]
  },
  {
   "cell_type": "code",
   "execution_count": null,
   "metadata": {
    "scrolled": false
   },
   "outputs": [],
   "source": [
    "nice.show()"
   ]
  },
  {
   "cell_type": "code",
   "execution_count": null,
   "metadata": {},
   "outputs": [],
   "source": [
    "# nice_aist = nice.filter(\"ucid=''\")\n",
    "nice_aist = nice.filter(\"call_dt<timestamp('{}')\".format(isucid_min_dttm))\n",
    "nice_aist.count()"
   ]
  },
  {
   "cell_type": "code",
   "execution_count": null,
   "metadata": {},
   "outputs": [],
   "source": [
    "nice_aist.select(f.max('call_dt')).show()"
   ]
  },
  {
   "cell_type": "code",
   "execution_count": null,
   "metadata": {},
   "outputs": [],
   "source": [
    "# set 2 hours difference between timestamps\n",
    "days = 1\n",
    "join_condition = ( (f.abs(f.unix_timestamp(nice_aist.call_dt) - \n",
    "                          f.unix_timestamp(uup_pp_part.create_date))) <= days*24*60*60)\n",
    "\n",
    "new_data = reswithaist_part.join(uup_pp_part, join_condition)"
   ]
  },
  {
   "cell_type": "code",
   "execution_count": null,
   "metadata": {},
   "outputs": [],
   "source": []
  },
  {
   "cell_type": "code",
   "execution_count": null,
   "metadata": {},
   "outputs": [],
   "source": []
  },
  {
   "cell_type": "markdown",
   "metadata": {},
   "source": [
    "## Join by USID with AIST records"
   ]
  },
  {
   "cell_type": "code",
   "execution_count": null,
   "metadata": {},
   "outputs": [],
   "source": [
    "aist_filter.count()"
   ]
  },
  {
   "cell_type": "code",
   "execution_count": null,
   "metadata": {},
   "outputs": [],
   "source": [
    "join_condition = (enter.ucid == aist_filter.call_ucid)\n",
    "reswithaist = enter.join(aist_filter, join_condition)"
   ]
  },
  {
   "cell_type": "code",
   "execution_count": null,
   "metadata": {},
   "outputs": [],
   "source": [
    "reswithaist.count()"
   ]
  },
  {
   "cell_type": "markdown",
   "metadata": {},
   "source": [
    "### Select data from additional iskra tables"
   ]
  },
  {
   "cell_type": "code",
   "execution_count": null,
   "metadata": {},
   "outputs": [],
   "source": [
    "calls_upp = hive.sql(\"select * from {}.CALLS_UUP_DETAIL\".format(schema))\n",
    "uup_pp = hive.sql(\"select * from {}.FV_CKR_UUP_PP\".format(schema))\n",
    "uup_val = hive.sql(\"select * from {}.FV_CKR_UUP_VAL\".format(schema))"
   ]
  },
  {
   "cell_type": "code",
   "execution_count": null,
   "metadata": {},
   "outputs": [],
   "source": [
    "calls_upp = calls_upp.select([f.col(col).alias(col.lower()) for col in calls_upp.columns])\n",
    "calls_upp = calls_upp.withColumn('tab', f.col('tab_').cast(IntegerType()))\n",
    "calls_upp = calls_upp.drop('tab_')\n",
    "calls_upp.printSchema()"
   ]
  },
  {
   "cell_type": "code",
   "execution_count": null,
   "metadata": {
    "scrolled": true
   },
   "outputs": [],
   "source": [
    "uup_pp = uup_pp.select([f.col(col).alias(col.lower()) for col in uup_pp.columns])\n",
    "uup_pp = uup_pp.withColumn('tab', f.col('tab_num').cast(IntegerType()))\n",
    "uup_pp = uup_pp.drop('tab_num')\n",
    "uup_pp.printSchema()"
   ]
  },
  {
   "cell_type": "code",
   "execution_count": null,
   "metadata": {
    "scrolled": true
   },
   "outputs": [],
   "source": [
    "uup_pp.select(f.col('inn').cast(IntegerType()).cast(StringType()),\n",
    "              'offer_id',\n",
    "              'org_id',\n",
    "              'product_id', \n",
    "              'product_group', \n",
    "              'product_name').show()"
   ]
  },
  {
   "cell_type": "markdown",
   "metadata": {},
   "source": [
    "### AIST: Find relevant INN base don the join with FV_CKR_UUP_PP"
   ]
  },
  {
   "cell_type": "code",
   "execution_count": null,
   "metadata": {
    "scrolled": true
   },
   "outputs": [],
   "source": [
    "reswithaist.dtypes"
   ]
  },
  {
   "cell_type": "code",
   "execution_count": null,
   "metadata": {},
   "outputs": [],
   "source": [
    "ref_date_down = '2019-08-01 00:00:00'\n",
    "ref_date_up = '2020-03-17 00:00:00'\n",
    "reswithaist_part = reswithaist.filter('''call_dt >= timestamp(\"{down}\") and \n",
    "                                         call_dt <= timestamp(\"{up}\")'''.format(down=ref_date_down,\n",
    "                                                                                up=ref_date_up))\n",
    "uup_pp_part = uup_pp.filter('''create_date >= timestamp(\"{down}\") and \n",
    "                               create_date <= timestamp(\"{up}\")'''.format(down=ref_date_down,\n",
    "                                                                          up=ref_date_up))"
   ]
  },
  {
   "cell_type": "code",
   "execution_count": null,
   "metadata": {},
   "outputs": [],
   "source": [
    "# set 2 hours difference between timestamps\n",
    "days = 1\n",
    "join_condition = (reswithaist_part.action_item_product_id == uup_pp_part.product_id)&\\\n",
    "                 ( (f.abs(f.unix_timestamp(reswithaist_part.call_dt) - \n",
    "                          f.unix_timestamp(uup_pp_part.create_date))) <= days*2*60*60)\n",
    "\n",
    "new_data = reswithaist_part.join(uup_pp_part, join_condition)"
   ]
  },
  {
   "cell_type": "code",
   "execution_count": null,
   "metadata": {},
   "outputs": [],
   "source": [
    "new_data.drop_duplicates()\n",
    "new_data.count()"
   ]
  },
  {
   "cell_type": "code",
   "execution_count": null,
   "metadata": {
    "scrolled": true
   },
   "outputs": [],
   "source": [
    "new_data.show()"
   ]
  },
  {
   "cell_type": "code",
   "execution_count": null,
   "metadata": {
    "scrolled": true
   },
   "outputs": [],
   "source": [
    "new_data.filter('ucid = \"00501038731580989146\"').select('inn',\n",
    "                                                        'product_id',\n",
    "                                                        'action_item_product_id',\n",
    "                                                        'product_name',\n",
    "                                                        'action_item_result_product_name',\n",
    "                                                        'call_dt',\n",
    "                                                        'create_date'\n",
    "                                                        ).show(30)"
   ]
  },
  {
   "cell_type": "markdown",
   "metadata": {},
   "source": [
    "### Total match based on the CALLS_UUP_DETAIL datamart"
   ]
  },
  {
   "cell_type": "code",
   "execution_count": null,
   "metadata": {
    "scrolled": false
   },
   "outputs": [],
   "source": [
    "ref_date_down = '2019-08-01 00:00:00'\n",
    "ref_date_up = '2020-03-17 00:00:00'\n",
    "calls_upp = calls_upp.filter('''row_datetime >= timestamp(\"{down}\") and \n",
    "                                row_datetime <= timestamp(\"{up}\")'''.format(down=ref_date_down,\n",
    "                                                                            up=ref_date_up))\n",
    "uup_pp = uup_pp.filter('''create_date >= timestamp(\"{down}\") and \n",
    "                          create_date <= timestamp(\"{up}\")'''.format(down=ref_date_down,\n",
    "                                                                            up=ref_date_up))"
   ]
  },
  {
   "cell_type": "code",
   "execution_count": null,
   "metadata": {},
   "outputs": [],
   "source": [
    "calls_upp.count(), uup_pp.count()"
   ]
  },
  {
   "cell_type": "code",
   "execution_count": null,
   "metadata": {
    "scrolled": true
   },
   "outputs": [],
   "source": [
    "calls_upp.show()"
   ]
  },
  {
   "cell_type": "code",
   "execution_count": null,
   "metadata": {},
   "outputs": [],
   "source": [
    "# set 2 hours difference between timestamps\n",
    "days = 1\n",
    "join_condition = (calls_upp.tab == uup_pp.tab)&\\\n",
    "                 ( (f.abs(f.unix_timestamp(calls_upp.row_datetime) - \n",
    "                          f.unix_timestamp(uup_pp.create_date))) <= days*2*60*60)\n",
    "\n",
    "new_data = calls_upp.join(uup_pp, join_condition)"
   ]
  },
  {
   "cell_type": "code",
   "execution_count": null,
   "metadata": {
    "scrolled": true
   },
   "outputs": [],
   "source": [
    "new_data = new_data.drop_duplicates()\n",
    "new_data.cache()"
   ]
  },
  {
   "cell_type": "code",
   "execution_count": null,
   "metadata": {
    "scrolled": true
   },
   "outputs": [],
   "source": [
    "new_data.count()\n",
    "#105208897"
   ]
  },
  {
   "cell_type": "markdown",
   "metadata": {},
   "source": [
    "### Join with nice"
   ]
  },
  {
   "cell_type": "code",
   "execution_count": null,
   "metadata": {
    "scrolled": true
   },
   "outputs": [],
   "source": [
    "# days = 3\n",
    "# join_condition = (f.round(f.abs(f.unix_timestamp(enter.call_dt) - f.unix_timestamp(new_data.CREATE_DATE))/60) <= days*24*60)\n",
    "join_condition = (enter.ucid == new_data.ucid)\n",
    "res = enter.join(new_data, join_condition)"
   ]
  },
  {
   "cell_type": "code",
   "execution_count": null,
   "metadata": {
    "scrolled": false
   },
   "outputs": [],
   "source": [
    "res = res.drop_duplicates()\n",
    "res.count()"
   ]
  },
  {
   "cell_type": "code",
   "execution_count": null,
   "metadata": {
    "scrolled": true
   },
   "outputs": [],
   "source": [
    "res.show()"
   ]
  },
  {
   "cell_type": "code",
   "execution_count": null,
   "metadata": {},
   "outputs": [],
   "source": []
  }
 ],
 "metadata": {
  "kernelspec": {
   "display_name": "Python 3",
   "language": "python",
   "name": "python3"
  },
  "language_info": {
   "codemirror_mode": {
    "name": "ipython",
    "version": 3
   },
   "file_extension": ".py",
   "mimetype": "text/x-python",
   "name": "python",
   "nbconvert_exporter": "python",
   "pygments_lexer": "ipython3",
   "version": "3.7.4"
  }
 },
 "nbformat": 4,
 "nbformat_minor": 2
}
