{
 "cells": [
  {
   "cell_type": "code",
   "execution_count": 29,
   "metadata": {
    "scrolled": true
   },
   "outputs": [
    {
     "name": "stdout",
     "output_type": "stream",
     "text": [
      "    <name>dfs.ha.namenodes.nsld3</name>\r\n",
      "    <value>namenode191,namenode41</value>\r\n",
      "--\r\n",
      "    <name>dfs.ha.namenodes.clsklcib</name>\r\n",
      "    <value>namenode151,namenode195</value>\r\n",
      "--\r\n",
      "    <name>dfs.ha.namenodes.clsklod</name>\r\n",
      "    <value>namenode1852,namenode671</value>\r\n",
      "--\r\n",
      "    <name>dfs.ha.namenodes.clsklopt</name>\r\n",
      "    <value>namenode1546337093,namenode1546333592</value>\r\n",
      "--\r\n",
      "    <name>dfs.ha.namenodes.CloudBDA</name>\r\n",
      "    <value>namenode908,namenode797</value>\r\n",
      "--\r\n",
      "    <name>dfs.ha.namenodes.clsklrisk</name>\r\n",
      "    <value>namenode147,namenode191</value>\r\n",
      "--\r\n",
      "    <name>dfs.ha.namenodes.clsklod2</name>\r\n",
      "    <value>namenode99,namenode495</value>\r\n",
      "--\r\n",
      "    <name>dfs.ha.namenodes.hdfsgw</name>\r\n",
      "    <value>hdfsgw1,hdfsgw2</value>\r\n",
      "--\r\n",
      "    <name>dfs.ha.namenodes.clsklsbx</name>\r\n",
      "    <value>namenode246,namenode253</value>\r\n",
      "--\r\n",
      "    <name>dfs.ha.namenodes.clsklsmd</name>\r\n",
      "    <value>namenode515,namenode619</value>\r\n",
      "--\r\n",
      "    <name>dfs.ha.namenodes.clsklk7m</name>\r\n",
      "    <value>namenode241,namenode152</value>\r\n",
      "--\r\n",
      "    <name>dfs.ha.namenodes.arnsdpsbx</name>\r\n",
      "    <value>nn1,nn2</value>\r\n",
      "--\r\n",
      "    <name>dfs.ha.namenodes.clsklldbr</name>\r\n",
      "    <value>namenode980,namenode1580</value>\r\n",
      "--\r\n",
      "    <name>dfs.ha.namenodes.arnsdpsmd2</name>\r\n",
      "    <value>nn1,nn2</value>\r\n",
      "--\r\n",
      "    <name>dfs.ha.namenodes.clsklrozn</name>\r\n",
      "    <value>namenode781,namenode787</value>\r\n"
     ]
    }
   ],
   "source": [
    "!grep -A 1 dfs.ha.namenodes /etc/hadoop/conf/hdfs-site.xml"
   ]
  },
  {
   "cell_type": "code",
   "execution_count": 12,
   "metadata": {},
   "outputs": [
    {
     "name": "stdout",
     "output_type": "stream",
     "text": [
      "clsklcib, clsklod, clsklopt, CloudBDA, clsklrisk, clsklod2, hdfsgw, clsklsbx, clsklsmd, clsklk7m, nsld3, arnsdpsbx, clsklldbr, arnsdpsmd2, clsklrozn\r\n"
     ]
    }
   ],
   "source": [
    "! hdfs getconf -confKey dfs.nameservices"
   ]
  },
  {
   "cell_type": "code",
   "execution_count": null,
   "metadata": {
    "scrolled": false
   },
   "outputs": [],
   "source": [
    "# /usr/bin/env python\n",
    "# coding: UTF-8\n",
    "import xml.etree.ElementTree as ET\n",
    "import subprocess as SP\n",
    "if __name__ == \"__main__\":\n",
    "    hdfsSiteConfigFile = \"/etc/hadoop/conf/hdfs-site.xml\"\n",
    "\n",
    "    tree = ET.parse(hdfsSiteConfigFile)\n",
    "    root = tree.getroot()\n",
    "    hasHadoopHAElement = False\n",
    "    activeNameNode = None\n",
    "    for property in root:\n",
    "        if \"dfs.ha.namenodes\" in property.find(\"name\").text:\n",
    "            hasHadoopHAElement = True\n",
    "            nameserviceId = property.find(\"name\").text[len(\"dfs.ha.namenodes\")+1:]\n",
    "            nameNodes = property.find(\"value\").text.split(\",\")\n",
    "            print(\"#\"*50)\n",
    "            print(\"namenode alias --> \" + nameserviceId)\n",
    "            print(\"namenodes list --> \" + \", \".join(nameNodes))\n",
    "            print(\"HOSTS...\")\n",
    "            for node in nameNodes:\n",
    "                #get the namenode machine address then check if it is active node\n",
    "                for n in root:\n",
    "                    prefix = \"dfs.namenode.rpc-address.\" + nameserviceId + \".\"\n",
    "                    elementText = n.find(\"name\").text             \n",
    "                    if prefix in elementText:\n",
    "                        nodeAddress = n.find(\"value\").text.split(\":\")[0]  \n",
    "                        print(\"\\t\" + nodeAddress)\n",
    "#                         args = [\"hdfs haadmin -ns \" + nameserviceId + \" -getServiceState \" + node]  \n",
    "#                         p = SP.Popen(args, shell=True, stdout=SP.PIPE, stderr=SP.PIPE)\n",
    "\n",
    "#                         for line in p.stdout.readlines():\n",
    "#                             if \"active\" in line.lower():\n",
    "#                                 print(\"Active NameNode: \" + node)\n",
    "#                                 break;\n",
    "#                         for err in p.stderr.readlines():\n",
    "#                             print(\"Error executing Hadoop HA command: \",err)\n",
    "                break            \n",
    "    if not hasHadoopHAElement:\n",
    "        print(\"Hadoop High-Availability configuration not found!\")"
   ]
  },
  {
   "cell_type": "code",
   "execution_count": null,
   "metadata": {
    "collapsed": true
   },
   "outputs": [],
   "source": []
  }
 ],
 "metadata": {
  "kernelspec": {
   "display_name": "Python 3",
   "language": "python",
   "name": "python3"
  },
  "language_info": {
   "codemirror_mode": {
    "name": "ipython",
    "version": 3
   },
   "file_extension": ".py",
   "mimetype": "text/x-python",
   "name": "python",
   "nbconvert_exporter": "python",
   "pygments_lexer": "ipython3",
   "version": "3.7.4"
  }
 },
 "nbformat": 4,
 "nbformat_minor": 2
}
