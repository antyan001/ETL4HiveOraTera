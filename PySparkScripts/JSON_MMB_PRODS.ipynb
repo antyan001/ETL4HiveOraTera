{
 "cells": [
  {
   "cell_type": "code",
   "execution_count": null,
   "metadata": {
    "scrolled": true
   },
   "outputs": [],
   "source": [
    "#!/home/ektov1-av_ca-sbrf-ru/bin/python35\n",
    "import os\n",
    "import sys\n",
    "curruser = os.environ.get('USER')\n",
    "\n",
    "# sys.path.insert(0, '/opt/workspace/{user}/system/support_library/'.format(user=curruser))\n",
    "# sys.path.insert(0, '/opt/workspace/{user}/libs/'.format(user=curruser))\n",
    "# sys.path.insert(0, '/opt/workspace/{user}/system/labdata/lib/'.format(user=curruser))\n",
    "\n",
    "\n",
    "# sys.path.insert(0, './../src')\n",
    "sys.path.insert(0, '/opt/workspace/{user}/notebooks/support_library/'.format(user=curruser))\n",
    "sys.path.insert(0, '/opt/workspace/{user}/libs/python3.5/site-packages/'.format(user=curruser))\n",
    "sys.path.insert(0, '/opt/workspace/{user}/notebooks/labdata/lib/'.format(user=curruser))\n",
    "\n",
    "#import tendo.singleton\n",
    "import warnings\n",
    "warnings.filterwarnings('ignore')\n",
    "\n",
    "import logging\n",
    "logging.basicConfig(filename='./__move_dbs__.log',level=logging.INFO,\n",
    "                    format='%(asctime)s %(levelname)s %(name)s %(message)s')\n",
    "logger = logging.getLogger(__name__)\n",
    "\n",
    "\n",
    "import joblib\n",
    "import json\n",
    "from joblib import Parallel, delayed\n",
    "\n",
    "from time import sleep\n",
    "from itertools import islice\n",
    "from multiprocessing import Pool, Process, JoinableQueue\n",
    "from multiprocessing.pool import ThreadPool\n",
    "from functools import partial\n",
    "import subprocess\n",
    "from threading import Thread\n",
    "import time\n",
    "from datetime import datetime\n",
    "\n",
    "from transliterate import translit\n",
    "\n",
    "from spark_connector import SparkConnector\n",
    "from sparkdb_loader import spark\n",
    "from connector import OracleDB\n",
    "import pyspark\n",
    "from pyspark import SparkContext, SparkConf, HiveContext\n",
    "from pyspark.sql.window import Window\n",
    "from pyspark.sql.functions import *\n",
    "import pyspark.sql.functions as f\n",
    "from pyspark.sql.types import *\n",
    "from pyspark.sql.dataframe import DataFrame\n",
    "\n",
    "import re\n",
    "import pandas as pd\n",
    "import numpy as np\n",
    "from tqdm._tqdm_notebook import tqdm_notebook\n",
    "from pathlib import Path\n",
    "import shutil\n",
    "import loader as load\n",
    "\n",
    "# sing = tendo.singleton.SingleInstance()\n",
    "\n",
    "# os.chdir('/opt/workspace/ektov1-av_ca-sbrf-ru/notebooks/Clickstream_Analytics/AutoUpdate/')\n",
    "# os.chdir('/opt/workspace/{}/notebooks/clickstream/AutoUpdate/'.format(curruser))\n",
    "\n",
    "\n",
    "##-----------------------------------------\n",
    "conn_schema = 'dl_t_team_ds_kb_sme' #'dl_t_team_ds_kb_sme' 'dl_t_team_speech_analytics'\n",
    "new_schema = 'sbx_team_digitcamp'\n",
    "ga_schema = 'sklod_external_google_analytics'\n",
    "##-----------------------------------------\n",
    "\n",
    "\n",
    "def show(self, n=10):\n",
    "    return self.limit(n).toPandas()\n",
    "\n",
    "def typed_udf(return_type):\n",
    "    '''Make a UDF decorator with the given return type'''\n",
    "\n",
    "    def _typed_udf_wrapper(func):\n",
    "        return f.udf(func,return_type)\n",
    "\n",
    "def essense(channel: str, prod_cd: str):\n",
    "    message = \"{}: {} retargeting\".format(channel, prod_cd)\n",
    "    return message\n",
    "\n",
    "essense_udf = f.udf(essense, StringType())\n",
    "\n",
    "pyspark.sql.dataframe.DataFrame.show = show\n",
    "\n",
    "def print_and_log(message: str):\n",
    "    print(message)\n",
    "    logger.info(message)\n",
    "    return None\n"
   ]
  },
  {
   "cell_type": "code",
   "execution_count": 2,
   "metadata": {
    "scrolled": true
   },
   "outputs": [
    {
     "name": "stdout",
     "output_type": "stream",
     "text": [
      "### Starting spark context. Run!\n",
      "2.4.0.cloudera2\n"
     ]
    }
   ],
   "source": [
    "print(\"### Starting spark context. Run!\")\n",
    "\n",
    "sp = spark(schema=conn_schema,\n",
    "           dynamic_alloc=False,\n",
    "           numofinstances=10, \n",
    "           numofcores=8,\n",
    "           kerberos_auth=False\n",
    "           )\n",
    "hive = sp.sql\n",
    "print(sp.sc.version)"
   ]
  },
  {
   "cell_type": "markdown",
   "metadata": {},
   "source": [
    "### MA_PRODUCT_DICT"
   ]
  },
  {
   "cell_type": "code",
   "execution_count": 3,
   "metadata": {
    "collapsed": true
   },
   "outputs": [],
   "source": [
    "prod_dct = hive.sql(\"select * from {}.{} where CRM_PRODUCT_ID is not Null\".format(new_schema,'MA_PRODUCT_DICT'))"
   ]
  },
  {
   "cell_type": "code",
   "execution_count": null,
   "metadata": {
    "scrolled": false
   },
   "outputs": [],
   "source": [
    "prod_dct = prod_dct.filter(\"(PRODUCT_CD_MMB is not Null or PRODUCT_CD_KSB is not Null) and (PRODUCT_SHORT_NM is not Null)\")\n",
    "prod_dct.show()"
   ]
  },
  {
   "cell_type": "code",
   "execution_count": null,
   "metadata": {
    "collapsed": true
   },
   "outputs": [],
   "source": []
  },
  {
   "cell_type": "markdown",
   "metadata": {},
   "source": [
    "## MA_MMB_OFFER_NONTOP"
   ]
  },
  {
   "cell_type": "code",
   "execution_count": 7,
   "metadata": {
    "collapsed": true
   },
   "outputs": [],
   "source": [
    "nontop = hive.sql(\"select * from {}.{}\".format(new_schema, 'MA_MMB_OFFER_NONTOP'))"
   ]
  },
  {
   "cell_type": "code",
   "execution_count": null,
   "metadata": {
    "scrolled": false
   },
   "outputs": [],
   "source": [
    "print(\"\\n\".join([\"{} {}\".format(col.upper(), _type) for col, _type in nontop.dtypes]))"
   ]
  },
  {
   "cell_type": "code",
   "execution_count": 7,
   "metadata": {},
   "outputs": [
    {
     "data": {
      "text/plain": [
       "('2020-09-16 00:00:00', '2020-09-16 00:00:00')"
      ]
     },
     "execution_count": 7,
     "metadata": {},
     "output_type": "execute_result"
    }
   ],
   "source": [
    "maxdttm = nontop.select(f.max('START_DTTM')).collect()\n",
    "max_load_dt_str = datetime.strftime(maxdttm[0]['max(START_DTTM)'], format='%Y-%m-%d %H:%M:%S')\n",
    "mindttm = nontop.select(f.min('START_DTTM')).collect()\n",
    "min_load_dt_str = datetime.strftime(mindttm[0]['min(START_DTTM)'], format='%Y-%m-%d %H:%M:%S')\n",
    "\n",
    "max_load_dt_str, min_load_dt_str"
   ]
  },
  {
   "cell_type": "code",
   "execution_count": 8,
   "metadata": {
    "collapsed": true
   },
   "outputs": [],
   "source": [
    "nontop.cache()\n",
    "nontop = nontop.select([col.lower() for col in nontop.columns])\n",
    "nontop = nontop.withColumn('HASHINN',f.sha2('INN',numBits=256))"
   ]
  },
  {
   "cell_type": "code",
   "execution_count": 9,
   "metadata": {},
   "outputs": [
    {
     "data": {
      "text/plain": [
       "31539996"
      ]
     },
     "execution_count": 9,
     "metadata": {},
     "output_type": "execute_result"
    }
   ],
   "source": [
    "nontop.count()"
   ]
  },
  {
   "cell_type": "code",
   "execution_count": 10,
   "metadata": {
    "collapsed": true
   },
   "outputs": [],
   "source": [
    "def getProdCDFromId(product_dict_nm):\n",
    "    def get_product(product_id, product_dict_nm):\n",
    "        if product_id is None:\n",
    "            return None\n",
    "\n",
    "        for _id in product_dict_nm:\n",
    "            if product_id == _id:\n",
    "                return product_dict_nm[_id]\n",
    "\n",
    "        return None\n",
    "\n",
    "    return f.udf(lambda x: get_product(x,product_dict_nm))\n",
    "\n",
    "w2=Window.orderBy('COEF_PRODUCT_CD')\n",
    "\n",
    "product_dict_sp = hive.sql(\"select * from {}.{}\".format(new_schema, 'MA_PRODUCT_DICT'))\n",
    "# product_dict_sp = product_dict_sp.select([col.lower() for col in product_dict_sp.columns])\n",
    "product_dict_sp = product_dict_sp.filter(\"PRODUCT_CD_MMB is not Null\").select('ID', 'CRM_PRODUCT_ID')\n",
    "product_dict_pd = product_dict_sp.collect()\n",
    "product_dict_nm = {row.ID: row.CRM_PRODUCT_ID for row in product_dict_pd}\n",
    "nontop          = nontop.withColumn('CRM_PRODUCT_ID', getProdCDFromId(product_dict_nm)('PRODUCT_ID'))\n",
    "\n",
    "nontop = nontop.orderBy(f.col('COEF_PRODUCT_CD').desc())\\\n",
    "               .withColumn('row_num', f.row_number().over(w2))\n",
    "\n",
    "rowmax = nontop.select(f.max('row_num').alias('max')).collect()[0]['max']\n",
    "nontop = nontop.select('INN', 'HASHINN', 'CRM_PRODUCT_ID', 'COEF_PRODUCT_CD', \n",
    "                       f.round(f.col('row_num')/rowmax,2).alias('SCORE'))"
   ]
  },
  {
   "cell_type": "code",
   "execution_count": 13,
   "metadata": {},
   "outputs": [
    {
     "data": {
      "text/html": [
       "<div>\n",
       "<style scoped>\n",
       "    .dataframe tbody tr th:only-of-type {\n",
       "        vertical-align: middle;\n",
       "    }\n",
       "\n",
       "    .dataframe tbody tr th {\n",
       "        vertical-align: top;\n",
       "    }\n",
       "\n",
       "    .dataframe thead th {\n",
       "        text-align: right;\n",
       "    }\n",
       "</style>\n",
       "<table border=\"1\" class=\"dataframe\">\n",
       "  <thead>\n",
       "    <tr style=\"text-align: right;\">\n",
       "      <th></th>\n",
       "      <th>CRM_PRODUCT_ID</th>\n",
       "      <th>MEAN_POTENTIAL</th>\n",
       "    </tr>\n",
       "  </thead>\n",
       "  <tbody>\n",
       "    <tr>\n",
       "      <th>0</th>\n",
       "      <td>1-2GZPAXO5</td>\n",
       "      <td>2.656011e+03</td>\n",
       "    </tr>\n",
       "    <tr>\n",
       "      <th>1</th>\n",
       "      <td>1-115HHZC</td>\n",
       "      <td>4.844413e+08</td>\n",
       "    </tr>\n",
       "    <tr>\n",
       "      <th>2</th>\n",
       "      <td>1-1GVO</td>\n",
       "      <td>6.776397e+01</td>\n",
       "    </tr>\n",
       "    <tr>\n",
       "      <th>3</th>\n",
       "      <td>1-294EQR2Y</td>\n",
       "      <td>5.998274e+02</td>\n",
       "    </tr>\n",
       "    <tr>\n",
       "      <th>4</th>\n",
       "      <td>1-1EAUI3HB</td>\n",
       "      <td>4.995471e+04</td>\n",
       "    </tr>\n",
       "    <tr>\n",
       "      <th>5</th>\n",
       "      <td>1-1SEHRJGN</td>\n",
       "      <td>2.229084e+09</td>\n",
       "    </tr>\n",
       "    <tr>\n",
       "      <th>6</th>\n",
       "      <td>1-3BGP3MY</td>\n",
       "      <td>3.647171e+04</td>\n",
       "    </tr>\n",
       "    <tr>\n",
       "      <th>7</th>\n",
       "      <td>1-OVUJN21</td>\n",
       "      <td>1.330355e+00</td>\n",
       "    </tr>\n",
       "    <tr>\n",
       "      <th>8</th>\n",
       "      <td>1-1GW0</td>\n",
       "      <td>1.583316e+08</td>\n",
       "    </tr>\n",
       "    <tr>\n",
       "      <th>9</th>\n",
       "      <td>1-115ER0K</td>\n",
       "      <td>1.350127e+00</td>\n",
       "    </tr>\n",
       "  </tbody>\n",
       "</table>\n",
       "</div>"
      ],
      "text/plain": [
       "  CRM_PRODUCT_ID  MEAN_POTENTIAL\n",
       "0     1-2GZPAXO5    2.656011e+03\n",
       "1      1-115HHZC    4.844413e+08\n",
       "2         1-1GVO    6.776397e+01\n",
       "3     1-294EQR2Y    5.998274e+02\n",
       "4     1-1EAUI3HB    4.995471e+04\n",
       "5     1-1SEHRJGN    2.229084e+09\n",
       "6      1-3BGP3MY    3.647171e+04\n",
       "7      1-OVUJN21    1.330355e+00\n",
       "8         1-1GW0    1.583316e+08\n",
       "9      1-115ER0K    1.350127e+00"
      ]
     },
     "execution_count": 13,
     "metadata": {},
     "output_type": "execute_result"
    }
   ],
   "source": [
    "mean_nontop = nontop.groupBy('CRM_PRODUCT_ID').agg(f.mean('COEF_PRODUCT_CD').alias('MEAN_POTENTIAL'))\n",
    "mean_nontop.show()"
   ]
  },
  {
   "cell_type": "code",
   "execution_count": 93,
   "metadata": {
    "scrolled": true
   },
   "outputs": [
    {
     "data": {
      "text/html": [
       "<div>\n",
       "<style scoped>\n",
       "    .dataframe tbody tr th:only-of-type {\n",
       "        vertical-align: middle;\n",
       "    }\n",
       "\n",
       "    .dataframe tbody tr th {\n",
       "        vertical-align: top;\n",
       "    }\n",
       "\n",
       "    .dataframe thead th {\n",
       "        text-align: right;\n",
       "    }\n",
       "</style>\n",
       "<table border=\"1\" class=\"dataframe\">\n",
       "  <thead>\n",
       "    <tr style=\"text-align: right;\">\n",
       "      <th></th>\n",
       "      <th>HASHINN</th>\n",
       "      <th>CRM_PRODUCT_ID</th>\n",
       "      <th>SCORE</th>\n",
       "    </tr>\n",
       "  </thead>\n",
       "  <tbody>\n",
       "    <tr>\n",
       "      <th>0</th>\n",
       "      <td>0ccfb898f4704a1b58aa10d123e5e9839c731db855c32e...</td>\n",
       "      <td>1-1C1UMBRV</td>\n",
       "      <td>0.51</td>\n",
       "    </tr>\n",
       "    <tr>\n",
       "      <th>1</th>\n",
       "      <td>283bd72d4c27b96b34d2f3dd2ef229de8df0a07c6f53e7...</td>\n",
       "      <td>1-1C1UMBRV</td>\n",
       "      <td>0.51</td>\n",
       "    </tr>\n",
       "    <tr>\n",
       "      <th>2</th>\n",
       "      <td>32464a93f63a7f9847fa0348533c21ae36c6fa0b10fc4c...</td>\n",
       "      <td>1-1C1UMBRV</td>\n",
       "      <td>0.51</td>\n",
       "    </tr>\n",
       "    <tr>\n",
       "      <th>3</th>\n",
       "      <td>df6ce4a88c17a470e8ba4637c85ae9970d4d191a0e4ff4...</td>\n",
       "      <td>1-1C1UMBRV</td>\n",
       "      <td>0.51</td>\n",
       "    </tr>\n",
       "    <tr>\n",
       "      <th>4</th>\n",
       "      <td>caba8dcf56349ac4e84dcee23fe13125518b51e79be7d6...</td>\n",
       "      <td>1-1C1UMBRV</td>\n",
       "      <td>0.51</td>\n",
       "    </tr>\n",
       "    <tr>\n",
       "      <th>5</th>\n",
       "      <td>69a44f7717b710c880ec8b787e53ff9c827d68c66541a8...</td>\n",
       "      <td>1-1C1UMBRV</td>\n",
       "      <td>0.51</td>\n",
       "    </tr>\n",
       "    <tr>\n",
       "      <th>6</th>\n",
       "      <td>b27142786057d28fda09f9b9f913577ad68b00e38f2892...</td>\n",
       "      <td>1-1C1UMBRV</td>\n",
       "      <td>0.51</td>\n",
       "    </tr>\n",
       "    <tr>\n",
       "      <th>7</th>\n",
       "      <td>3ad3456e65dd8ed44d5689c66ee083c41c28244875238a...</td>\n",
       "      <td>1-1C1UMBRV</td>\n",
       "      <td>0.51</td>\n",
       "    </tr>\n",
       "    <tr>\n",
       "      <th>8</th>\n",
       "      <td>641ec8029f1033f93f7cf66cd00c86edb090f1e4cbd302...</td>\n",
       "      <td>1-1C1UMBRV</td>\n",
       "      <td>0.51</td>\n",
       "    </tr>\n",
       "    <tr>\n",
       "      <th>9</th>\n",
       "      <td>6ccd78a23efb7c95bb8300b693e6ab282fba8bb45ae4b6...</td>\n",
       "      <td>1-1C1UMBRV</td>\n",
       "      <td>0.51</td>\n",
       "    </tr>\n",
       "  </tbody>\n",
       "</table>\n",
       "</div>"
      ],
      "text/plain": [
       "                                             HASHINN CRM_PRODUCT_ID  SCORE\n",
       "0  0ccfb898f4704a1b58aa10d123e5e9839c731db855c32e...     1-1C1UMBRV   0.51\n",
       "1  283bd72d4c27b96b34d2f3dd2ef229de8df0a07c6f53e7...     1-1C1UMBRV   0.51\n",
       "2  32464a93f63a7f9847fa0348533c21ae36c6fa0b10fc4c...     1-1C1UMBRV   0.51\n",
       "3  df6ce4a88c17a470e8ba4637c85ae9970d4d191a0e4ff4...     1-1C1UMBRV   0.51\n",
       "4  caba8dcf56349ac4e84dcee23fe13125518b51e79be7d6...     1-1C1UMBRV   0.51\n",
       "5  69a44f7717b710c880ec8b787e53ff9c827d68c66541a8...     1-1C1UMBRV   0.51\n",
       "6  b27142786057d28fda09f9b9f913577ad68b00e38f2892...     1-1C1UMBRV   0.51\n",
       "7  3ad3456e65dd8ed44d5689c66ee083c41c28244875238a...     1-1C1UMBRV   0.51\n",
       "8  641ec8029f1033f93f7cf66cd00c86edb090f1e4cbd302...     1-1C1UMBRV   0.51\n",
       "9  6ccd78a23efb7c95bb8300b693e6ab282fba8bb45ae4b6...     1-1C1UMBRV   0.51"
      ]
     },
     "execution_count": 93,
     "metadata": {},
     "output_type": "execute_result"
    }
   ],
   "source": [
    "nontop.select('HASHINN', 'CRM_PRODUCT_ID', 'SCORE').filter(\"SCORE > 0.5\").show()"
   ]
  },
  {
   "cell_type": "code",
   "execution_count": null,
   "metadata": {
    "collapsed": true
   },
   "outputs": [],
   "source": []
  },
  {
   "cell_type": "code",
   "execution_count": 36,
   "metadata": {
    "collapsed": true
   },
   "outputs": [],
   "source": [
    "nontop =\\\n",
    "nontop.select('client_id',\n",
    "                     f.col('crm_product_id').alias('i'),\n",
    "                     f.split(f.col('sources_lv2_list'),',').getItem(0).alias('t'),\n",
    "                     f.abs(f.log(np.e,f.col('offer_priority'))).alias('r'))\n",
    "rowmax = nontop.select(f.max('r').alias('max')).collect()[0]['max']\n",
    "nontop = nontop.select('client_id', 'i','t',f.round(f.col('r')/rowmax,2).alias('r'))\n",
    "nontop = nontop.fillna({'t':''})"
   ]
  },
  {
   "cell_type": "code",
   "execution_count": null,
   "metadata": {
    "collapsed": true
   },
   "outputs": [],
   "source": [
    "sql = \"\"\"\n",
    "(\n",
    "select /*+ parallel (8) */ count(*) from {}\n",
    ")\"\"\".format('OFFER_PRIORITY')\n",
    "res = sp.get_oracle(OracleDB('iskra4'), sql)"
   ]
  },
  {
   "cell_type": "code",
   "execution_count": null,
   "metadata": {
    "collapsed": true
   },
   "outputs": [],
   "source": [
    "res.show()"
   ]
  },
  {
   "cell_type": "markdown",
   "metadata": {},
   "source": [
    "## OFFER_PRIORITY "
   ]
  },
  {
   "cell_type": "code",
   "execution_count": 20,
   "metadata": {
    "collapsed": true
   },
   "outputs": [],
   "source": [
    "priority = hive.sql(\"select * from {}.{}\".format(new_schema, 'OFFER_PRIORITY'))"
   ]
  },
  {
   "cell_type": "code",
   "execution_count": null,
   "metadata": {
    "scrolled": false
   },
   "outputs": [],
   "source": [
    "priority.dtypes"
   ]
  },
  {
   "cell_type": "code",
   "execution_count": 10,
   "metadata": {},
   "outputs": [
    {
     "data": {
      "text/plain": [
       "('2020-09-21 00:00:00', '2019-06-18 21:06:52')"
      ]
     },
     "execution_count": 10,
     "metadata": {},
     "output_type": "execute_result"
    }
   ],
   "source": [
    "maxdttm = priority.select(f.max('LOAD_DTTM')).collect()\n",
    "max_load_dt_str = datetime.strftime(maxdttm[0]['max(LOAD_DTTM)'], format='%Y-%m-%d %H:%M:%S')\n",
    "mindttm = priority.select(f.min('LOAD_DTTM')).collect()\n",
    "min_load_dt_str = datetime.strftime(mindttm[0]['min(LOAD_DTTM)'], format='%Y-%m-%d %H:%M:%S')\n",
    "\n",
    "max_load_dt_str, min_load_dt_str"
   ]
  },
  {
   "cell_type": "code",
   "execution_count": 21,
   "metadata": {
    "collapsed": true
   },
   "outputs": [],
   "source": [
    "priority_part = priority.filter(\"LOAD_DTTM >= timestamp('{}')\".format('2020-06-01 00:00:00'))"
   ]
  },
  {
   "cell_type": "code",
   "execution_count": 22,
   "metadata": {},
   "outputs": [
    {
     "data": {
      "text/plain": [
       "4539125"
      ]
     },
     "execution_count": 22,
     "metadata": {},
     "output_type": "execute_result"
    }
   ],
   "source": [
    "priority_part.cache()\n",
    "priority_part = priority_part.select([col.lower() for col in priority_part.columns])\n",
    "priority_part = priority_part.withColumn('HASHINN',f.sha2('inn',numBits=256))\n",
    "priority_part.count()"
   ]
  },
  {
   "cell_type": "code",
   "execution_count": 23,
   "metadata": {
    "collapsed": true
   },
   "outputs": [],
   "source": [
    "# rowmax = np.log(priority_part.select(f.max('offer_priority').alias('max')).collect()[0]['max'])\n",
    "# priority_part = priority_part.withColumn('SCORE',\n",
    "#                     f.when(f.col('offer_priority')>1, f.round(f.abs(f.log(np.e,f.col('offer_priority')))/rowmax,4).alias('SCORE'))\\\n",
    "#                      .otherwise(f.round(f.col('offer_priority'),4).alias('SCORE'))\n",
    "#                                         )\n",
    "\n",
    "w2=Window.orderBy('offer_priority')\n",
    "\n",
    "priority_part = priority_part.orderBy(f.col('offer_priority').desc())\\\n",
    "                             .withColumn('row_num', f.row_number().over(w2))\n",
    "\n",
    "rowmax = priority_part.select(f.max('row_num').alias('max')).collect()[0]['max']\n",
    "priority_part = priority_part.select('INN', 'HASHINN', 'CRM_PRODUCT_ID', 'offer_priority',\n",
    "                                     f.round(f.col('row_num')/rowmax,2).alias('SCORE'))"
   ]
  },
  {
   "cell_type": "code",
   "execution_count": 24,
   "metadata": {},
   "outputs": [
    {
     "data": {
      "text/html": [
       "<div>\n",
       "<style scoped>\n",
       "    .dataframe tbody tr th:only-of-type {\n",
       "        vertical-align: middle;\n",
       "    }\n",
       "\n",
       "    .dataframe tbody tr th {\n",
       "        vertical-align: top;\n",
       "    }\n",
       "\n",
       "    .dataframe thead th {\n",
       "        text-align: right;\n",
       "    }\n",
       "</style>\n",
       "<table border=\"1\" class=\"dataframe\">\n",
       "  <thead>\n",
       "    <tr style=\"text-align: right;\">\n",
       "      <th></th>\n",
       "      <th>CRM_PRODUCT_ID</th>\n",
       "      <th>MEAN_POTENTIAL</th>\n",
       "    </tr>\n",
       "  </thead>\n",
       "  <tbody>\n",
       "    <tr>\n",
       "      <th>0</th>\n",
       "      <td>1-115HHZC</td>\n",
       "      <td>2.961480e+08</td>\n",
       "    </tr>\n",
       "    <tr>\n",
       "      <th>1</th>\n",
       "      <td>1-1GVO</td>\n",
       "      <td>2.209147e+02</td>\n",
       "    </tr>\n",
       "    <tr>\n",
       "      <th>2</th>\n",
       "      <td>1-294EQR2Y</td>\n",
       "      <td>1.398958e+03</td>\n",
       "    </tr>\n",
       "    <tr>\n",
       "      <th>3</th>\n",
       "      <td>1-1EAUI3HB</td>\n",
       "      <td>5.622541e+04</td>\n",
       "    </tr>\n",
       "    <tr>\n",
       "      <th>4</th>\n",
       "      <td>1-1SEHRJGN</td>\n",
       "      <td>2.482302e+08</td>\n",
       "    </tr>\n",
       "    <tr>\n",
       "      <th>5</th>\n",
       "      <td>1-3BGP3MY</td>\n",
       "      <td>1.005323e+07</td>\n",
       "    </tr>\n",
       "    <tr>\n",
       "      <th>6</th>\n",
       "      <td>1-WCK2VTA</td>\n",
       "      <td>1.450146e+01</td>\n",
       "    </tr>\n",
       "    <tr>\n",
       "      <th>7</th>\n",
       "      <td>1-1GW0</td>\n",
       "      <td>6.095668e+08</td>\n",
       "    </tr>\n",
       "    <tr>\n",
       "      <th>8</th>\n",
       "      <td>1-DDP18DU</td>\n",
       "      <td>2.756600e+03</td>\n",
       "    </tr>\n",
       "    <tr>\n",
       "      <th>9</th>\n",
       "      <td>1-79LMUVD</td>\n",
       "      <td>3.483464e+09</td>\n",
       "    </tr>\n",
       "  </tbody>\n",
       "</table>\n",
       "</div>"
      ],
      "text/plain": [
       "  CRM_PRODUCT_ID  MEAN_POTENTIAL\n",
       "0      1-115HHZC    2.961480e+08\n",
       "1         1-1GVO    2.209147e+02\n",
       "2     1-294EQR2Y    1.398958e+03\n",
       "3     1-1EAUI3HB    5.622541e+04\n",
       "4     1-1SEHRJGN    2.482302e+08\n",
       "5      1-3BGP3MY    1.005323e+07\n",
       "6      1-WCK2VTA    1.450146e+01\n",
       "7         1-1GW0    6.095668e+08\n",
       "8      1-DDP18DU    2.756600e+03\n",
       "9      1-79LMUVD    3.483464e+09"
      ]
     },
     "execution_count": 24,
     "metadata": {},
     "output_type": "execute_result"
    }
   ],
   "source": [
    "mean_priority = priority_part.groupBy('CRM_PRODUCT_ID').agg(f.mean('offer_priority').alias('MEAN_POTENTIAL'))\n",
    "mean_priority.show()"
   ]
  },
  {
   "cell_type": "code",
   "execution_count": 99,
   "metadata": {
    "scrolled": true
   },
   "outputs": [
    {
     "data": {
      "text/html": [
       "<div>\n",
       "<style scoped>\n",
       "    .dataframe tbody tr th:only-of-type {\n",
       "        vertical-align: middle;\n",
       "    }\n",
       "\n",
       "    .dataframe tbody tr th {\n",
       "        vertical-align: top;\n",
       "    }\n",
       "\n",
       "    .dataframe thead th {\n",
       "        text-align: right;\n",
       "    }\n",
       "</style>\n",
       "<table border=\"1\" class=\"dataframe\">\n",
       "  <thead>\n",
       "    <tr style=\"text-align: right;\">\n",
       "      <th></th>\n",
       "      <th>HASHINN</th>\n",
       "      <th>CRM_PRODUCT_ID</th>\n",
       "      <th>SCORE</th>\n",
       "    </tr>\n",
       "  </thead>\n",
       "  <tbody>\n",
       "    <tr>\n",
       "      <th>0</th>\n",
       "      <td>14a98d356cd8ddb556e84ae64fb496b9d4125bda6a2fdd...</td>\n",
       "      <td>1-1GW0</td>\n",
       "      <td>0.51</td>\n",
       "    </tr>\n",
       "    <tr>\n",
       "      <th>1</th>\n",
       "      <td>c03497ab6c4d4102504fc1d9298ddde2bbff8bf3ea626e...</td>\n",
       "      <td>1-1GW0</td>\n",
       "      <td>0.51</td>\n",
       "    </tr>\n",
       "    <tr>\n",
       "      <th>2</th>\n",
       "      <td>107ca3d181d17da843c0ef0d0661d187debbb415a6e0a6...</td>\n",
       "      <td>1-1GW0</td>\n",
       "      <td>0.51</td>\n",
       "    </tr>\n",
       "    <tr>\n",
       "      <th>3</th>\n",
       "      <td>184e25653ca31b23fa8c961d83ca9506774598c3e11c46...</td>\n",
       "      <td>1-1GW0</td>\n",
       "      <td>0.51</td>\n",
       "    </tr>\n",
       "    <tr>\n",
       "      <th>4</th>\n",
       "      <td>a6009cc6e08e58d62038ce21c1830cf96c742402076d65...</td>\n",
       "      <td>1-1GW0</td>\n",
       "      <td>0.51</td>\n",
       "    </tr>\n",
       "    <tr>\n",
       "      <th>5</th>\n",
       "      <td>a0b9cce47df89c46e0eb16d6b050bc16747cb9ee3ce573...</td>\n",
       "      <td>1-1GW0</td>\n",
       "      <td>0.51</td>\n",
       "    </tr>\n",
       "    <tr>\n",
       "      <th>6</th>\n",
       "      <td>16b4367725722302ac0ded25ca7c0ca17d0845b5a8663e...</td>\n",
       "      <td>1-1GW0</td>\n",
       "      <td>0.51</td>\n",
       "    </tr>\n",
       "    <tr>\n",
       "      <th>7</th>\n",
       "      <td>2edb9608d8eb1ea601b7d6f67fabfa6000fcb7e6731c2b...</td>\n",
       "      <td>1-1GW0</td>\n",
       "      <td>0.51</td>\n",
       "    </tr>\n",
       "    <tr>\n",
       "      <th>8</th>\n",
       "      <td>f7f447d928c1b52a925a17569df0ae8eec17a821d4a47f...</td>\n",
       "      <td>1-1GW0</td>\n",
       "      <td>0.51</td>\n",
       "    </tr>\n",
       "    <tr>\n",
       "      <th>9</th>\n",
       "      <td>7526cb6460e380604867d5f725dcde2b56ffb605c9d27c...</td>\n",
       "      <td>1-1GW0</td>\n",
       "      <td>0.51</td>\n",
       "    </tr>\n",
       "  </tbody>\n",
       "</table>\n",
       "</div>"
      ],
      "text/plain": [
       "                                             HASHINN CRM_PRODUCT_ID  SCORE\n",
       "0  14a98d356cd8ddb556e84ae64fb496b9d4125bda6a2fdd...         1-1GW0   0.51\n",
       "1  c03497ab6c4d4102504fc1d9298ddde2bbff8bf3ea626e...         1-1GW0   0.51\n",
       "2  107ca3d181d17da843c0ef0d0661d187debbb415a6e0a6...         1-1GW0   0.51\n",
       "3  184e25653ca31b23fa8c961d83ca9506774598c3e11c46...         1-1GW0   0.51\n",
       "4  a6009cc6e08e58d62038ce21c1830cf96c742402076d65...         1-1GW0   0.51\n",
       "5  a0b9cce47df89c46e0eb16d6b050bc16747cb9ee3ce573...         1-1GW0   0.51\n",
       "6  16b4367725722302ac0ded25ca7c0ca17d0845b5a8663e...         1-1GW0   0.51\n",
       "7  2edb9608d8eb1ea601b7d6f67fabfa6000fcb7e6731c2b...         1-1GW0   0.51\n",
       "8  f7f447d928c1b52a925a17569df0ae8eec17a821d4a47f...         1-1GW0   0.51\n",
       "9  7526cb6460e380604867d5f725dcde2b56ffb605c9d27c...         1-1GW0   0.51"
      ]
     },
     "execution_count": 99,
     "metadata": {},
     "output_type": "execute_result"
    }
   ],
   "source": [
    "priority_part.filter(\"SCORE > 0.5\").show()"
   ]
  },
  {
   "cell_type": "code",
   "execution_count": 41,
   "metadata": {
    "collapsed": true
   },
   "outputs": [],
   "source": [
    "priority_part =\\\n",
    "priority_part.select('client_id',\n",
    "                     f.col('crm_id').alias('i'),\n",
    "                     f.split(f.col('sources_lv2_list'),',').getItem(0).alias('t'),\n",
    "                     f.abs(f.log(np.e,f.col('offer_priority'))).alias('r'))\n",
    "rowmax = priority_part.select(f.max('r').alias('max')).collect()[0]['max']\n",
    "priority_part = priority_part.select('client_id','i','t',f.round(f.col('r')/rowmax,2).alias('r'))\n",
    "priority_part = priority_part.fillna({'t':''})"
   ]
  },
  {
   "cell_type": "markdown",
   "metadata": {},
   "source": [
    "### UNION MEAN_POTENTIALS"
   ]
  },
  {
   "cell_type": "code",
   "execution_count": 26,
   "metadata": {},
   "outputs": [
    {
     "data": {
      "text/plain": [
       "131"
      ]
     },
     "execution_count": 26,
     "metadata": {},
     "output_type": "execute_result"
    }
   ],
   "source": [
    "mean_total = mean_nontop.unionAll(mean_priority).distinct()\n",
    "mean_total.cache()\n",
    "mean_total.count()"
   ]
  },
  {
   "cell_type": "markdown",
   "metadata": {},
   "source": [
    "### JOIN with MA_PRODUCT_DICT"
   ]
  },
  {
   "cell_type": "code",
   "execution_count": 40,
   "metadata": {},
   "outputs": [
    {
     "data": {
      "text/plain": [
       "(169, 12)"
      ]
     },
     "execution_count": 40,
     "metadata": {},
     "output_type": "execute_result"
    }
   ],
   "source": [
    "df = prod_dct.join(mean_total, on='CRM_PRODUCT_ID', how='left_outer').toPandas()\n",
    "df.shape"
   ]
  },
  {
   "cell_type": "code",
   "execution_count": null,
   "metadata": {
    "scrolled": false
   },
   "outputs": [],
   "source": [
    "df = df[~df['MEAN_POTENTIAL'].isnull()]\n",
    "df.sort_values(by=['MEAN_POTENTIAL'], ascending=False, inplace=True)\n",
    "df.head(20)"
   ]
  },
  {
   "cell_type": "code",
   "execution_count": 39,
   "metadata": {},
   "outputs": [
    {
     "data": {
      "text/plain": [
       "(130, 12)"
      ]
     },
     "execution_count": 39,
     "metadata": {},
     "output_type": "execute_result"
    }
   ],
   "source": [
    "df.shape"
   ]
  },
  {
   "cell_type": "code",
   "execution_count": 42,
   "metadata": {
    "collapsed": true
   },
   "outputs": [],
   "source": [
    "df.to_excel(\"./ma_prod_dict.xlsx\", index=False)"
   ]
  },
  {
   "cell_type": "markdown",
   "metadata": {},
   "source": [
    "### GA_ALL_SCENARIOS_HIST"
   ]
  },
  {
   "cell_type": "code",
   "execution_count": 11,
   "metadata": {
    "collapsed": true,
    "scrolled": true
   },
   "outputs": [],
   "source": [
    "ga = hive.table(\"{}.{}\".format(new_schema, 'GA_ALL_SCENARIOS_HIST'))"
   ]
  },
  {
   "cell_type": "code",
   "execution_count": 12,
   "metadata": {
    "collapsed": true,
    "scrolled": true
   },
   "outputs": [],
   "source": [
    "ga = ga.filter(\"(load_dt > timestamp('2020-07-01')) and \\\n",
    "                (sum_offer_priority > 0 or sum_offer_nontop > 0)\").select('inn', 'id_product', 'funnel_rate').distinct()"
   ]
  },
  {
   "cell_type": "code",
   "execution_count": 13,
   "metadata": {
    "scrolled": true
   },
   "outputs": [
    {
     "data": {
      "text/plain": [
       "399988"
      ]
     },
     "execution_count": 13,
     "metadata": {},
     "output_type": "execute_result"
    }
   ],
   "source": [
    "def getProdCDFromId(product_dict_nm):\n",
    "    def get_product(product_id, product_dict_nm):\n",
    "        if product_id is None:\n",
    "            return None\n",
    "\n",
    "        for _id in product_dict_nm:\n",
    "            if product_id == _id:\n",
    "                return product_dict_nm[_id]\n",
    "\n",
    "        return None\n",
    "\n",
    "    return f.udf(lambda x: get_product(x,product_dict_nm))\n",
    "\n",
    "\n",
    "ga.cache()\n",
    "ga = ga.withColumn('HASHINN',f.sha2('inn',numBits=256))\n",
    "ga = ga.withColumn('SCORE', f.when(f.col('funnel_rate')==9999, 1).otherwise(f.col('funnel_rate')))\n",
    "\n",
    "product_dict_sp = hive.sql(\"select * from {}.{}\".format(new_schema, 'MA_PRODUCT_DICT'))\n",
    "# product_dict_sp = product_dict_sp.select([col.lower() for col in product_dict_sp.columns])\n",
    "product_dict_sp = product_dict_sp.filter(\"PRODUCT_CD_MMB is not Null\").select(f.col('PRODUCT_CD_MMB').alias('ID'), \n",
    "                                                                              'CRM_PRODUCT_ID')\n",
    "product_dict_pd = product_dict_sp.collect()\n",
    "product_dict_nm = {row.ID: row.CRM_PRODUCT_ID for row in product_dict_pd}\n",
    "ga              = ga.withColumn('CRM_PRODUCT_ID', getProdCDFromId(product_dict_nm)('id_product'))\n",
    "\n",
    "\n",
    "\n",
    "ga = ga.select('HASHINN', 'SCORE', 'CRM_PRODUCT_ID')\n",
    "ga.count()"
   ]
  },
  {
   "cell_type": "code",
   "execution_count": 117,
   "metadata": {
    "scrolled": true
   },
   "outputs": [
    {
     "data": {
      "text/html": [
       "<div>\n",
       "<style scoped>\n",
       "    .dataframe tbody tr th:only-of-type {\n",
       "        vertical-align: middle;\n",
       "    }\n",
       "\n",
       "    .dataframe tbody tr th {\n",
       "        vertical-align: top;\n",
       "    }\n",
       "\n",
       "    .dataframe thead th {\n",
       "        text-align: right;\n",
       "    }\n",
       "</style>\n",
       "<table border=\"1\" class=\"dataframe\">\n",
       "  <thead>\n",
       "    <tr style=\"text-align: right;\">\n",
       "      <th></th>\n",
       "      <th>HASHINN</th>\n",
       "      <th>SCORE</th>\n",
       "      <th>CRM_PRODUCT_ID</th>\n",
       "    </tr>\n",
       "  </thead>\n",
       "  <tbody>\n",
       "    <tr>\n",
       "      <th>0</th>\n",
       "      <td>a951376451b08966251d6204e0ab3f06e1c550555ed553...</td>\n",
       "      <td>0.50</td>\n",
       "      <td>1-115HHZO</td>\n",
       "    </tr>\n",
       "    <tr>\n",
       "      <th>1</th>\n",
       "      <td>c3ef33c105d673e06080ef89e3aedd88ab16f18ede2584...</td>\n",
       "      <td>1</td>\n",
       "      <td>1-1GUC</td>\n",
       "    </tr>\n",
       "    <tr>\n",
       "      <th>2</th>\n",
       "      <td>31334905ca7585baccd7723469fbcc9aea405efba404f0...</td>\n",
       "      <td>1.0</td>\n",
       "      <td>1-1GW0</td>\n",
       "    </tr>\n",
       "    <tr>\n",
       "      <th>3</th>\n",
       "      <td>6ad50f8ac9884cd7ff0acbaf60f73cfdec5db5a19a0610...</td>\n",
       "      <td>0.60</td>\n",
       "      <td>1-1GVC</td>\n",
       "    </tr>\n",
       "    <tr>\n",
       "      <th>4</th>\n",
       "      <td>d4937d76a5d08a9d91542a8e14b00e8307ef54124ec0b2...</td>\n",
       "      <td>0.80</td>\n",
       "      <td>1-1GVC</td>\n",
       "    </tr>\n",
       "    <tr>\n",
       "      <th>5</th>\n",
       "      <td>8a60b5f4a7ec23174de65f9a76f8fc38ddae301c226376...</td>\n",
       "      <td>0.33</td>\n",
       "      <td>1-1GT0</td>\n",
       "    </tr>\n",
       "    <tr>\n",
       "      <th>6</th>\n",
       "      <td>067b955fe6010ecf13c363fb69864b812a781cf9171125...</td>\n",
       "      <td>1</td>\n",
       "      <td>1-115HHZO</td>\n",
       "    </tr>\n",
       "    <tr>\n",
       "      <th>7</th>\n",
       "      <td>3de08b1450399001a88f80c1c09f0004f7b2ad50746239...</td>\n",
       "      <td>1.00</td>\n",
       "      <td>1-1GT0</td>\n",
       "    </tr>\n",
       "    <tr>\n",
       "      <th>8</th>\n",
       "      <td>fc66ccc954300b26e448e16a140a4b96efe107510e9e3b...</td>\n",
       "      <td>0.33</td>\n",
       "      <td>1-1GT0</td>\n",
       "    </tr>\n",
       "    <tr>\n",
       "      <th>9</th>\n",
       "      <td>9ddf8d876837227f828a8db3003e1840bd4d40f073d1b1...</td>\n",
       "      <td>0.80</td>\n",
       "      <td>1-1GVC</td>\n",
       "    </tr>\n",
       "  </tbody>\n",
       "</table>\n",
       "</div>"
      ],
      "text/plain": [
       "                                             HASHINN SCORE CRM_PRODUCT_ID\n",
       "0  a951376451b08966251d6204e0ab3f06e1c550555ed553...  0.50      1-115HHZO\n",
       "1  c3ef33c105d673e06080ef89e3aedd88ab16f18ede2584...     1         1-1GUC\n",
       "2  31334905ca7585baccd7723469fbcc9aea405efba404f0...   1.0         1-1GW0\n",
       "3  6ad50f8ac9884cd7ff0acbaf60f73cfdec5db5a19a0610...  0.60         1-1GVC\n",
       "4  d4937d76a5d08a9d91542a8e14b00e8307ef54124ec0b2...  0.80         1-1GVC\n",
       "5  8a60b5f4a7ec23174de65f9a76f8fc38ddae301c226376...  0.33         1-1GT0\n",
       "6  067b955fe6010ecf13c363fb69864b812a781cf9171125...     1      1-115HHZO\n",
       "7  3de08b1450399001a88f80c1c09f0004f7b2ad50746239...  1.00         1-1GT0\n",
       "8  fc66ccc954300b26e448e16a140a4b96efe107510e9e3b...  0.33         1-1GT0\n",
       "9  9ddf8d876837227f828a8db3003e1840bd4d40f073d1b1...  0.80         1-1GVC"
      ]
     },
     "execution_count": 117,
     "metadata": {},
     "output_type": "execute_result"
    }
   ],
   "source": [
    "ga.show()"
   ]
  },
  {
   "cell_type": "markdown",
   "metadata": {},
   "source": [
    "## Union dbs"
   ]
  },
  {
   "cell_type": "code",
   "execution_count": 14,
   "metadata": {},
   "outputs": [
    {
     "data": {
      "text/plain": [
       "DataFrame[HASHINN: string, CRM_PRODUCT_ID: string, SCORE: string]"
      ]
     },
     "execution_count": 14,
     "metadata": {},
     "output_type": "execute_result"
    }
   ],
   "source": [
    "all_sdf = priority_part.unionAll(nontop).unionAll(ga).distinct()\n",
    "all_sdf = all_sdf.filter(\"HASHINN is not Null\")\n",
    "all_sdf.cache()"
   ]
  },
  {
   "cell_type": "code",
   "execution_count": 15,
   "metadata": {},
   "outputs": [
    {
     "data": {
      "text/plain": [
       "35458452"
      ]
     },
     "execution_count": 15,
     "metadata": {},
     "output_type": "execute_result"
    }
   ],
   "source": [
    "all_sdf.count()"
   ]
  },
  {
   "cell_type": "code",
   "execution_count": 36,
   "metadata": {
    "scrolled": true
   },
   "outputs": [
    {
     "data": {
      "text/html": [
       "<div>\n",
       "<style scoped>\n",
       "    .dataframe tbody tr th:only-of-type {\n",
       "        vertical-align: middle;\n",
       "    }\n",
       "\n",
       "    .dataframe tbody tr th {\n",
       "        vertical-align: top;\n",
       "    }\n",
       "\n",
       "    .dataframe thead th {\n",
       "        text-align: right;\n",
       "    }\n",
       "</style>\n",
       "<table border=\"1\" class=\"dataframe\">\n",
       "  <thead>\n",
       "    <tr style=\"text-align: right;\">\n",
       "      <th></th>\n",
       "      <th>HASHINN</th>\n",
       "      <th>CRM_PRODUCT_ID</th>\n",
       "      <th>SCORE</th>\n",
       "      <th>PRODUCT_TYPE</th>\n",
       "      <th>PRODUCT_CATEGORY</th>\n",
       "    </tr>\n",
       "  </thead>\n",
       "  <tbody>\n",
       "    <tr>\n",
       "      <th>0</th>\n",
       "      <td>51234ad24a879819f9d529202f8560b4e3a67c94f8bce7...</td>\n",
       "      <td>1-28U2XVNP</td>\n",
       "      <td>0.0</td>\n",
       "      <td>STANDART</td>\n",
       "      <td>BANK</td>\n",
       "    </tr>\n",
       "    <tr>\n",
       "      <th>1</th>\n",
       "      <td>9a0cffd90ac73a0997c35804a906595691cfb7e2e72f9a...</td>\n",
       "      <td>1-28U2XVNP</td>\n",
       "      <td>0.0</td>\n",
       "      <td>STANDART</td>\n",
       "      <td>BANK</td>\n",
       "    </tr>\n",
       "    <tr>\n",
       "      <th>2</th>\n",
       "      <td>9decd2f3cb790ba1b492dcd98e1ec510c012f2031658fc...</td>\n",
       "      <td>1-28U2XVNP</td>\n",
       "      <td>0.0</td>\n",
       "      <td>STANDART</td>\n",
       "      <td>BANK</td>\n",
       "    </tr>\n",
       "    <tr>\n",
       "      <th>3</th>\n",
       "      <td>6fb512136c40c617c69552073bd8efb21e7649ea061f77...</td>\n",
       "      <td>1-28U2XVNP</td>\n",
       "      <td>0.0</td>\n",
       "      <td>STANDART</td>\n",
       "      <td>BANK</td>\n",
       "    </tr>\n",
       "    <tr>\n",
       "      <th>4</th>\n",
       "      <td>4b6f9eaba7b20c035a7af14c20a40c7036b76968a818cc...</td>\n",
       "      <td>1-28U2XVNP</td>\n",
       "      <td>0.0</td>\n",
       "      <td>STANDART</td>\n",
       "      <td>BANK</td>\n",
       "    </tr>\n",
       "    <tr>\n",
       "      <th>5</th>\n",
       "      <td>83d784192fd5560adfef7099987b3046cded08784faae5...</td>\n",
       "      <td>1-28U2XVNP</td>\n",
       "      <td>0.0</td>\n",
       "      <td>STANDART</td>\n",
       "      <td>BANK</td>\n",
       "    </tr>\n",
       "    <tr>\n",
       "      <th>6</th>\n",
       "      <td>d106330ac63263d686250989f06318bfe437859a68aa5b...</td>\n",
       "      <td>1-28U2XVNP</td>\n",
       "      <td>0.0</td>\n",
       "      <td>STANDART</td>\n",
       "      <td>BANK</td>\n",
       "    </tr>\n",
       "    <tr>\n",
       "      <th>7</th>\n",
       "      <td>76e6b750e2cb73646998204c5dcd738691576a6030a427...</td>\n",
       "      <td>1-28U2XVNP</td>\n",
       "      <td>0.0</td>\n",
       "      <td>STANDART</td>\n",
       "      <td>BANK</td>\n",
       "    </tr>\n",
       "    <tr>\n",
       "      <th>8</th>\n",
       "      <td>24dcf7766c6971f85da233e010b75c2204c93adaaa879f...</td>\n",
       "      <td>1-28U2XVNP</td>\n",
       "      <td>0.0</td>\n",
       "      <td>STANDART</td>\n",
       "      <td>BANK</td>\n",
       "    </tr>\n",
       "    <tr>\n",
       "      <th>9</th>\n",
       "      <td>07a760137254fb6430a36a579dfe00a9208bb5945b22e1...</td>\n",
       "      <td>1-28U2XVNP</td>\n",
       "      <td>0.0</td>\n",
       "      <td>STANDART</td>\n",
       "      <td>BANK</td>\n",
       "    </tr>\n",
       "  </tbody>\n",
       "</table>\n",
       "</div>"
      ],
      "text/plain": [
       "                                             HASHINN CRM_PRODUCT_ID SCORE  \\\n",
       "0  51234ad24a879819f9d529202f8560b4e3a67c94f8bce7...     1-28U2XVNP   0.0   \n",
       "1  9a0cffd90ac73a0997c35804a906595691cfb7e2e72f9a...     1-28U2XVNP   0.0   \n",
       "2  9decd2f3cb790ba1b492dcd98e1ec510c012f2031658fc...     1-28U2XVNP   0.0   \n",
       "3  6fb512136c40c617c69552073bd8efb21e7649ea061f77...     1-28U2XVNP   0.0   \n",
       "4  4b6f9eaba7b20c035a7af14c20a40c7036b76968a818cc...     1-28U2XVNP   0.0   \n",
       "5  83d784192fd5560adfef7099987b3046cded08784faae5...     1-28U2XVNP   0.0   \n",
       "6  d106330ac63263d686250989f06318bfe437859a68aa5b...     1-28U2XVNP   0.0   \n",
       "7  76e6b750e2cb73646998204c5dcd738691576a6030a427...     1-28U2XVNP   0.0   \n",
       "8  24dcf7766c6971f85da233e010b75c2204c93adaaa879f...     1-28U2XVNP   0.0   \n",
       "9  07a760137254fb6430a36a579dfe00a9208bb5945b22e1...     1-28U2XVNP   0.0   \n",
       "\n",
       "  PRODUCT_TYPE PRODUCT_CATEGORY  \n",
       "0     STANDART             BANK  \n",
       "1     STANDART             BANK  \n",
       "2     STANDART             BANK  \n",
       "3     STANDART             BANK  \n",
       "4     STANDART             BANK  \n",
       "5     STANDART             BANK  \n",
       "6     STANDART             BANK  \n",
       "7     STANDART             BANK  \n",
       "8     STANDART             BANK  \n",
       "9     STANDART             BANK  "
      ]
     },
     "execution_count": 36,
     "metadata": {},
     "output_type": "execute_result"
    }
   ],
   "source": [
    "all_sdf = all_sdf.withColumn('PRODUCT_TYPE', f.lit('STANDART'))\\\n",
    "                 .withColumn('PRODUCT_CATEGORY', f.lit('BANK'))\n",
    "all_sdf.show()"
   ]
  },
  {
   "cell_type": "code",
   "execution_count": 18,
   "metadata": {
    "scrolled": true
   },
   "outputs": [
    {
     "data": {
      "text/plain": [
       "[Row(HASHINN='51234ad24a879819f9d529202f8560b4e3a67c94f8bce74cd9b468ada06dee23'),\n",
       " Row(HASHINN='9a0cffd90ac73a0997c35804a906595691cfb7e2e72f9ae7fd55da6ec557336d'),\n",
       " Row(HASHINN='9decd2f3cb790ba1b492dcd98e1ec510c012f2031658fcba6db070dfc7febb64')]"
      ]
     },
     "execution_count": 18,
     "metadata": {},
     "output_type": "execute_result"
    }
   ],
   "source": [
    "all_sdf.select(\"HASHINN\").take(3)"
   ]
  },
  {
   "cell_type": "code",
   "execution_count": 39,
   "metadata": {
    "collapsed": true
   },
   "outputs": [],
   "source": [
    "res = all_sdf\\\n",
    "         .withColumn('ROW_NUM', f.row_number().over(Window.partitionBy('HASHINN', 'CRM_PRODUCT_ID')\\\n",
    "                                              .orderBy(f.col('SCORE').desc())))\\\n",
    "         .filter(\"(ROW_NUM = 1) and (SCORE > 0.1)\")\\\n",
    "         .drop('ROW_NUM')"
   ]
  },
  {
   "cell_type": "code",
   "execution_count": 40,
   "metadata": {},
   "outputs": [
    {
     "data": {
      "text/html": [
       "<div>\n",
       "<style scoped>\n",
       "    .dataframe tbody tr th:only-of-type {\n",
       "        vertical-align: middle;\n",
       "    }\n",
       "\n",
       "    .dataframe tbody tr th {\n",
       "        vertical-align: top;\n",
       "    }\n",
       "\n",
       "    .dataframe thead th {\n",
       "        text-align: right;\n",
       "    }\n",
       "</style>\n",
       "<table border=\"1\" class=\"dataframe\">\n",
       "  <thead>\n",
       "    <tr style=\"text-align: right;\">\n",
       "      <th></th>\n",
       "      <th>HASHINN</th>\n",
       "      <th>CRM_PRODUCT_ID</th>\n",
       "      <th>SCORE</th>\n",
       "      <th>PRODUCT_TYPE</th>\n",
       "      <th>PRODUCT_CATEGORY</th>\n",
       "    </tr>\n",
       "  </thead>\n",
       "  <tbody>\n",
       "    <tr>\n",
       "      <th>0</th>\n",
       "      <td>9a0cffd90ac73a0997c35804a906595691cfb7e2e72f9a...</td>\n",
       "      <td>1-115HHZC</td>\n",
       "      <td>0.97</td>\n",
       "      <td>STANDART</td>\n",
       "      <td>BANK</td>\n",
       "    </tr>\n",
       "    <tr>\n",
       "      <th>1</th>\n",
       "      <td>9a0cffd90ac73a0997c35804a906595691cfb7e2e72f9a...</td>\n",
       "      <td>1-1GVC</td>\n",
       "      <td>0.92</td>\n",
       "      <td>STANDART</td>\n",
       "      <td>BANK</td>\n",
       "    </tr>\n",
       "    <tr>\n",
       "      <th>2</th>\n",
       "      <td>9a0cffd90ac73a0997c35804a906595691cfb7e2e72f9a...</td>\n",
       "      <td>1-PJ1ZWPY</td>\n",
       "      <td>0.88</td>\n",
       "      <td>STANDART</td>\n",
       "      <td>BANK</td>\n",
       "    </tr>\n",
       "    <tr>\n",
       "      <th>3</th>\n",
       "      <td>9a0cffd90ac73a0997c35804a906595691cfb7e2e72f9a...</td>\n",
       "      <td>1-1GW0</td>\n",
       "      <td>0.86</td>\n",
       "      <td>STANDART</td>\n",
       "      <td>BANK</td>\n",
       "    </tr>\n",
       "    <tr>\n",
       "      <th>4</th>\n",
       "      <td>9a0cffd90ac73a0997c35804a906595691cfb7e2e72f9a...</td>\n",
       "      <td>1-1Z85A72</td>\n",
       "      <td>0.79</td>\n",
       "      <td>STANDART</td>\n",
       "      <td>BANK</td>\n",
       "    </tr>\n",
       "    <tr>\n",
       "      <th>5</th>\n",
       "      <td>9a0cffd90ac73a0997c35804a906595691cfb7e2e72f9a...</td>\n",
       "      <td>1-ZYQP07F</td>\n",
       "      <td>0.65</td>\n",
       "      <td>STANDART</td>\n",
       "      <td>BANK</td>\n",
       "    </tr>\n",
       "    <tr>\n",
       "      <th>6</th>\n",
       "      <td>9a0cffd90ac73a0997c35804a906595691cfb7e2e72f9a...</td>\n",
       "      <td>1-MP71XI8</td>\n",
       "      <td>0.59</td>\n",
       "      <td>STANDART</td>\n",
       "      <td>BANK</td>\n",
       "    </tr>\n",
       "    <tr>\n",
       "      <th>7</th>\n",
       "      <td>9a0cffd90ac73a0997c35804a906595691cfb7e2e72f9a...</td>\n",
       "      <td>1-JNGJROI</td>\n",
       "      <td>0.46</td>\n",
       "      <td>STANDART</td>\n",
       "      <td>BANK</td>\n",
       "    </tr>\n",
       "    <tr>\n",
       "      <th>8</th>\n",
       "      <td>9a0cffd90ac73a0997c35804a906595691cfb7e2e72f9a...</td>\n",
       "      <td>1-1BTGN115</td>\n",
       "      <td>0.3</td>\n",
       "      <td>STANDART</td>\n",
       "      <td>BANK</td>\n",
       "    </tr>\n",
       "    <tr>\n",
       "      <th>9</th>\n",
       "      <td>9a0cffd90ac73a0997c35804a906595691cfb7e2e72f9a...</td>\n",
       "      <td>1-ZYQO0PN</td>\n",
       "      <td>0.21</td>\n",
       "      <td>STANDART</td>\n",
       "      <td>BANK</td>\n",
       "    </tr>\n",
       "    <tr>\n",
       "      <th>10</th>\n",
       "      <td>9a0cffd90ac73a0997c35804a906595691cfb7e2e72f9a...</td>\n",
       "      <td>1-3BGP3MY</td>\n",
       "      <td>0.18</td>\n",
       "      <td>STANDART</td>\n",
       "      <td>BANK</td>\n",
       "    </tr>\n",
       "    <tr>\n",
       "      <th>11</th>\n",
       "      <td>9a0cffd90ac73a0997c35804a906595691cfb7e2e72f9a...</td>\n",
       "      <td>1-415WQ1A</td>\n",
       "      <td>0.18</td>\n",
       "      <td>STANDART</td>\n",
       "      <td>BANK</td>\n",
       "    </tr>\n",
       "    <tr>\n",
       "      <th>12</th>\n",
       "      <td>9a0cffd90ac73a0997c35804a906595691cfb7e2e72f9a...</td>\n",
       "      <td>1-1GVO</td>\n",
       "      <td>0.17</td>\n",
       "      <td>STANDART</td>\n",
       "      <td>BANK</td>\n",
       "    </tr>\n",
       "    <tr>\n",
       "      <th>13</th>\n",
       "      <td>9a0cffd90ac73a0997c35804a906595691cfb7e2e72f9a...</td>\n",
       "      <td>1-ASDFAMH</td>\n",
       "      <td>0.14</td>\n",
       "      <td>STANDART</td>\n",
       "      <td>BANK</td>\n",
       "    </tr>\n",
       "  </tbody>\n",
       "</table>\n",
       "</div>"
      ],
      "text/plain": [
       "                                              HASHINN CRM_PRODUCT_ID SCORE  \\\n",
       "0   9a0cffd90ac73a0997c35804a906595691cfb7e2e72f9a...      1-115HHZC  0.97   \n",
       "1   9a0cffd90ac73a0997c35804a906595691cfb7e2e72f9a...         1-1GVC  0.92   \n",
       "2   9a0cffd90ac73a0997c35804a906595691cfb7e2e72f9a...      1-PJ1ZWPY  0.88   \n",
       "3   9a0cffd90ac73a0997c35804a906595691cfb7e2e72f9a...         1-1GW0  0.86   \n",
       "4   9a0cffd90ac73a0997c35804a906595691cfb7e2e72f9a...      1-1Z85A72  0.79   \n",
       "5   9a0cffd90ac73a0997c35804a906595691cfb7e2e72f9a...      1-ZYQP07F  0.65   \n",
       "6   9a0cffd90ac73a0997c35804a906595691cfb7e2e72f9a...      1-MP71XI8  0.59   \n",
       "7   9a0cffd90ac73a0997c35804a906595691cfb7e2e72f9a...      1-JNGJROI  0.46   \n",
       "8   9a0cffd90ac73a0997c35804a906595691cfb7e2e72f9a...     1-1BTGN115   0.3   \n",
       "9   9a0cffd90ac73a0997c35804a906595691cfb7e2e72f9a...      1-ZYQO0PN  0.21   \n",
       "10  9a0cffd90ac73a0997c35804a906595691cfb7e2e72f9a...      1-3BGP3MY  0.18   \n",
       "11  9a0cffd90ac73a0997c35804a906595691cfb7e2e72f9a...      1-415WQ1A  0.18   \n",
       "12  9a0cffd90ac73a0997c35804a906595691cfb7e2e72f9a...         1-1GVO  0.17   \n",
       "13  9a0cffd90ac73a0997c35804a906595691cfb7e2e72f9a...      1-ASDFAMH  0.14   \n",
       "\n",
       "   PRODUCT_TYPE PRODUCT_CATEGORY  \n",
       "0      STANDART             BANK  \n",
       "1      STANDART             BANK  \n",
       "2      STANDART             BANK  \n",
       "3      STANDART             BANK  \n",
       "4      STANDART             BANK  \n",
       "5      STANDART             BANK  \n",
       "6      STANDART             BANK  \n",
       "7      STANDART             BANK  \n",
       "8      STANDART             BANK  \n",
       "9      STANDART             BANK  \n",
       "10     STANDART             BANK  \n",
       "11     STANDART             BANK  \n",
       "12     STANDART             BANK  \n",
       "13     STANDART             BANK  "
      ]
     },
     "execution_count": 40,
     "metadata": {},
     "output_type": "execute_result"
    }
   ],
   "source": [
    "res.orderBy(f.col(\"HASHINN\"), f.col('SCORE').desc())\\\n",
    "   .filter(\"HASHINN='9a0cffd90ac73a0997c35804a906595691cfb7e2e72f9ae7fd55da6ec557336d'\").show(30)"
   ]
  },
  {
   "cell_type": "code",
   "execution_count": 41,
   "metadata": {},
   "outputs": [
    {
     "data": {
      "text/plain": [
       "29012974"
      ]
     },
     "execution_count": 41,
     "metadata": {},
     "output_type": "execute_result"
    }
   ],
   "source": [
    "res.count()"
   ]
  },
  {
   "cell_type": "code",
   "execution_count": 45,
   "metadata": {
    "collapsed": true
   },
   "outputs": [],
   "source": [
    "part = res.sample(False, fraction=0.015).toPandas()"
   ]
  },
  {
   "cell_type": "code",
   "execution_count": 48,
   "metadata": {},
   "outputs": [
    {
     "data": {
      "text/plain": [
       "(434288, 5)"
      ]
     },
     "execution_count": 48,
     "metadata": {},
     "output_type": "execute_result"
    }
   ],
   "source": [
    "part.shape"
   ]
  },
  {
   "cell_type": "markdown",
   "metadata": {},
   "source": [
    "### SALE_POTENTIAL"
   ]
  },
  {
   "cell_type": "code",
   "execution_count": 50,
   "metadata": {
    "collapsed": true
   },
   "outputs": [],
   "source": [
    "from csv import  QUOTE_MINIMAL, QUOTE_ALL\n",
    "\n",
    "part.to_csv('./sale_potential.csv', \n",
    "            index=False, \n",
    "            encoding='utf-8', \n",
    "            float_format='%.2f',\n",
    "            sep=',', \n",
    "            doublequote=True,\n",
    "            quotechar='\\\"',\n",
    "            quoting=QUOTE_MINIMAL)"
   ]
  },
  {
   "cell_type": "markdown",
   "metadata": {},
   "source": [
    "### UNIFIED_CUSTOMER"
   ]
  },
  {
   "cell_type": "code",
   "execution_count": 10,
   "metadata": {
    "collapsed": true
   },
   "outputs": [],
   "source": [
    "cust = hive.table(\"{}.{}\".format(new_schema, 'UNIFIED_CUSTOMER'))"
   ]
  },
  {
   "cell_type": "code",
   "execution_count": 80,
   "metadata": {
    "collapsed": true
   },
   "outputs": [],
   "source": [
    "cust = cust.withColumn('HASHINN',f.sha2('INN',numBits=256))\\\n",
    "           .withColumn('CLIENT_FLG', f.lit(1))   "
   ]
  },
  {
   "cell_type": "code",
   "execution_count": 81,
   "metadata": {
    "collapsed": true
   },
   "outputs": [],
   "source": [
    "cust = cust.select(\"HASHINN\", \n",
    "                   f.col(\"CRM_SUB_INDUSTRY_TYPE_NM\").alias('INDUSTRY'), \n",
    "                   'CLIENT_FLG').filter(\"INDUSTRY is not Null\")"
   ]
  },
  {
   "cell_type": "code",
   "execution_count": 82,
   "metadata": {
    "collapsed": true,
    "scrolled": true
   },
   "outputs": [],
   "source": [
    "unified_cust = cust.limit(1600000).toPandas()"
   ]
  },
  {
   "cell_type": "code",
   "execution_count": 83,
   "metadata": {},
   "outputs": [
    {
     "data": {
      "text/html": [
       "<div>\n",
       "<style scoped>\n",
       "    .dataframe tbody tr th:only-of-type {\n",
       "        vertical-align: middle;\n",
       "    }\n",
       "\n",
       "    .dataframe tbody tr th {\n",
       "        vertical-align: top;\n",
       "    }\n",
       "\n",
       "    .dataframe thead th {\n",
       "        text-align: right;\n",
       "    }\n",
       "</style>\n",
       "<table border=\"1\" class=\"dataframe\">\n",
       "  <thead>\n",
       "    <tr style=\"text-align: right;\">\n",
       "      <th></th>\n",
       "      <th>HASHINN</th>\n",
       "      <th>INDUSTRY</th>\n",
       "      <th>CLIENT_FLG</th>\n",
       "    </tr>\n",
       "  </thead>\n",
       "  <tbody>\n",
       "    <tr>\n",
       "      <th>0</th>\n",
       "      <td>0e027e9a8b25746ccd57af2ed93fef41a4422268ea6127...</td>\n",
       "      <td>Офисная недвижимость</td>\n",
       "      <td>1</td>\n",
       "    </tr>\n",
       "    <tr>\n",
       "      <th>1</th>\n",
       "      <td>399543a893cd0d82e702bc1cd322403349401b4d0d24e1...</td>\n",
       "      <td>Торговля продовольственными товарами</td>\n",
       "      <td>1</td>\n",
       "    </tr>\n",
       "    <tr>\n",
       "      <th>2</th>\n",
       "      <td>f07986595a8cb733ee21ddad59bc8a578ff49f8d48062d...</td>\n",
       "      <td>Торговля продовольственными товарами</td>\n",
       "      <td>1</td>\n",
       "    </tr>\n",
       "    <tr>\n",
       "      <th>3</th>\n",
       "      <td>3d93b3f4cb8590c12829446436ad438591b773abd4e7ce...</td>\n",
       "      <td>Программное обеспечение, информационные технол...</td>\n",
       "      <td>1</td>\n",
       "    </tr>\n",
       "    <tr>\n",
       "      <th>4</th>\n",
       "      <td>42af0c6bcc640bbf3d96902060dc59a4502eaddab5aa18...</td>\n",
       "      <td>Перевозка автотранспортом</td>\n",
       "      <td>1</td>\n",
       "    </tr>\n",
       "  </tbody>\n",
       "</table>\n",
       "</div>"
      ],
      "text/plain": [
       "                                             HASHINN  \\\n",
       "0  0e027e9a8b25746ccd57af2ed93fef41a4422268ea6127...   \n",
       "1  399543a893cd0d82e702bc1cd322403349401b4d0d24e1...   \n",
       "2  f07986595a8cb733ee21ddad59bc8a578ff49f8d48062d...   \n",
       "3  3d93b3f4cb8590c12829446436ad438591b773abd4e7ce...   \n",
       "4  42af0c6bcc640bbf3d96902060dc59a4502eaddab5aa18...   \n",
       "\n",
       "                                            INDUSTRY  CLIENT_FLG  \n",
       "0                               Офисная недвижимость           1  \n",
       "1               Торговля продовольственными товарами           1  \n",
       "2               Торговля продовольственными товарами           1  \n",
       "3  Программное обеспечение, информационные технол...           1  \n",
       "4                          Перевозка автотранспортом           1  "
      ]
     },
     "execution_count": 83,
     "metadata": {},
     "output_type": "execute_result"
    }
   ],
   "source": [
    "unified_cust.head()"
   ]
  },
  {
   "cell_type": "code",
   "execution_count": 146,
   "metadata": {
    "collapsed": true
   },
   "outputs": [],
   "source": [
    "from csv import  QUOTE_MINIMAL, QUOTE_ALL\n",
    "\n",
    "unified_cust.to_csv('./inn_attributes.csv', \n",
    "            index=False, \n",
    "            encoding='utf-8', \n",
    "            float_format='%.2f',\n",
    "            sep=',', \n",
    "            doublequote=True,\n",
    "            quotechar='\\\"',\n",
    "            quoting=QUOTE_MINIMAL)"
   ]
  },
  {
   "cell_type": "code",
   "execution_count": null,
   "metadata": {
    "collapsed": true
   },
   "outputs": [],
   "source": []
  },
  {
   "cell_type": "markdown",
   "metadata": {},
   "source": [
    "## CID GA"
   ]
  },
  {
   "cell_type": "code",
   "execution_count": 54,
   "metadata": {},
   "outputs": [
    {
     "data": {
      "text/plain": [
       "'2020-06-06'"
      ]
     },
     "execution_count": 54,
     "metadata": {},
     "output_type": "execute_result"
    }
   ],
   "source": [
    "currdate = datetime.strptime(datetime.strftime(datetime.today(), format='%Y-%m-%d'), '%Y-%m-%d')\n",
    "actualts = datetime.timestamp(currdate) - 10 * 30 * 24 * 60 * 60\n",
    "max_resp_dt_str = datetime.strftime(datetime.fromtimestamp(actualts),  format='%Y-%m-%d')\n",
    "max_resp_dt_str"
   ]
  },
  {
   "cell_type": "code",
   "execution_count": 55,
   "metadata": {
    "collapsed": true
   },
   "outputs": [],
   "source": [
    "custcid = hive.table(\"{}.{}\".format(new_schema, 'GA_CID_SBBOL_INN')).filter(f.col(\"load_dt\") >= pd.to_datetime(max_resp_dt_str))"
   ]
  },
  {
   "cell_type": "code",
   "execution_count": 56,
   "metadata": {
    "collapsed": true,
    "scrolled": true
   },
   "outputs": [],
   "source": [
    "custcid = custcid.select(\"cid\", \"cu_inn\").filter(\"cu_inn is not Null\")"
   ]
  },
  {
   "cell_type": "code",
   "execution_count": 57,
   "metadata": {
    "collapsed": true
   },
   "outputs": [],
   "source": [
    "cookie = custcid.distinct()"
   ]
  },
  {
   "cell_type": "code",
   "execution_count": 58,
   "metadata": {},
   "outputs": [
    {
     "data": {
      "text/plain": [
       "DataFrame[cid: string, cu_inn: string]"
      ]
     },
     "execution_count": 58,
     "metadata": {},
     "output_type": "execute_result"
    }
   ],
   "source": [
    "cookie.cache()"
   ]
  },
  {
   "cell_type": "code",
   "execution_count": 59,
   "metadata": {},
   "outputs": [
    {
     "data": {
      "text/plain": [
       "19525339"
      ]
     },
     "execution_count": 59,
     "metadata": {},
     "output_type": "execute_result"
    }
   ],
   "source": [
    "cookie.count()"
   ]
  },
  {
   "cell_type": "code",
   "execution_count": 60,
   "metadata": {
    "collapsed": true
   },
   "outputs": [],
   "source": [
    "cookie = cookie.withColumn('HASHINN', f.sha2('cu_inn',numBits=256))\n",
    "cookie = \\\n",
    "cookie.select('HASHINN',\n",
    "              f.col('cid').alias('COOKIE_ID'),\n",
    "              f.lit('GA').alias('COOKIE_VENDOR'))"
   ]
  },
  {
   "cell_type": "code",
   "execution_count": 25,
   "metadata": {},
   "outputs": [
    {
     "data": {
      "text/html": [
       "<div>\n",
       "<style scoped>\n",
       "    .dataframe tbody tr th:only-of-type {\n",
       "        vertical-align: middle;\n",
       "    }\n",
       "\n",
       "    .dataframe tbody tr th {\n",
       "        vertical-align: top;\n",
       "    }\n",
       "\n",
       "    .dataframe thead th {\n",
       "        text-align: right;\n",
       "    }\n",
       "</style>\n",
       "<table border=\"1\" class=\"dataframe\">\n",
       "  <thead>\n",
       "    <tr style=\"text-align: right;\">\n",
       "      <th></th>\n",
       "      <th>HASHINN</th>\n",
       "      <th>COOKIE_ID</th>\n",
       "      <th>COOKIE_VENDOR</th>\n",
       "    </tr>\n",
       "  </thead>\n",
       "  <tbody>\n",
       "    <tr>\n",
       "      <th>0</th>\n",
       "      <td>7af4f7778bfb40d810862299523356006501f7810948e2...</td>\n",
       "      <td>1686232064.1426579796</td>\n",
       "      <td>GA</td>\n",
       "    </tr>\n",
       "    <tr>\n",
       "      <th>1</th>\n",
       "      <td>da15b85aed2cdd6efe0de7f460e76186d7325682314b9a...</td>\n",
       "      <td>635473949.1614241308</td>\n",
       "      <td>GA</td>\n",
       "    </tr>\n",
       "    <tr>\n",
       "      <th>2</th>\n",
       "      <td>8cb990e35a6455feda4214610fff7159cb996d5bad7ebc...</td>\n",
       "      <td>885540059.1598337530</td>\n",
       "      <td>GA</td>\n",
       "    </tr>\n",
       "    <tr>\n",
       "      <th>3</th>\n",
       "      <td>0f01c07af73dd2069d24a3b1b0dc71450f9fa2915635d6...</td>\n",
       "      <td>526876878.1554105223</td>\n",
       "      <td>GA</td>\n",
       "    </tr>\n",
       "    <tr>\n",
       "      <th>4</th>\n",
       "      <td>0fbddcdeca3390df9fb798d4b4a556a1d7e7e6c2070856...</td>\n",
       "      <td>1690983206.1610627846</td>\n",
       "      <td>GA</td>\n",
       "    </tr>\n",
       "    <tr>\n",
       "      <th>5</th>\n",
       "      <td>f1101e469cc6c2c081473ff33e3efb84a33a4b17822e45...</td>\n",
       "      <td>1590633656.1554386362</td>\n",
       "      <td>GA</td>\n",
       "    </tr>\n",
       "    <tr>\n",
       "      <th>6</th>\n",
       "      <td>3a851788faaf7e0471af494e20a5655b416bfd4b8a947c...</td>\n",
       "      <td>1258673748.1599545758</td>\n",
       "      <td>GA</td>\n",
       "    </tr>\n",
       "    <tr>\n",
       "      <th>7</th>\n",
       "      <td>6c86a55ea8d1110208fb53d69d9dbeb6a3e7b9fca89a74...</td>\n",
       "      <td>1172678957.1584253949</td>\n",
       "      <td>GA</td>\n",
       "    </tr>\n",
       "    <tr>\n",
       "      <th>8</th>\n",
       "      <td>1716ace82a06415b28daf400e852b04ecd63eb419ee24f...</td>\n",
       "      <td>885901514.1523010331</td>\n",
       "      <td>GA</td>\n",
       "    </tr>\n",
       "    <tr>\n",
       "      <th>9</th>\n",
       "      <td>35e5a342f8a525ed4f22778282fa5abdf01727aa796b5a...</td>\n",
       "      <td>53762997.1601382396</td>\n",
       "      <td>GA</td>\n",
       "    </tr>\n",
       "  </tbody>\n",
       "</table>\n",
       "</div>"
      ],
      "text/plain": [
       "                                             HASHINN              COOKIE_ID  \\\n",
       "0  7af4f7778bfb40d810862299523356006501f7810948e2...  1686232064.1426579796   \n",
       "1  da15b85aed2cdd6efe0de7f460e76186d7325682314b9a...   635473949.1614241308   \n",
       "2  8cb990e35a6455feda4214610fff7159cb996d5bad7ebc...   885540059.1598337530   \n",
       "3  0f01c07af73dd2069d24a3b1b0dc71450f9fa2915635d6...   526876878.1554105223   \n",
       "4  0fbddcdeca3390df9fb798d4b4a556a1d7e7e6c2070856...  1690983206.1610627846   \n",
       "5  f1101e469cc6c2c081473ff33e3efb84a33a4b17822e45...  1590633656.1554386362   \n",
       "6  3a851788faaf7e0471af494e20a5655b416bfd4b8a947c...  1258673748.1599545758   \n",
       "7  6c86a55ea8d1110208fb53d69d9dbeb6a3e7b9fca89a74...  1172678957.1584253949   \n",
       "8  1716ace82a06415b28daf400e852b04ecd63eb419ee24f...   885901514.1523010331   \n",
       "9  35e5a342f8a525ed4f22778282fa5abdf01727aa796b5a...    53762997.1601382396   \n",
       "\n",
       "  COOKIE_VENDOR  \n",
       "0            GA  \n",
       "1            GA  \n",
       "2            GA  \n",
       "3            GA  \n",
       "4            GA  \n",
       "5            GA  \n",
       "6            GA  \n",
       "7            GA  \n",
       "8            GA  \n",
       "9            GA  "
      ]
     },
     "execution_count": 25,
     "metadata": {},
     "output_type": "execute_result"
    }
   ],
   "source": [
    "cookie.show()"
   ]
  },
  {
   "cell_type": "code",
   "execution_count": 50,
   "metadata": {
    "scrolled": true
   },
   "outputs": [
    {
     "data": {
      "text/plain": [
       "HASHINN    6166\n",
       "dtype: int64"
      ]
     },
     "execution_count": 50,
     "metadata": {},
     "output_type": "execute_result"
    }
   ],
   "source": [
    "hashinn = pd.read_csv(\"./csv/TESTHASH.csv\")\n",
    "hashinn.count()"
   ]
  },
  {
   "cell_type": "code",
   "execution_count": 61,
   "metadata": {
    "collapsed": true
   },
   "outputs": [],
   "source": [
    "hashinn_sdf = hive.createDataFrame(hashinn,schema=StructType([StructField(\"HASHINN_\",StringType())]))"
   ]
  },
  {
   "cell_type": "code",
   "execution_count": 62,
   "metadata": {
    "collapsed": true
   },
   "outputs": [],
   "source": [
    "conditions = (cookie.HASHINN == hashinn_sdf.HASHINN_)\n",
    "res = cookie.join(hashinn_sdf, how=\"inner\", on=conditions)"
   ]
  },
  {
   "cell_type": "code",
   "execution_count": 64,
   "metadata": {},
   "outputs": [
    {
     "data": {
      "text/plain": [
       "5995"
      ]
     },
     "execution_count": 64,
     "metadata": {},
     "output_type": "execute_result"
    }
   ],
   "source": [
    "res = res.select(\"HASHINN\",\"COOKIE_ID\",\"COOKIE_VENDOR\")\n",
    "res = res.distinct()\n",
    "res.count()"
   ]
  },
  {
   "cell_type": "code",
   "execution_count": 66,
   "metadata": {
    "collapsed": true
   },
   "outputs": [],
   "source": [
    "part = res.toPandas()"
   ]
  },
  {
   "cell_type": "code",
   "execution_count": 67,
   "metadata": {
    "collapsed": true,
    "scrolled": false
   },
   "outputs": [],
   "source": [
    "part.to_csv(\"./ga_cookies\", index=False)"
   ]
  },
  {
   "cell_type": "code",
   "execution_count": null,
   "metadata": {
    "collapsed": true
   },
   "outputs": [],
   "source": []
  },
  {
   "cell_type": "markdown",
   "metadata": {},
   "source": [
    "### MA_CUSTOMER_COOKIE_MAP"
   ]
  },
  {
   "cell_type": "code",
   "execution_count": 3,
   "metadata": {
    "collapsed": true,
    "scrolled": true
   },
   "outputs": [],
   "source": [
    "ISKRA_TABLE = 'MA_CUSTOMER_COOKIE_MAP'"
   ]
  },
  {
   "cell_type": "code",
   "execution_count": 4,
   "metadata": {},
   "outputs": [
    {
     "data": {
      "text/plain": [
       "'2020-08-20 00:00:00'"
      ]
     },
     "execution_count": 4,
     "metadata": {},
     "output_type": "execute_result"
    }
   ],
   "source": [
    "currdate = datetime.strptime(datetime.strftime(datetime.today(), format='%Y-%m-%d'), '%Y-%m-%d')\n",
    "actualts = datetime.timestamp(currdate) - 40 * 24 * 60 * 60\n",
    "max_resp_dt_str = datetime.strftime(datetime.fromtimestamp(actualts),  format='%Y-%m-%d %H:%M:%S')\n",
    "max_resp_dt_str"
   ]
  },
  {
   "cell_type": "code",
   "execution_count": 5,
   "metadata": {
    "collapsed": true
   },
   "outputs": [],
   "source": [
    "db = OracleDB('iskra4')\n",
    "\n",
    "sql = \"\"\"\n",
    "(\n",
    "select /*+ parallel (8) */ * from {}\n",
    "where SRC_UPDATE_DTTM > to_timestamp('{}', 'yyyy-mm-dd hh24:mi:ss')\n",
    ")\"\"\".format(ISKRA_TABLE, max_resp_dt_str)\n",
    "\n",
    "cookie = sp.get_oracle(db, sql)"
   ]
  },
  {
   "cell_type": "code",
   "execution_count": 6,
   "metadata": {
    "collapsed": true
   },
   "outputs": [],
   "source": [
    "cookie = cookie.withColumn('HASHINN', f.sha2('CUST_INN',numBits=256))"
   ]
  },
  {
   "cell_type": "code",
   "execution_count": 7,
   "metadata": {
    "collapsed": true,
    "scrolled": true
   },
   "outputs": [],
   "source": [
    "cookie = \\\n",
    "cookie.select('HASHINN',\n",
    "              f.col('CUST_COOKIE').alias('COOKIE_ID'),\n",
    "              f.col('SRC_SYSTEM_CD').alias('COOKE_VENDOR'))"
   ]
  },
  {
   "cell_type": "code",
   "execution_count": 8,
   "metadata": {
    "collapsed": true
   },
   "outputs": [],
   "source": [
    "coolie_df = cookie.limit(1000000).toPandas()"
   ]
  },
  {
   "cell_type": "code",
   "execution_count": 9,
   "metadata": {
    "collapsed": true
   },
   "outputs": [],
   "source": [
    "from csv import  QUOTE_MINIMAL, QUOTE_ALL\n",
    "\n",
    "coolie_df.to_csv('./inn_cookies.csv', \n",
    "            index=False, \n",
    "            encoding='utf-8', \n",
    "            float_format='%.2f',\n",
    "            sep=',', \n",
    "            doublequote=True,\n",
    "            quotechar='\\\"',\n",
    "            quoting=QUOTE_MINIMAL)"
   ]
  },
  {
   "cell_type": "code",
   "execution_count": null,
   "metadata": {
    "collapsed": true
   },
   "outputs": [],
   "source": []
  },
  {
   "cell_type": "markdown",
   "metadata": {},
   "source": [
    "## Get Json"
   ]
  },
  {
   "cell_type": "code",
   "execution_count": 27,
   "metadata": {
    "collapsed": true
   },
   "outputs": [],
   "source": [
    "from pyspark.sql import Row\n",
    "import json"
   ]
  },
  {
   "cell_type": "code",
   "execution_count": 47,
   "metadata": {
    "collapsed": true,
    "scrolled": true
   },
   "outputs": [],
   "source": [
    "res = all_sdf.rdd.map(lambda row: ((row.asDict()['client_id']),\n",
    "                                   {k:v for k,v in row.asDict().items() if k!='client_id'})).groupByKey().map(lambda x: (x[0], json.dumps(list(x[1]), \n",
    "                                                                                                                                          ensure_ascii=False,\n",
    "                                                                                                                                          separators=(',', ':'))))"
   ]
  },
  {
   "cell_type": "code",
   "execution_count": 48,
   "metadata": {
    "collapsed": true
   },
   "outputs": [],
   "source": [
    "sdf = res.toDF(schema=StructType([StructField('client_id', StringType()),\n",
    "                                  StructField('products',  StringType())])) #columns=['client_id', 'products'])"
   ]
  },
  {
   "cell_type": "code",
   "execution_count": 50,
   "metadata": {
    "scrolled": true
   },
   "outputs": [
    {
     "data": {
      "text/plain": [
       "[Row(client_id='946b6b3322252e639bfd69925dbb245f58138d855505925b7d367cfbeb9875ae', products='[{\"i\":\"1-CZALTM\",\"r\":0.17,\"t\":\"OTR2\"},{\"i\":\"1-CZALTM\",\"r\":0.06,\"t\":\"ЦА-Т039ММБ-0120\"},{\"i\":\"1-CZALTM\",\"r\":0.26,\"t\":\"ЦА-Т039ММБ-0120\"},{\"i\":\"1-CZALTM\",\"r\":0.07,\"t\":\"ЦА-Т039ММБ-0120\"},{\"i\":\"1-CZALTM\",\"r\":0.04,\"t\":\"OTR2\"}]')]"
      ]
     },
     "execution_count": 50,
     "metadata": {},
     "output_type": "execute_result"
    }
   ],
   "source": [
    "sdf.take(1)"
   ]
  },
  {
   "cell_type": "code",
   "execution_count": 51,
   "metadata": {
    "collapsed": true
   },
   "outputs": [],
   "source": [
    "sdf = sdf.select([col.upper() for col in sdf.columns])"
   ]
  },
  {
   "cell_type": "markdown",
   "metadata": {},
   "source": [
    "##  Export via JDBC driver"
   ]
  },
  {
   "cell_type": "code",
   "execution_count": 2,
   "metadata": {
    "collapsed": true
   },
   "outputs": [],
   "source": [
    "ld=load.Loader(init_dsn=True, encoding='cp1251',  sep=',')\n",
    "db = load.OracleDB('', '', ld._get_dsn('')) \n",
    "db.connect()"
   ]
  },
  {
   "cell_type": "code",
   "execution_count": 53,
   "metadata": {},
   "outputs": [
    {
     "name": "stdout",
     "output_type": "stream",
     "text": [
      "dropping done\n"
     ]
    }
   ],
   "source": [
    "table_name = 'mmb_json_prods'\n",
    "\n",
    "sql = \"DROP TABLE {}\".format(table_name)\n",
    "db.cursor.execute(sql)\n",
    "db.connection.commit()\n",
    "print('dropping done')"
   ]
  },
  {
   "cell_type": "code",
   "execution_count": 55,
   "metadata": {
    "collapsed": true,
    "scrolled": true
   },
   "outputs": [],
   "source": [
    "table_name = 'productoffer_mmb_json'\n",
    "\n",
    "typesmap={}\n",
    "for column_name, column in sdf.dtypes:\n",
    "    if column == 'string':\n",
    "        if 'INN' in column_name.upper() or 'KPP' in column_name:\n",
    "            typesmap[column_name] = 'VARCHAR(20)'\n",
    "        elif 'PRODUCTS'.upper() in column_name:\n",
    "            typesmap[column_name] = 'VARCHAR(4000)'\n",
    "        else:\n",
    "            typesmap[column_name] = 'VARCHAR(200)'\n",
    "    elif column == 'int':\n",
    "        typesmap[column_name] = 'INTEGER'\n",
    "    elif column == 'bigint':\n",
    "        typesmap[column_name] = 'INTEGER'\n",
    "    elif column == 'timestamp':\n",
    "        typesmap[column_name] = 'TIMESTAMP'\n",
    "    elif column == 'float' or column == 'double':\n",
    "        typesmap[column_name] = 'FLOAT'\n",
    "    else:\n",
    "        None\n",
    "\n",
    "cols = ', '.join([col + ' ' + typesmap[col] for col in sdf.columns])\n",
    "\n",
    "db = OracleDB('iskra4')\n",
    "mode = 'append'\n",
    "sdf \\\n",
    "    .write \\\n",
    "    .format('jdbc') \\\n",
    "    .mode(mode) \\\n",
    "    .option('url', 'jdbc:oracle:thin:@//'+db.dsn) \\\n",
    "    .option('user', db.user) \\\n",
    "    .option('password', db.password) \\\n",
    "    .option('dbtable', table_name) \\\n",
    "    .option('createTableColumnTypes', cols)\\\n",
    "    .option('driver', 'oracle.jdbc.driver.OracleDriver') \\\n",
    "    .save()"
   ]
  },
  {
   "cell_type": "markdown",
   "metadata": {},
   "source": [
    "## Check saved table by fetching its rows via cx_Oracle driver"
   ]
  },
  {
   "cell_type": "code",
   "execution_count": 86,
   "metadata": {
    "collapsed": true
   },
   "outputs": [],
   "source": [
    "ld=load.Loader(init_dsn=True, encoding='cp1251',  sep=',')\n",
    "db = load.OracleDB('', '', ld._get_dsn('')) \n",
    "db.connect()"
   ]
  },
  {
   "cell_type": "code",
   "execution_count": 9,
   "metadata": {
    "collapsed": true,
    "scrolled": true
   },
   "outputs": [],
   "source": [
    "ISKRA_TABLE = 'productoffer_mmb_json'\n",
    "\n",
    "query = '''\n",
    "select /*+ parallel (8) */\n",
    "          *\n",
    "FROM {}\n",
    "where client_id is not Null\n",
    "'''.format(ISKRA_TABLE)\n",
    "df = pd.read_sql(query, con=db.connection)"
   ]
  },
  {
   "cell_type": "code",
   "execution_count": 7,
   "metadata": {
    "scrolled": true
   },
   "outputs": [
    {
     "data": {
      "text/html": [
       "<div>\n",
       "<style scoped>\n",
       "    .dataframe tbody tr th:only-of-type {\n",
       "        vertical-align: middle;\n",
       "    }\n",
       "\n",
       "    .dataframe tbody tr th {\n",
       "        vertical-align: top;\n",
       "    }\n",
       "\n",
       "    .dataframe thead th {\n",
       "        text-align: right;\n",
       "    }\n",
       "</style>\n",
       "<table border=\"1\" class=\"dataframe\">\n",
       "  <thead>\n",
       "    <tr style=\"text-align: right;\">\n",
       "      <th></th>\n",
       "      <th>CLIENT_ID</th>\n",
       "      <th>PRODUCTS</th>\n",
       "    </tr>\n",
       "  </thead>\n",
       "  <tbody>\n",
       "    <tr>\n",
       "      <th>0</th>\n",
       "      <td>9d17d514ec5d528789229fca75519e2c3b52b8dd0cdbe3...</td>\n",
       "      <td>[{\"i\":\"1-2COMTKH\",\"r\":0.4,\"t\":\"MRK\"},{\"i\":\"1-2...</td>\n",
       "    </tr>\n",
       "    <tr>\n",
       "      <th>1</th>\n",
       "      <td>7a389c0c806ef61bc63929410ee9dd4af7539d1b9f81e2...</td>\n",
       "      <td>[{\"i\":\"1-1YIGDFL\",\"r\":0.05,\"t\":\"OTR2\"},{\"i\":\"1...</td>\n",
       "    </tr>\n",
       "    <tr>\n",
       "      <th>2</th>\n",
       "      <td>dc6bd4935b259d16421bafe112b67dc6b3d76abeb81cf8...</td>\n",
       "      <td>[{\"i\":\"1-JZPYP4D\",\"r\":0.06,\"t\":\"OTR2\"},{\"i\":\"1...</td>\n",
       "    </tr>\n",
       "    <tr>\n",
       "      <th>3</th>\n",
       "      <td>236f10eed1dce4452a9dd9c68a19bd44bba04d28c4114f...</td>\n",
       "      <td>[{\"i\":\"1-TWCOITI\",\"r\":0.09,\"t\":\"OTR2\"}]</td>\n",
       "    </tr>\n",
       "    <tr>\n",
       "      <th>4</th>\n",
       "      <td>cebc092e45dba10869e8b8c19076995ae57eb632a09c20...</td>\n",
       "      <td>[{\"i\":\"1-PV5Q99N\",\"r\":0.09,\"t\":\"ЦА-КРЕДСМАРТ-0...</td>\n",
       "    </tr>\n",
       "    <tr>\n",
       "      <th>5</th>\n",
       "      <td>b963e304f4660b6e869eda153683bd53d6885eb6a46195...</td>\n",
       "      <td>[{\"i\":\"1-287PXE6B\",\"r\":0.05,\"t\":\"OTR2\"},{\"i\":\"...</td>\n",
       "    </tr>\n",
       "    <tr>\n",
       "      <th>6</th>\n",
       "      <td>3b0a860e7e8e9d3333c5113a6d33d084b6b32efdadf365...</td>\n",
       "      <td>[{\"i\":\"1-ZKLZZNC\",\"r\":0.07,\"t\":\"OTR2\"},{\"i\":\"1...</td>\n",
       "    </tr>\n",
       "    <tr>\n",
       "      <th>7</th>\n",
       "      <td>3938adff80d20aef6e3c42f4d468c59f420942eed30b73...</td>\n",
       "      <td>[{\"i\":\"1-55F5PH7\",\"r\":0.09,\"t\":\"OTR2\"},{\"i\":\"1...</td>\n",
       "    </tr>\n",
       "    <tr>\n",
       "      <th>8</th>\n",
       "      <td>42e7d51affa7d0efcd290552c70d563dbd765bbda4407e...</td>\n",
       "      <td>[{\"i\":\"1-2SSEF6H\",\"r\":0.09,\"t\":\"MRK\"},{\"i\":\"1-...</td>\n",
       "    </tr>\n",
       "    <tr>\n",
       "      <th>9</th>\n",
       "      <td>222bcd957ddea4021a37a9bee81bc7f87444fafab13507...</td>\n",
       "      <td>[{\"i\":\"1-OBHF29U\",\"r\":0.23,\"t\":\"OTR2\"},{\"i\":\"1...</td>\n",
       "    </tr>\n",
       "    <tr>\n",
       "      <th>10</th>\n",
       "      <td>a6981e0c32ba1c1ab4f2c8106ef4e03cc82cfc100a6de8...</td>\n",
       "      <td>[{\"i\":\"1-LS0R2LY\",\"r\":0.23,\"t\":\"OTR2\"},{\"i\":\"1...</td>\n",
       "    </tr>\n",
       "    <tr>\n",
       "      <th>11</th>\n",
       "      <td>4639cf29a24f1ed3f5da9f4577d446c6af9b30338ffb6f...</td>\n",
       "      <td>[{\"i\":\"1-3C1EMHA\",\"r\":0.05,\"t\":\"OTR2\"},{\"i\":\"1...</td>\n",
       "    </tr>\n",
       "    <tr>\n",
       "      <th>12</th>\n",
       "      <td>5f7ebfa9f304e3dae4bfe556ab40449ff3a48887c8cf1a...</td>\n",
       "      <td>[{\"i\":\"1-1AD5IW2V\",\"r\":0.06,\"t\":\"OTR2\"},{\"i\":\"...</td>\n",
       "    </tr>\n",
       "    <tr>\n",
       "      <th>13</th>\n",
       "      <td>788c435ecb714cd86eab86b1fac77aeaa405995a636752...</td>\n",
       "      <td>[{\"i\":\"1-FDDG68T\",\"r\":0.03,\"t\":\"T146\"}]</td>\n",
       "    </tr>\n",
       "    <tr>\n",
       "      <th>14</th>\n",
       "      <td>d784ba883aa810295e611e5822aca38500afc5e19c761b...</td>\n",
       "      <td>[{\"i\":\"1-EOJ9VI\",\"r\":0.09,\"t\":\"OTR2\"},{\"i\":\"1-...</td>\n",
       "    </tr>\n",
       "  </tbody>\n",
       "</table>\n",
       "</div>"
      ],
      "text/plain": [
       "                                            CLIENT_ID  \\\n",
       "0   9d17d514ec5d528789229fca75519e2c3b52b8dd0cdbe3...   \n",
       "1   7a389c0c806ef61bc63929410ee9dd4af7539d1b9f81e2...   \n",
       "2   dc6bd4935b259d16421bafe112b67dc6b3d76abeb81cf8...   \n",
       "3   236f10eed1dce4452a9dd9c68a19bd44bba04d28c4114f...   \n",
       "4   cebc092e45dba10869e8b8c19076995ae57eb632a09c20...   \n",
       "5   b963e304f4660b6e869eda153683bd53d6885eb6a46195...   \n",
       "6   3b0a860e7e8e9d3333c5113a6d33d084b6b32efdadf365...   \n",
       "7   3938adff80d20aef6e3c42f4d468c59f420942eed30b73...   \n",
       "8   42e7d51affa7d0efcd290552c70d563dbd765bbda4407e...   \n",
       "9   222bcd957ddea4021a37a9bee81bc7f87444fafab13507...   \n",
       "10  a6981e0c32ba1c1ab4f2c8106ef4e03cc82cfc100a6de8...   \n",
       "11  4639cf29a24f1ed3f5da9f4577d446c6af9b30338ffb6f...   \n",
       "12  5f7ebfa9f304e3dae4bfe556ab40449ff3a48887c8cf1a...   \n",
       "13  788c435ecb714cd86eab86b1fac77aeaa405995a636752...   \n",
       "14  d784ba883aa810295e611e5822aca38500afc5e19c761b...   \n",
       "\n",
       "                                             PRODUCTS  \n",
       "0   [{\"i\":\"1-2COMTKH\",\"r\":0.4,\"t\":\"MRK\"},{\"i\":\"1-2...  \n",
       "1   [{\"i\":\"1-1YIGDFL\",\"r\":0.05,\"t\":\"OTR2\"},{\"i\":\"1...  \n",
       "2   [{\"i\":\"1-JZPYP4D\",\"r\":0.06,\"t\":\"OTR2\"},{\"i\":\"1...  \n",
       "3             [{\"i\":\"1-TWCOITI\",\"r\":0.09,\"t\":\"OTR2\"}]  \n",
       "4   [{\"i\":\"1-PV5Q99N\",\"r\":0.09,\"t\":\"ЦА-КРЕДСМАРТ-0...  \n",
       "5   [{\"i\":\"1-287PXE6B\",\"r\":0.05,\"t\":\"OTR2\"},{\"i\":\"...  \n",
       "6   [{\"i\":\"1-ZKLZZNC\",\"r\":0.07,\"t\":\"OTR2\"},{\"i\":\"1...  \n",
       "7   [{\"i\":\"1-55F5PH7\",\"r\":0.09,\"t\":\"OTR2\"},{\"i\":\"1...  \n",
       "8   [{\"i\":\"1-2SSEF6H\",\"r\":0.09,\"t\":\"MRK\"},{\"i\":\"1-...  \n",
       "9   [{\"i\":\"1-OBHF29U\",\"r\":0.23,\"t\":\"OTR2\"},{\"i\":\"1...  \n",
       "10  [{\"i\":\"1-LS0R2LY\",\"r\":0.23,\"t\":\"OTR2\"},{\"i\":\"1...  \n",
       "11  [{\"i\":\"1-3C1EMHA\",\"r\":0.05,\"t\":\"OTR2\"},{\"i\":\"1...  \n",
       "12  [{\"i\":\"1-1AD5IW2V\",\"r\":0.06,\"t\":\"OTR2\"},{\"i\":\"...  \n",
       "13            [{\"i\":\"1-FDDG68T\",\"r\":0.03,\"t\":\"T146\"}]  \n",
       "14  [{\"i\":\"1-EOJ9VI\",\"r\":0.09,\"t\":\"OTR2\"},{\"i\":\"1-...  "
      ]
     },
     "execution_count": 7,
     "metadata": {},
     "output_type": "execute_result"
    }
   ],
   "source": [
    "df.head(15)"
   ]
  },
  {
   "cell_type": "code",
   "execution_count": 11,
   "metadata": {
    "collapsed": true
   },
   "outputs": [],
   "source": [
    "db.close()"
   ]
  },
  {
   "cell_type": "markdown",
   "metadata": {},
   "source": [
    "## Sampling a part from Dbs"
   ]
  },
  {
   "cell_type": "code",
   "execution_count": null,
   "metadata": {
    "collapsed": true
   },
   "outputs": [],
   "source": [
    "sdf = sp.get_oracle(db, table_name)"
   ]
  },
  {
   "cell_type": "code",
   "execution_count": 56,
   "metadata": {
    "collapsed": true
   },
   "outputs": [],
   "source": [
    "part = sdf.limit(15000).toPandas()"
   ]
  },
  {
   "cell_type": "code",
   "execution_count": 59,
   "metadata": {
    "collapsed": true
   },
   "outputs": [],
   "source": [
    "from csv import  QUOTE_MINIMAL, QUOTE_ALL"
   ]
  },
  {
   "cell_type": "code",
   "execution_count": 60,
   "metadata": {
    "collapsed": true,
    "scrolled": true
   },
   "outputs": [],
   "source": [
    "part.to_csv('./productoffer_mmb_json.csv', \n",
    "            index=False, \n",
    "            encoding='utf-8', \n",
    "            float_format='%.2f',\n",
    "            sep=',', \n",
    "            doublequote=True,\n",
    "            quotechar='\\\"',\n",
    "            quoting=QUOTE_MINIMAL)"
   ]
  },
  {
   "cell_type": "markdown",
   "metadata": {},
   "source": [
    "## Export to csv in HDFS"
   ]
  },
  {
   "cell_type": "code",
   "execution_count": null,
   "metadata": {
    "collapsed": true
   },
   "outputs": [],
   "source": [
    "path_to_hdfs=os.path.join('/user', os.environ.get(\"USER\"), 'csv')\n",
    "sdf.coalesce(5).write \\\n",
    "                .format('com.databricks.spark.csv') \\\n",
    "                .mode('overwrite') \\\n",
    "                .option('sep', ',') \\\n",
    "                .option('header', True) \\\n",
    "                .option(\"quote\", '\"') \\\n",
    "                .save(path_to_hdfs)"
   ]
  },
  {
   "cell_type": "code",
   "execution_count": null,
   "metadata": {
    "collapsed": true
   },
   "outputs": [],
   "source": [
    "_sdf = hive.read.format(\"com.databricks.spark.csv\") \\\n",
    "                .option('header', 'true') \\\n",
    "                .option('delimiter', ',') \\\n",
    "                .option('decimal', '.') \\\n",
    "                .option('encoding', 'utf-8') \\\n",
    "                .load(path_to_hdfs)"
   ]
  },
  {
   "cell_type": "code",
   "execution_count": null,
   "metadata": {
    "collapsed": true
   },
   "outputs": [],
   "source": []
  }
 ],
 "metadata": {
  "kernelspec": {
   "display_name": "Python 3",
   "language": "python",
   "name": "python3"
  },
  "language_info": {
   "codemirror_mode": {
    "name": "ipython",
    "version": 3
   },
   "file_extension": ".py",
   "mimetype": "text/x-python",
   "name": "python",
   "nbconvert_exporter": "python",
   "pygments_lexer": "ipython3",
   "version": "3.7.4"
  }
 },
 "nbformat": 4,
 "nbformat_minor": 2
}
