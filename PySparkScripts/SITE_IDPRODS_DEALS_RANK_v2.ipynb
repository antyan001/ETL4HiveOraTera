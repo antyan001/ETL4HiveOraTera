{
 "cells": [
  {
   "cell_type": "code",
   "execution_count": null,
   "metadata": {},
   "outputs": [],
   "source": [
    "import os\n",
    "import sys\n",
    "curruser = os.environ.get('USER')\n",
    "\n",
    "_labdata = os.environ.get(\"LABDATA_PYSPARK\")\n",
    "sys.path.insert(0, _labdata)\n",
    "\n",
    "if curruser in os.listdir(\"/opt/workspace/\"):\n",
    "    sys.path.insert(0, '/opt/workspace/{user}/notebooks/support_library/'.format(user=curruser))\n",
    "    sys.path.insert(0, '/opt/workspace/{user}/libs/python3.5/site-packages/'.format(user=curruser))\n",
    "#     sys.path.insert(0, '/opt/workspace/{user}/notebooks/labdata/'.format(user=curruser))\n",
    "else:\n",
    "    sys.path.insert(0, '/home/{}/notebooks/support_library/'.format(curruser))\n",
    "    sys.path.insert(0, '/home/{}/python35-libs/lib/python3.5/site-packages/'.format(curruser))\n",
    "    # sys.path.insert(0, '/home/{}/notebooks/labdata/lib/'.format(curruser))\n",
    "\n",
    "#import tendo.singleton\n",
    "import warnings\n",
    "warnings.filterwarnings('ignore')\n",
    "\n",
    "import joblib\n",
    "import json\n",
    "from joblib import Parallel, delayed\n",
    "\n",
    "from time import sleep\n",
    "from itertools import islice\n",
    "from multiprocessing import Pool, Process, JoinableQueue\n",
    "from multiprocessing.pool import ThreadPool\n",
    "from functools import partial\n",
    "import subprocess\n",
    "from threading import Thread\n",
    "import time\n",
    "from datetime import datetime as dt\n",
    "\n",
    "from transliterate import translit\n",
    "\n",
    "from lib.spark_connector import SparkConnector\n",
    "from lib.sparkdb_loader import *\n",
    "from lib.connector import OracleDB\n",
    "import pyspark\n",
    "from pyspark import SparkContext, SparkConf, HiveContext\n",
    "from pyspark.sql.window import Window\n",
    "from pyspark.sql.functions import *\n",
    "import pyspark.sql.functions as f\n",
    "from pyspark.sql.types import *\n",
    "from pyspark.sql.dataframe import DataFrame\n",
    "\n",
    "import re\n",
    "import pandas as pd\n",
    "import numpy as np\n",
    "from tqdm._tqdm_notebook import tqdm_notebook\n",
    "from pathlib import Path\n",
    "import shutil\n",
    "import loader as load\n",
    "from collections import ChainMap\n",
    "\n",
    "from lib.config import *\n",
    "from lib.tools import *\n",
    "\n",
    "# sing = tendo.singleton.SingleInstance()\n",
    "\n",
    "# os.chdir('/opt/workspace/ektov1-av_ca-sbrf-ru/notebooks/Clickstream_Analytics/AutoUpdate/')\n",
    "# os.chdir('/opt/workspace/{}/notebooks/clickstream/AutoUpdate/'.format(curruser))\n",
    "\n",
    "def show(self, n=10):\n",
    "    return self.limit(n).toPandas()\n",
    "\n",
    "def typed_udf(return_type):\n",
    "    '''Make a UDF decorator with the given return type'''\n",
    "\n",
    "    def _typed_udf_wrapper(func):\n",
    "        return f.udf(func,return_type)\n",
    "\n",
    "    return _typed_udf_wrapper\n",
    "\n",
    "pyspark.sql.dataframe.DataFrame.show = show\n",
    "\n",
    "def print_and_log(message: str):\n",
    "    print(message)\n",
    "    logger.info(message)\n",
    "    return None\n"
   ]
  },
  {
   "cell_type": "code",
   "execution_count": null,
   "metadata": {},
   "outputs": [],
   "source": [
    "def map_product_group(p_crm_prod, b_rdd, cols):\n",
    "\n",
    "    import pandas as pd\n",
    "\n",
    "    if (p_crm_prod is not None) and (p_crm_prod not in ('', ' ')):\n",
    "        v_crm_prod = p_crm_prod.upper()\n",
    "        if v_crm_prod in ('ЭКСПРЕСС ОВЕРДРАФТ','ОВЕРДРАФТНОЕ КРЕДИТОВАНИЕ',\n",
    "                          'ОБОРОТНОЕ КРЕДИТОВАНИЕ', 'КРЕДИТ'):\n",
    "            v_crm_prod =  'КРЕДИТОВАНИЕ'\n",
    "        elif v_crm_prod in ('ДИСТАНЦИОННОЕ БАНКОВСКОЕ ОБСЛУЖИВАНИЕ'):\n",
    "            v_crm_prod =  'ДИСТАНЦИОННОЕ ОБСЛУЖИВАНИЕ';\n",
    "        elif v_crm_prod in ('ОТКРЫТИЕ СЧЕТА В ВАЛЮТЕ','ОТКРЫТИЕ СЧЕТА В РУБЛЯХ',\n",
    "                            'СПЕЦСЧЕТА','РКО','РАСЧЕТНО-КАССОВОЕ ОБСЛУЖИВАНИЕ'):\n",
    "            v_crm_prod = 'РКО'\n",
    "        elif v_crm_prod in ('ПРОДУКТЫ ИНКАССАЦИИ'):\n",
    "            v_crm_prod =  'ИНКАССАЦИЯ'\n",
    "        elif v_crm_prod in ('НЕСНИЖАЕМЫЙ ОСТАТОК'):\n",
    "            v_crm_prod = 'ПРОДУКТЫ ПРИВЛЕЧЕНИЯ СРЕДСТВ';\n",
    "        elif 'ПАКЕТ УСЛУГ' in v_crm_prod:\n",
    "            v_crm_prod = 'ПАКЕТЫ УСЛУГ'\n",
    "        elif v_crm_prod in ('ВЭД И ВАЛЮТНЫЙ КОНТРОЛЬ'):\n",
    "            v_crm_prod = 'ВАЛЮТНЫЙ КОНТРОЛЬ'\n",
    "        elif v_crm_prod in ('АККРЕДИТИВЫ'):\n",
    "            v_crm_prod = 'ДОКУМЕНТАРНЫЕ ОПЕРАЦИИ'\n",
    "        elif v_crm_prod in ('КОРПОРАТИВНАЯ КАРТА'):\n",
    "            v_crm_prod = 'БИЗНЕС-КАРТА'\n",
    "        elif v_crm_prod in ('БИЗНЕС-КАРТА'):\n",
    "            v_crm_prod = 'БИЗНЕС-КАРТА'\n",
    "        elif v_crm_prod in ('ДЕПОЗИТЫ (СРОЧНЫЕ)'):\n",
    "            v_crm_prod = 'ПРОДУКТЫ ПРИВЛЕЧЕНИЯ СРЕДСТВ'\n",
    "        elif v_crm_prod in ('АКТИВИЗАЦИЯ РКО'):\n",
    "            v_crm_prod = None\n",
    "\n",
    "        dct = {col: [b_rdd.value[i][col] for i in range(len(b_rdd.value))] for col in cols}\n",
    "        df = pd.DataFrame.from_dict(dct, orient='columns')\n",
    "        if v_crm_prod is not None:\n",
    "            try:\n",
    "                v_prod_group_trg = df.loc[df['P_NAME'].str.contains(v_crm_prod),'P_GROUP'].tolist()[0]\n",
    "                return v_prod_group_trg.lower()\n",
    "            except:\n",
    "                v_prod_group_trg = v_crm_prod\n",
    "                return v_prod_group_trg.lower()\n",
    "        else:\n",
    "            return None\n",
    "    else:\n",
    "        return None\n",
    "\n",
    "def udf_map_product_group(b_rdd, cols):\n",
    "    return f.udf(lambda p: map_product_group(p, b_rdd, cols))\n"
   ]
  },
  {
   "cell_type": "code",
   "execution_count": null,
   "metadata": {},
   "outputs": [],
   "source": [
    "CONN_SCHEMA='sbx_team_digitcamp'"
   ]
  },
  {
   "cell_type": "code",
   "execution_count": null,
   "metadata": {
    "scrolled": true
   },
   "outputs": [],
   "source": [
    "%%time\n",
    "sp = spark(schema=CONN_SCHEMA,\n",
    "           dynamic_alloc=False,\n",
    "           numofinstances=10,\n",
    "           numofcores=8,\n",
    "           executor_memory='40g',\n",
    "           driver_memory='40g',\n",
    "           kerberos_auth=True,\n",
    "           process_label=\"SAS_ANALYT_\"\n",
    "           )\n",
    "\n",
    "hive = sp.sql\n",
    "print(sp.sc.version)"
   ]
  },
  {
   "cell_type": "code",
   "execution_count": null,
   "metadata": {},
   "outputs": [],
   "source": [
    "ld=load.Loader(init_dsn=True, encoding='cp1251',  sep=',')\n",
    "db = load.OracleDB('', '', ld._get_dsn('')) \n",
    "db.connect()\n",
    "curs = db.cursor"
   ]
  },
  {
   "cell_type": "code",
   "execution_count": null,
   "metadata": {},
   "outputs": [],
   "source": [
    "table_name = 'mw_atb_segmen_prod_group'\n",
    "query = '''\n",
    "select /*+ parallel (12) */\n",
    "          *\n",
    "FROM {}\n",
    "--where rownum < 1000\n",
    "'''.format(table_name)\n",
    "\n",
    "df = pd.read_sql(query, con=db.connection)"
   ]
  },
  {
   "cell_type": "code",
   "execution_count": null,
   "metadata": {
    "scrolled": false
   },
   "outputs": [],
   "source": [
    "df.loc[df['P_NAME'].str.contains('ОВЕРДР'),['P_NAME', 'P_GROUP']]"
   ]
  },
  {
   "cell_type": "code",
   "execution_count": null,
   "metadata": {
    "scrolled": true
   },
   "outputs": [],
   "source": [
    "set(df['P_GROUP'].values.tolist())"
   ]
  },
  {
   "cell_type": "code",
   "execution_count": null,
   "metadata": {},
   "outputs": [],
   "source": [
    "len(set(df['P_GROUP'].values.tolist()))"
   ]
  },
  {
   "cell_type": "code",
   "execution_count": null,
   "metadata": {},
   "outputs": [],
   "source": [
    "mw_prod_group = hive.sql('''select * from {}.mw_atb_segmen_prod_group'''.format(CONN_SCHEMA))\n",
    "df = mw_prod_group.take(sdf.count())\n",
    "b_rdd = sp.sc.broadcast(df)\n",
    "cols = mw_prod_group.columns"
   ]
  },
  {
   "cell_type": "code",
   "execution_count": null,
   "metadata": {},
   "outputs": [],
   "source": [
    "mw_prod_group.show()"
   ]
  },
  {
   "cell_type": "code",
   "execution_count": null,
   "metadata": {
    "scrolled": true
   },
   "outputs": [],
   "source": [
    "mw_prod_group.filter(\"lower(P_NAME) like '%договор%'\").collect()"
   ]
  },
  {
   "cell_type": "code",
   "execution_count": null,
   "metadata": {},
   "outputs": [],
   "source": [
    "# conn_schema = 'sbx_team_digitcamp'\n",
    "table_name = 'MA_CMDM_MA_AGREEMENT' #'MA_CMDM_MA_DEAL_NEW'"
   ]
  },
  {
   "cell_type": "code",
   "execution_count": null,
   "metadata": {},
   "outputs": [],
   "source": [
    "agrmnt = hive.sql('''select distinct FIN_AGRMNT_TYPE_DESC from sbx_team_digitcamp.MA_CMDM_MA_AGREEMENT''').collect()"
   ]
  },
  {
   "cell_type": "code",
   "execution_count": null,
   "metadata": {},
   "outputs": [],
   "source": [
    "fin_agrmnt_type = [col['FIN_AGRMNT_TYPE_DESC'] for col in agrmnt]\n",
    "fin_agrmnt_type"
   ]
  },
  {
   "cell_type": "markdown",
   "metadata": {},
   "source": [
    "## Analyse U_BASE_DEAL"
   ]
  },
  {
   "cell_type": "code",
   "execution_count": null,
   "metadata": {},
   "outputs": [],
   "source": [
    "u_base_deals = hive.table(\"cib_custom_cib_ml360.u_base_deals\")"
   ]
  },
  {
   "cell_type": "code",
   "execution_count": null,
   "metadata": {},
   "outputs": [],
   "source": [
    "udeals_innprod_uniq = u_base_deals.select(\"inn\", \"product_id\").distinct().collect()\n",
    "udeal_dct = [row.asDict() for row in udeals_innprod_uniq]\n",
    "udeal_df = pd.DataFrame.from_dict(udeal_dct)"
   ]
  },
  {
   "cell_type": "code",
   "execution_count": null,
   "metadata": {},
   "outputs": [],
   "source": [
    "udeal_df.head()"
   ]
  },
  {
   "cell_type": "code",
   "execution_count": null,
   "metadata": {},
   "outputs": [],
   "source": []
  },
  {
   "cell_type": "code",
   "execution_count": null,
   "metadata": {},
   "outputs": [],
   "source": [
    "gr_cols = \\\n",
    "[\"inn\", \n",
    " \"product_id\"\n",
    "]\n",
    "\n",
    "udeals_gr = \\\n",
    "u_base_deals.groupBy(gr_cols).agg(f.countDistinct(\"product_id\").alias('cnt'))\\\n",
    "                    .select(gr_cols+['cnt']).orderBy(f.col('cnt').desc()).toPandas()"
   ]
  },
  {
   "cell_type": "code",
   "execution_count": null,
   "metadata": {
    "scrolled": true
   },
   "outputs": [],
   "source": [
    "udeals_gr.sort_index(ascending=False)"
   ]
  },
  {
   "cell_type": "markdown",
   "metadata": {},
   "source": [
    "## MA_CMDM_MA_DEAL_NEW"
   ]
  },
  {
   "cell_type": "code",
   "execution_count": null,
   "metadata": {
    "scrolled": true
   },
   "outputs": [],
   "source": [
    "conn_schema = 'sbx_team_digitcamp'\n",
    "table_name = 'MA_CMDM_MA_DEAL_NEW'\n",
    "\n",
    "startdt = dt.now()\n",
    "\n",
    "#/////////////////////////////////////////////////////////////////////////////////////\n",
    "descr = hive.sql(\"describe extended {}.{}\".format(conn_schema,table_name)).collect()\n",
    "hasPartitioned = len([item.asDict() for item in descr if item.asDict()['col_name'] =='# Partition Information']) > 0\n",
    "if hasPartitioned:\n",
    "    try:\n",
    "        parts = hive.sql(\"show partitions {}.{}\".format(conn_schema,table_name)).collect()\n",
    "        max_part = sorted(parts,reverse=True)[0]['partition']\n",
    "        extract_date=re.compile(\"\\d{4}\\-\\d{2}\\-\\d{2}\")\n",
    "        ext = extract_date.search(max_part)\n",
    "        try:\n",
    "            max_trunc_dt = ext.group(0)\n",
    "        except:\n",
    "            max_trunc_dt = None\n",
    "    except (AnalysisException, IndexError):\n",
    "        max_trunc_dt = None\n",
    "else:\n",
    "    max_trunc_dt = None\n",
    "#/////////////////////////////////////////////////////////////////////////////////////\n",
    "\n",
    "if max_trunc_dt is not None:\n",
    "  sql = '''select max(create_dt) from {}.{} where creation_month = '{}' '''.format(conn_schema,table_name,max_trunc_dt)\n",
    "else:\n",
    "  sql = '''select max(create_dt) from {}.{}'''.format(conn_schema,table_name)\n",
    "\n",
    "max_dt = hive.sql(sql).collect()\n",
    "max_dt = max_dt[0]['max(create_dt)']\n",
    "max_resp_dt_str = dt.strftime(max_dt, format='%Y-%m-%d %H:%M:%S.%f')\n",
    "\n",
    "enddt = dt.now() - startdt\n",
    "\n",
    "_str = max_resp_dt_str #json.dumps(_dct, ensure_ascii=False, indent=3)\n",
    "\n",
    "print(\"total calculation time: {}\".format(enddt.total_seconds()))\n",
    "print(\"max(create_dt): {}\".format(_str))"
   ]
  },
  {
   "cell_type": "code",
   "execution_count": null,
   "metadata": {},
   "outputs": [],
   "source": [
    "query = \\\n",
    "'''\n",
    "select \n",
    "        distinct\n",
    "        --inn, \n",
    "        --create_dt,\n",
    "        --complete_dt,\n",
    "        host_prod_id\n",
    "        --close_reason_type_name,\n",
    "        --appl_stage_name,\n",
    "        --appl_type_name,\n",
    "        --channel_mmb_ms,\n",
    "        --channel_mmb_ckr,\n",
    "        --channel_mmb_mkk,\n",
    "        --channel_dzo\n",
    "        --creation_month\n",
    "from sbx_team_digitcamp.MA_CMDM_MA_DEAL_NEW\n",
    "'''"
   ]
  },
  {
   "cell_type": "code",
   "execution_count": null,
   "metadata": {
    "scrolled": false
   },
   "outputs": [],
   "source": [
    "%%time\n",
    "macmdm_deal_prod_uniq = hive.sql(query).toPandas()\n",
    "# macmdm_deal_innprod_uniq = macmdm_deal.select(\"inn\", \"host_prod_id\").distinct().collect()"
   ]
  },
  {
   "cell_type": "code",
   "execution_count": null,
   "metadata": {},
   "outputs": [],
   "source": [
    "sp.sc.stop()"
   ]
  },
  {
   "cell_type": "code",
   "execution_count": null,
   "metadata": {},
   "outputs": [],
   "source": [
    "macmdm_deal_prod_uniq = macmdm_deal_prod_uniq.fillna('-1')"
   ]
  },
  {
   "cell_type": "code",
   "execution_count": null,
   "metadata": {},
   "outputs": [],
   "source": [
    "macmdm_deal_prod_uniq.host_prod_id.value_counts()"
   ]
  },
  {
   "cell_type": "code",
   "execution_count": null,
   "metadata": {},
   "outputs": [],
   "source": [
    "prod_cnt = \\\n",
    "macmdm_deal_prod_uniq.groupby('host_prod_id')\\\n",
    "                        .agg(cnt=('host_prod_id', 'count')).sort_values('cnt', ascending=False)"
   ]
  },
  {
   "cell_type": "code",
   "execution_count": null,
   "metadata": {
    "scrolled": true
   },
   "outputs": [],
   "source": [
    "prod_cnt.head(20)"
   ]
  },
  {
   "cell_type": "code",
   "execution_count": null,
   "metadata": {
    "scrolled": true
   },
   "outputs": [],
   "source": [
    "# madeal_dct = [row.asDict() for row in macmdm_deal_innprod_uniq]\n",
    "# madeal_df = pd.DataFrame.from_dict(madeal_dct)"
   ]
  },
  {
   "cell_type": "code",
   "execution_count": null,
   "metadata": {
    "scrolled": true
   },
   "outputs": [],
   "source": [
    "# madeal_df.rename(columns={'host_prod_id': 'product_id'}, inplace=True)"
   ]
  },
  {
   "cell_type": "code",
   "execution_count": null,
   "metadata": {},
   "outputs": [],
   "source": [
    "# madeal_df.describe()"
   ]
  },
  {
   "cell_type": "code",
   "execution_count": null,
   "metadata": {},
   "outputs": [],
   "source": [
    "udeal_df.describe()"
   ]
  },
  {
   "cell_type": "code",
   "execution_count": null,
   "metadata": {
    "scrolled": true
   },
   "outputs": [],
   "source": [
    "madeal_df['label'] = 'ma_deal'\n",
    "out = udeal_df.merge(madeal_df, on=['inn', 'product_id'], suffixes=('_madeal', '_udeal'), how='outer')"
   ]
  },
  {
   "cell_type": "code",
   "execution_count": null,
   "metadata": {},
   "outputs": [],
   "source": [
    "out = out.drop_duplicates()"
   ]
  },
  {
   "cell_type": "code",
   "execution_count": null,
   "metadata": {},
   "outputs": [],
   "source": [
    "out.info()"
   ]
  },
  {
   "cell_type": "code",
   "execution_count": null,
   "metadata": {
    "scrolled": true
   },
   "outputs": [],
   "source": [
    "sum(out.label.isnull())"
   ]
  },
  {
   "cell_type": "code",
   "execution_count": null,
   "metadata": {},
   "outputs": [],
   "source": [
    "out.describe()"
   ]
  },
  {
   "cell_type": "code",
   "execution_count": null,
   "metadata": {},
   "outputs": [],
   "source": [
    "len(set(madeal_df.inn.values) - set(udeal_df.inn.values))"
   ]
  },
  {
   "cell_type": "code",
   "execution_count": null,
   "metadata": {},
   "outputs": [],
   "source": [
    "len(set(madeal_df.product_id.values) - set(udeal_df.product_id.values))"
   ]
  },
  {
   "cell_type": "markdown",
   "metadata": {},
   "source": [
    "## Join Deals with Agreements and Prod Dict"
   ]
  },
  {
   "cell_type": "code",
   "execution_count": null,
   "metadata": {},
   "outputs": [],
   "source": [
    "sql = \\\n",
    "'''\n",
    "with deals as (\n",
    "select \n",
    "        inn, \n",
    "        create_dt,\n",
    "        complete_dt,\n",
    "        host_prod_id,\n",
    "        close_reason_type_name,\n",
    "        appl_stage_name,\n",
    "        --appl_type_name,\n",
    "        --channel_mmb_ms,\n",
    "        --channel_mmb_ckr,\n",
    "        --channel_mmb_mkk,\n",
    "        --channel_dzo\n",
    "        creation_month\n",
    "from sbx_team_digitcamp.MA_CMDM_MA_DEAL_NEW\n",
    "where (create_dt is not Null) and\n",
    "      (appl_stage_name like '%Закрыта/Заключена%') and\n",
    "      (close_reason_type_name is Null)\n",
    "),\n",
    "\n",
    "prods as (\n",
    "select \n",
    "       CRM_PRODUCT_ID, \n",
    "       PRODUCT_CRM_NM, \n",
    "       PRODUCT_CD_MMB,\n",
    "       PRODUCT_FULL_NM,\n",
    "       PRODUCT_SUBGROUP,\n",
    "       PRODUCT_GROUP\n",
    "       --CRM_ACTIVE_FLG\n",
    "from sbx_team_digitcamp.ma_dict_v_product_dict\n",
    "),\n",
    "\n",
    "deals_prods as (\n",
    "select \n",
    "    deals.inn,\n",
    "    deals.create_dt,\n",
    "    deals.complete_dt,\n",
    "    deals.appl_stage_name,\n",
    "    prods.PRODUCT_CRM_NM,\n",
    "    prods.CRM_PRODUCT_ID,\n",
    "    prods.PRODUCT_SUBGROUP\n",
    "from deals\n",
    "left join prods on deals.host_prod_id = prods.CRM_PRODUCT_ID\n",
    "where \n",
    "(prods.PRODUCT_SUBGROUP = \"Бизнес-карта\") and \n",
    "(timestamp(deals.creation_month) >= timestamp('2021-01-01'))\n",
    "),\n",
    "\n",
    "agrmnts as(\n",
    "select \n",
    "    AGREEMENT_ID,\n",
    "    INN,\n",
    "    ACCT_SIGNED_DT,\n",
    "    ACCT_CLOSE_DT,\n",
    "    FIN_AGRMNT_TYPE_DESC\n",
    "from sbx_team_digitcamp.MA_CMDM_MA_AGREEMENT\n",
    "where (FIN_AGRMNT_TYPE_DESC = 'Бизнес-карта') and\n",
    "      (acct_signed_str is not Null) and\n",
    "      (timestamp(acct_signed_str) between timestamp('2021-01-01') and timestamp('2022-01-01'))\n",
    ")\n",
    "\n",
    "select \n",
    "    dls.inn,\n",
    "    dls.create_dt,\n",
    "    dls.complete_dt,\n",
    "    agrmnts.ACCT_SIGNED_DT,\n",
    "    agrmnts.ACCT_CLOSE_DT,\n",
    "    agrmnts.AGREEMENT_ID,\n",
    "    dls.appl_stage_name,\n",
    "    dls.PRODUCT_CRM_NM,\n",
    "    dls.CRM_PRODUCT_ID,\n",
    "    dls.PRODUCT_SUBGROUP \n",
    "from deals_prods dls\n",
    "left join agrmnts on (dls.inn = agrmnts.INN) and\n",
    "                     (abs(unix_timestamp(agrmnts.ACCT_SIGNED_DT) - \n",
    "                          unix_timestamp(dls.create_dt)) <= 30 * 24 * 60 * 60\n",
    "                     ) and\n",
    "                     (agrmnts.ACCT_SIGNED_DT < dls.create_dt)\n",
    "where agrmnts.ACCT_SIGNED_DT is not Null\n",
    "'''"
   ]
  },
  {
   "cell_type": "code",
   "execution_count": null,
   "metadata": {
    "scrolled": true
   },
   "outputs": [],
   "source": [
    "hive.sql(sql).show(20)"
   ]
  },
  {
   "cell_type": "code",
   "execution_count": null,
   "metadata": {},
   "outputs": [],
   "source": [
    "res = hive.sql(sql)"
   ]
  },
  {
   "cell_type": "code",
   "execution_count": null,
   "metadata": {},
   "outputs": [],
   "source": [
    "res.drop_duplicates().select('inn').distinct().count()"
   ]
  },
  {
   "cell_type": "code",
   "execution_count": null,
   "metadata": {
    "scrolled": true
   },
   "outputs": [],
   "source": [
    "prod_dict = hive.sql('''select CRM_PRODUCT_ID, \n",
    "                               PRODUCT_CRM_NM, \n",
    "                               PRODUCT_CD_MMB,\n",
    "                               PRODUCT_FULL_NM,\n",
    "                               PRODUCT_SUBGROUP,\n",
    "                               PRODUCT_GROUP,\n",
    "                               CRM_ACTIVE_FLG\n",
    "                        from sbx_team_digitcamp.ma_dict_v_product_dict\n",
    "                     ''')"
   ]
  },
  {
   "cell_type": "code",
   "execution_count": null,
   "metadata": {},
   "outputs": [],
   "source": [
    "prod_dict.filter(\"lower(PRODUCT_SUBGROUP) like '%бизнес%'\").show(10)"
   ]
  },
  {
   "cell_type": "code",
   "execution_count": null,
   "metadata": {},
   "outputs": [],
   "source": []
  },
  {
   "cell_type": "code",
   "execution_count": null,
   "metadata": {},
   "outputs": [],
   "source": [
    "parts = hive.sql(\"show partitions {}.{}\".format(CONN_SCHEMA,table_name)).collect()\n",
    "parts"
   ]
  },
  {
   "cell_type": "code",
   "execution_count": null,
   "metadata": {},
   "outputs": [],
   "source": [
    "hive.sql('''select * from {}.{} where (inn = '2221191879') and \n",
    "                                      (acct_signed_str between '2021-02-01' and '2021-04-01')'''.format(CONN_SCHEMA, table_name)).show(40)"
   ]
  },
  {
   "cell_type": "code",
   "execution_count": null,
   "metadata": {},
   "outputs": [],
   "source": [
    "deals = \\\n",
    "hive.sql(''' select \n",
    "                    inn, \n",
    "                    create_dt,\n",
    "                    complete_dt,\n",
    "                    host_prod_id,\n",
    "                    --close_reason_type_name,\n",
    "                    appl_stage_name\n",
    "                    --appl_type_name,\n",
    "                    --channel_mmb_ms,\n",
    "                    --channel_mmb_ckr,\n",
    "                    --channel_mmb_mkk,\n",
    "                    --channel_dzo  \n",
    "             from {}.{} where (inn = '2221191879') and\n",
    "                              (creation_month between '2021-02-01' and '2021-04-01') '''.format(CONN_SCHEMA, \"MA_CMDM_MA_DEAL_NEW\"))"
   ]
  },
  {
   "cell_type": "code",
   "execution_count": null,
   "metadata": {},
   "outputs": [],
   "source": [
    "conditions = (prod_dict.CRM_PRODUCT_ID == deals.host_prod_id)\n",
    "res = deals.join(prod_dict, on=conditions)"
   ]
  },
  {
   "cell_type": "code",
   "execution_count": null,
   "metadata": {},
   "outputs": [],
   "source": [
    "res.show(20)"
   ]
  },
  {
   "cell_type": "code",
   "execution_count": null,
   "metadata": {},
   "outputs": [],
   "source": [
    "deals = \\\n",
    "hive.sql(''' select \n",
    "                    inn, \n",
    "                    create_dt,\n",
    "                    complete_dt,\n",
    "                    host_prod_id,\n",
    "                    --close_reason_type_name,\n",
    "                    appl_stage_name\n",
    "                    --appl_type_name,\n",
    "                    --channel_mmb_ms,\n",
    "                    --channel_mmb_ckr,\n",
    "                    --channel_mmb_mkk,\n",
    "                    --channel_dzo  \n",
    "             from {}.{} where (inn = '2221191879') and\n",
    "                              (creation_month in ('2021-02-01', \n",
    "                                                  '2021-03-01',\n",
    "                                                  '2021-04-01',\n",
    "                                                  '2021-05-01') )'''.format(CONN_SCHEMA, \"MA_CMDM_MA_DEAL_NEW\"))"
   ]
  },
  {
   "cell_type": "code",
   "execution_count": null,
   "metadata": {},
   "outputs": [],
   "source": [
    "conditions = (prod_dict.CRM_PRODUCT_ID == deals.host_prod_id)\n",
    "res = deals.join(prod_dict, on=conditions)"
   ]
  },
  {
   "cell_type": "code",
   "execution_count": null,
   "metadata": {},
   "outputs": [],
   "source": [
    "res.show()"
   ]
  },
  {
   "cell_type": "code",
   "execution_count": null,
   "metadata": {},
   "outputs": [],
   "source": []
  },
  {
   "cell_type": "code",
   "execution_count": null,
   "metadata": {},
   "outputs": [],
   "source": [
    "startdt = dt.now()\n",
    "\n",
    "#/////////////////////////////////////////////////////////////////////////////////////\n",
    "descr = hive.sql(\"describe extended {}.{}\".format(conn_schema,table_name)).collect()\n",
    "hasPartitioned = len([item.asDict() for item in descr if item.asDict()['col_name'] =='# Partition Information']) > 0\n",
    "if hasPartitioned:\n",
    "    try:\n",
    "        parts = hive.sql(\"show partitions {}.{}\".format(conn_schema,table_name)).collect()\n",
    "        max_part = sorted(parts, reverse=True)[0]['partition']\n",
    "        extract_date=re.compile(\"\\d{4}\\-\\d{2}\\-\\d{2}\")\n",
    "        ext = extract_date.search(max_part)\n",
    "        try:\n",
    "            max_trunc_dt = ext.group(0)\n",
    "        except:\n",
    "            max_trunc_dt = None\n",
    "    except (AnalysisException, IndexError):\n",
    "        max_trunc_dt = None\n",
    "else:\n",
    "    max_trunc_dt = None\n",
    "#/////////////////////////////////////////////////////////////////////////////////////\n"
   ]
  },
  {
   "cell_type": "code",
   "execution_count": null,
   "metadata": {
    "scrolled": true
   },
   "outputs": [],
   "source": [
    "if max_trunc_dt is not None:\n",
    "  sql = '''select * from {}.{} where creation_month in \n",
    "                 ('2021-06-01', '2021-05-01',' 2021-04-01') '''.format(conn_schema, table_name)\n",
    "else:\n",
    "  sql = '''select * from {}.{}'''.format(conn_schema,table_name)\n",
    "\n",
    "deals = hive.sql(sql)\n",
    "# max_resp_dt_str = dt.strftime(max_dt, format='%Y-%m-%d %H:%M:%S.%f')"
   ]
  },
  {
   "cell_type": "code",
   "execution_count": null,
   "metadata": {
    "scrolled": true
   },
   "outputs": [],
   "source": [
    "deals.select('appl_stage_name').distinct().show(20)"
   ]
  },
  {
   "cell_type": "markdown",
   "metadata": {},
   "source": [
    "## Cancelled Deals"
   ]
  },
  {
   "cell_type": "code",
   "execution_count": null,
   "metadata": {
    "scrolled": true
   },
   "outputs": [],
   "source": [
    "deals_d = \\\n",
    "deals.filter((f.col('appl_stage_name').like(\"%Закрыта/Отказ%\"))&\n",
    "             (~f.isnull(f.col('close_reason_type_name')))&\n",
    "             (~f.isnull(f.col('product_cd_mmb')))\n",
    "            ) \n",
    "    \n",
    "deals_d = deals_d.select('inn', 'product_cd_mmb', f.lit(1).alias('flg_deal_deny'))\n",
    "\n",
    "deals_deny = deals_d.groupBy('product_cd_mmb').agg(f.count('flg_deal_deny').alias('cnt_deals_deny')).orderBy(f.col('cnt_deals_deny').desc())"
   ]
  },
  {
   "cell_type": "code",
   "execution_count": null,
   "metadata": {},
   "outputs": [],
   "source": [
    "deals_deny.cache()"
   ]
  },
  {
   "cell_type": "code",
   "execution_count": null,
   "metadata": {
    "scrolled": true
   },
   "outputs": [],
   "source": [
    "deals_deny.show()"
   ]
  },
  {
   "cell_type": "markdown",
   "metadata": {},
   "source": [
    "## Succeeded Deals"
   ]
  },
  {
   "cell_type": "code",
   "execution_count": null,
   "metadata": {
    "scrolled": true
   },
   "outputs": [],
   "source": [
    "deals_s = \\\n",
    "deals.filter(f.col('appl_stage_name').like(\"%Закрыта/Заключена%\")) \\\n",
    "     .filter(f.isnull(f.col('close_reason_type_name'))&(~f.isnull('product_cd_mmb'))\n",
    "            ) \\\n",
    "     .select('inn', \n",
    "             'product_cd_mmb', \n",
    "             f.col('SUM_RUB').cast(IntegerType())\n",
    "            ).orderBy(f.col('SUM_RUB').desc())\n",
    "\n",
    "deals_succ = deals_s.groupBy('product_cd_mmb').agg(f.count('SUM_RUB').alias('cnt_deals_succ'),\n",
    "                                                   f.sum('SUM_RUB').alias('total_sum_rub')\n",
    "                                                  ).orderBy(f.col('cnt_deals_succ').desc())"
   ]
  },
  {
   "cell_type": "code",
   "execution_count": null,
   "metadata": {},
   "outputs": [],
   "source": [
    "deals_succ.cache()"
   ]
  },
  {
   "cell_type": "code",
   "execution_count": null,
   "metadata": {},
   "outputs": [],
   "source": [
    "deals_succ.show()"
   ]
  },
  {
   "cell_type": "markdown",
   "metadata": {},
   "source": [
    "## MA_PRODUCT_DICT"
   ]
  },
  {
   "cell_type": "code",
   "execution_count": null,
   "metadata": {
    "scrolled": true
   },
   "outputs": [],
   "source": [
    "prod_dct = hive.sql(\"select * from {}.{} where CRM_PRODUCT_ID is not Null\".format(conn_schema, 'ma_dict_v_product_dict'))\n",
    "prod_dct = prod_dct.filter(\"(PRODUCT_CD_MMB is not Null) and (PRODUCT_SHORT_NM is not Null)\")\n",
    "\n",
    "prod_dct.columns"
   ]
  },
  {
   "cell_type": "markdown",
   "metadata": {},
   "source": [
    "## MA_MMB_OFFER_NONTOP"
   ]
  },
  {
   "cell_type": "code",
   "execution_count": null,
   "metadata": {},
   "outputs": [],
   "source": [
    "nontop = hive.sql(\"select * from {}.{} where (INN is not Null) and (CREATE_DTTM >= timestamp('2021-04-01'))\".format(conn_schema, 'MA_MMB_OFFER_NONTOP'))"
   ]
  },
  {
   "cell_type": "code",
   "execution_count": null,
   "metadata": {
    "scrolled": true
   },
   "outputs": [],
   "source": [
    "def getProdCDFromId(product_dict_nm):\n",
    "    def get_product(product_id, product_dict_nm):\n",
    "        if product_id is None:\n",
    "            return None\n",
    "\n",
    "        for _id in product_dict_nm:\n",
    "            if product_id == _id:\n",
    "                return product_dict_nm[_id]\n",
    "\n",
    "        return list([])\n",
    "\n",
    "    return f.udf(lambda x: get_product(x,product_dict_nm), ArrayType(StringType()))\n",
    "\n",
    "w2=Window.partitionBy('HASHINN', 'CRM_PRODUCT_ID').orderBy(\"COEF_PRODUCT_CD\")\n",
    "\n",
    "product_dict_sp = prod_dct.select('ID', \n",
    "                                  'CRM_PRODUCT_ID', \n",
    "                                  'PRODUCT_CD_MMB',\n",
    "                                  'PRODUCT_SHORT_NM',\n",
    "                                  'PRODUCT_GROUP', \n",
    "                                  'PRODUCT_SUBGROUP')\n",
    "\n",
    "product_dict_pd = product_dict_sp.collect()\n",
    "product_dict_nm = {row.ID: (row.CRM_PRODUCT_ID, \n",
    "                            row.PRODUCT_CD_MMB, \n",
    "                            row.PRODUCT_SHORT_NM,\n",
    "                            row.PRODUCT_GROUP,\n",
    "                            row.PRODUCT_SUBGROUP\n",
    "                           ) for row in product_dict_pd}\n",
    "\n",
    "nontop = nontop.withColumn('PROD_LST', getProdCDFromId(product_dict_nm)('PRODUCT_ID'))\n",
    "\n",
    "nontop = nontop.select(['INN', f.col('COEF_PRODUCT_CD').alias(\"POTENTIAL\")] +\n",
    "                       [f.col('PROD_LST')[0].alias('CRM_PRODUCT_ID'), \n",
    "                        f.col('PROD_LST')[1].alias('PRODUCT_CD_MMB'),\n",
    "                        f.col('PROD_LST')[2].alias('PRODUCT_SHORT_NM'),\n",
    "                        f.col('PROD_LST')[3].alias('PRODUCT_GROUP'),\n",
    "                        f.col('PROD_LST')[4].alias('PRODUCT_SUBGROUP')\n",
    "                       ]).filter(\"PRODUCT_CD_MMB is not Null\")"
   ]
  },
  {
   "cell_type": "code",
   "execution_count": null,
   "metadata": {
    "scrolled": true
   },
   "outputs": [],
   "source": [
    "nontop.show()"
   ]
  },
  {
   "cell_type": "code",
   "execution_count": null,
   "metadata": {},
   "outputs": [],
   "source": [
    "mean_nontop = nontop.groupBy('CRM_PRODUCT_ID').agg(f.mean('POTENTIAL').cast(IntegerType()).alias('MEAN_POTENTIAL'),\n",
    "                                                   f.first('PRODUCT_CD_MMB').alias('PRODUCT_CD_MMB'),\n",
    "                                                   f.first('PRODUCT_SHORT_NM').alias('PRODUCT_SHORT_NM'),\n",
    "                                                   f.first('PRODUCT_GROUP').alias('PRODUCT_GROUP'),\n",
    "                                                   f.first('PRODUCT_SUBGROUP').alias('PRODUCT_SUBGROUP')\n",
    "                                                  ).orderBy(\n",
    "                                                            f.col(\"MEAN_POTENTIAL\").desc()\n",
    "                                                           )\n",
    "\n",
    "mean_nontop.cache()"
   ]
  },
  {
   "cell_type": "code",
   "execution_count": null,
   "metadata": {},
   "outputs": [],
   "source": [
    "mean_nontop.count()"
   ]
  },
  {
   "cell_type": "code",
   "execution_count": null,
   "metadata": {},
   "outputs": [],
   "source": [
    "mean_nontop.show()"
   ]
  },
  {
   "cell_type": "markdown",
   "metadata": {},
   "source": [
    "## OFFER_PRIORITY "
   ]
  },
  {
   "cell_type": "code",
   "execution_count": null,
   "metadata": {},
   "outputs": [],
   "source": [
    "priority = hive.sql(\"select * from {}.{} where inn is not Null and load_dttm >= timestamp('2021-04-01')\".format(conn_schema, 'OFFER_PRIORITY'))"
   ]
  },
  {
   "cell_type": "code",
   "execution_count": null,
   "metadata": {},
   "outputs": [],
   "source": [
    "priority_part = priority.select('INN', \n",
    "                                'CRM_PRODUCT_ID', \n",
    "                                f.col('offer_priority').alias(\"POTENTIAL\") \n",
    "                                )"
   ]
  },
  {
   "cell_type": "code",
   "execution_count": null,
   "metadata": {},
   "outputs": [],
   "source": [
    "priority_part = priority_part.join(product_dict_sp, on='CRM_PRODUCT_ID', how='left_outer').select('INN', \n",
    "                                                                                                  'CRM_PRODUCT_ID', \n",
    "                                                                                                  'PRODUCT_CD_MMB',\n",
    "                                                                                                  'PRODUCT_SHORT_NM',\n",
    "                                                                                                  'PRODUCT_GROUP',\n",
    "                                                                                                  'PRODUCT_SUBGROUP',\n",
    "                                                                                                  'POTENTIAL').filter(\"PRODUCT_CD_MMB is not Null\")"
   ]
  },
  {
   "cell_type": "code",
   "execution_count": null,
   "metadata": {},
   "outputs": [],
   "source": [
    "mean_priority = priority_part.groupBy('CRM_PRODUCT_ID').agg(f.mean('POTENTIAL').cast(IntegerType()).alias('MEAN_POTENTIAL'),\n",
    "                                                            f.first('PRODUCT_CD_MMB').alias('PRODUCT_CD_MMB'),\n",
    "                                                            f.first('PRODUCT_SHORT_NM').alias('PRODUCT_SHORT_NM'),\n",
    "                                                            f.first('PRODUCT_GROUP').alias('PRODUCT_GROUP'),\n",
    "                                                            f.first('PRODUCT_SUBGROUP').alias('PRODUCT_SUBGROUP')\n",
    "                                                           ).orderBy(f.col(\"MEAN_POTENTIAL\").desc())\n",
    "\n",
    "mean_priority.cache()"
   ]
  },
  {
   "cell_type": "code",
   "execution_count": null,
   "metadata": {},
   "outputs": [],
   "source": [
    "mean_priority.cache()"
   ]
  },
  {
   "cell_type": "code",
   "execution_count": null,
   "metadata": {},
   "outputs": [],
   "source": [
    "mean_priority.count()"
   ]
  },
  {
   "cell_type": "markdown",
   "metadata": {},
   "source": [
    "## Union Offers"
   ]
  },
  {
   "cell_type": "code",
   "execution_count": null,
   "metadata": {},
   "outputs": [],
   "source": [
    "union_offers = mean_priority.unionAll(mean_nontop).select('CRM_PRODUCT_ID', \n",
    "                                                          'PRODUCT_CD_MMB', \n",
    "                                                          'PRODUCT_SHORT_NM',\n",
    "                                                          'PRODUCT_GROUP',\n",
    "                                                          'PRODUCT_SUBGROUP',\n",
    "                                                          'MEAN_POTENTIAL')\n",
    "union_offers = union_offers.drop_duplicates()"
   ]
  },
  {
   "cell_type": "code",
   "execution_count": null,
   "metadata": {},
   "outputs": [],
   "source": [
    "union_offers = union_offers.join(deals_succ, on=['PRODUCT_CD_MMB'], how='left_outer').select(\n",
    "                                                                                             'CRM_PRODUCT_ID',\n",
    "                                                                                             'PRODUCT_CD_MMB',\n",
    "                                                                                             'PRODUCT_SHORT_NM',\n",
    "                                                                                             'PRODUCT_GROUP',\n",
    "                                                                                             'PRODUCT_SUBGROUP',    \n",
    "                                                                                             'MEAN_POTENTIAL',\n",
    "                                                                                             'cnt_deals_succ',\n",
    "                                                                                             'total_sum_rub'          \n",
    "                                                                                             )\n",
    "\n",
    "\n",
    "union_offers = union_offers.join(deals_deny, on=['PRODUCT_CD_MMB'], how='left_outer').select( \n",
    "                                                                                             'CRM_PRODUCT_ID',\n",
    "                                                                                             'PRODUCT_CD_MMB',\n",
    "                                                                                             'PRODUCT_SHORT_NM',\n",
    "                                                                                             'PRODUCT_GROUP',\n",
    "                                                                                             'PRODUCT_SUBGROUP',    \n",
    "                                                                                             'MEAN_POTENTIAL',\n",
    "                                                                                             'cnt_deals_deny',\n",
    "                                                                                             'cnt_deals_succ',\n",
    "                                                                                             'total_sum_rub'\n",
    "                                                                                             )\n",
    "\n",
    "union_offers = union_offers.drop_duplicates()"
   ]
  },
  {
   "cell_type": "code",
   "execution_count": null,
   "metadata": {},
   "outputs": [],
   "source": [
    "fin = union_offers.groupBy('CRM_PRODUCT_ID').agg( f.first('PRODUCT_CD_MMB').alias('PRODUCT_CD_MMB'),\n",
    "                                                  f.first('PRODUCT_SHORT_NM').alias('PRODUCT_SHORT_NM'),\n",
    "                                                  f.first('PRODUCT_GROUP').alias('PRODUCT_GROUP'),\n",
    "                                                  f.first('PRODUCT_SUBGROUP').alias('PRODUCT_SUBGROUP'),\n",
    "                                                  f.first('MEAN_POTENTIAL').alias('MEAN_POTENTIAL'),\n",
    "                                                  f.sum('cnt_deals_succ').alias('cnt_deals_succ'.upper()),\n",
    "                                                  f.sum('cnt_deals_deny').alias('cnt_deals_deny'.upper()),\n",
    "                                                  f.sum('total_sum_rub').alias('total_sum_rub'.upper()),\n",
    "                                                  ).orderBy(f.col(\"MEAN_POTENTIAL\").desc(),\n",
    "                                                            f.col(\"cnt_deals_succ\").desc()\n",
    "                                                           )"
   ]
  },
  {
   "cell_type": "code",
   "execution_count": null,
   "metadata": {},
   "outputs": [],
   "source": [
    "df = fin.filter(~f.isnull('cnt_deals_succ')).toPandas()"
   ]
  },
  {
   "cell_type": "code",
   "execution_count": null,
   "metadata": {},
   "outputs": [],
   "source": [
    "df.head()"
   ]
  },
  {
   "cell_type": "code",
   "execution_count": null,
   "metadata": {},
   "outputs": [],
   "source": [
    "df.to_excel(\"/opt/workspace/ektov1-av_ca-sbrf-ru/notebooks/site_idprod_deals_rank.xlsx\", index = False, encoding='utf8')"
   ]
  },
  {
   "cell_type": "code",
   "execution_count": null,
   "metadata": {},
   "outputs": [],
   "source": []
  }
 ],
 "metadata": {
  "kernelspec": {
   "display_name": "Python 3",
   "language": "python",
   "name": "python3"
  },
  "language_info": {
   "codemirror_mode": {
    "name": "ipython",
    "version": 3
   },
   "file_extension": ".py",
   "mimetype": "text/x-python",
   "name": "python",
   "nbconvert_exporter": "python",
   "pygments_lexer": "ipython3",
   "version": "3.7.4"
  }
 },
 "nbformat": 4,
 "nbformat_minor": 2
}
