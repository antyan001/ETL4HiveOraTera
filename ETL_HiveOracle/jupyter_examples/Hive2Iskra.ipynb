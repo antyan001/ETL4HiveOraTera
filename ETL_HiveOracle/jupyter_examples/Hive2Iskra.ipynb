{
 "cells": [
  {
   "cell_type": "code",
   "execution_count": 1,
   "metadata": {
    "collapsed": true
   },
   "outputs": [],
   "source": [
    "%reload_ext autoreload\n",
    "%autoreload 2"
   ]
  },
  {
   "cell_type": "code",
   "execution_count": 2,
   "metadata": {
    "collapsed": true,
    "scrolled": true
   },
   "outputs": [],
   "source": [
    "#!/home/ektov1-av_ca-sbrf-ru/bin/python35\n",
    "import os\n",
    "import sys\n",
    "curruser = os.environ.get('USER')\n",
    "\n",
    "sys.path.insert(0, '/opt/workspace/{user}/notebooks/support_library/'.format(user=curruser))\n",
    "sys.path.insert(0, '/opt/workspace/{user}/libs/python3.5/site-packages/'.format(user=curruser))\n",
    "sys.path.insert(0, '/opt/workspace/{user}/notebooks/labdata/lib/'.format(user=curruser))\n",
    "\n",
    "sys.path.insert(0, './src')\n",
    "\n",
    "# import tendo.singleton\n",
    "import warnings\n",
    "warnings.filterwarnings('ignore')\n",
    "\n",
    "# import logging\n",
    "# logging.basicConfig(filename='./__upd_runGASiteProd2SAS__.log',level=logging.INFO,\n",
    "#                     format='%(asctime)s %(levelname)s %(name)s %(message)s')\n",
    "# logger = logging.getLogger(__name__)\n",
    "\n",
    "\n",
    "import joblib\n",
    "import json\n",
    "from joblib import Parallel, delayed\n",
    "\n",
    "from time import sleep\n",
    "from itertools import islice\n",
    "from multiprocessing import Pool, Process, JoinableQueue\n",
    "from multiprocessing.pool import ThreadPool\n",
    "from functools import partial\n",
    "import subprocess\n",
    "from threading import Thread\n",
    "import time\n",
    "from datetime import datetime\n",
    "\n",
    "from spark_connector import SparkConnector\n",
    "from sparkdb_loader import spark\n",
    "from connector import OracleDB\n",
    "import pyspark\n",
    "from pyspark import SparkContext, SparkConf, HiveContext\n",
    "from pyspark.sql.window import Window\n",
    "from pyspark.sql.functions import *\n",
    "import pyspark.sql.functions as f\n",
    "from pyspark.sql.types import *\n",
    "from pyspark.sql.dataframe import DataFrame\n",
    "\n",
    "import re\n",
    "import pandas as pd\n",
    "import numpy as np\n",
    "from tqdm._tqdm_notebook import tqdm_notebook\n",
    "from pathlib import Path\n",
    "import shutil\n",
    "import loader as load\n",
    "from etl import ETLORA\n",
    "\n",
    "\n",
    "# sing = tendo.singleton.SingleInstance()\n",
    "\n",
    "# os.chdir('/opt/workspace/ektov1-av_ca-sbrf-ru/notebooks/Clickstream_Analytics/AutoUpdate/')\n",
    "# os.chdir('/opt/workspace/{}/notebooks/clickstream/AutoUpdate/'.format(curruser))\n",
    "\n",
    "\n",
    "##-----------------------------------------\n",
    "conn_schema = 'sbx_team_digitcamp'\n",
    "ga_schema = 'sklod_external_google_analytics'\n",
    "tbl = 'GA_SITE_ALL_PRODS'\n",
    "out_table_name = 'GA_ALL_SCENARIOS_HIST'\n",
    "##-----------------------------------------http://pklis-chd000224.labiac.df.sbrf.ru:8100/notebooks/ISKRA_GET_LOAD/Hive2Iskra.ipynb#\n",
    "\n",
    "def show(self, n=10):\n",
    "    return self.limit(n).toPandas()\n",
    "\n",
    "pyspark.sql.dataframe.DataFrame.show = show\n",
    "\n",
    "def typed_udf(return_type):\n",
    "    '''Make a UDF decorator with the given return type'''\n",
    "\n",
    "    def _typed_udf_wrapper(func):\n",
    "        return f.udf(func,return_type)\n",
    "\n",
    "# @typed_udf(StringType())\n",
    "def match_product(product_dict_nm):\n",
    "    def get_product(product_norm, product_dict_nm):\n",
    "        if product_norm is None:\n",
    "            return None\n",
    "\n",
    "        for product_nm in product_dict_nm:\n",
    "            if product_nm in product_norm:\n",
    "                return product_dict_nm[product_nm]\n",
    "            else:\n",
    "                return None\n",
    "\n",
    "    return f.udf(lambda x: get_product(x,product_dict_nm))"
   ]
  },
  {
   "cell_type": "code",
   "execution_count": 3,
   "metadata": {
    "scrolled": false
   },
   "outputs": [
    {
     "name": "stdout",
     "output_type": "stream",
     "text": [
      "### Starting spark context. Run!\n",
      "2.4.0.cloudera2\n"
     ]
    }
   ],
   "source": [
    "print(\"### Starting spark context. Run!\")\n",
    "\n",
    "sp = spark(schema=conn_schema,\n",
    "           dynamic_alloc=False,\n",
    "           numofinstances=10, \n",
    "           numofcores=8,\n",
    "           kerberos_auth=True,\n",
    "           process_label=\"shaymanov-an\"\n",
    "           )\n",
    "hive = sp.sql\n",
    "\n",
    "print(sp.sc.version)"
   ]
  },
  {
   "cell_type": "code",
   "execution_count": 10,
   "metadata": {
    "collapsed": true
   },
   "outputs": [],
   "source": [
    "table_name = 'GA_ALL_SCENARIOS_HIST'\n",
    "sdf = hive.sql('''select * from {}.{} \n",
    "                  where 1=1 and\n",
    "                        inn = '260800070346' and\n",
    "                        channel = 'SBBOL' and\n",
    "                        id_product = 'DEPOSIT' and\n",
    "                        (load_dt >= timestamp('2021-03-01') ) and \n",
    "                        (load_dt <= timestamp('2021-03-16') )'''.format(conn_schema,table_name))"
   ]
  },
  {
   "cell_type": "code",
   "execution_count": null,
   "metadata": {
    "scrolled": false
   },
   "outputs": [],
   "source": [
    "sdf.show(40)"
   ]
  },
  {
   "cell_type": "markdown",
   "metadata": {},
   "source": [
    "## Upload to ISKRA from Pandas df"
   ]
  },
  {
   "cell_type": "code",
   "execution_count": 6,
   "metadata": {
    "collapsed": true
   },
   "outputs": [],
   "source": [
    "df= sdf.toPandas()"
   ]
  },
  {
   "cell_type": "code",
   "execution_count": null,
   "metadata": {
    "scrolled": false
   },
   "outputs": [],
   "source": [
    "df.dtypes"
   ]
  },
  {
   "cell_type": "code",
   "execution_count": 122,
   "metadata": {
    "collapsed": true
   },
   "outputs": [],
   "source": [
    "cols = [col for col in df.columns if col != \"commonSegmentoUID\"]+[\"commonSegmentoUID\"]\n",
    "df = df.loc[:,cols]"
   ]
  },
  {
   "cell_type": "markdown",
   "metadata": {},
   "source": [
    "## Create empty table with predefined schema"
   ]
  },
  {
   "cell_type": "code",
   "execution_count": 135,
   "metadata": {},
   "outputs": [
    {
     "data": {
      "text/plain": [
       "'CREATE TABLE {} ( INN VARCHAR2(20), SBBOLUSERID VARCHAR2(800), ID_CRM VARCHAR2(800), SCENARIO_ID VARCHAR2(800), CHANNEL VARCHAR2(800), ID_PRODUCT VARCHAR2(800), MADEAL_PRODUCT_NORM VARCHAR2(800), MADEAL_PROD_TYPE_NAME VARCHAR2(800), MADEAL_APPL_CORE_TXT VARCHAR2(800), MADEAL_COMPLETE_DT TIMESTAMP, HASPRODUCT NUMBER(20), ESSENSE VARCHAR2(800), RETURNCNT NUMBER(20), NUMBEROFSTEPS NUMBER(20), FUNNEL_RATE VARCHAR2(800), SUM_OFFER_PRIORITY NUMBER(20), SUM_OFFER_NONTOP NUMBER(20), MINSESSIONSTARTTIME TIMESTAMP, MAXSESSIONSTARTTIME TIMESTAMP, LOAD_DT TIMESTAMP, CTL_LOADING NUMBER(20), COMMONSEGMENTOUID CLOB )'"
      ]
     },
     "execution_count": 135,
     "metadata": {},
     "output_type": "execute_result"
    }
   ],
   "source": [
    "str_ = 'CREATE TABLE {} ( '\n",
    "for column_name, column in df.iteritems():\n",
    "    if column.dtype.kind == 'O':\n",
    "        if (df[column_name].str.len().max() >= 4000) or ('COMMONSEGMENTOUID' in column_name.upper()):\n",
    "#             df.drop(columns=[column_name], inplace=True)\n",
    "            str_+=column_name.upper() + ' ' +'CLOB, '\n",
    "        else:\n",
    "            if 'INN' in column_name.upper() or 'KPP' in column_name.upper():\n",
    "                str_+=column_name.upper() + ' ' +'VARCHAR2(20), '\n",
    "            else:\n",
    "                str_+=column_name.upper() + ' ' +'VARCHAR2(800), '\n",
    "    elif column.dtype.kind == 'i':\n",
    "        str_+=column_name.upper() + ' ' +'NUMBER(20), '\n",
    "    elif column.dtype.kind == 'f':\n",
    "        df[column_name] = df[column_name].fillna(0.0)\n",
    "        str_+=column_name.upper() + ' ' +'FLOAT(126), '        \n",
    "    elif column.dtype.kind == 'M':\n",
    "        str_+=column_name.upper() + ' ' +'TIMESTAMP, '\n",
    "    else:\n",
    "        None  \n",
    "res=str_.strip()[:-1] + ' )'\n",
    "res"
   ]
  },
  {
   "cell_type": "code",
   "execution_count": 3,
   "metadata": {
    "collapsed": true,
    "scrolled": false
   },
   "outputs": [],
   "source": [
    "ld=load.Loader(init_dsn=True, encoding='cp1251',  sep=',')\n",
    "db = load.OracleDB('tech_iskra[iskra]', 'Uthvfy123', ld._get_dsn('iskra4')) \n",
    "db.connect() "
   ]
  },
  {
   "cell_type": "code",
   "execution_count": 4,
   "metadata": {
    "collapsed": true
   },
   "outputs": [],
   "source": [
    "sql = ''' select /*+ parallel (12) */ \n",
    "                 min(interaction_start_date),\n",
    "                 max(interaction_start_date) \n",
    "          from AIST_INTERACTION_HISTORY '''\n",
    "df2 = pd.read_sql(sql, con=db.connection)"
   ]
  },
  {
   "cell_type": "code",
   "execution_count": 5,
   "metadata": {},
   "outputs": [
    {
     "data": {
      "text/html": [
       "<div>\n",
       "<style scoped>\n",
       "    .dataframe tbody tr th:only-of-type {\n",
       "        vertical-align: middle;\n",
       "    }\n",
       "\n",
       "    .dataframe tbody tr th {\n",
       "        vertical-align: top;\n",
       "    }\n",
       "\n",
       "    .dataframe thead th {\n",
       "        text-align: right;\n",
       "    }\n",
       "</style>\n",
       "<table border=\"1\" class=\"dataframe\">\n",
       "  <thead>\n",
       "    <tr style=\"text-align: right;\">\n",
       "      <th></th>\n",
       "      <th>MIN(INTERACTION_START_DATE)</th>\n",
       "      <th>MAX(INTERACTION_START_DATE)</th>\n",
       "    </tr>\n",
       "  </thead>\n",
       "  <tbody>\n",
       "    <tr>\n",
       "      <th>0</th>\n",
       "      <td>2019-01-04 00:07:43</td>\n",
       "      <td>2021-06-24 20:57:10</td>\n",
       "    </tr>\n",
       "  </tbody>\n",
       "</table>\n",
       "</div>"
      ],
      "text/plain": [
       "  MIN(INTERACTION_START_DATE) MAX(INTERACTION_START_DATE)\n",
       "0         2019-01-04 00:07:43         2021-06-24 20:57:10"
      ]
     },
     "execution_count": 5,
     "metadata": {},
     "output_type": "execute_result"
    }
   ],
   "source": [
    "df2.head()"
   ]
  },
  {
   "cell_type": "code",
   "execution_count": 137,
   "metadata": {
    "collapsed": true
   },
   "outputs": [],
   "source": [
    "table_name = 'tmp_GA_ALL_SCENARIOS_HIST'"
   ]
  },
  {
   "cell_type": "code",
   "execution_count": 138,
   "metadata": {
    "scrolled": true
   },
   "outputs": [
    {
     "name": "stdout",
     "output_type": "stream",
     "text": [
      "dropping done\n"
     ]
    }
   ],
   "source": [
    "sql = \"DROP TABLE {}\".format(table_name)\n",
    "db.cursor.execute(sql)\n",
    "db.connection.commit()\n",
    "print('dropping done')"
   ]
  },
  {
   "cell_type": "code",
   "execution_count": 139,
   "metadata": {},
   "outputs": [
    {
     "name": "stdout",
     "output_type": "stream",
     "text": [
      "creating done\n"
     ]
    }
   ],
   "source": [
    "sql = res.format(table_name)\n",
    "\n",
    "db.cursor.execute(sql)\n",
    "db.connection.commit()\n",
    "print('creating done')"
   ]
  },
  {
   "cell_type": "code",
   "execution_count": 140,
   "metadata": {
    "scrolled": true
   },
   "outputs": [
    {
     "name": "stdout",
     "output_type": "stream",
     "text": [
      "OrderedDict([('INN', <cx_Oracle.DbType DB_TYPE_LONG>), ('SBBOLUSERID', <cx_Oracle.DbType DB_TYPE_LONG>), ('ID_CRM', <cx_Oracle.DbType DB_TYPE_LONG>), ('SCENARIO_ID', <cx_Oracle.DbType DB_TYPE_LONG>), ('CHANNEL', <cx_Oracle.DbType DB_TYPE_LONG>), ('ID_PRODUCT', <cx_Oracle.DbType DB_TYPE_LONG>), ('MADEAL_PRODUCT_NORM', <cx_Oracle.DbType DB_TYPE_LONG>), ('MADEAL_PROD_TYPE_NAME', <cx_Oracle.DbType DB_TYPE_LONG>), ('MADEAL_APPL_CORE_TXT', <cx_Oracle.DbType DB_TYPE_LONG>), ('MADEAL_COMPLETE_DT', <cx_Oracle.DbType DB_TYPE_TIMESTAMP>), ('HASPRODUCT', <cx_Oracle.ApiType NUMBER>), ('ESSENSE', <cx_Oracle.DbType DB_TYPE_LONG>), ('RETURNCNT', <cx_Oracle.ApiType NUMBER>), ('NUMBEROFSTEPS', <cx_Oracle.ApiType NUMBER>), ('FUNNEL_RATE', <cx_Oracle.DbType DB_TYPE_LONG>), ('SUM_OFFER_PRIORITY', <cx_Oracle.ApiType NUMBER>), ('SUM_OFFER_NONTOP', <cx_Oracle.ApiType NUMBER>), ('MINSESSIONSTARTTIME', <cx_Oracle.DbType DB_TYPE_TIMESTAMP>), ('MAXSESSIONSTARTTIME', <cx_Oracle.DbType DB_TYPE_TIMESTAMP>), ('LOAD_DT', <cx_Oracle.DbType DB_TYPE_TIMESTAMP>), ('CTL_LOADING', <cx_Oracle.ApiType NUMBER>), ('COMMONSEGMENTOUID', <cx_Oracle.DbType DB_TYPE_CLOB>)])\n",
      "INSERT INTO tmp_GA_ALL_SCENARIOS_HIST (INN, SBBOLUSERID, ID_CRM, SCENARIO_ID, CHANNEL, ID_PRODUCT, MADEAL_PRODUCT_NORM, MADEAL_PROD_TYPE_NAME, MADEAL_APPL_CORE_TXT, MADEAL_COMPLETE_DT, HASPRODUCT, ESSENSE, RETURNCNT, NUMBEROFSTEPS, FUNNEL_RATE, SUM_OFFER_PRIORITY, SUM_OFFER_NONTOP, MINSESSIONSTARTTIME, MAXSESSIONSTARTTIME, LOAD_DT, CTL_LOADING, COMMONSEGMENTOUID) VALUES (:INN,:SBBOLUSERID,:ID_CRM,:SCENARIO_ID,:CHANNEL,:ID_PRODUCT,:MADEAL_PRODUCT_NORM,:MADEAL_PROD_TYPE_NAME,:MADEAL_APPL_CORE_TXT,:MADEAL_COMPLETE_DT,:HASPRODUCT,:ESSENSE,:RETURNCNT,:NUMBEROFSTEPS,:FUNNEL_RATE,:SUM_OFFER_PRIORITY,:SUM_OFFER_NONTOP,:MINSESSIONSTARTTIME,:MAXSESSIONSTARTTIME,:LOAD_DT,:CTL_LOADING,:COMMONSEGMENTOUID)\n",
      "Pushing data to iskra ... \n"
     ]
    },
    {
     "name": "stderr",
     "output_type": "stream",
     "text": [
      "[Parallel(n_jobs=5)]: Using backend LokyBackend with 5 concurrent workers.\n",
      "[Parallel(n_jobs=5)]: Done   6 out of   6 | elapsed:  1.3min finished\n"
     ]
    }
   ],
   "source": [
    "# table_name = 'tmp_GA_ALL_SCENARIOS_HIST'\n",
    "ld.upload_df_or_csv(df, table_name, parallel=1, \n",
    "                    password='Uthvfy123', path= None,\n",
    "                    isclobe=1, isuseclobdct=1, verbose=1, njobs=5)"
   ]
  },
  {
   "cell_type": "markdown",
   "metadata": {},
   "source": [
    "## Check saved DF via cx_Oracle"
   ]
  },
  {
   "cell_type": "code",
   "execution_count": 141,
   "metadata": {
    "collapsed": true
   },
   "outputs": [],
   "source": [
    "query = '''\n",
    "select /*+ parallel (12) */\n",
    "          *\n",
    "FROM {}\n",
    "where rownum < 1000\n",
    "'''.format(table_name)"
   ]
  },
  {
   "cell_type": "code",
   "execution_count": 142,
   "metadata": {
    "collapsed": true,
    "scrolled": true
   },
   "outputs": [],
   "source": [
    "df2 = pd.read_sql(query, con=db.connection)"
   ]
  },
  {
   "cell_type": "code",
   "execution_count": null,
   "metadata": {
    "scrolled": true
   },
   "outputs": [],
   "source": [
    "df2.head()"
   ]
  },
  {
   "cell_type": "markdown",
   "metadata": {},
   "source": [
    "## Check saved DF via JDBC driver"
   ]
  },
  {
   "cell_type": "code",
   "execution_count": 26,
   "metadata": {},
   "outputs": [
    {
     "name": "stdout",
     "output_type": "stream",
     "text": [
      "INN\n",
      ",SBBOLUSERID\n",
      ",COMMONSEGMENTOUID\n",
      ",ID_CRM\n",
      ",SCENARIO_ID\n",
      ",CHANNEL\n",
      ",ID_PRODUCT\n",
      ",MADEAL_PRODUCT_NORM\n",
      ",MADEAL_PROD_TYPE_NAME\n",
      ",MADEAL_APPL_CORE_TXT\n",
      ",MADEAL_COMPLETE_DT\n",
      ",HASPRODUCT\n",
      ",ESSENSE\n",
      ",RETURNCNT\n",
      ",NUMBEROFSTEPS\n",
      ",FUNNEL_RATE\n",
      ",SUM_OFFER_PRIORITY\n",
      ",SUM_OFFER_NONTOP\n",
      ",MINSESSIONSTARTTIME\n",
      ",MAXSESSIONSTARTTIME\n",
      ",LOAD_DT\n",
      ",CTL_LOADING\n"
     ]
    }
   ],
   "source": [
    "print(\"\\n,\".join([col for col in df2.columns]))"
   ]
  },
  {
   "cell_type": "code",
   "execution_count": 71,
   "metadata": {
    "collapsed": true
   },
   "outputs": [],
   "source": [
    "query = '''\n",
    "(select /*+ parallel (12) */\n",
    "    INN\n",
    "    ,SBBOLUSERID\n",
    "    ,COMMONSEGMENTOUID\n",
    "    ,ID_CRM\n",
    "    ,SCENARIO_ID\n",
    "    ,CHANNEL\n",
    "    ,ID_PRODUCT\n",
    "    ,MADEAL_PRODUCT_NORM\n",
    "    ,MADEAL_PROD_TYPE_NAME\n",
    "    ,MADEAL_APPL_CORE_TXT\n",
    "    ,CAST(MADEAL_COMPLETE_DT as VARCHAR2(40))\n",
    "    ,HASPRODUCT\n",
    "    ,ESSENSE\n",
    "    ,RETURNCNT\n",
    "    ,NUMBEROFSTEPS\n",
    "    ,FUNNEL_RATE\n",
    "    ,SUM_OFFER_PRIORITY\n",
    "    ,SUM_OFFER_NONTOP\n",
    "    ,MINSESSIONSTARTTIME\n",
    "    ,MAXSESSIONSTARTTIME\n",
    "    ,LOAD_DT\n",
    "    ,CTL_LOADING       \n",
    "FROM {}\n",
    "where rownum < 1000)\n",
    "'''.format(table_name)\n",
    "\n",
    "sdf = sp.get_oracle(OracleDB('iskra4'), query)"
   ]
  },
  {
   "cell_type": "code",
   "execution_count": null,
   "metadata": {
    "scrolled": false
   },
   "outputs": [],
   "source": [
    "sdf.show()"
   ]
  },
  {
   "cell_type": "markdown",
   "metadata": {},
   "source": [
    "## Extract via JDBS driver"
   ]
  },
  {
   "cell_type": "code",
   "execution_count": null,
   "metadata": {
    "collapsed": true
   },
   "outputs": [],
   "source": [
    "## !!! Don't forget to created an empty table before with CLOB types followed by all non-clob columns"
   ]
  },
  {
   "cell_type": "code",
   "execution_count": 129,
   "metadata": {
    "collapsed": true
   },
   "outputs": [],
   "source": [
    "table_name = 'GA_ALL_SCENARIOS_HIST'\n",
    "sdf = hive.sql('''select * from {}.{} where (load_dt >= timestamp('2021-03-01') ) and \n",
    "                                            (load_dt <= timestamp('2021-03-06') )'''.format(conn_schema,table_name))"
   ]
  },
  {
   "cell_type": "code",
   "execution_count": 130,
   "metadata": {
    "collapsed": true
   },
   "outputs": [],
   "source": [
    "sdf = sdf.select([col for col in sdf.columns if col not in (\"commonSegmentoUID\")]+[\"commonSegmentoUID\"])"
   ]
  },
  {
   "cell_type": "code",
   "execution_count": 131,
   "metadata": {},
   "outputs": [
    {
     "data": {
      "text/plain": [
       "'INN VARCHAR(20), SBBOLUSERID VARCHAR(900), ID_CRM VARCHAR(900), SCENARIO_ID VARCHAR(900), CHANNEL VARCHAR(900), ID_PRODUCT VARCHAR(900), MADEAL_PRODUCT_NORM VARCHAR(900), MADEAL_PROD_TYPE_NAME VARCHAR(900), MADEAL_APPL_CORE_TXT VARCHAR(900), MADEAL_COMPLETE_DT TIMESTAMP, HASPRODUCT INTEGER, ESSENSE VARCHAR(900), RETURNCNT INTEGER, NUMBEROFSTEPS INTEGER, FUNNEL_RATE VARCHAR(900), SUM_OFFER_PRIORITY INTEGER, SUM_OFFER_NONTOP INTEGER, MINSESSIONSTARTTIME TIMESTAMP, MAXSESSIONSTARTTIME TIMESTAMP, LOAD_DT TIMESTAMP, CTL_LOADING LONG, COMMONSEGMENTOUID CLOB'"
      ]
     },
     "execution_count": 131,
     "metadata": {},
     "output_type": "execute_result"
    }
   ],
   "source": [
    "sdf = sdf.select([col.upper() for col in sdf.columns])\n",
    "\n",
    "typesmap={}\n",
    "for column_name, column in sdf.dtypes:\n",
    "    if column == 'string':\n",
    "        if 'INN' in column_name.upper() or 'KPP' in column_name.upper():\n",
    "            typesmap[column_name] = 'VARCHAR(20)'\n",
    "        elif 'commonSegmentoUID'.upper() in column_name.upper():\n",
    "            typesmap[column_name] = 'CLOB'\n",
    "        else:\n",
    "            typesmap[column_name] = 'VARCHAR(900)'\n",
    "    elif column == 'int':\n",
    "        typesmap[column_name] = 'INTEGER'\n",
    "    elif column == 'bigint':\n",
    "        typesmap[column_name] = 'LONG'\n",
    "    elif column == 'timestamp':\n",
    "        typesmap[column_name] = 'TIMESTAMP'\n",
    "    elif column == 'float' or column == 'double':\n",
    "        typesmap[column_name] = 'FLOAT'\n",
    "    else:\n",
    "        None\n",
    "        \n",
    "cols = ', '.join([col + ' ' + typesmap[col] for col in sdf.columns])\n",
    "cols"
   ]
  },
  {
   "cell_type": "code",
   "execution_count": 132,
   "metadata": {
    "collapsed": true
   },
   "outputs": [],
   "source": [
    "table_name = \"tmp_GA_ALL_SCENARIOS_HIST\"\n",
    "\n",
    "db = OracleDB('iskra4')\n",
    "mode = 'append'\n",
    "sdf \\\n",
    "    .write \\\n",
    "    .format('jdbc') \\\n",
    "    .mode(mode) \\\n",
    "    .option('url', 'jdbc:oracle:thin:@//'+db.dsn) \\\n",
    "    .option('user', db.user) \\\n",
    "    .option('password', db.password) \\\n",
    "    .option('dbtable', table_name) \\\n",
    "    .option('createTableColumnTypes', cols)\\\n",
    "    .option('driver', 'oracle.jdbc.driver.OracleDriver') \\\n",
    "    .save()"
   ]
  },
  {
   "cell_type": "markdown",
   "metadata": {},
   "source": [
    "## Check saved DF"
   ]
  },
  {
   "cell_type": "code",
   "execution_count": 133,
   "metadata": {
    "collapsed": true,
    "scrolled": true
   },
   "outputs": [],
   "source": [
    "query = '''\n",
    "(select /*+ parallel (12) */\n",
    "    *      \n",
    "FROM {}\n",
    "where rownum < 1000)\n",
    "'''.format(table_name)\n",
    "\n",
    "sdf = sp.get_oracle(OracleDB('iskra4'), query)"
   ]
  },
  {
   "cell_type": "code",
   "execution_count": null,
   "metadata": {
    "scrolled": false
   },
   "outputs": [],
   "source": [
    "sdf.show()"
   ]
  },
  {
   "cell_type": "code",
   "execution_count": null,
   "metadata": {
    "collapsed": true
   },
   "outputs": [],
   "source": []
  }
 ],
 "metadata": {
  "kernelspec": {
   "display_name": "Python 3",
   "language": "python",
   "name": "python3"
  },
  "language_info": {
   "codemirror_mode": {
    "name": "ipython",
    "version": 3
   },
   "file_extension": ".py",
   "mimetype": "text/x-python",
   "name": "python",
   "nbconvert_exporter": "python",
   "pygments_lexer": "ipython3",
   "version": "3.7.4"
  }
 },
 "nbformat": 4,
 "nbformat_minor": 2
}
