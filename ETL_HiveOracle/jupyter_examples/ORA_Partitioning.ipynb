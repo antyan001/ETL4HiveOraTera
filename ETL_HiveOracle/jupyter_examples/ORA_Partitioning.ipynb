{
 "cells": [
  {
   "cell_type": "code",
   "execution_count": 1,
   "metadata": {
    "collapsed": true
   },
   "outputs": [],
   "source": [
    "%reload_ext autoreload\n",
    "%autoreload 2"
   ]
  },
  {
   "cell_type": "code",
   "execution_count": 2,
   "metadata": {
    "collapsed": true,
    "scrolled": true
   },
   "outputs": [],
   "source": [
    "#!/home/ektov/bin/python35\n",
    "import os\n",
    "import sys\n",
    "curruser = os.environ.get('USER')\n",
    "\n",
    "sys.path.insert(0, '/opt/workspace/{user}/notebooks/support_library/'.format(user=curruser))\n",
    "sys.path.insert(0, '/opt/workspace/{user}/libs/python3.5/site-packages/'.format(user=curruser))\n",
    "sys.path.insert(0, '/opt/workspace/{user}/notebooks/labdata/lib/'.format(user=curruser))\n",
    "\n",
    "sys.path.insert(0, './src')\n",
    "\n",
    "# import tendo.singleton\n",
    "import warnings\n",
    "warnings.filterwarnings('ignore')\n",
    "\n",
    "# import logging\n",
    "# logging.basicConfig(filename='./__upd_runGASiteProd2SAS__.log',level=logging.INFO,\n",
    "#                     format='%(asctime)s %(levelname)s %(name)s %(message)s')\n",
    "# logger = logging.getLogger(__name__)\n",
    "\n",
    "\n",
    "import joblib\n",
    "import json\n",
    "from joblib import Parallel, delayed\n",
    "\n",
    "from time import sleep\n",
    "from itertools import islice\n",
    "from multiprocessing import Pool, Process, JoinableQueue\n",
    "from multiprocessing.pool import ThreadPool\n",
    "from functools import partial\n",
    "import subprocess\n",
    "from threading import Thread\n",
    "import time\n",
    "import datetime as dt\n",
    "from datetime import datetime\n",
    "\n",
    "\n",
    "import re\n",
    "import pandas as pd\n",
    "import numpy as np\n",
    "from tqdm._tqdm_notebook import tqdm_notebook\n",
    "from pathlib import Path\n",
    "import shutil\n",
    "import loader as load\n",
    "from etl import ETLORA\n"
   ]
  },
  {
   "cell_type": "code",
   "execution_count": 3,
   "metadata": {
    "collapsed": true
   },
   "outputs": [],
   "source": [
    "ld=load.Loader(init_dsn=True, encoding='cp1251',  sep=',')\n",
    "db = load.OracleDB('', '', ld._get_dsn('iskra4')) \n",
    "db.connect()\n",
    "curs = db.cursor"
   ]
  },
  {
   "cell_type": "markdown",
   "metadata": {},
   "source": [
    "## Read Premeditated Dummy Table From Oracle"
   ]
  },
  {
   "cell_type": "code",
   "execution_count": 27,
   "metadata": {
    "collapsed": true
   },
   "outputs": [],
   "source": [
    "table_name = 'lal_data_in'"
   ]
  },
  {
   "cell_type": "code",
   "execution_count": 28,
   "metadata": {
    "collapsed": true
   },
   "outputs": [],
   "source": [
    "query = '''\n",
    "select /*+ parallel (12) */\n",
    "          *\n",
    "FROM {}\n",
    "--where rownum < 1000\n",
    "'''.format(table_name)\n",
    "\n",
    "df = pd.read_sql(query, con=db.connection)"
   ]
  },
  {
   "cell_type": "code",
   "execution_count": null,
   "metadata": {
    "scrolled": false
   },
   "outputs": [],
   "source": [
    "df['CREATE_DT_DAY'] = df['CREATE_DT'].apply(lambda x: pd.to_datetime(datetime.strftime(x, format='%Y-%m-%d'), \n",
    "                                                                     format='%Y-%m-%d')\n",
    "                                           )\n",
    "df.head(10)"
   ]
  },
  {
   "cell_type": "code",
   "execution_count": 10,
   "metadata": {
    "scrolled": true
   },
   "outputs": [
    {
     "data": {
      "text/plain": [
       "INN                       int64\n",
       "MODEL_NAME               object\n",
       "HYPOTHESIS               object\n",
       "CLIENT_TYPE              object\n",
       "ID_SCEN                  object\n",
       "CREATE_DT        datetime64[ns]\n",
       "ONLY_SB                   int64\n",
       "DEAL_EVENT_DT    datetime64[ns]\n",
       "MODEL_TYPE               object\n",
       "TARGET                    int64\n",
       "CREATE_DT_DAY    datetime64[ns]\n",
       "dtype: object"
      ]
     },
     "execution_count": 10,
     "metadata": {},
     "output_type": "execute_result"
    }
   ],
   "source": [
    "df.dtypes"
   ]
  },
  {
   "cell_type": "markdown",
   "metadata": {},
   "source": [
    "## Create AutoPartitioned Table "
   ]
  },
  {
   "cell_type": "code",
   "execution_count": 30,
   "metadata": {},
   "outputs": [
    {
     "name": "stdout",
     "output_type": "stream",
     "text": [
      "CREATE TABLE {} ( INN NUMBER(20), MODEL_NAME VARCHAR2(800), HYPOTHESIS VARCHAR2(800), CLIENT_TYPE VARCHAR2(800), ID_SCEN VARCHAR2(800), CREATE_DT TIMESTAMP, ONLY_SB NUMBER(20), DEAL_EVENT_DT TIMESTAMP, MODEL_TYPE VARCHAR2(800), TARGET NUMBER(20), CREATE_DT_DAY DATE ) \n",
      "PARTITION BY RANGE (CREATE_DT_DAY) \n",
      "INTERVAL(NUMTODSINTERVAL(1,'DAY')) \n",
      "(PARTITION SYS_P1 VALUES LESS THAN (TO_DATE('2021-01-01', 'YYYY-MM-DD')),\n",
      " PARTITION SYS_P2 VALUES LESS THAN (TO_DATE('2021-01-02', 'YYYY-MM-DD'))\n",
      ")\n",
      "\n"
     ]
    }
   ],
   "source": [
    "str_ = 'CREATE TABLE {} ( '\n",
    "for column_name, column in df.iteritems():\n",
    "    if column.dtype.kind == 'O':\n",
    "        if (df[column_name].str.len().max() >= 4000):\n",
    "            str_+=column_name.upper() + ' ' +'CLOB, '\n",
    "        else:\n",
    "            if 'INN' in column_name.upper() or 'KPP' in column_name.upper():\n",
    "                str_+=column_name.upper() + ' ' +'VARCHAR2(20), '\n",
    "            else:\n",
    "                str_+=column_name.upper() + ' ' +'VARCHAR2(800), '\n",
    "    elif column.dtype.kind == 'i':\n",
    "        str_+=column_name.upper() + ' ' +'NUMBER(20), '\n",
    "    elif column.dtype.kind == 'f':\n",
    "        if 'TARGET' in column_name.upper():\n",
    "            str_+=column_name.upper() + ' ' +'NUMBER(1), '\n",
    "        else:\n",
    "            df[column_name] = df[column_name].fillna(0.0)\n",
    "            str_+=column_name.upper() + ' ' +'FLOAT(126), '        \n",
    "    elif column.dtype.kind == 'M':\n",
    "        if 'CREATE_DT_DAY' in column_name.upper():\n",
    "            str_+=column_name.upper() + ' ' +'DATE, '\n",
    "        else:\n",
    "            str_+=column_name.upper() + ' ' +'TIMESTAMP, '\n",
    "    elif column.dtype.kind == 'b':\n",
    "        str_+=column_name.upper() + ' ' +'BOOLEAN, '        \n",
    "    else:\n",
    "        None  \n",
    "res=str_.strip()[:-1] + ' )' \\\n",
    "''' \n",
    "PARTITION BY RANGE (CREATE_DT_DAY) \n",
    "INTERVAL(NUMTODSINTERVAL(1,'DAY')) \n",
    "(PARTITION SYS_P1 VALUES LESS THAN (TO_DATE('2021-01-01', 'YYYY-MM-DD')),\n",
    " PARTITION SYS_P2 VALUES LESS THAN (TO_DATE('2021-01-02', 'YYYY-MM-DD'))\n",
    ")\n",
    "'''\n",
    "\n",
    "print(res)"
   ]
  },
  {
   "cell_type": "markdown",
   "metadata": {},
   "source": [
    "## Create IN table being fetched by LAL model"
   ]
  },
  {
   "cell_type": "code",
   "execution_count": 32,
   "metadata": {
    "collapsed": true
   },
   "outputs": [],
   "source": [
    "table_name_new = 'LAL_DB_HIST_IN'"
   ]
  },
  {
   "cell_type": "code",
   "execution_count": null,
   "metadata": {
    "collapsed": true,
    "scrolled": false
   },
   "outputs": [],
   "source": [
    "sql = \"DROP TABLE {}\".format(table_name_new)\n",
    "db.cursor.execute(sql)\n",
    "db.connection.commit()\n",
    "print('dropping done')"
   ]
  },
  {
   "cell_type": "code",
   "execution_count": 34,
   "metadata": {},
   "outputs": [
    {
     "name": "stdout",
     "output_type": "stream",
     "text": [
      "creating done\n"
     ]
    }
   ],
   "source": [
    "sql = res.format(table_name_new)\n",
    "\n",
    "db.cursor.execute(sql)\n",
    "db.connection.commit()\n",
    "print('creating done')"
   ]
  },
  {
   "cell_type": "code",
   "execution_count": 35,
   "metadata": {},
   "outputs": [
    {
     "name": "stdout",
     "output_type": "stream",
     "text": [
      "INSERT INTO LAL_DB_HIST_IN (INN, MODEL_NAME, HYPOTHESIS, CLIENT_TYPE, ID_SCEN, CREATE_DT, ONLY_SB, DEAL_EVENT_DT, MODEL_TYPE, TARGET, CREATE_DT_DAY) VALUES (:0,:1,:2,:3,:4,:5,:6,:7,:8,:9,:10)\n",
      "Pushing data to iskra ... \n"
     ]
    },
    {
     "name": "stderr",
     "output_type": "stream",
     "text": [
      "[Parallel(n_jobs=1)]: Using backend SequentialBackend with 1 concurrent workers.\n"
     ]
    },
    {
     "name": "stdout",
     "output_type": "stream",
     "text": [
      "Pushed 25 lines \n"
     ]
    },
    {
     "name": "stderr",
     "output_type": "stream",
     "text": [
      "[Parallel(n_jobs=1)]: Done   1 out of   1 | elapsed:    0.9s remaining:    0.0s\n",
      "[Parallel(n_jobs=1)]: Done   1 out of   1 | elapsed:    0.9s finished\n"
     ]
    }
   ],
   "source": [
    "ld.upload_df_or_csv(df, table_name_new, parallel=1, \n",
    "                    password='', path= None,\n",
    "                    isclobe=0, isuseclobdct=0, verbose=1, njobs=1)"
   ]
  },
  {
   "cell_type": "markdown",
   "metadata": {},
   "source": [
    "## Check ORA Types for Table Populated from Pandas DF"
   ]
  },
  {
   "cell_type": "code",
   "execution_count": 36,
   "metadata": {},
   "outputs": [
    {
     "data": {
      "text/html": [
       "<div>\n",
       "<style scoped>\n",
       "    .dataframe tbody tr th:only-of-type {\n",
       "        vertical-align: middle;\n",
       "    }\n",
       "\n",
       "    .dataframe tbody tr th {\n",
       "        vertical-align: top;\n",
       "    }\n",
       "\n",
       "    .dataframe thead th {\n",
       "        text-align: right;\n",
       "    }\n",
       "</style>\n",
       "<table border=\"1\" class=\"dataframe\">\n",
       "  <thead>\n",
       "    <tr style=\"text-align: right;\">\n",
       "      <th></th>\n",
       "      <th>COLUMN_NAME</th>\n",
       "      <th>DATA_TYPE</th>\n",
       "    </tr>\n",
       "  </thead>\n",
       "  <tbody>\n",
       "    <tr>\n",
       "      <th>0</th>\n",
       "      <td>INN</td>\n",
       "      <td>NUMBER(20)</td>\n",
       "    </tr>\n",
       "    <tr>\n",
       "      <th>1</th>\n",
       "      <td>MODEL_NAME</td>\n",
       "      <td>VARCHAR2(800, Byte)</td>\n",
       "    </tr>\n",
       "    <tr>\n",
       "      <th>2</th>\n",
       "      <td>HYPOTHESIS</td>\n",
       "      <td>VARCHAR2(800, Byte)</td>\n",
       "    </tr>\n",
       "    <tr>\n",
       "      <th>3</th>\n",
       "      <td>CLIENT_TYPE</td>\n",
       "      <td>VARCHAR2(800, Byte)</td>\n",
       "    </tr>\n",
       "    <tr>\n",
       "      <th>4</th>\n",
       "      <td>ID_SCEN</td>\n",
       "      <td>VARCHAR2(800, Byte)</td>\n",
       "    </tr>\n",
       "    <tr>\n",
       "      <th>5</th>\n",
       "      <td>CREATE_DT</td>\n",
       "      <td>TIMESTAMP(6)(*, 6)</td>\n",
       "    </tr>\n",
       "    <tr>\n",
       "      <th>6</th>\n",
       "      <td>ONLY_SB</td>\n",
       "      <td>NUMBER(20)</td>\n",
       "    </tr>\n",
       "    <tr>\n",
       "      <th>7</th>\n",
       "      <td>DEAL_EVENT_DT</td>\n",
       "      <td>TIMESTAMP(6)(*, 6)</td>\n",
       "    </tr>\n",
       "    <tr>\n",
       "      <th>8</th>\n",
       "      <td>MODEL_TYPE</td>\n",
       "      <td>VARCHAR2(800, Byte)</td>\n",
       "    </tr>\n",
       "    <tr>\n",
       "      <th>9</th>\n",
       "      <td>TARGET</td>\n",
       "      <td>NUMBER(20)</td>\n",
       "    </tr>\n",
       "    <tr>\n",
       "      <th>10</th>\n",
       "      <td>CREATE_DT_DAY</td>\n",
       "      <td>DATE</td>\n",
       "    </tr>\n",
       "  </tbody>\n",
       "</table>\n",
       "</div>"
      ],
      "text/plain": [
       "      COLUMN_NAME            DATA_TYPE\n",
       "0             INN           NUMBER(20)\n",
       "1      MODEL_NAME  VARCHAR2(800, Byte)\n",
       "2      HYPOTHESIS  VARCHAR2(800, Byte)\n",
       "3     CLIENT_TYPE  VARCHAR2(800, Byte)\n",
       "4         ID_SCEN  VARCHAR2(800, Byte)\n",
       "5       CREATE_DT   TIMESTAMP(6)(*, 6)\n",
       "6         ONLY_SB           NUMBER(20)\n",
       "7   DEAL_EVENT_DT   TIMESTAMP(6)(*, 6)\n",
       "8      MODEL_TYPE  VARCHAR2(800, Byte)\n",
       "9          TARGET           NUMBER(20)\n",
       "10  CREATE_DT_DAY                 DATE"
      ]
     },
     "execution_count": 36,
     "metadata": {},
     "output_type": "execute_result"
    }
   ],
   "source": [
    "user_tabs = 'user_tab_columns'\n",
    "\n",
    "query = '''\n",
    "select /*+ parallel (10) */\n",
    "column_name, data_type||\n",
    "case\n",
    "when data_precision is not Null and nvl(data_scale,0)>0 then '('||data_precision||', '||data_scale||')'\n",
    "when data_precision is not Null and nvl(data_scale,0)=0 then '('||data_precision||')'\n",
    "when data_precision is Null and data_scale is not Null then '(*, '||data_scale||')'\n",
    "when char_length>0 then '('||char_length||', '||case char_used\n",
    "                                                     when 'B' then 'Byte'\n",
    "                                                     when 'C' then 'Char'\n",
    "                                                     else null\n",
    "                                                end||')'\n",
    "end||decode(nullable, 'N', 'NOT NULL') as data_type\n",
    "FROM {}\n",
    "where table_name = '{}'\n",
    "'''.format(user_tabs, table_name_new)\n",
    "df = pd.read_sql(query, con=db.connection)\n",
    "df.head(20)"
   ]
  },
  {
   "cell_type": "markdown",
   "metadata": {},
   "source": [
    "## Check Updated Table"
   ]
  },
  {
   "cell_type": "code",
   "execution_count": null,
   "metadata": {
    "scrolled": false
   },
   "outputs": [],
   "source": [
    "query =\\\n",
    "'''\n",
    "select * from {}\n",
    "'''.format(table_name_new)\n",
    "df = pd.read_sql(query, con=db.connection)\n",
    "df.head(30)"
   ]
  },
  {
   "cell_type": "markdown",
   "metadata": {},
   "source": [
    "## Create OUT table"
   ]
  },
  {
   "cell_type": "code",
   "execution_count": 24,
   "metadata": {
    "collapsed": true
   },
   "outputs": [],
   "source": [
    "out_table_name = 'LAL_DB_HIST_OUT'"
   ]
  },
  {
   "cell_type": "code",
   "execution_count": 25,
   "metadata": {
    "scrolled": true
   },
   "outputs": [
    {
     "name": "stdout",
     "output_type": "stream",
     "text": [
      "dropping done\n"
     ]
    }
   ],
   "source": [
    "sql = \"DROP TABLE {}\".format(out_table_name)\n",
    "db.cursor.execute(sql)\n",
    "db.connection.commit()\n",
    "print('dropping done')"
   ]
  },
  {
   "cell_type": "code",
   "execution_count": 26,
   "metadata": {},
   "outputs": [
    {
     "name": "stdout",
     "output_type": "stream",
     "text": [
      "creating done\n"
     ]
    }
   ],
   "source": [
    "sql =\\\n",
    "'''\n",
    "CREATE TABLE {} \n",
    "( INN NUMBER(20), \n",
    "  MODEL_NAME VARCHAR2(800),\n",
    "  MODEL_TYPE VARCHAR2(800),  \n",
    "  ID_SCEN VARCHAR2(800), \n",
    "  HYPOTHESIS VARCHAR2(800), \n",
    "  CLIENT_TYPE VARCHAR2(800),   \n",
    "  PROBA FLOAT(126), \n",
    "  CREATE_DT TIMESTAMP,\n",
    "  CREATE_DT_DAY DATE ) \n",
    "  \n",
    "PARTITION BY RANGE (CREATE_DT_DAY) \n",
    "INTERVAL(NUMTODSINTERVAL(1,'DAY')) \n",
    "(PARTITION SYS_P1 VALUES LESS THAN (TO_DATE('2021-01-01', 'YYYY-MM-DD')),\n",
    " PARTITION SYS_P2 VALUES LESS THAN (TO_DATE('2021-01-02', 'YYYY-MM-DD'))\n",
    ")\n",
    "'''.format(out_table_name)\n",
    "\n",
    "db.cursor.execute(sql)\n",
    "db.connection.commit()\n",
    "print('creating done')"
   ]
  },
  {
   "cell_type": "markdown",
   "metadata": {},
   "source": [
    "## Create INFO table"
   ]
  },
  {
   "cell_type": "code",
   "execution_count": 37,
   "metadata": {
    "collapsed": true
   },
   "outputs": [],
   "source": [
    "out_table_name = 'LAL_DB_HIST_INFO'"
   ]
  },
  {
   "cell_type": "code",
   "execution_count": 39,
   "metadata": {},
   "outputs": [
    {
     "name": "stdout",
     "output_type": "stream",
     "text": [
      "creating done\n"
     ]
    }
   ],
   "source": [
    "sql =\\\n",
    "'''\n",
    "CREATE TABLE {} \n",
    "( MODEL_NAME VARCHAR2(800),\n",
    "  MODEL_TYPE VARCHAR2(800),  \n",
    "  ID_SCEN VARCHAR2(800), \n",
    "  DECILE NUMBER(20),\n",
    "  DECILE_SIZE NUMBER(38),\n",
    "  PROBA_MIN FLOAT(126),\n",
    "  PROBA_MAX FLOAT(126),\n",
    "  CUM_POSITIVE_RATIO FLOAT(126),\n",
    "  CREATE_DT TIMESTAMP,\n",
    "  CREATE_DT_DAY DATE ) \n",
    "  \n",
    "PARTITION BY RANGE (CREATE_DT_DAY) \n",
    "INTERVAL(NUMTODSINTERVAL(1,'DAY')) \n",
    "(PARTITION SYS_P1 VALUES LESS THAN (TO_DATE('2021-01-01', 'YYYY-MM-DD')),\n",
    " PARTITION SYS_P2 VALUES LESS THAN (TO_DATE('2021-01-02', 'YYYY-MM-DD'))\n",
    ")\n",
    "'''.format(out_table_name)\n",
    "\n",
    "db.cursor.execute(sql)\n",
    "db.connection.commit()\n",
    "print('creating done')"
   ]
  },
  {
   "cell_type": "code",
   "execution_count": null,
   "metadata": {
    "collapsed": true
   },
   "outputs": [],
   "source": []
  },
  {
   "cell_type": "markdown",
   "metadata": {},
   "source": [
    "## Run a Query to a Specific Partition"
   ]
  },
  {
   "cell_type": "code",
   "execution_count": null,
   "metadata": {
    "scrolled": false
   },
   "outputs": [],
   "source": [
    "query =\\\n",
    "'''\n",
    "select * from {}\n",
    "partition for (date '2021-04-26')\n",
    "'''.format(table_name_new)\n",
    "df = pd.read_sql(query, con=db.connection)\n",
    "df.head(20)"
   ]
  },
  {
   "cell_type": "code",
   "execution_count": null,
   "metadata": {
    "scrolled": false
   },
   "outputs": [],
   "source": [
    "query =\\\n",
    "'''\n",
    "select * from {}\n",
    "partition (SYS_P34399)\n",
    "'''.format(table_name_new)\n",
    "df = pd.read_sql(query, con=db.connection)\n",
    "df.head(20)"
   ]
  },
  {
   "cell_type": "markdown",
   "metadata": {},
   "source": [
    "## Get Detailed Info About Partitions"
   ]
  },
  {
   "cell_type": "code",
   "execution_count": null,
   "metadata": {
    "scrolled": true
   },
   "outputs": [],
   "source": [
    "query = '''\n",
    "select /*+ parallel (12) */\n",
    "          *\n",
    "FROM ALL_TAB_PARTITIONS\n",
    "WHERE TABLE_NAME LIKE '%LAL%'\n",
    "'''\n",
    "df = pd.read_sql(query, con=db.connection)\n",
    "df.head()"
   ]
  },
  {
   "cell_type": "markdown",
   "metadata": {},
   "source": [
    "## Aggregate to List All Current Partitions"
   ]
  },
  {
   "cell_type": "code",
   "execution_count": 286,
   "metadata": {
    "scrolled": true
   },
   "outputs": [
    {
     "data": {
      "text/html": [
       "<div>\n",
       "<style scoped>\n",
       "    .dataframe tbody tr th:only-of-type {\n",
       "        vertical-align: middle;\n",
       "    }\n",
       "\n",
       "    .dataframe tbody tr th {\n",
       "        vertical-align: top;\n",
       "    }\n",
       "\n",
       "    .dataframe thead th {\n",
       "        text-align: right;\n",
       "    }\n",
       "</style>\n",
       "<table border=\"1\" class=\"dataframe\">\n",
       "  <thead>\n",
       "    <tr style=\"text-align: right;\">\n",
       "      <th></th>\n",
       "      <th>PART_LIST</th>\n",
       "    </tr>\n",
       "  </thead>\n",
       "  <tbody>\n",
       "    <tr>\n",
       "      <th>0</th>\n",
       "      <td>SYS_P1,SYS_P2,SYS_P34412,SYS_P34413,SYS_P34414</td>\n",
       "    </tr>\n",
       "  </tbody>\n",
       "</table>\n",
       "</div>"
      ],
      "text/plain": [
       "                                        PART_LIST\n",
       "0  SYS_P1,SYS_P2,SYS_P34412,SYS_P34413,SYS_P34414"
      ]
     },
     "execution_count": 286,
     "metadata": {},
     "output_type": "execute_result"
    }
   ],
   "source": [
    "query = '''\n",
    "select /*+ parallel (12) */\n",
    "          LISTAGG(PARTITION_NAME,',') WITHIN GROUP(ORDER BY TABLE_NAME) AS PART_LIST\n",
    "FROM ALL_TAB_PARTITIONS\n",
    "WHERE TABLE_NAME LIKE '%LAL%'\n",
    "'''\n",
    "df = pd.read_sql(query, con=db.connection)\n",
    "df.head()"
   ]
  },
  {
   "cell_type": "markdown",
   "metadata": {},
   "source": [
    "## Drop Partitions Older Than 2 Month"
   ]
  },
  {
   "cell_type": "code",
   "execution_count": 297,
   "metadata": {
    "collapsed": true,
    "scrolled": true
   },
   "outputs": [],
   "source": [
    "query = '''\n",
    "BEGIN\n",
    "       FOR cc IN (SELECT partition_name, high_value --\n",
    "                    FROM all_tab_partitions\n",
    "                   WHERE table_name = '{tbl}') LOOP\n",
    "          EXECUTE IMMEDIATE\n",
    "             'BEGIN\n",
    "                 IF sysdate >= ADD_MONTHS(' || cc.high_value || ', 2) THEN\n",
    "                    EXECUTE IMMEDIATE\n",
    "                       ''ALTER TABLE {tbl} DROP PARTITION '\n",
    "                      || cc.partition_name || '\n",
    "                      '';\n",
    "                 END IF;\n",
    "              END;';\n",
    "       END LOOP;\n",
    "END;\n",
    "'''.format(tbl=table_name_new.upper())\n",
    "\n",
    "curs.execute(query)\n",
    "db.connection.commit()"
   ]
  },
  {
   "cell_type": "markdown",
   "metadata": {},
   "source": [
    "## Check Remaining Partitions"
   ]
  },
  {
   "cell_type": "code",
   "execution_count": 298,
   "metadata": {},
   "outputs": [
    {
     "data": {
      "text/html": [
       "<div>\n",
       "<style scoped>\n",
       "    .dataframe tbody tr th:only-of-type {\n",
       "        vertical-align: middle;\n",
       "    }\n",
       "\n",
       "    .dataframe tbody tr th {\n",
       "        vertical-align: top;\n",
       "    }\n",
       "\n",
       "    .dataframe thead th {\n",
       "        text-align: right;\n",
       "    }\n",
       "</style>\n",
       "<table border=\"1\" class=\"dataframe\">\n",
       "  <thead>\n",
       "    <tr style=\"text-align: right;\">\n",
       "      <th></th>\n",
       "      <th>PART_LIST</th>\n",
       "    </tr>\n",
       "  </thead>\n",
       "  <tbody>\n",
       "    <tr>\n",
       "      <th>0</th>\n",
       "      <td>SYS_P34415,SYS_P34416,SYS_P34417</td>\n",
       "    </tr>\n",
       "  </tbody>\n",
       "</table>\n",
       "</div>"
      ],
      "text/plain": [
       "                          PART_LIST\n",
       "0  SYS_P34415,SYS_P34416,SYS_P34417"
      ]
     },
     "execution_count": 298,
     "metadata": {},
     "output_type": "execute_result"
    }
   ],
   "source": [
    "query = '''\n",
    "select /*+ parallel (12) */\n",
    "          LISTAGG(PARTITION_NAME,',') WITHIN GROUP(ORDER BY TABLE_NAME) AS PART_LIST\n",
    "FROM ALL_TAB_PARTITIONS\n",
    "WHERE TABLE_NAME LIKE '%LAL%'\n",
    "--AND SYSDATE >= ADD_MONTHS(' || HIGH_VALUE || ',2)\n",
    "'''\n",
    "df = pd.read_sql(query, con=db.connection)\n",
    "df.head()"
   ]
  },
  {
   "cell_type": "markdown",
   "metadata": {},
   "source": [
    "## Drop Partitions Older Than 5 Days"
   ]
  },
  {
   "cell_type": "code",
   "execution_count": null,
   "metadata": {
    "collapsed": true,
    "scrolled": true
   },
   "outputs": [],
   "source": [
    "query = '''\n",
    "BEGIN\n",
    "       FOR cc IN (SELECT partition_name, high_value --\n",
    "                    FROM all_tab_partitions\n",
    "                   WHERE table_name = '{tbl}') LOOP\n",
    "          EXECUTE IMMEDIATE\n",
    "             'BEGIN\n",
    "                 IF (sysdate - interval ''5'' DAY) <= ADD_MONTHS(' || cc.high_value || ', 0) THEN\n",
    "                    EXECUTE IMMEDIATE\n",
    "                       ''ALTER TABLE {tbl} DROP PARTITION '\n",
    "                      || cc.partition_name || '\n",
    "                      '';\n",
    "                 END IF;\n",
    "              END;';\n",
    "       END LOOP;\n",
    "END;\n",
    "'''.format(tbl=table_name_new.upper())\n",
    "\n",
    "curs.execute(query)\n",
    "db.connection.commit()"
   ]
  },
  {
   "cell_type": "code",
   "execution_count": null,
   "metadata": {
    "collapsed": true
   },
   "outputs": [],
   "source": [
    "query = '''\n",
    "select /*+ parallel (12) */\n",
    "          LISTAGG(PARTITION_NAME,',') WITHIN GROUP(ORDER BY TABLE_NAME) AS PART_LIST\n",
    "FROM ALL_TAB_PARTITIONS\n",
    "WHERE TABLE_NAME LIKE '%LAL%'\n",
    "--AND SYSDATE >= ADD_MONTHS(' || HIGH_VALUE || ',2)\n",
    "'''\n",
    "df = pd.read_sql(query, con=db.connection)\n",
    "df.head()"
   ]
  }
 ],
 "metadata": {
  "kernelspec": {
   "display_name": "Python 3",
   "language": "python",
   "name": "python3"
  },
  "language_info": {
   "codemirror_mode": {
    "name": "ipython",
    "version": 3
   },
   "file_extension": ".py",
   "mimetype": "text/x-python",
   "name": "python",
   "nbconvert_exporter": "python",
   "pygments_lexer": "ipython3",
   "version": "3.7.4"
  },
  "pycharm": {
   "stem_cell": {
    "cell_type": "raw",
    "metadata": {
     "collapsed": false
    },
    "source": []
   }
  }
 },
 "nbformat": 4,
 "nbformat_minor": 2
}
