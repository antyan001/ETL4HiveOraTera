{
 "cells": [
  {
   "cell_type": "code",
   "execution_count": 1,
   "metadata": {
    "collapsed": true
   },
   "outputs": [],
   "source": [
    "%reload_ext autoreload\n",
    "%autoreload 2"
   ]
  },
  {
   "cell_type": "code",
   "execution_count": 2,
   "metadata": {
    "collapsed": true
   },
   "outputs": [],
   "source": [
    "import os\n",
    "import sys\n",
    "curruser = os.environ.get('USER')\n",
    "\n",
    "_labdata = os.environ.get(\"LABDATA_PYSPARK\")\n",
    "sys.path.insert(0, _labdata)\n",
    "os.chdir(_labdata)\n",
    "\n",
    "if curruser in os.listdir(\"/opt/workspace/\"):\n",
    "    sys.path.insert(0, '/opt/workspace/{user}/notebooks/support_library/'.format(user=curruser))\n",
    "    sys.path.insert(0, '/opt/workspace/{user}/libs/python3.5/site-packages/'.format(user=curruser))\n",
    "    # sys.path.insert(0, '/opt/workspace/{user}/notebooks/labdata_v1.2/lib/'.format(user=curruser))\n",
    "else:\n",
    "    sys.path.insert(0, '/home/{}/notebooks/support_library/'.format(curruser))\n",
    "    sys.path.insert(0, '/home/{}/python35-libs/lib/python3.5/site-packages/'.format(curruser))\n",
    "    # sys.path.insert(0, '/home/{}/notebooks/labdata/lib/'.format(curruser))\n",
    "\n",
    "#import tendo.singleton\n",
    "import warnings\n",
    "warnings.filterwarnings('ignore')\n",
    "\n",
    "import joblib\n",
    "import json\n",
    "from joblib import Parallel, delayed\n",
    "\n",
    "from time import sleep\n",
    "from itertools import islice\n",
    "from multiprocessing import Pool, Process, JoinableQueue\n",
    "from multiprocessing.pool import ThreadPool\n",
    "from functools import partial\n",
    "import subprocess\n",
    "from threading import Thread\n",
    "import time\n",
    "from datetime import datetime as dt\n",
    "\n",
    "from transliterate import translit\n",
    "\n",
    "from lib.spark_connector import SparkConnector\n",
    "from lib.sparkdb_loader import *\n",
    "from lib.connector import OracleDB\n",
    "import pyspark\n",
    "from pyspark import SparkContext, SparkConf, HiveContext\n",
    "from pyspark.sql.window import Window\n",
    "from pyspark.sql.functions import *\n",
    "import pyspark.sql.functions as f\n",
    "from pyspark.sql.types import *\n",
    "from pyspark.sql.dataframe import DataFrame\n",
    "from pyspark.sql import Row\n",
    "\n",
    "import re\n",
    "import pandas as pd\n",
    "import numpy as np\n",
    "from tqdm._tqdm_notebook import tqdm_notebook\n",
    "from pathlib import Path\n",
    "import shutil\n",
    "import loader as load\n",
    "from collections import ChainMap\n",
    "\n",
    "from lib.config import *\n",
    "from lib.tools import *\n",
    "\n",
    "# sing = tendo.singleton.SingleInstance()\n",
    "\n",
    "# os.chdir('/opt/workspace/ektov/notebooks/Clickstream_Analytics/AutoUpdate/')\n",
    "# os.chdir('/opt/workspace/{}/notebooks/clickstream/AutoUpdate/'.format(curruser))\n",
    "\n",
    "def show(self, n=10):\n",
    "    return self.limit(n).toPandas()\n",
    "\n",
    "def typed_udf(return_type):\n",
    "    '''Make a UDF decorator with the given return type'''\n",
    "\n",
    "    def _typed_udf_wrapper(func):\n",
    "        return f.udf(func,return_type)\n",
    "\n",
    "    return _typed_udf_wrapper\n",
    "\n",
    "pyspark.sql.dataframe.DataFrame.show = show\n",
    "\n",
    "def print_and_log(message: str):\n",
    "    print(message)\n",
    "    logger.info(message)\n",
    "    return None\n",
    "\n",
    "# CONN_SCHEMA = 'sbx_team_digitcamp' #'sbx_t_team_cvm'\n"
   ]
  },
  {
   "cell_type": "code",
   "execution_count": 3,
   "metadata": {
    "collapsed": true
   },
   "outputs": [],
   "source": [
    "##-----------------------------------------\n",
    "conn_schema = 'sbx_team_digitcamp'\n",
    "ga_schema = 'sklod_external_google_analytics'\n",
    "tbl = 'GA_SITE_ALL_PRODS'\n",
    "out_table_name = 'GA_ALL_SCENARIOS_HIST'\n",
    "##-----------------------------------------\n",
    "\n",
    "def show(self, n=10):\n",
    "    return self.limit(n).toPandas()\n",
    "\n",
    "pyspark.sql.dataframe.DataFrame.show = show\n",
    "\n",
    "def typed_udf(return_type):\n",
    "    '''Make a UDF decorator with the given return type'''\n",
    "\n",
    "    def _typed_udf_wrapper(func):\n",
    "        return f.udf(func,return_type)\n",
    "\n",
    "# @typed_udf(StringType())\n",
    "def match_product(product_dict_nm):\n",
    "    def get_product(product_norm, product_dict_nm):\n",
    "        if product_norm is None:\n",
    "            return None\n",
    "\n",
    "        for product_nm in product_dict_nm:\n",
    "            if product_nm in product_norm:\n",
    "                return product_dict_nm[product_nm]\n",
    "            else:\n",
    "                return None\n",
    "\n",
    "    return f.udf(lambda x: get_product(x,product_dict_nm))"
   ]
  },
  {
   "cell_type": "code",
   "execution_count": 5,
   "metadata": {
    "collapsed": true
   },
   "outputs": [],
   "source": [
    "sys.path.insert(0, '/opt/workspace/{user}/notebooks/ETL_EXAMPLES/ORA_TERA_ETL/ora_examples/src'.format(user=curruser))\n",
    "\n",
    "import re\n",
    "import pandas as pd\n",
    "import numpy as np\n",
    "from tqdm._tqdm_notebook import tqdm_notebook\n",
    "from pathlib import Path\n",
    "import shutil\n",
    "import loader as load\n",
    "from etl import ETLORA"
   ]
  },
  {
   "cell_type": "code",
   "execution_count": 6,
   "metadata": {
    "scrolled": true
   },
   "outputs": [
    {
     "name": "stdout",
     "output_type": "stream",
     "text": [
      "### Starting spark context. Run!\n",
      "====================================================== 2021-09-16 ======================================================\n",
      "# __init__ : begin\n",
      "2.4.0.cloudera2\n"
     ]
    }
   ],
   "source": [
    "print(\"### Starting spark context. Run!\")\n",
    "\n",
    "sp = spark(schema=conn_schema,\n",
    "               dynamic_alloc=False,\n",
    "               numofinstances=9,\n",
    "               numofcores=8,\n",
    "               executor_memory='35g',\n",
    "               driver_memory='35g',\n",
    "               kerberos_auth=True,\n",
    "               process_label=\"SAS_EXPORT2HIVE\"\n",
    "               )\n",
    "\n",
    "hive = sp.sql\n",
    "print(sp.sc.version)"
   ]
  },
  {
   "cell_type": "markdown",
   "metadata": {},
   "source": [
    "## Establish a Connection to Oracle WareHouse"
   ]
  },
  {
   "cell_type": "code",
   "execution_count": 9,
   "metadata": {
    "collapsed": true
   },
   "outputs": [],
   "source": [
    "#'MA_CMDM_MA_DEAL' #'AIST_INTERACTION_HISTORY' 'NRT_ALL_SCENARIOS_HIST'\n",
    "ISKRA_TABLE = 'SME_CDM_MMB_OFFER_TO_INSIGHT'\n",
    "user_tabs = 'user_tab_columns'"
   ]
  },
  {
   "cell_type": "code",
   "execution_count": 10,
   "metadata": {
    "collapsed": true
   },
   "outputs": [],
   "source": [
    "ld=load.Loader(init_dsn=True, encoding='cp1251',  sep=',')\n",
    "db = load.OracleDB('', '', ld._get_dsn('iskra4')) \n",
    "db.connect()\n",
    "curs = db.cursor"
   ]
  },
  {
   "cell_type": "code",
   "execution_count": 14,
   "metadata": {
    "collapsed": true
   },
   "outputs": [],
   "source": [
    "query = \\\n",
    "'''\n",
    "select /*+ parallel (12) */ inn, sbboluserid, id_product, scenario_id, funnel_rate, load_dt from GA_ALL_SCENARIOS_HIST \n",
    "where 1=1 and\n",
    "scenario_id in ('SITEALLPRODS_01', 'STORIES_01') and \n",
    "load_dt = to_date('2020-06-30', 'yyyy-mm-dd')\n",
    "'''"
   ]
  },
  {
   "cell_type": "code",
   "execution_count": 31,
   "metadata": {
    "collapsed": true,
    "scrolled": true
   },
   "outputs": [],
   "source": [
    "query=\\\n",
    "'''\n",
    "select/*+ parallel (12) */\n",
    "OFFER_ID\n",
    ",INSIGHT_ID\n",
    ",SAS_DYN_PAR_ID\n",
    ",INPUT_NV_FLG\n",
    ",EXCLD_FLG\n",
    ",TO_CHAR(LOAD_DTTM, 'yyyy-mm-dd') as LOAD_DTTM\n",
    "--distinct(load_dttm) \n",
    "from {}\n",
    "where 1=1\n",
    "and rownum < 300000\n",
    "--order by load_dttm desc\n",
    "'''.format(ISKRA_TABLE)\n",
    "df = pd.read_sql(query, con=db.connection)"
   ]
  },
  {
   "cell_type": "code",
   "execution_count": 33,
   "metadata": {
    "scrolled": true
   },
   "outputs": [
    {
     "data": {
      "text/plain": [
       "OFFER_ID           int64\n",
       "INSIGHT_ID         int64\n",
       "SAS_DYN_PAR_ID    object\n",
       "INPUT_NV_FLG       int64\n",
       "EXCLD_FLG          int64\n",
       "LOAD_DTTM         object\n",
       "dtype: object"
      ]
     },
     "execution_count": 33,
     "metadata": {},
     "output_type": "execute_result"
    }
   ],
   "source": [
    "df.dtypes"
   ]
  },
  {
   "cell_type": "code",
   "execution_count": 5,
   "metadata": {
    "collapsed": true
   },
   "outputs": [],
   "source": [
    "query = '''\n",
    "(select /*+ parallel (12) */\n",
    "        * --CALL_INCOMING_CALL, ACTION_ITEM_PRODUCT_ID\n",
    "FROM {}\n",
    "where 1=1\n",
    "--and CALL_INCOMING_CALL = 0\n",
    "and rownum < 400000\n",
    "--and \n",
    "--( (ACTION_ITEM_PRODUCT_ID is not Null) \n",
    "--  and \n",
    "--  (ACTION_ITEM_PRODUCT_ID <> 'null')\n",
    "--)\n",
    ")\n",
    "'''.format(ISKRA_TABLE)"
   ]
  },
  {
   "cell_type": "code",
   "execution_count": 20,
   "metadata": {
    "collapsed": true,
    "scrolled": true
   },
   "outputs": [],
   "source": [
    "df = pd.read_sql(query, con=db.connection)"
   ]
  },
  {
   "cell_type": "code",
   "execution_count": null,
   "metadata": {
    "scrolled": false
   },
   "outputs": [],
   "source": [
    "df.sort_values(by=['ACCT_SIGNED_DT'], ascending=False).head(50)"
   ]
  },
  {
   "cell_type": "code",
   "execution_count": 11,
   "metadata": {
    "collapsed": true
   },
   "outputs": [],
   "source": [
    "query = '''\n",
    "select /*+ parallel (10) */\n",
    "column_name, data_type||\n",
    "case\n",
    "when data_precision is not Null and nvl(data_scale,0)>0 then '('||data_precision||', '||data_scale||')'\n",
    "when data_precision is not Null and nvl(data_scale,0)=0 then '('||data_precision||')'\n",
    "when data_precision is Null and data_scale is not Null then '(*, '||data_scale||')'\n",
    "when char_length>0 then '('||char_length||', '||case char_used\n",
    "                                                     when 'B' then 'Byte'\n",
    "                                                     when 'C' then 'Char'\n",
    "                                                     else null\n",
    "                                                end||')'\n",
    "end||decode(nullable, 'N', 'NOT NULL') as data_type\n",
    "FROM {}\n",
    "where table_name = '{}'\n",
    "'''.format(user_tabs, ISKRA_TABLE)\n",
    "df = pd.read_sql(query, con=db.connection)"
   ]
  },
  {
   "cell_type": "code",
   "execution_count": 12,
   "metadata": {
    "scrolled": true
   },
   "outputs": [
    {
     "data": {
      "text/html": [
       "<div>\n",
       "<style scoped>\n",
       "    .dataframe tbody tr th:only-of-type {\n",
       "        vertical-align: middle;\n",
       "    }\n",
       "\n",
       "    .dataframe tbody tr th {\n",
       "        vertical-align: top;\n",
       "    }\n",
       "\n",
       "    .dataframe thead th {\n",
       "        text-align: right;\n",
       "    }\n",
       "</style>\n",
       "<table border=\"1\" class=\"dataframe\">\n",
       "  <thead>\n",
       "    <tr style=\"text-align: right;\">\n",
       "      <th></th>\n",
       "      <th>COLUMN_NAME</th>\n",
       "      <th>DATA_TYPE</th>\n",
       "    </tr>\n",
       "  </thead>\n",
       "  <tbody>\n",
       "    <tr>\n",
       "      <th>0</th>\n",
       "      <td>OFFER_ID</td>\n",
       "      <td>NUMBER</td>\n",
       "    </tr>\n",
       "    <tr>\n",
       "      <th>1</th>\n",
       "      <td>INSIGHT_ID</td>\n",
       "      <td>NUMBER</td>\n",
       "    </tr>\n",
       "    <tr>\n",
       "      <th>2</th>\n",
       "      <td>SAS_DYN_PAR_ID</td>\n",
       "      <td>NUMBER</td>\n",
       "    </tr>\n",
       "    <tr>\n",
       "      <th>3</th>\n",
       "      <td>INPUT_NV_FLG</td>\n",
       "      <td>NUMBER(9)</td>\n",
       "    </tr>\n",
       "    <tr>\n",
       "      <th>4</th>\n",
       "      <td>EXCLD_FLG</td>\n",
       "      <td>NUMBER(9)</td>\n",
       "    </tr>\n",
       "    <tr>\n",
       "      <th>5</th>\n",
       "      <td>LOAD_DTTM</td>\n",
       "      <td>DATE</td>\n",
       "    </tr>\n",
       "  </tbody>\n",
       "</table>\n",
       "</div>"
      ],
      "text/plain": [
       "      COLUMN_NAME  DATA_TYPE\n",
       "0        OFFER_ID     NUMBER\n",
       "1      INSIGHT_ID     NUMBER\n",
       "2  SAS_DYN_PAR_ID     NUMBER\n",
       "3    INPUT_NV_FLG  NUMBER(9)\n",
       "4       EXCLD_FLG  NUMBER(9)\n",
       "5       LOAD_DTTM       DATE"
      ]
     },
     "execution_count": 12,
     "metadata": {},
     "output_type": "execute_result"
    }
   ],
   "source": [
    "df.head(65)"
   ]
  },
  {
   "cell_type": "code",
   "execution_count": null,
   "metadata": {
    "collapsed": true
   },
   "outputs": [],
   "source": []
  },
  {
   "cell_type": "markdown",
   "metadata": {},
   "source": [
    "## FIRST: Fetching a small part of dataframe"
   ]
  },
  {
   "cell_type": "code",
   "execution_count": 13,
   "metadata": {
    "collapsed": true,
    "scrolled": true
   },
   "outputs": [],
   "source": [
    "query = '''\n",
    "(select /*+ parallel (8) */\n",
    "          *\n",
    "FROM {}\n",
    "where rownum < 500)\n",
    "'''.format(ISKRA_TABLE)"
   ]
  },
  {
   "cell_type": "code",
   "execution_count": 14,
   "metadata": {
    "collapsed": true,
    "scrolled": true
   },
   "outputs": [],
   "source": [
    "sdf = sp.get_oracle(OracleDB('iskra4'), query)"
   ]
  },
  {
   "cell_type": "code",
   "execution_count": 15,
   "metadata": {
    "scrolled": true
   },
   "outputs": [
    {
     "data": {
      "text/html": [
       "<div>\n",
       "<style scoped>\n",
       "    .dataframe tbody tr th:only-of-type {\n",
       "        vertical-align: middle;\n",
       "    }\n",
       "\n",
       "    .dataframe tbody tr th {\n",
       "        vertical-align: top;\n",
       "    }\n",
       "\n",
       "    .dataframe thead th {\n",
       "        text-align: right;\n",
       "    }\n",
       "</style>\n",
       "<table border=\"1\" class=\"dataframe\">\n",
       "  <thead>\n",
       "    <tr style=\"text-align: right;\">\n",
       "      <th></th>\n",
       "      <th>OFFER_ID</th>\n",
       "      <th>INSIGHT_ID</th>\n",
       "      <th>SAS_DYN_PAR_ID</th>\n",
       "      <th>INPUT_NV_FLG</th>\n",
       "      <th>EXCLD_FLG</th>\n",
       "      <th>LOAD_DTTM</th>\n",
       "    </tr>\n",
       "  </thead>\n",
       "  <tbody>\n",
       "    <tr>\n",
       "      <th>0</th>\n",
       "      <td>8663212874.0000000000</td>\n",
       "      <td>7586214121.0000000000</td>\n",
       "      <td>None</td>\n",
       "      <td>0</td>\n",
       "      <td>0</td>\n",
       "      <td>2021-05-05</td>\n",
       "    </tr>\n",
       "    <tr>\n",
       "      <th>1</th>\n",
       "      <td>8658985001.0000000000</td>\n",
       "      <td>7586716858.0000000000</td>\n",
       "      <td>None</td>\n",
       "      <td>0</td>\n",
       "      <td>0</td>\n",
       "      <td>2021-05-05</td>\n",
       "    </tr>\n",
       "    <tr>\n",
       "      <th>2</th>\n",
       "      <td>8663227825.0000000000</td>\n",
       "      <td>7587163220.0000000000</td>\n",
       "      <td>None</td>\n",
       "      <td>0</td>\n",
       "      <td>0</td>\n",
       "      <td>2021-05-05</td>\n",
       "    </tr>\n",
       "    <tr>\n",
       "      <th>3</th>\n",
       "      <td>8664441404.0000000000</td>\n",
       "      <td>7584921469.0000000000</td>\n",
       "      <td>None</td>\n",
       "      <td>0</td>\n",
       "      <td>0</td>\n",
       "      <td>2021-05-05</td>\n",
       "    </tr>\n",
       "    <tr>\n",
       "      <th>4</th>\n",
       "      <td>8682260600.0000000000</td>\n",
       "      <td>7585964789.0000000000</td>\n",
       "      <td>None</td>\n",
       "      <td>0</td>\n",
       "      <td>0</td>\n",
       "      <td>2021-05-05</td>\n",
       "    </tr>\n",
       "    <tr>\n",
       "      <th>5</th>\n",
       "      <td>8666100602.0000000000</td>\n",
       "      <td>7586330242.0000000000</td>\n",
       "      <td>None</td>\n",
       "      <td>0</td>\n",
       "      <td>0</td>\n",
       "      <td>2021-05-05</td>\n",
       "    </tr>\n",
       "    <tr>\n",
       "      <th>6</th>\n",
       "      <td>8655383267.0000000000</td>\n",
       "      <td>7584629716.0000000000</td>\n",
       "      <td>None</td>\n",
       "      <td>0</td>\n",
       "      <td>0</td>\n",
       "      <td>2021-05-05</td>\n",
       "    </tr>\n",
       "    <tr>\n",
       "      <th>7</th>\n",
       "      <td>8665587950.0000000000</td>\n",
       "      <td>7584722207.0000000000</td>\n",
       "      <td>None</td>\n",
       "      <td>0</td>\n",
       "      <td>0</td>\n",
       "      <td>2021-05-05</td>\n",
       "    </tr>\n",
       "    <tr>\n",
       "      <th>8</th>\n",
       "      <td>8663496639.0000000000</td>\n",
       "      <td>7587803137.0000000000</td>\n",
       "      <td>None</td>\n",
       "      <td>0</td>\n",
       "      <td>0</td>\n",
       "      <td>2021-05-05</td>\n",
       "    </tr>\n",
       "    <tr>\n",
       "      <th>9</th>\n",
       "      <td>8660437303.0000000000</td>\n",
       "      <td>7585679140.0000000000</td>\n",
       "      <td>None</td>\n",
       "      <td>0</td>\n",
       "      <td>0</td>\n",
       "      <td>2021-05-05</td>\n",
       "    </tr>\n",
       "  </tbody>\n",
       "</table>\n",
       "</div>"
      ],
      "text/plain": [
       "                OFFER_ID             INSIGHT_ID SAS_DYN_PAR_ID INPUT_NV_FLG  \\\n",
       "0  8663212874.0000000000  7586214121.0000000000           None            0   \n",
       "1  8658985001.0000000000  7586716858.0000000000           None            0   \n",
       "2  8663227825.0000000000  7587163220.0000000000           None            0   \n",
       "3  8664441404.0000000000  7584921469.0000000000           None            0   \n",
       "4  8682260600.0000000000  7585964789.0000000000           None            0   \n",
       "5  8666100602.0000000000  7586330242.0000000000           None            0   \n",
       "6  8655383267.0000000000  7584629716.0000000000           None            0   \n",
       "7  8665587950.0000000000  7584722207.0000000000           None            0   \n",
       "8  8663496639.0000000000  7587803137.0000000000           None            0   \n",
       "9  8660437303.0000000000  7585679140.0000000000           None            0   \n",
       "\n",
       "  EXCLD_FLG  LOAD_DTTM  \n",
       "0         0 2021-05-05  \n",
       "1         0 2021-05-05  \n",
       "2         0 2021-05-05  \n",
       "3         0 2021-05-05  \n",
       "4         0 2021-05-05  \n",
       "5         0 2021-05-05  \n",
       "6         0 2021-05-05  \n",
       "7         0 2021-05-05  \n",
       "8         0 2021-05-05  \n",
       "9         0 2021-05-05  "
      ]
     },
     "execution_count": 15,
     "metadata": {},
     "output_type": "execute_result"
    }
   ],
   "source": [
    "sdf.show()"
   ]
  },
  {
   "cell_type": "markdown",
   "metadata": {},
   "source": [
    "# Check types in advance"
   ]
  },
  {
   "cell_type": "code",
   "execution_count": 30,
   "metadata": {
    "collapsed": true
   },
   "outputs": [],
   "source": [
    "etl = ETLORA()"
   ]
  },
  {
   "cell_type": "markdown",
   "metadata": {},
   "source": [
    "### Create a dummy dataframe in Hive"
   ]
  },
  {
   "cell_type": "code",
   "execution_count": 32,
   "metadata": {
    "collapsed": true
   },
   "outputs": [],
   "source": [
    "tbls =\\\n",
    "[\n",
    "    \"MA_TMP_MMB_OFFER_PROC_COE\",\n",
    "    \"ma_tmp_mmb_offer_proc_exclude\",\n",
    "    \"SME_CDM_ma_mmb_offer_history\",\n",
    "    \"S_cdm.ma_mmb_stop_customer_history\",\n",
    "    \"ma_dict.ma_mmb_conv_coef_dict\",\n",
    "    \"S_cdm.ma_mmb_stop_offer_history\"\n",
    "]"
   ]
  },
  {
   "cell_type": "code",
   "execution_count": 15,
   "metadata": {
    "collapsed": true
   },
   "outputs": [],
   "source": [
    "ISKRA_TABLE = tbls[1] #'AIST_INTERACTION_HISTORY' #'MA_PRODUCT_DICT' #'MA_MMB_OFFER_NONTOP' #'OFFER_PRIORITY' #'MA_MMB_OFFER_NONTOP' #'MA_TASK' #'AIST_INTERACTION_HIST'\n",
    "hive_out_tbl = ISKRA_TABLE"
   ]
  },
  {
   "cell_type": "code",
   "execution_count": 33,
   "metadata": {
    "collapsed": true
   },
   "outputs": [],
   "source": [
    "ld=load.Loader(init_dsn=True, encoding='cp1251',  sep=',')\n",
    "db = load.OracleDB('', '', ld._get_dsn('iskra4')) \n",
    "db.connect()\n",
    "curs = db.cursor"
   ]
  },
  {
   "cell_type": "code",
   "execution_count": 34,
   "metadata": {
    "collapsed": true
   },
   "outputs": [],
   "source": [
    "my_sql = '''\n",
    "select /*+ parallel (10) */\n",
    "              * \n",
    "FROM {}\n",
    "where rownum < 10000\n",
    "'''.format(ISKRA_TABLE)"
   ]
  },
  {
   "cell_type": "code",
   "execution_count": 35,
   "metadata": {
    "collapsed": true
   },
   "outputs": [],
   "source": [
    "df = pd.read_sql(my_sql, con=db.connection)"
   ]
  },
  {
   "cell_type": "code",
   "execution_count": 36,
   "metadata": {
    "scrolled": true
   },
   "outputs": [
    {
     "data": {
      "text/plain": [
       "['INN',\n",
       " 'SBBOLUSERID',\n",
       " 'COMMONSEGMENTOUID',\n",
       " 'ID_CRM',\n",
       " 'SCENARIO_ID',\n",
       " 'CHANNEL',\n",
       " 'ID_PRODUCT',\n",
       " 'MADEAL_PRODUCT_NORM',\n",
       " 'MADEAL_PROD_TYPE_NAME',\n",
       " 'MADEAL_APPL_CORE_TXT',\n",
       " 'MADEAL_COMPLETE_DT',\n",
       " 'HASPRODUCT',\n",
       " 'ESSENSE',\n",
       " 'RETURNCNT',\n",
       " 'NUMBEROFSTEPS',\n",
       " 'FUNNEL_RATE',\n",
       " 'MINSESSIONSTARTTIME',\n",
       " 'MAXSESSIONSTARTTIME',\n",
       " 'LOAD_DT',\n",
       " 'SESSIONDATE']"
      ]
     },
     "execution_count": 36,
     "metadata": {},
     "output_type": "execute_result"
    }
   ],
   "source": [
    "res, cols = etl.get_data_from_oracle(curs, my_sql)\n",
    "# df = etl.get_df_from_oracle(my_sql, cols)\n",
    "cols"
   ]
  },
  {
   "cell_type": "code",
   "execution_count": 7,
   "metadata": {
    "collapsed": true
   },
   "outputs": [],
   "source": [
    "import subprocess"
   ]
  },
  {
   "cell_type": "code",
   "execution_count": 13,
   "metadata": {},
   "outputs": [
    {
     "data": {
      "text/plain": [
       "DataFrame[]"
      ]
     },
     "execution_count": 13,
     "metadata": {},
     "output_type": "execute_result"
    }
   ],
   "source": [
    "subprocess.call(['hdfs', 'dfs', '-rm', '-r', '-f', '-skipTrash', \"hdfs://clsklsbx/user/team/team_digitcamp/hive/{}\".format(ISKRA_TABLE.lower())])\n",
    "sql = \"drop table if exists {}.{} purge\".format(conn_schema,ISKRA_TABLE)\n",
    "hive.sql(sql)"
   ]
  },
  {
   "cell_type": "code",
   "execution_count": null,
   "metadata": {
    "scrolled": false
   },
   "outputs": [],
   "source": [
    "# print(\"### Recreate target table in Hive\")\n",
    "\n",
    "typesmap_rdd, typesmap_pd = etl.create_table_hive(curs, sp, my_sql, conn_schema, ISKRA_TABLE)\n",
    "\n",
    "print(\"### Consecutively fetch buckets from Oracle and insert ones into Hive table\")\n",
    "\n",
    "query = '''\n",
    "select /*+ parallel (12) */\n",
    "          *\n",
    "FROM {}\n",
    "'''.format(ISKRA_TABLE)\n",
    "\n",
    "# db.connect()\n",
    "curs = db.cursor\n",
    "curs.execute(query)\n",
    "\n",
    "hive = sp.sql\n",
    "while True:\n",
    "    df = etl.get_df_from_oracle(curs, cols, size=500000)\n",
    "    print('###--> Get bucket of size {} from Oracle'.format(df.shape))\n",
    "    if df.shape[0]!=0:\n",
    "        etl.update_table_hive(sp, df, typesmap_rdd, typesmap_pd, conn_schema, ISKRA_TABLE)\n",
    "        print('###--> {} records has been inserted...'.format(df.shape[0]))\n",
    "        del df\n",
    "    else:\n",
    "        break\n",
    "\n",
    "db.close()"
   ]
  },
  {
   "cell_type": "markdown",
   "metadata": {},
   "source": [
    "## Using JDBC"
   ]
  },
  {
   "cell_type": "code",
   "execution_count": 7,
   "metadata": {
    "collapsed": true
   },
   "outputs": [],
   "source": [
    "tbls =\\\n",
    "[\n",
    "    \"MA_MMB_CONV_COEF_DICT\" \n",
    "#     \"MA_TMP_MMB_OFFER_PROC_COE\",\n",
    "#     \"ma_tmp_mmb_offer_proc_exclude\",\n",
    "#     \"SME_CDM_ma_mmb_offer_history\",\n",
    "#     \"ma_mmb_stop_customer_history\",\n",
    "#     \"ma_mmb_conv_coef_dict\",\n",
    "#     \"ma_mmb_stop_offer_history\"\n",
    "]\n"
   ]
  },
  {
   "cell_type": "code",
   "execution_count": 68,
   "metadata": {
    "collapsed": true
   },
   "outputs": [],
   "source": [
    "# ISKRA_TABLE = tbls[5]"
   ]
  },
  {
   "cell_type": "code",
   "execution_count": 8,
   "metadata": {
    "scrolled": true
   },
   "outputs": [
    {
     "name": "stdout",
     "output_type": "stream",
     "text": [
      "Working with table: MA_MMB_CONV_COEF_DICT\n",
      "End of batch processing. Switch to the next db\n"
     ]
    }
   ],
   "source": [
    "for tbl in tbls:\n",
    "    ISKRA_TABLE = tbl\n",
    "    print(\"Working with table: {}\".format(ISKRA_TABLE))\n",
    "    my_sql = '''\n",
    "    (select /*+ parallel (12) */\n",
    "                  * \n",
    "    FROM {}\n",
    "    where rownum < 20000)\n",
    "    '''.format(ISKRA_TABLE)\n",
    "\n",
    "    sdf = sp.get_oracle(OracleDB('iskra4'), my_sql, BATCH_SIZE=10000)\n",
    "\n",
    "    hive.sql(\"drop table if exists {new_schema}.{tbl} purge\".format(new_schema=\"sbx_team_digitcamp\", \n",
    "                                                                    tbl=ISKRA_TABLE))    \n",
    "    insert = ', '.join([\"{} {}\".format(col, _type) for col, _type in sdf.dtypes])\n",
    "\n",
    "    hive.sql('''create table {schema}.{tbl} (\n",
    "                                             {fields}\n",
    "                                                )\n",
    "             '''.format(schema=\"sbx_team_digitcamp\",\n",
    "                        tbl=ISKRA_TABLE, \n",
    "                        fields=insert)\n",
    "                       )\n",
    "\n",
    "    sdf = sp.get_oracle(OracleDB('iskra4'), ISKRA_TABLE, BATCH_SIZE=600000)\n",
    "    sdf.registerTempTable(\"tmp_res\")\n",
    "    hive.sql(\"insert into sbx_team_digitcamp.{} select * from tmp_res\".format(ISKRA_TABLE))\n",
    "    print(\"End of batch processing. Switch to the next db\")"
   ]
  },
  {
   "cell_type": "code",
   "execution_count": 8,
   "metadata": {
    "collapsed": true
   },
   "outputs": [],
   "source": [
    "for tbl in tbls:\n",
    "    ISKRA_TABLE = tbl\n",
    "    subprocess.call(['hdfs', 'dfs', '-rm', '-r', '-f', '-skipTrash', \"hdfs://clsklsbx/user/team/team_digitcamp/hive/{}\".format(ISKRA_TABLE.lower())])\n",
    "    sql = \"drop table if exists {}.{} purge\".format(conn_schema,ISKRA_TABLE)\n",
    "    hive.sql(sql)"
   ]
  },
  {
   "cell_type": "code",
   "execution_count": 73,
   "metadata": {},
   "outputs": [
    {
     "data": {
      "text/plain": [
       "501277686"
      ]
     },
     "execution_count": 73,
     "metadata": {},
     "output_type": "execute_result"
    }
   ],
   "source": [
    "sdf = hive.table(\"{}.{}\".format(\"sbx_team_digitcamp\", ISKRA_TABLE))\n",
    "sdf.count()"
   ]
  },
  {
   "cell_type": "markdown",
   "metadata": {},
   "source": [
    "## DROP tables on ISKRA server "
   ]
  },
  {
   "cell_type": "code",
   "execution_count": 5,
   "metadata": {
    "collapsed": true
   },
   "outputs": [],
   "source": [
    "ld=load.Loader(init_dsn=True, encoding='cp1251',  sep=',')\n",
    "db = load.OracleDB('', '', ld._get_dsn('iskra4')) \n",
    "db.connect()\n",
    "curs = db.cursor"
   ]
  },
  {
   "cell_type": "code",
   "execution_count": 6,
   "metadata": {},
   "outputs": [
    {
     "name": "stdout",
     "output_type": "stream",
     "text": [
      "Dropping table MA_TMP_MMB_OFFER_PROC_COE... Done!\n",
      "Dropping table ma_tmp_mmb_offer_proc_exclude... Done!\n",
      "Dropping table SME_CDM_ma_mmb_offer_history... Done!\n",
      "Dropping table ma_mmb_stop_customer_history... Done!\n",
      "Dropping table ma_mmb_conv_coef_dict... Done!\n",
      "Dropping table ma_mmb_stop_offer_history... Done!\n"
     ]
    }
   ],
   "source": [
    "for tbl in tbls:\n",
    "    sql = \"DROP TABLE {}\".format(tbl)\n",
    "    db.cursor.execute(sql)\n",
    "    db.connection.commit()\n",
    "    print('Dropping table {}... Done!'.format(tbl))"
   ]
  },
  {
   "cell_type": "code",
   "execution_count": null,
   "metadata": {
    "collapsed": true
   },
   "outputs": [],
   "source": []
  }
 ],
 "metadata": {
  "kernelspec": {
   "display_name": "Python 3",
   "language": "python",
   "name": "python3"
  },
  "language_info": {
   "codemirror_mode": {
    "name": "ipython",
    "version": 3
   },
   "file_extension": ".py",
   "mimetype": "text/x-python",
   "name": "python",
   "nbconvert_exporter": "python",
   "pygments_lexer": "ipython3",
   "version": "3.7.4"
  },
  "pycharm": {
   "stem_cell": {
    "cell_type": "raw",
    "metadata": {
     "collapsed": false
    },
    "source": []
   }
  }
 },
 "nbformat": 4,
 "nbformat_minor": 2
}
