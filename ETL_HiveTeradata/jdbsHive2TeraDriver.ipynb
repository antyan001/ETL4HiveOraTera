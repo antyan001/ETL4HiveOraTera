{
 "cells": [
  {
   "cell_type": "code",
   "execution_count": 1,
   "metadata": {
    "collapsed": true
   },
   "outputs": [],
   "source": [
    "%load_ext autoreload\n",
    "%autoreload 2"
   ]
  },
  {
   "cell_type": "code",
   "execution_count": 2,
   "metadata": {
    "collapsed": true
   },
   "outputs": [],
   "source": [
    "#!/home/ektov1-av_ca-sbrf-ru/bin/python35\n",
    "import os\n",
    "import sys\n",
    "curruser = os.environ.get('USER')\n",
    "\n",
    "# sys.path.insert(0, '/opt/workspace/{user}/system/support_library/'.format(user=curruser))\n",
    "# sys.path.insert(0, '/opt/workspace/{user}/libs/'.format(user=curruser))\n",
    "# sys.path.insert(0, '/opt/workspace/{user}/system/labdata/lib/'.format(user=curruser))\n",
    "\n",
    "\n",
    "# sys.path.insert(0, './../src')\n",
    "sys.path.insert(0, '/opt/workspace/{user}/notebooks/support_library/'.format(user=curruser))\n",
    "sys.path.insert(0, '/opt/workspace/{user}/libs/python3.5/site-packages/'.format(user=curruser))\n",
    "sys.path.insert(0, '/opt/workspace/{user}/notebooks/labdata/lib/'.format(user=curruser))\n",
    "\n",
    "#import tendo.singleton\n",
    "import warnings\n",
    "warnings.filterwarnings('ignore')\n",
    "\n",
    "import logging\n",
    "logging.basicConfig(filename='./__move_dbs__.log',level=logging.INFO,\n",
    "                    format='%(asctime)s %(levelname)s %(name)s %(message)s')\n",
    "logger = logging.getLogger(__name__)\n",
    "\n",
    "\n",
    "import joblib\n",
    "import json\n",
    "from joblib import Parallel, delayed\n",
    "\n",
    "from time import sleep\n",
    "from itertools import islice\n",
    "from multiprocessing import Pool, Process, JoinableQueue\n",
    "from multiprocessing.pool import ThreadPool\n",
    "from functools import partial\n",
    "import subprocess\n",
    "from threading import Thread\n",
    "import time\n",
    "import decimal\n",
    "import datetime\n",
    "from getpass import getpass\n",
    "\n",
    "import jaydebeapi\n",
    "\n",
    "from transliterate import translit\n",
    "\n",
    "from spark_connector import SparkConnector\n",
    "from sparkdb_loader import spark\n",
    "from connector import OracleDB, TeraDB\n",
    "import pyspark\n",
    "from pyspark import SparkContext, SparkConf, HiveContext\n",
    "from pyspark.sql.window import Window\n",
    "from pyspark.sql.functions import *\n",
    "import pyspark.sql.functions as f\n",
    "from pyspark.sql.types import *\n",
    "from pyspark.sql.dataframe import DataFrame\n",
    "from pyspark.sql.utils import AnalysisException\n",
    "\n",
    "from pyspark.sql import Row\n",
    "\n",
    "import re\n",
    "import pandas as pd\n",
    "import numpy as np\n",
    "from tqdm._tqdm_notebook import tqdm_notebook\n",
    "from pathlib import Path\n",
    "import shutil\n",
    "import loader as load\n",
    "import pandas as pd\n",
    "\n",
    "# sing = tendo.singleton.SingleInstance()\n",
    "\n",
    "# os.chdir('/opt/workspace/ektov1-av_ca-sbrf-ru/notebooks/Clickstream_Analytics/AutoUpdate/')\n",
    "# os.chdir('/opt/workspace/{}/notebooks/clickstream/AutoUpdate/'.format(curruser))\n",
    "\n",
    "\n",
    "##-----------------------------------------\n",
    "conn_schema = 'sbx_team_digitcamp' #'dl_t_team_ds_kb_sme' 'dl_t_team_speech_analytics'\n",
    "new_schema = 'dl_team_digitcamp'\n",
    "ga_schema = 'sklod_external_google_analytics'\n",
    "##-----------------------------------------\n",
    "\n",
    "\n",
    "def show(self, n=10):\n",
    "    return self.limit(n).toPandas()\n",
    "\n",
    "def typed_udf(return_type):\n",
    "    '''Make a UDF decorator with the given return type'''\n",
    "\n",
    "    def _typed_udf_wrapper(func):\n",
    "        return f.udf(func,return_type)\n",
    "\n",
    "def essense(channel: str, prod_cd: str):\n",
    "    message = \"{}: {} retargeting\".format(channel, prod_cd)\n",
    "    return message\n",
    "\n",
    "essense_udf = f.udf(essense, StringType())\n",
    "\n",
    "pyspark.sql.dataframe.DataFrame.show = show\n",
    "\n",
    "def print_and_log(message: str):\n",
    "    print(message)\n",
    "    logger.info(message)\n",
    "    return None\n"
   ]
  },
  {
   "cell_type": "markdown",
   "metadata": {},
   "source": [
    "# Start Spark Context with Hive Support"
   ]
  },
  {
   "cell_type": "code",
   "execution_count": 3,
   "metadata": {
    "scrolled": false
   },
   "outputs": [
    {
     "name": "stdout",
     "output_type": "stream",
     "text": [
      "### Starting spark context. Run!\n",
      "====================================================== 2022-02-25 ======================================================\n",
      "# __init__ : begin\n",
      "2.4.0.cloudera2\n"
     ]
    }
   ],
   "source": [
    "print(\"### Starting spark context. Run!\")\n",
    "\n",
    "sp = spark(schema=conn_schema,\n",
    "           dynamic_alloc=False,\n",
    "           kerberos_auth=False,\n",
    "           numofinstances=4, \n",
    "           numofcores=8,\n",
    "           executor_memory='20g', \n",
    "           driver_memory='25g'\n",
    "           )\n",
    "hive = sp.sql\n",
    "\n",
    "print(sp.sc.version)"
   ]
  },
  {
   "cell_type": "code",
   "execution_count": 16,
   "metadata": {
    "collapsed": true
   },
   "outputs": [],
   "source": [
    "# hive.setConf(\"mapred.map.max.attempts\", 100)\n",
    "# hive.setConf(\"mapred.reduce.max.attempts\", 100)\n",
    "# hive.setConf(\"mapred.skip.map.max.skip.records\", 10000)\n",
    "# hive.setConf(\"mapred.skip.attempts.to.start.skipping\", 1)\n",
    "# hive.setConf(\"mapred.map.max.attempts\", 100)"
   ]
  },
  {
   "cell_type": "code",
   "execution_count": 4,
   "metadata": {
    "scrolled": true
   },
   "outputs": [
    {
     "data": {
      "text/plain": [
       "[('spark.sql.hive.convertMetastoreParquet', 'false'),\n",
       " ('spark.eventLog.enabled', 'true'),\n",
       " ('spark.sql.parquet.binaryAsString', 'true'),\n",
       " ('spark.driver.host', 'pklis-chd001986.labiac.df.sbrf.ru'),\n",
       " ('spark.task.maxFailures', '15'),\n",
       " ('spark.sql.queryExecutionListeners',\n",
       "  'com.cloudera.spark.lineage.NavigatorQueryListener'),\n",
       " ('spark.sql.autoBroadcastJoinThreshold', '20971520'),\n",
       " ('spark.driver.memory', '15g'),\n",
       " ('spark.sql.shuffle.partitions', '400'),\n",
       " ('spark.eventLog.dir', 'hdfs://nsld3/user/spark/spark2ApplicationHistory'),\n",
       " ('spark.ui.port', '4445'),\n",
       " ('spark.serializer', 'org.apache.spark.serializer.KryoSerializer'),\n",
       " ('spark.yarn.secondary.jars', 'terajdbc4.jar,tdgssconfig.jar'),\n",
       " ('spark.hadoop.hive.exec.max.dynamic.partitions', '50000'),\n",
       " ('spark.executor.memoryOverhead', '8g'),\n",
       " ('spark.sql.hive.metastore.jars',\n",
       "  '${env:HADOOP_COMMON_HOME}/../hive/lib/*:${env:HADOOP_COMMON_HOME}/client/*'),\n",
       " ('spark.lineage.log.dir', '/var/log/spark2/lineage'),\n",
       " ('spark.blacklist.task.maxTaskAttemptsPerNode', '13'),\n",
       " ('spark.app.id', 'application_1644971098697_0059'),\n",
       " ('spark.yarn.access.namenodes',\n",
       "  'hdfs://clsklcib:8020/,hdfs://clsklod:8020/,hdfs://clsklopt:8020/,hdfs://CloudBDA:8020/,hdfs://clsklrisk:8020/,hdfs://clsklod2:8020/,hdfs://hdfsgw:8020/,hdfs://clsklsbx:8020/,hdfs://clsklsmd:8020/,hdfs://clsklk7m:8020/,hdfs://nsld3:8020/,hdfs://arnsdpsbx:8020/,hdfs://clsklldbr:8020/,hdfs://arnsdpsmd2:8020/,hdfs://clsklrozn:8020/'),\n",
       " ('spark.sql.hive.metastorePartitionPruning', 'true'),\n",
       " ('spark.yarn.historyServer.address',\n",
       "  'http://pklis-chd001975.labiac.df.sbrf.ru:18089'),\n",
       " ('spark.ui.filters',\n",
       "  'org.apache.hadoop.yarn.server.webproxy.amfilter.AmIpFilter'),\n",
       " ('spark.yarn.dist.jars',\n",
       "  'file:///opt/workspace/ektov1-av_ca-sbrf-ru/notebooks/drivers/terajdbc4.jar,file:///opt/workspace/ektov1-av_ca-sbrf-ru/notebooks/drivers/tdgssconfig.jar'),\n",
       " ('spark.network.crypto.enabled', 'false'),\n",
       " ('spark.driver.appUIAddress',\n",
       "  'http://pklis-chd001986.labiac.df.sbrf.ru:4445'),\n",
       " ('spark.hadoop.hive.exec.max.dynamic.partitions.pernode', '10000'),\n",
       " ('spark.app.name', 'anthony__sbx_team_digitcamp'),\n",
       " ('spark.local.dir', '/home/ektov1-av_ca-sbrf-ru/tmp/'),\n",
       " ('spark.ui.enabled', 'true'),\n",
       " ('spark.driver.allowMultipleContexts', 'true'),\n",
       " ('spark.executor.id', 'driver'),\n",
       " ('spark.dynamicAllocation.schedulerBacklogTimeout', '1'),\n",
       " ('spark.hadoop.dfs.replication', '2'),\n",
       " ('spark.yarn.jars',\n",
       "  'local:/opt/cloudera/parcels/SPARK2-2.4.0.cloudera2-1.cdh5.13.3.p0.1041012/lib/spark2/jars/*'),\n",
       " ('spark.sql.hive.metastore.version', '1.1.0'),\n",
       " ('spark.yarn.config.gatewayPath', '/opt/cloudera/parcels'),\n",
       " ('spark.extraListeners', 'com.cloudera.spark.lineage.NavigatorAppListener'),\n",
       " ('spark.executor.extraClassPath',\n",
       "  '/opt/cloudera/parcels/PYENV.ZNO0059623792/usr/lib/oracle/12.2/client64/lib/ojdbc8.jar'),\n",
       " ('spark.blacklist.enabled', 'true'),\n",
       " ('spark.sql.warehouse.dir', '/user/hive/warehouse'),\n",
       " ('spark.sql.catalogImplementation', 'hive'),\n",
       " ('spark.org.apache.hadoop.yarn.server.webproxy.amfilter.AmIpFilter.param.PROXY_HOSTS',\n",
       "  'pklis-chd001990.labiac.df.sbrf.ru'),\n",
       " ('spark.sql.parquet.filterPushdown', 'false'),\n",
       " ('spark.yarn.config.replacementPath', '{{HADOOP_COMMON_HOME}}/../../..'),\n",
       " ('spark.sql.files.ignoreCorruptFiles', 'true'),\n",
       " ('spark.ui.proxyBase', '/proxy/application_1644971098697_0059'),\n",
       " ('spark.org.apache.hadoop.yarn.server.webproxy.amfilter.AmIpFilter.param.PROXY_URI_BASES',\n",
       "  'https://pklis-chd001990.labiac.df.sbrf.ru:8090/proxy/application_1644971098697_0059'),\n",
       " ('spark.dynamicAllocation.enabled', 'false'),\n",
       " ('spark.hadoop.hive.metastore.uris',\n",
       "  'thrift://pklis-chd001999.labiac.df.sbrf.ru:48869'),\n",
       " ('spark.kryoserializer.buffer.max', '1024mb'),\n",
       " ('spark.jars',\n",
       "  '/opt/workspace/ektov1-av_ca-sbrf-ru/notebooks/drivers//terajdbc4.jar,/opt/workspace/ektov1-av_ca-sbrf-ru/notebooks/drivers//tdgssconfig.jar'),\n",
       " ('spark.default.parallelism', '80'),\n",
       " ('spark.ui.killEnabled', 'true'),\n",
       " ('spark.executor.memory', '15g'),\n",
       " ('spark.driver.extraLibraryPath',\n",
       "  '/opt/workspace/ektov1-av_ca-sbrf-ru/notebooks/support_library/'),\n",
       " ('spark.sql.legacy.allowCreatingManagedTableUsingNonemptyLocation', 'true'),\n",
       " ('spark.dynamicAllocation.executorIdleTimeout', '60'),\n",
       " ('spark.yarn.am.extraLibraryPath',\n",
       "  '/opt/cloudera/parcels/CDH-5.16.2-1.cdh5.16.2.p0.8/lib/hadoop/lib/native'),\n",
       " ('spark.io.encryption.enabled', 'false'),\n",
       " ('spark.authenticate', 'false'),\n",
       " ('spark.executorEnv.PYTHONPATH',\n",
       "  '/opt/workspace/ektov1-av_ca-sbrf-ru/libs:/opt/workspace/ektov1-av_ca-sbrf-ru/libs/python3.5/site-packages:/opt/workspace/ektov1-av_ca-sbrf-ru/libs/python3.6/site-packages:/home/ektov1-av_ca-sbrf-ru/python35-libs/lib/python3.5/site-packages:/home/ektov1-av_ca-sbrf-ru/.local/lib/python3.5/site-packages<CPS>/opt/cloudera/parcels/SPARK2-2.4.0.cloudera2-1.cdh5.13.3.p0.1041012/lib/spark2/python/lib/py4j-0.10.7-src.zip<CPS>/opt/cloudera/parcels/SPARK2-2.4.0.cloudera2-1.cdh5.13.3.p0.1041012/lib/spark2/python/lib/pyspark.zip'),\n",
       " ('spark.port.maxRetries', '550'),\n",
       " ('spark.driver.maxResultSize', '90g'),\n",
       " ('spark.driver.extraClassPath',\n",
       "  '/opt/cloudera/parcels/PYENV.ZNO0059623792/usr/lib/oracle/12.2/client64/lib/ojdbc8.jar'),\n",
       " ('spark.serializer.objectStreamReset', '100'),\n",
       " ('spark.driver.port', '45636'),\n",
       " ('spark.submit.deployMode', 'client'),\n",
       " ('spark.hadoop.mapreduce.input.fileinputformat.input.dir.recursive', 'true'),\n",
       " ('spark.blacklist.task.maxTaskAttemptsPerExecutor', '13'),\n",
       " ('spark.executor.cores', '8'),\n",
       " ('spark.repl.local.jars',\n",
       "  'file:///opt/workspace/ektov1-av_ca-sbrf-ru/notebooks/drivers/terajdbc4.jar,file:///opt/workspace/ektov1-av_ca-sbrf-ru/notebooks/drivers/tdgssconfig.jar'),\n",
       " ('spark.shuffle.service.enabled', 'true'),\n",
       " ('spark.sql.parquet.mergeSchema', 'true'),\n",
       " ('spark.shuffle.service.port', '7337'),\n",
       " ('spark.hadoop.parquet.enable.summary-metadata', 'false'),\n",
       " ('spark.lineage.enabled', 'true'),\n",
       " ('spark.memoryFraction', '0.4'),\n",
       " ('spark.master', 'yarn'),\n",
       " ('spark.executor.instances', '5'),\n",
       " ('spark.rdd.compress', 'True'),\n",
       " ('spark.driver.memoryOverhead', '4048mb'),\n",
       " ('spark.executor.extraLibraryPath',\n",
       "  '/opt/workspace/ektov1-av_ca-sbrf-ru/notebooks/support_library/'),\n",
       " ('spark.dynamicAllocation.minExecutors', '0'),\n",
       " ('spark.yarn.isPython', 'true'),\n",
       " ('spark.yarn.access.hadoopFileSystems',\n",
       "  'hdfs://hdfsgw:8020/,hdfs://nsld3:8020/,hdfs://clsklcib:8020/,hdfs://clsklsbx:8020/,hdfs://clsklsmd:8020/'),\n",
       " ('spark.shuffle.spill.numElementsForceSpillThreshold', '50000'),\n",
       " ('spark.ui.showConsoleProgress', 'true')]"
      ]
     },
     "execution_count": 4,
     "metadata": {},
     "output_type": "execute_result"
    }
   ],
   "source": [
    "sp.sc.getConf().getAll()"
   ]
  },
  {
   "cell_type": "code",
   "execution_count": null,
   "metadata": {
    "collapsed": true
   },
   "outputs": [],
   "source": []
  },
  {
   "cell_type": "code",
   "execution_count": 4,
   "metadata": {
    "collapsed": true,
    "scrolled": true
   },
   "outputs": [],
   "source": [
    "sdf = hive.table(\"sbx_team_digitcamp.ma_mmb_product_dict\")"
   ]
  },
  {
   "cell_type": "code",
   "execution_count": 8,
   "metadata": {},
   "outputs": [
    {
     "data": {
      "text/plain": [
       "[Row(key='transient_lastDdlTime', value='1593439429')]"
      ]
     },
     "execution_count": 8,
     "metadata": {},
     "output_type": "execute_result"
    }
   ],
   "source": [
    "hive.sql(\"SHOW TBLPROPERTIES {}.{}\".format(conn_schema, 'ma_mmb_product_dict')).collect()"
   ]
  },
  {
   "cell_type": "code",
   "execution_count": 11,
   "metadata": {
    "scrolled": true
   },
   "outputs": [
    {
     "data": {
      "text/plain": [
       "DataFrame[]"
      ]
     },
     "execution_count": 11,
     "metadata": {},
     "output_type": "execute_result"
    }
   ],
   "source": [
    "hive.sql(\"DROP TABLE IF EXISTS TMP_TBL_TEST PURGE\")\n",
    "hive.sql(\"CREATE TABLE TMP_TBL_TEST (INN STRING, SCORE FLOAT)\")\n",
    "hive.sql(\"ALTER TABLE TMP_TBL_TEST SET TBLPROPERTIES ('auto.purge'='true')\")"
   ]
  },
  {
   "cell_type": "code",
   "execution_count": 16,
   "metadata": {
    "collapsed": true,
    "scrolled": true
   },
   "outputs": [],
   "source": [
    "sdf.write \\\n",
    "   .format('parquet') \\\n",
    "   .mode(\"append\")\\\n",
    "   .option(\"path\", \"hdfs://clsklsbx/user/team/team_cvm/hive/\").saveAsTable(\"tmp_ma_mmb_product_dict_2\")"
   ]
  },
  {
   "cell_type": "markdown",
   "metadata": {},
   "source": [
    "## Initialize Conection to TDDB"
   ]
  },
  {
   "cell_type": "code",
   "execution_count": 3,
   "metadata": {
    "scrolled": true
   },
   "outputs": [
    {
     "name": "stdout",
     "output_type": "stream",
     "text": [
      "········\n"
     ]
    }
   ],
   "source": [
    "TERADATA_HOST = \"TDSB15.cgs.sbrf.ru\"\n",
    "DB = \"PRD_DB_CLIENT4D_DEV1\"\n",
    "# DATABASE_NAME = \"report_all_voronka\"\n",
    "USERNAME = \"ektov1-av\"\n",
    "PASSWORD = getpass()\n",
    "db = TeraDB(TERADATA_HOST, DB, USERNAME, PASSWORD)"
   ]
  },
  {
   "cell_type": "markdown",
   "metadata": {},
   "source": [
    "## Check actual User' Grants on Specified DatabaseName"
   ]
  },
  {
   "cell_type": "code",
   "execution_count": 5,
   "metadata": {
    "collapsed": true,
    "scrolled": true
   },
   "outputs": [],
   "source": [
    "sql =\\\n",
    "'''(\n",
    "    SELECT\n",
    "    A.ROLENAME,\n",
    "    A.GRANTEE AS USER_ID,\n",
    "    A.GRANTOR AS ADMIN_ID,\n",
    "    B.DATABASENAME,\n",
    "    B.TABLENAME,\n",
    "    B.GRANTORNAME,\n",
    "    B.ACCESSRIGHT\n",
    "    FROM    DBC.ROLEMEMBERS A\n",
    "    JOIN    DBC.ALLROLERIGHTS B\n",
    "    ON  A.ROLENAME = B.ROLENAME\n",
    "    WHERE  GRANTEE='{}' AND DATABASENAME like '%_LIENT4D_DEV1%'\n",
    "    GROUP BY 1,2,3,4,5,6,7\n",
    "    --ORDER BY 2,1,6\n",
    "    ) as t\n",
    "'''.format(USERNAME)\n",
    "sdf = sp.get_teradata(db, sql)\n",
    "\n",
    "df = sdf.toPandas()"
   ]
  },
  {
   "cell_type": "code",
   "execution_count": 6,
   "metadata": {},
   "outputs": [
    {
     "data": {
      "text/html": [
       "<div>\n",
       "<style scoped>\n",
       "    .dataframe tbody tr th:only-of-type {\n",
       "        vertical-align: middle;\n",
       "    }\n",
       "\n",
       "    .dataframe tbody tr th {\n",
       "        vertical-align: top;\n",
       "    }\n",
       "\n",
       "    .dataframe thead th {\n",
       "        text-align: right;\n",
       "    }\n",
       "</style>\n",
       "<table border=\"1\" class=\"dataframe\">\n",
       "  <thead>\n",
       "    <tr style=\"text-align: right;\">\n",
       "      <th></th>\n",
       "      <th>RoleName</th>\n",
       "      <th>USER_ID</th>\n",
       "      <th>ADMIN_ID</th>\n",
       "      <th>DatabaseName</th>\n",
       "      <th>TableName</th>\n",
       "      <th>GrantorName</th>\n",
       "      <th>AccessRight</th>\n",
       "    </tr>\n",
       "  </thead>\n",
       "  <tbody>\n",
       "    <tr>\n",
       "      <th>0</th>\n",
       "      <td>PRD_RL_CLIENT4D_DEV1_Adm                      ...</td>\n",
       "      <td>Ektov1-AV                                     ...</td>\n",
       "      <td>tsa                                           ...</td>\n",
       "      <td>PRD_DB_CLIENT4D_DEV1                          ...</td>\n",
       "      <td>All                                           ...</td>\n",
       "      <td>tsa                                           ...</td>\n",
       "      <td>R</td>\n",
       "    </tr>\n",
       "    <tr>\n",
       "      <th>1</th>\n",
       "      <td>PRD_RL_CLIENT4D_DEV1_Adm                      ...</td>\n",
       "      <td>Ektov1-AV                                     ...</td>\n",
       "      <td>tsa                                           ...</td>\n",
       "      <td>PRD_DB_CLIENT4D_DEV1                          ...</td>\n",
       "      <td>All                                           ...</td>\n",
       "      <td>tsa                                           ...</td>\n",
       "      <td>D</td>\n",
       "    </tr>\n",
       "    <tr>\n",
       "      <th>2</th>\n",
       "      <td>PRD_RL_CLIENT4D_DEV1_Adm                      ...</td>\n",
       "      <td>Ektov1-AV                                     ...</td>\n",
       "      <td>tsa                                           ...</td>\n",
       "      <td>PRD_DB_CLIENT4D_DEV1                          ...</td>\n",
       "      <td>All                                           ...</td>\n",
       "      <td>tsa                                           ...</td>\n",
       "      <td>CF</td>\n",
       "    </tr>\n",
       "    <tr>\n",
       "      <th>3</th>\n",
       "      <td>PRD_RL_CLIENT4D_DEV1_Adm                      ...</td>\n",
       "      <td>Ektov1-AV                                     ...</td>\n",
       "      <td>tsa                                           ...</td>\n",
       "      <td>PRD_DB_CLIENT4D_DEV1                          ...</td>\n",
       "      <td>All                                           ...</td>\n",
       "      <td>tsa                                           ...</td>\n",
       "      <td>AP</td>\n",
       "    </tr>\n",
       "    <tr>\n",
       "      <th>4</th>\n",
       "      <td>PRD_RL_CLIENT4D_DEV1_Adm                      ...</td>\n",
       "      <td>Ektov1-AV                                     ...</td>\n",
       "      <td>tsa                                           ...</td>\n",
       "      <td>PRD_DB_CLIENT4D_DEV1                          ...</td>\n",
       "      <td>All                                           ...</td>\n",
       "      <td>tsa                                           ...</td>\n",
       "      <td>PC</td>\n",
       "    </tr>\n",
       "    <tr>\n",
       "      <th>5</th>\n",
       "      <td>PRD_RL_CLIENT4D_DEV1_Adm                      ...</td>\n",
       "      <td>Ektov1-AV                                     ...</td>\n",
       "      <td>tsa                                           ...</td>\n",
       "      <td>PRD_DB_CLIENT4D_DEV1                          ...</td>\n",
       "      <td>All                                           ...</td>\n",
       "      <td>tsa                                           ...</td>\n",
       "      <td>CV</td>\n",
       "    </tr>\n",
       "    <tr>\n",
       "      <th>6</th>\n",
       "      <td>PRD_RL_CLIENT4D_DEV1_Adm                      ...</td>\n",
       "      <td>Ektov1-AV                                     ...</td>\n",
       "      <td>tsa                                           ...</td>\n",
       "      <td>PRD_DB_CLIENT4D_DEV1                          ...</td>\n",
       "      <td>All                                           ...</td>\n",
       "      <td>tsa                                           ...</td>\n",
       "      <td>PE</td>\n",
       "    </tr>\n",
       "    <tr>\n",
       "      <th>7</th>\n",
       "      <td>PRD_RL_CLIENT4D_DEV1_Adm                      ...</td>\n",
       "      <td>Ektov1-AV                                     ...</td>\n",
       "      <td>tsa                                           ...</td>\n",
       "      <td>PRD_DB_CLIENT4D_DEV1                          ...</td>\n",
       "      <td>All                                           ...</td>\n",
       "      <td>tsa                                           ...</td>\n",
       "      <td>AF</td>\n",
       "    </tr>\n",
       "    <tr>\n",
       "      <th>8</th>\n",
       "      <td>PRD_RL_CLIENT4D_DEV1_Adm                      ...</td>\n",
       "      <td>Ektov1-AV                                     ...</td>\n",
       "      <td>tsa                                           ...</td>\n",
       "      <td>PRD_DB_CLIENT4D_DEV1                          ...</td>\n",
       "      <td>All                                           ...</td>\n",
       "      <td>tsa                                           ...</td>\n",
       "      <td>I</td>\n",
       "    </tr>\n",
       "    <tr>\n",
       "      <th>9</th>\n",
       "      <td>PRD_RL_CLIENT4D_DEV1_Adm                      ...</td>\n",
       "      <td>Ektov1-AV                                     ...</td>\n",
       "      <td>tsa                                           ...</td>\n",
       "      <td>PRD_DB_CLIENT4D_DEV1                          ...</td>\n",
       "      <td>All                                           ...</td>\n",
       "      <td>tsa                                           ...</td>\n",
       "      <td>DT</td>\n",
       "    </tr>\n",
       "    <tr>\n",
       "      <th>10</th>\n",
       "      <td>PRD_RL_CLIENT4D_DEV1_Adm                      ...</td>\n",
       "      <td>Ektov1-AV                                     ...</td>\n",
       "      <td>tsa                                           ...</td>\n",
       "      <td>PRD_DB_CLIENT4D_DEV1                          ...</td>\n",
       "      <td>All                                           ...</td>\n",
       "      <td>tsa                                           ...</td>\n",
       "      <td>ST</td>\n",
       "    </tr>\n",
       "    <tr>\n",
       "      <th>11</th>\n",
       "      <td>PRD_RL_CLIENT4D_DEV1_Adm                      ...</td>\n",
       "      <td>Ektov1-AV                                     ...</td>\n",
       "      <td>tsa                                           ...</td>\n",
       "      <td>PRD_DB_CLIENT4D_DEV1                          ...</td>\n",
       "      <td>All                                           ...</td>\n",
       "      <td>tsa                                           ...</td>\n",
       "      <td>DV</td>\n",
       "    </tr>\n",
       "    <tr>\n",
       "      <th>12</th>\n",
       "      <td>PRD_RL_CLIENT4D_DEV1_Adm                      ...</td>\n",
       "      <td>Ektov1-AV                                     ...</td>\n",
       "      <td>tsa                                           ...</td>\n",
       "      <td>PRD_DB_CLIENT4D_DEV1                          ...</td>\n",
       "      <td>All                                           ...</td>\n",
       "      <td>tsa                                           ...</td>\n",
       "      <td>U</td>\n",
       "    </tr>\n",
       "    <tr>\n",
       "      <th>13</th>\n",
       "      <td>PRD_RL_CLIENT4D_DEV1_Adm                      ...</td>\n",
       "      <td>Ektov1-AV                                     ...</td>\n",
       "      <td>tsa                                           ...</td>\n",
       "      <td>PRD_DB_CLIENT4D_DEV1                          ...</td>\n",
       "      <td>All                                           ...</td>\n",
       "      <td>tsa                                           ...</td>\n",
       "      <td>PD</td>\n",
       "    </tr>\n",
       "    <tr>\n",
       "      <th>14</th>\n",
       "      <td>PRD_RL_CLIENT4D_DEV1_Adm                      ...</td>\n",
       "      <td>Ektov1-AV                                     ...</td>\n",
       "      <td>tsa                                           ...</td>\n",
       "      <td>PRD_DB_CLIENT4D_DEV1                          ...</td>\n",
       "      <td>All                                           ...</td>\n",
       "      <td>tsa                                           ...</td>\n",
       "      <td>EF</td>\n",
       "    </tr>\n",
       "    <tr>\n",
       "      <th>15</th>\n",
       "      <td>PRD_RL_CLIENT4D_DEV1_Adm                      ...</td>\n",
       "      <td>Ektov1-AV                                     ...</td>\n",
       "      <td>tsa                                           ...</td>\n",
       "      <td>PRD_DB_CLIENT4D_DEV1                          ...</td>\n",
       "      <td>All                                           ...</td>\n",
       "      <td>tsa                                           ...</td>\n",
       "      <td>DF</td>\n",
       "    </tr>\n",
       "    <tr>\n",
       "      <th>16</th>\n",
       "      <td>PRD_RL_CLIENT4D_DEV1_Adm                      ...</td>\n",
       "      <td>Ektov1-AV                                     ...</td>\n",
       "      <td>tsa                                           ...</td>\n",
       "      <td>PRD_DB_CLIENT4D_DEV1                          ...</td>\n",
       "      <td>All                                           ...</td>\n",
       "      <td>tsa                                           ...</td>\n",
       "      <td>CT</td>\n",
       "    </tr>\n",
       "    <tr>\n",
       "      <th>17</th>\n",
       "      <td>PRD_RL_CLIENT4D_DEV1_Adm                      ...</td>\n",
       "      <td>Ektov1-AV                                     ...</td>\n",
       "      <td>tsa                                           ...</td>\n",
       "      <td>PRD_DB_CLIENT4D_DEV1                          ...</td>\n",
       "      <td>All                                           ...</td>\n",
       "      <td>tsa                                           ...</td>\n",
       "      <td>E</td>\n",
       "    </tr>\n",
       "  </tbody>\n",
       "</table>\n",
       "</div>"
      ],
      "text/plain": [
       "                                             RoleName  \\\n",
       "0   PRD_RL_CLIENT4D_DEV1_Adm                      ...   \n",
       "1   PRD_RL_CLIENT4D_DEV1_Adm                      ...   \n",
       "2   PRD_RL_CLIENT4D_DEV1_Adm                      ...   \n",
       "3   PRD_RL_CLIENT4D_DEV1_Adm                      ...   \n",
       "4   PRD_RL_CLIENT4D_DEV1_Adm                      ...   \n",
       "5   PRD_RL_CLIENT4D_DEV1_Adm                      ...   \n",
       "6   PRD_RL_CLIENT4D_DEV1_Adm                      ...   \n",
       "7   PRD_RL_CLIENT4D_DEV1_Adm                      ...   \n",
       "8   PRD_RL_CLIENT4D_DEV1_Adm                      ...   \n",
       "9   PRD_RL_CLIENT4D_DEV1_Adm                      ...   \n",
       "10  PRD_RL_CLIENT4D_DEV1_Adm                      ...   \n",
       "11  PRD_RL_CLIENT4D_DEV1_Adm                      ...   \n",
       "12  PRD_RL_CLIENT4D_DEV1_Adm                      ...   \n",
       "13  PRD_RL_CLIENT4D_DEV1_Adm                      ...   \n",
       "14  PRD_RL_CLIENT4D_DEV1_Adm                      ...   \n",
       "15  PRD_RL_CLIENT4D_DEV1_Adm                      ...   \n",
       "16  PRD_RL_CLIENT4D_DEV1_Adm                      ...   \n",
       "17  PRD_RL_CLIENT4D_DEV1_Adm                      ...   \n",
       "\n",
       "                                              USER_ID  \\\n",
       "0   Ektov1-AV                                     ...   \n",
       "1   Ektov1-AV                                     ...   \n",
       "2   Ektov1-AV                                     ...   \n",
       "3   Ektov1-AV                                     ...   \n",
       "4   Ektov1-AV                                     ...   \n",
       "5   Ektov1-AV                                     ...   \n",
       "6   Ektov1-AV                                     ...   \n",
       "7   Ektov1-AV                                     ...   \n",
       "8   Ektov1-AV                                     ...   \n",
       "9   Ektov1-AV                                     ...   \n",
       "10  Ektov1-AV                                     ...   \n",
       "11  Ektov1-AV                                     ...   \n",
       "12  Ektov1-AV                                     ...   \n",
       "13  Ektov1-AV                                     ...   \n",
       "14  Ektov1-AV                                     ...   \n",
       "15  Ektov1-AV                                     ...   \n",
       "16  Ektov1-AV                                     ...   \n",
       "17  Ektov1-AV                                     ...   \n",
       "\n",
       "                                             ADMIN_ID  \\\n",
       "0   tsa                                           ...   \n",
       "1   tsa                                           ...   \n",
       "2   tsa                                           ...   \n",
       "3   tsa                                           ...   \n",
       "4   tsa                                           ...   \n",
       "5   tsa                                           ...   \n",
       "6   tsa                                           ...   \n",
       "7   tsa                                           ...   \n",
       "8   tsa                                           ...   \n",
       "9   tsa                                           ...   \n",
       "10  tsa                                           ...   \n",
       "11  tsa                                           ...   \n",
       "12  tsa                                           ...   \n",
       "13  tsa                                           ...   \n",
       "14  tsa                                           ...   \n",
       "15  tsa                                           ...   \n",
       "16  tsa                                           ...   \n",
       "17  tsa                                           ...   \n",
       "\n",
       "                                         DatabaseName  \\\n",
       "0   PRD_DB_CLIENT4D_DEV1                          ...   \n",
       "1   PRD_DB_CLIENT4D_DEV1                          ...   \n",
       "2   PRD_DB_CLIENT4D_DEV1                          ...   \n",
       "3   PRD_DB_CLIENT4D_DEV1                          ...   \n",
       "4   PRD_DB_CLIENT4D_DEV1                          ...   \n",
       "5   PRD_DB_CLIENT4D_DEV1                          ...   \n",
       "6   PRD_DB_CLIENT4D_DEV1                          ...   \n",
       "7   PRD_DB_CLIENT4D_DEV1                          ...   \n",
       "8   PRD_DB_CLIENT4D_DEV1                          ...   \n",
       "9   PRD_DB_CLIENT4D_DEV1                          ...   \n",
       "10  PRD_DB_CLIENT4D_DEV1                          ...   \n",
       "11  PRD_DB_CLIENT4D_DEV1                          ...   \n",
       "12  PRD_DB_CLIENT4D_DEV1                          ...   \n",
       "13  PRD_DB_CLIENT4D_DEV1                          ...   \n",
       "14  PRD_DB_CLIENT4D_DEV1                          ...   \n",
       "15  PRD_DB_CLIENT4D_DEV1                          ...   \n",
       "16  PRD_DB_CLIENT4D_DEV1                          ...   \n",
       "17  PRD_DB_CLIENT4D_DEV1                          ...   \n",
       "\n",
       "                                            TableName  \\\n",
       "0   All                                           ...   \n",
       "1   All                                           ...   \n",
       "2   All                                           ...   \n",
       "3   All                                           ...   \n",
       "4   All                                           ...   \n",
       "5   All                                           ...   \n",
       "6   All                                           ...   \n",
       "7   All                                           ...   \n",
       "8   All                                           ...   \n",
       "9   All                                           ...   \n",
       "10  All                                           ...   \n",
       "11  All                                           ...   \n",
       "12  All                                           ...   \n",
       "13  All                                           ...   \n",
       "14  All                                           ...   \n",
       "15  All                                           ...   \n",
       "16  All                                           ...   \n",
       "17  All                                           ...   \n",
       "\n",
       "                                          GrantorName AccessRight  \n",
       "0   tsa                                           ...        R     \n",
       "1   tsa                                           ...        D     \n",
       "2   tsa                                           ...        CF    \n",
       "3   tsa                                           ...        AP    \n",
       "4   tsa                                           ...        PC    \n",
       "5   tsa                                           ...        CV    \n",
       "6   tsa                                           ...        PE    \n",
       "7   tsa                                           ...        AF    \n",
       "8   tsa                                           ...        I     \n",
       "9   tsa                                           ...        DT    \n",
       "10  tsa                                           ...        ST    \n",
       "11  tsa                                           ...        DV    \n",
       "12  tsa                                           ...        U     \n",
       "13  tsa                                           ...        PD    \n",
       "14  tsa                                           ...        EF    \n",
       "15  tsa                                           ...        DF    \n",
       "16  tsa                                           ...        CT    \n",
       "17  tsa                                           ...        E     "
      ]
     },
     "execution_count": 6,
     "metadata": {},
     "output_type": "execute_result"
    }
   ],
   "source": [
    "df"
   ]
  },
  {
   "cell_type": "code",
   "execution_count": 101,
   "metadata": {
    "collapsed": true
   },
   "outputs": [],
   "source": [
    "my_sql = '''(SELECT \n",
    "                 *    \n",
    "             FROM dbc.columnsV \n",
    "             WHERE DatabaseName ='{}') as t\n",
    "         '''.format('PRD_DB_CLIENT4D_DEV1')\n",
    "\n",
    "df = sp.get_teradata(db, my_sql)"
   ]
  },
  {
   "cell_type": "code",
   "execution_count": 102,
   "metadata": {
    "scrolled": true
   },
   "outputs": [
    {
     "data": {
      "text/html": [
       "<div>\n",
       "<style scoped>\n",
       "    .dataframe tbody tr th:only-of-type {\n",
       "        vertical-align: middle;\n",
       "    }\n",
       "\n",
       "    .dataframe tbody tr th {\n",
       "        vertical-align: top;\n",
       "    }\n",
       "\n",
       "    .dataframe thead th {\n",
       "        text-align: right;\n",
       "    }\n",
       "</style>\n",
       "<table border=\"1\" class=\"dataframe\">\n",
       "  <thead>\n",
       "    <tr style=\"text-align: right;\">\n",
       "      <th></th>\n",
       "      <th>DatabaseName</th>\n",
       "      <th>TableName</th>\n",
       "      <th>ColumnName</th>\n",
       "      <th>ColumnFormat</th>\n",
       "      <th>ColumnTitle</th>\n",
       "      <th>SPParameterType</th>\n",
       "      <th>ColumnType</th>\n",
       "      <th>ColumnUDTName</th>\n",
       "      <th>ColumnLength</th>\n",
       "      <th>DefaultValue</th>\n",
       "      <th>...</th>\n",
       "      <th>ColumnPartitionFormat</th>\n",
       "      <th>ColumnPartitionAC</th>\n",
       "      <th>PseudoUDTFieldId</th>\n",
       "      <th>PseudoUDTFieldType</th>\n",
       "      <th>StorageFormat</th>\n",
       "      <th>DatasetSchemaName</th>\n",
       "      <th>InlineLength</th>\n",
       "      <th>TSColumnType</th>\n",
       "      <th>AutoColumn</th>\n",
       "      <th>RowVersionNo</th>\n",
       "    </tr>\n",
       "  </thead>\n",
       "  <tbody>\n",
       "    <tr>\n",
       "      <th>0</th>\n",
       "      <td>PRD_DB_CLIENT4D_DEV1</td>\n",
       "      <td>s_cvm_Import_DIM_ProductOffer_ProductOffer_upd...</td>\n",
       "      <td>partner_nm</td>\n",
       "      <td>X(100)</td>\n",
       "      <td>None</td>\n",
       "      <td></td>\n",
       "      <td>CV</td>\n",
       "      <td>None</td>\n",
       "      <td>200</td>\n",
       "      <td>None</td>\n",
       "      <td>...</td>\n",
       "      <td>NA</td>\n",
       "      <td>NA</td>\n",
       "      <td>None</td>\n",
       "      <td>None</td>\n",
       "      <td>None</td>\n",
       "      <td>None</td>\n",
       "      <td>None</td>\n",
       "      <td>None</td>\n",
       "      <td>None</td>\n",
       "      <td>None</td>\n",
       "    </tr>\n",
       "    <tr>\n",
       "      <th>1</th>\n",
       "      <td>PRD_DB_CLIENT4D_DEV1</td>\n",
       "      <td>s_cvm_Import_DIM_ProductOffer_ProductOffer_upd...</td>\n",
       "      <td>SOURCE_LEAD_ID</td>\n",
       "      <td>X(15)</td>\n",
       "      <td>None</td>\n",
       "      <td></td>\n",
       "      <td>CV</td>\n",
       "      <td>None</td>\n",
       "      <td>30</td>\n",
       "      <td>None</td>\n",
       "      <td>...</td>\n",
       "      <td>NA</td>\n",
       "      <td>NA</td>\n",
       "      <td>None</td>\n",
       "      <td>None</td>\n",
       "      <td>None</td>\n",
       "      <td>None</td>\n",
       "      <td>None</td>\n",
       "      <td>None</td>\n",
       "      <td>None</td>\n",
       "      <td>None</td>\n",
       "    </tr>\n",
       "    <tr>\n",
       "      <th>2</th>\n",
       "      <td>PRD_DB_CLIENT4D_DEV1</td>\n",
       "      <td>s_cvm_Import_DIM_ProductOffer_ProductOffer_upd...</td>\n",
       "      <td>info</td>\n",
       "      <td>X(1000)</td>\n",
       "      <td>None</td>\n",
       "      <td></td>\n",
       "      <td>CV</td>\n",
       "      <td>None</td>\n",
       "      <td>4096</td>\n",
       "      <td>None</td>\n",
       "      <td>...</td>\n",
       "      <td>NA</td>\n",
       "      <td>NA</td>\n",
       "      <td>None</td>\n",
       "      <td>None</td>\n",
       "      <td>None</td>\n",
       "      <td>None</td>\n",
       "      <td>None</td>\n",
       "      <td>None</td>\n",
       "      <td>None</td>\n",
       "      <td>None</td>\n",
       "    </tr>\n",
       "    <tr>\n",
       "      <th>3</th>\n",
       "      <td>PRD_DB_CLIENT4D_DEV1</td>\n",
       "      <td>s_cvm_Import_DIM_ProductOffer_ProductOffer_upd...</td>\n",
       "      <td>flag_no_dozvon</td>\n",
       "      <td>-(10)9</td>\n",
       "      <td>None</td>\n",
       "      <td></td>\n",
       "      <td>I</td>\n",
       "      <td>None</td>\n",
       "      <td>4</td>\n",
       "      <td>None</td>\n",
       "      <td>...</td>\n",
       "      <td>NA</td>\n",
       "      <td>NA</td>\n",
       "      <td>None</td>\n",
       "      <td>None</td>\n",
       "      <td>None</td>\n",
       "      <td>None</td>\n",
       "      <td>None</td>\n",
       "      <td>None</td>\n",
       "      <td>None</td>\n",
       "      <td>None</td>\n",
       "    </tr>\n",
       "    <tr>\n",
       "      <th>4</th>\n",
       "      <td>PRD_DB_CLIENT4D_DEV1</td>\n",
       "      <td>s_cvm_Import_DIM_ProductOffer_ProductOffer_upd...</td>\n",
       "      <td>FEE</td>\n",
       "      <td>--(15).9(7)</td>\n",
       "      <td>None</td>\n",
       "      <td></td>\n",
       "      <td>D</td>\n",
       "      <td>None</td>\n",
       "      <td>16</td>\n",
       "      <td>None</td>\n",
       "      <td>...</td>\n",
       "      <td>NA</td>\n",
       "      <td>NA</td>\n",
       "      <td>None</td>\n",
       "      <td>None</td>\n",
       "      <td>None</td>\n",
       "      <td>None</td>\n",
       "      <td>None</td>\n",
       "      <td>None</td>\n",
       "      <td>None</td>\n",
       "      <td>None</td>\n",
       "    </tr>\n",
       "    <tr>\n",
       "      <th>5</th>\n",
       "      <td>PRD_DB_CLIENT4D_DEV1</td>\n",
       "      <td>s_cvm_Import_DIM_ProductOffer_ProductOffer_upd...</td>\n",
       "      <td>flag_dozvon</td>\n",
       "      <td>-(3)9</td>\n",
       "      <td>None</td>\n",
       "      <td></td>\n",
       "      <td>I1</td>\n",
       "      <td>None</td>\n",
       "      <td>1</td>\n",
       "      <td>None</td>\n",
       "      <td>...</td>\n",
       "      <td>NA</td>\n",
       "      <td>NA</td>\n",
       "      <td>None</td>\n",
       "      <td>None</td>\n",
       "      <td>None</td>\n",
       "      <td>None</td>\n",
       "      <td>None</td>\n",
       "      <td>None</td>\n",
       "      <td>None</td>\n",
       "      <td>None</td>\n",
       "    </tr>\n",
       "    <tr>\n",
       "      <th>6</th>\n",
       "      <td>PRD_DB_CLIENT4D_DEV1</td>\n",
       "      <td>s_cvm_Import_DIM_ProductOffer_ProductOffer_upd...</td>\n",
       "      <td>ckp_id</td>\n",
       "      <td>X(100)</td>\n",
       "      <td>None</td>\n",
       "      <td></td>\n",
       "      <td>CV</td>\n",
       "      <td>None</td>\n",
       "      <td>200</td>\n",
       "      <td>None</td>\n",
       "      <td>...</td>\n",
       "      <td>NA</td>\n",
       "      <td>NA</td>\n",
       "      <td>None</td>\n",
       "      <td>None</td>\n",
       "      <td>None</td>\n",
       "      <td>None</td>\n",
       "      <td>None</td>\n",
       "      <td>None</td>\n",
       "      <td>None</td>\n",
       "      <td>None</td>\n",
       "    </tr>\n",
       "    <tr>\n",
       "      <th>7</th>\n",
       "      <td>PRD_DB_CLIENT4D_DEV1</td>\n",
       "      <td>s_cvm_Import_DIM_ProductOffer_ProductOffer_upd...</td>\n",
       "      <td>Company_id</td>\n",
       "      <td>X(15)</td>\n",
       "      <td>None</td>\n",
       "      <td></td>\n",
       "      <td>CV</td>\n",
       "      <td>None</td>\n",
       "      <td>30</td>\n",
       "      <td>None</td>\n",
       "      <td>...</td>\n",
       "      <td>NA</td>\n",
       "      <td>NA</td>\n",
       "      <td>None</td>\n",
       "      <td>None</td>\n",
       "      <td>None</td>\n",
       "      <td>None</td>\n",
       "      <td>None</td>\n",
       "      <td>None</td>\n",
       "      <td>None</td>\n",
       "      <td>None</td>\n",
       "    </tr>\n",
       "    <tr>\n",
       "      <th>8</th>\n",
       "      <td>PRD_DB_CLIENT4D_DEV1</td>\n",
       "      <td>s_cvm_Import_DIM_ProductOffer_ProductOffer_upd...</td>\n",
       "      <td>FEE_PERCENT</td>\n",
       "      <td>--(15).9(7)</td>\n",
       "      <td>None</td>\n",
       "      <td></td>\n",
       "      <td>D</td>\n",
       "      <td>None</td>\n",
       "      <td>16</td>\n",
       "      <td>None</td>\n",
       "      <td>...</td>\n",
       "      <td>NA</td>\n",
       "      <td>NA</td>\n",
       "      <td>None</td>\n",
       "      <td>None</td>\n",
       "      <td>None</td>\n",
       "      <td>None</td>\n",
       "      <td>None</td>\n",
       "      <td>None</td>\n",
       "      <td>None</td>\n",
       "      <td>None</td>\n",
       "    </tr>\n",
       "    <tr>\n",
       "      <th>9</th>\n",
       "      <td>PRD_DB_CLIENT4D_DEV1</td>\n",
       "      <td>s_cvm_Import_DIM_ProductOffer_ProductOffer_upd...</td>\n",
       "      <td>RATE</td>\n",
       "      <td>--(15).9(7)</td>\n",
       "      <td>None</td>\n",
       "      <td></td>\n",
       "      <td>D</td>\n",
       "      <td>None</td>\n",
       "      <td>16</td>\n",
       "      <td>None</td>\n",
       "      <td>...</td>\n",
       "      <td>NA</td>\n",
       "      <td>NA</td>\n",
       "      <td>None</td>\n",
       "      <td>None</td>\n",
       "      <td>None</td>\n",
       "      <td>None</td>\n",
       "      <td>None</td>\n",
       "      <td>None</td>\n",
       "      <td>None</td>\n",
       "      <td>None</td>\n",
       "    </tr>\n",
       "    <tr>\n",
       "      <th>10</th>\n",
       "      <td>PRD_DB_CLIENT4D_DEV1</td>\n",
       "      <td>s_cvm_Import_DIM_ProductOffer_ProductOffer_upd...</td>\n",
       "      <td>flag_worked</td>\n",
       "      <td>-(3)9</td>\n",
       "      <td>None</td>\n",
       "      <td></td>\n",
       "      <td>I1</td>\n",
       "      <td>None</td>\n",
       "      <td>1</td>\n",
       "      <td>None</td>\n",
       "      <td>...</td>\n",
       "      <td>NA</td>\n",
       "      <td>NA</td>\n",
       "      <td>None</td>\n",
       "      <td>None</td>\n",
       "      <td>None</td>\n",
       "      <td>None</td>\n",
       "      <td>None</td>\n",
       "      <td>None</td>\n",
       "      <td>None</td>\n",
       "      <td>None</td>\n",
       "    </tr>\n",
       "    <tr>\n",
       "      <th>11</th>\n",
       "      <td>PRD_DB_CLIENT4D_DEV1</td>\n",
       "      <td>s_cvm_Import_DIM_ProductOffer_ProductOffer_upd...</td>\n",
       "      <td>is_added_by_sas</td>\n",
       "      <td>X(2)</td>\n",
       "      <td>None</td>\n",
       "      <td></td>\n",
       "      <td>CV</td>\n",
       "      <td>None</td>\n",
       "      <td>4</td>\n",
       "      <td>None</td>\n",
       "      <td>...</td>\n",
       "      <td>NA</td>\n",
       "      <td>NA</td>\n",
       "      <td>None</td>\n",
       "      <td>None</td>\n",
       "      <td>None</td>\n",
       "      <td>None</td>\n",
       "      <td>None</td>\n",
       "      <td>None</td>\n",
       "      <td>None</td>\n",
       "      <td>None</td>\n",
       "    </tr>\n",
       "    <tr>\n",
       "      <th>12</th>\n",
       "      <td>PRD_DB_CLIENT4D_DEV1</td>\n",
       "      <td>s_cvm_Import_DIM_ProductOffer_ProductOffer_upd...</td>\n",
       "      <td>is_promo</td>\n",
       "      <td>X(2)</td>\n",
       "      <td>None</td>\n",
       "      <td></td>\n",
       "      <td>CV</td>\n",
       "      <td>None</td>\n",
       "      <td>4</td>\n",
       "      <td>None</td>\n",
       "      <td>...</td>\n",
       "      <td>NA</td>\n",
       "      <td>NA</td>\n",
       "      <td>None</td>\n",
       "      <td>None</td>\n",
       "      <td>None</td>\n",
       "      <td>None</td>\n",
       "      <td>None</td>\n",
       "      <td>None</td>\n",
       "      <td>None</td>\n",
       "      <td>None</td>\n",
       "    </tr>\n",
       "    <tr>\n",
       "      <th>13</th>\n",
       "      <td>PRD_DB_CLIENT4D_DEV1</td>\n",
       "      <td>s_cvm_Import_DIM_ProductOffer_ProductOffer_upd...</td>\n",
       "      <td>master_offer_id</td>\n",
       "      <td>X(30)</td>\n",
       "      <td>None</td>\n",
       "      <td></td>\n",
       "      <td>CV</td>\n",
       "      <td>None</td>\n",
       "      <td>60</td>\n",
       "      <td>None</td>\n",
       "      <td>...</td>\n",
       "      <td>NA</td>\n",
       "      <td>NA</td>\n",
       "      <td>None</td>\n",
       "      <td>None</td>\n",
       "      <td>None</td>\n",
       "      <td>None</td>\n",
       "      <td>None</td>\n",
       "      <td>None</td>\n",
       "      <td>None</td>\n",
       "      <td>None</td>\n",
       "    </tr>\n",
       "    <tr>\n",
       "      <th>14</th>\n",
       "      <td>PRD_DB_CLIENT4D_DEV1</td>\n",
       "      <td>s_cvm_Import_DIM_ProductOffer_ProductOffer_upd...</td>\n",
       "      <td>need_notify</td>\n",
       "      <td>X(2)</td>\n",
       "      <td>None</td>\n",
       "      <td></td>\n",
       "      <td>CV</td>\n",
       "      <td>None</td>\n",
       "      <td>4</td>\n",
       "      <td>None</td>\n",
       "      <td>...</td>\n",
       "      <td>NA</td>\n",
       "      <td>NA</td>\n",
       "      <td>None</td>\n",
       "      <td>None</td>\n",
       "      <td>None</td>\n",
       "      <td>None</td>\n",
       "      <td>None</td>\n",
       "      <td>None</td>\n",
       "      <td>None</td>\n",
       "      <td>None</td>\n",
       "    </tr>\n",
       "    <tr>\n",
       "      <th>15</th>\n",
       "      <td>PRD_DB_CLIENT4D_DEV1</td>\n",
       "      <td>s_cvm_Import_DIM_ProductOffer_ProductOffer_upd...</td>\n",
       "      <td>probability</td>\n",
       "      <td>-(10)9</td>\n",
       "      <td>None</td>\n",
       "      <td></td>\n",
       "      <td>I</td>\n",
       "      <td>None</td>\n",
       "      <td>4</td>\n",
       "      <td>None</td>\n",
       "      <td>...</td>\n",
       "      <td>NA</td>\n",
       "      <td>NA</td>\n",
       "      <td>None</td>\n",
       "      <td>None</td>\n",
       "      <td>None</td>\n",
       "      <td>None</td>\n",
       "      <td>None</td>\n",
       "      <td>None</td>\n",
       "      <td>None</td>\n",
       "      <td>None</td>\n",
       "    </tr>\n",
       "    <tr>\n",
       "      <th>16</th>\n",
       "      <td>PRD_DB_CLIENT4D_DEV1</td>\n",
       "      <td>s_cvm_Import_DIM_ProductOffer_ProductOffer_upd...</td>\n",
       "      <td>start_date</td>\n",
       "      <td>YYYY-MM-DDBHH:MI:SS.S(6)</td>\n",
       "      <td>None</td>\n",
       "      <td></td>\n",
       "      <td>TS</td>\n",
       "      <td>None</td>\n",
       "      <td>26</td>\n",
       "      <td>None</td>\n",
       "      <td>...</td>\n",
       "      <td>NA</td>\n",
       "      <td>NA</td>\n",
       "      <td>None</td>\n",
       "      <td>None</td>\n",
       "      <td>None</td>\n",
       "      <td>None</td>\n",
       "      <td>None</td>\n",
       "      <td>None</td>\n",
       "      <td>None</td>\n",
       "      <td>None</td>\n",
       "    </tr>\n",
       "    <tr>\n",
       "      <th>17</th>\n",
       "      <td>PRD_DB_CLIENT4D_DEV1</td>\n",
       "      <td>s_cvm_Import_DIM_ProductOffer_ProductOffer_upd...</td>\n",
       "      <td>ckp_id_crm</td>\n",
       "      <td>X(100)</td>\n",
       "      <td>None</td>\n",
       "      <td></td>\n",
       "      <td>CV</td>\n",
       "      <td>None</td>\n",
       "      <td>200</td>\n",
       "      <td>None</td>\n",
       "      <td>...</td>\n",
       "      <td>NA</td>\n",
       "      <td>NA</td>\n",
       "      <td>None</td>\n",
       "      <td>None</td>\n",
       "      <td>None</td>\n",
       "      <td>None</td>\n",
       "      <td>None</td>\n",
       "      <td>None</td>\n",
       "      <td>None</td>\n",
       "      <td>None</td>\n",
       "    </tr>\n",
       "    <tr>\n",
       "      <th>18</th>\n",
       "      <td>PRD_DB_CLIENT4D_DEV1</td>\n",
       "      <td>s_cvm_Import_DIM_ProductOffer_ProductOffer_upd...</td>\n",
       "      <td>flag_rejected_bank</td>\n",
       "      <td>-(10)9</td>\n",
       "      <td>None</td>\n",
       "      <td></td>\n",
       "      <td>I</td>\n",
       "      <td>None</td>\n",
       "      <td>4</td>\n",
       "      <td>None</td>\n",
       "      <td>...</td>\n",
       "      <td>NA</td>\n",
       "      <td>NA</td>\n",
       "      <td>None</td>\n",
       "      <td>None</td>\n",
       "      <td>None</td>\n",
       "      <td>None</td>\n",
       "      <td>None</td>\n",
       "      <td>None</td>\n",
       "      <td>None</td>\n",
       "      <td>None</td>\n",
       "    </tr>\n",
       "    <tr>\n",
       "      <th>19</th>\n",
       "      <td>PRD_DB_CLIENT4D_DEV1</td>\n",
       "      <td>s_cvm_Import_DIM_ProductOffer_ProductOffer_upd...</td>\n",
       "      <td>flag_rec</td>\n",
       "      <td>-(3)9</td>\n",
       "      <td>None</td>\n",
       "      <td></td>\n",
       "      <td>I1</td>\n",
       "      <td>None</td>\n",
       "      <td>1</td>\n",
       "      <td>None</td>\n",
       "      <td>...</td>\n",
       "      <td>NA</td>\n",
       "      <td>NA</td>\n",
       "      <td>None</td>\n",
       "      <td>None</td>\n",
       "      <td>None</td>\n",
       "      <td>None</td>\n",
       "      <td>None</td>\n",
       "      <td>None</td>\n",
       "      <td>None</td>\n",
       "      <td>None</td>\n",
       "    </tr>\n",
       "    <tr>\n",
       "      <th>20</th>\n",
       "      <td>PRD_DB_CLIENT4D_DEV1</td>\n",
       "      <td>s_cvm_Import_DIM_ProductOffer_ProductOffer_upd...</td>\n",
       "      <td>flag_planned</td>\n",
       "      <td>-(10)9</td>\n",
       "      <td>None</td>\n",
       "      <td></td>\n",
       "      <td>I</td>\n",
       "      <td>None</td>\n",
       "      <td>4</td>\n",
       "      <td>None</td>\n",
       "      <td>...</td>\n",
       "      <td>NA</td>\n",
       "      <td>NA</td>\n",
       "      <td>None</td>\n",
       "      <td>None</td>\n",
       "      <td>None</td>\n",
       "      <td>None</td>\n",
       "      <td>None</td>\n",
       "      <td>None</td>\n",
       "      <td>None</td>\n",
       "      <td>None</td>\n",
       "    </tr>\n",
       "    <tr>\n",
       "      <th>21</th>\n",
       "      <td>PRD_DB_CLIENT4D_DEV1</td>\n",
       "      <td>s_cvm_Import_DIM_ProductOffer_ProductOffer_upd...</td>\n",
       "      <td>Deal_ID</td>\n",
       "      <td>X(30)</td>\n",
       "      <td>None</td>\n",
       "      <td></td>\n",
       "      <td>CV</td>\n",
       "      <td>None</td>\n",
       "      <td>60</td>\n",
       "      <td>None</td>\n",
       "      <td>...</td>\n",
       "      <td>NA</td>\n",
       "      <td>NA</td>\n",
       "      <td>None</td>\n",
       "      <td>None</td>\n",
       "      <td>None</td>\n",
       "      <td>None</td>\n",
       "      <td>None</td>\n",
       "      <td>None</td>\n",
       "      <td>None</td>\n",
       "      <td>None</td>\n",
       "    </tr>\n",
       "    <tr>\n",
       "      <th>22</th>\n",
       "      <td>PRD_DB_CLIENT4D_DEV1</td>\n",
       "      <td>s_cvm_Import_DIM_ProductOffer_ProductOffer_upd...</td>\n",
       "      <td>payment_num</td>\n",
       "      <td>--(15).9(7)</td>\n",
       "      <td>None</td>\n",
       "      <td></td>\n",
       "      <td>D</td>\n",
       "      <td>None</td>\n",
       "      <td>16</td>\n",
       "      <td>None</td>\n",
       "      <td>...</td>\n",
       "      <td>NA</td>\n",
       "      <td>NA</td>\n",
       "      <td>None</td>\n",
       "      <td>None</td>\n",
       "      <td>None</td>\n",
       "      <td>None</td>\n",
       "      <td>None</td>\n",
       "      <td>None</td>\n",
       "      <td>None</td>\n",
       "      <td>None</td>\n",
       "    </tr>\n",
       "    <tr>\n",
       "      <th>23</th>\n",
       "      <td>PRD_DB_CLIENT4D_DEV1</td>\n",
       "      <td>s_cvm_Import_DIM_ProductOffer_ProductOffer_upd...</td>\n",
       "      <td>NOTICE_NUM</td>\n",
       "      <td>X(100)</td>\n",
       "      <td>None</td>\n",
       "      <td></td>\n",
       "      <td>CV</td>\n",
       "      <td>None</td>\n",
       "      <td>200</td>\n",
       "      <td>None</td>\n",
       "      <td>...</td>\n",
       "      <td>NA</td>\n",
       "      <td>NA</td>\n",
       "      <td>None</td>\n",
       "      <td>None</td>\n",
       "      <td>None</td>\n",
       "      <td>None</td>\n",
       "      <td>None</td>\n",
       "      <td>None</td>\n",
       "      <td>None</td>\n",
       "      <td>None</td>\n",
       "    </tr>\n",
       "    <tr>\n",
       "      <th>24</th>\n",
       "      <td>PRD_DB_CLIENT4D_DEV1</td>\n",
       "      <td>s_cvm_Import_DIM_ProductOffer_ProductOffer_upd...</td>\n",
       "      <td>VISIT_DATE</td>\n",
       "      <td>YYYY-MM-DDBHH:MI:SS.S(6)</td>\n",
       "      <td>None</td>\n",
       "      <td></td>\n",
       "      <td>TS</td>\n",
       "      <td>None</td>\n",
       "      <td>26</td>\n",
       "      <td>None</td>\n",
       "      <td>...</td>\n",
       "      <td>NA</td>\n",
       "      <td>NA</td>\n",
       "      <td>None</td>\n",
       "      <td>None</td>\n",
       "      <td>None</td>\n",
       "      <td>None</td>\n",
       "      <td>None</td>\n",
       "      <td>None</td>\n",
       "      <td>None</td>\n",
       "      <td>None</td>\n",
       "    </tr>\n",
       "    <tr>\n",
       "      <th>25</th>\n",
       "      <td>PRD_DB_CLIENT4D_DEV1</td>\n",
       "      <td>s_cvm_Import_DIM_ProductOffer_ProductOffer_upd...</td>\n",
       "      <td>amount_sum</td>\n",
       "      <td>--(15).9(7)</td>\n",
       "      <td>None</td>\n",
       "      <td></td>\n",
       "      <td>D</td>\n",
       "      <td>None</td>\n",
       "      <td>16</td>\n",
       "      <td>None</td>\n",
       "      <td>...</td>\n",
       "      <td>NA</td>\n",
       "      <td>NA</td>\n",
       "      <td>None</td>\n",
       "      <td>None</td>\n",
       "      <td>None</td>\n",
       "      <td>None</td>\n",
       "      <td>None</td>\n",
       "      <td>None</td>\n",
       "      <td>None</td>\n",
       "      <td>None</td>\n",
       "    </tr>\n",
       "    <tr>\n",
       "      <th>26</th>\n",
       "      <td>PRD_DB_CLIENT4D_DEV1</td>\n",
       "      <td>s_cvm_Import_DIM_ProductOffer_ProductOffer_upd...</td>\n",
       "      <td>PROD_GROUP_ID</td>\n",
       "      <td>X(15)</td>\n",
       "      <td>None</td>\n",
       "      <td></td>\n",
       "      <td>CV</td>\n",
       "      <td>None</td>\n",
       "      <td>30</td>\n",
       "      <td>None</td>\n",
       "      <td>...</td>\n",
       "      <td>NA</td>\n",
       "      <td>NA</td>\n",
       "      <td>None</td>\n",
       "      <td>None</td>\n",
       "      <td>None</td>\n",
       "      <td>None</td>\n",
       "      <td>None</td>\n",
       "      <td>None</td>\n",
       "      <td>None</td>\n",
       "      <td>None</td>\n",
       "    </tr>\n",
       "    <tr>\n",
       "      <th>27</th>\n",
       "      <td>PRD_DB_CLIENT4D_DEV1</td>\n",
       "      <td>s_cvm_Import_DIM_ProductOffer_ProductOffer_upd...</td>\n",
       "      <td>LAST_UPD</td>\n",
       "      <td>YYYY-MM-DDBHH:MI:SS.S(6)</td>\n",
       "      <td>None</td>\n",
       "      <td></td>\n",
       "      <td>TS</td>\n",
       "      <td>None</td>\n",
       "      <td>26</td>\n",
       "      <td>None</td>\n",
       "      <td>...</td>\n",
       "      <td>NA</td>\n",
       "      <td>NA</td>\n",
       "      <td>None</td>\n",
       "      <td>None</td>\n",
       "      <td>None</td>\n",
       "      <td>None</td>\n",
       "      <td>None</td>\n",
       "      <td>None</td>\n",
       "      <td>None</td>\n",
       "      <td>None</td>\n",
       "    </tr>\n",
       "    <tr>\n",
       "      <th>28</th>\n",
       "      <td>PRD_DB_CLIENT4D_DEV1</td>\n",
       "      <td>s_cvm_Import_DIM_ProductOffer_ProductOffer_upd...</td>\n",
       "      <td>flag_no_worked</td>\n",
       "      <td>-(10)9</td>\n",
       "      <td>None</td>\n",
       "      <td></td>\n",
       "      <td>I</td>\n",
       "      <td>None</td>\n",
       "      <td>4</td>\n",
       "      <td>None</td>\n",
       "      <td>...</td>\n",
       "      <td>NA</td>\n",
       "      <td>NA</td>\n",
       "      <td>None</td>\n",
       "      <td>None</td>\n",
       "      <td>None</td>\n",
       "      <td>None</td>\n",
       "      <td>None</td>\n",
       "      <td>None</td>\n",
       "      <td>None</td>\n",
       "      <td>None</td>\n",
       "    </tr>\n",
       "    <tr>\n",
       "      <th>29</th>\n",
       "      <td>PRD_DB_CLIENT4D_DEV1</td>\n",
       "      <td>s_cvm_Import_DIM_ProductOffer_ProductOffer_upd...</td>\n",
       "      <td>currency</td>\n",
       "      <td>X(20)</td>\n",
       "      <td>None</td>\n",
       "      <td></td>\n",
       "      <td>CV</td>\n",
       "      <td>None</td>\n",
       "      <td>40</td>\n",
       "      <td>None</td>\n",
       "      <td>...</td>\n",
       "      <td>NA</td>\n",
       "      <td>NA</td>\n",
       "      <td>None</td>\n",
       "      <td>None</td>\n",
       "      <td>None</td>\n",
       "      <td>None</td>\n",
       "      <td>None</td>\n",
       "      <td>None</td>\n",
       "      <td>None</td>\n",
       "      <td>None</td>\n",
       "    </tr>\n",
       "    <tr>\n",
       "      <th>30</th>\n",
       "      <td>PRD_DB_CLIENT4D_DEV1</td>\n",
       "      <td>s_cvm_Import_DIM_ProductOffer_ProductOffer_upd...</td>\n",
       "      <td>flag_in_work</td>\n",
       "      <td>-(10)9</td>\n",
       "      <td>None</td>\n",
       "      <td></td>\n",
       "      <td>I</td>\n",
       "      <td>None</td>\n",
       "      <td>4</td>\n",
       "      <td>None</td>\n",
       "      <td>...</td>\n",
       "      <td>NA</td>\n",
       "      <td>NA</td>\n",
       "      <td>None</td>\n",
       "      <td>None</td>\n",
       "      <td>None</td>\n",
       "      <td>None</td>\n",
       "      <td>None</td>\n",
       "      <td>None</td>\n",
       "      <td>None</td>\n",
       "      <td>None</td>\n",
       "    </tr>\n",
       "    <tr>\n",
       "      <th>31</th>\n",
       "      <td>PRD_DB_CLIENT4D_DEV1</td>\n",
       "      <td>s_cvm_Import_DIM_ProductOffer_ProductOffer_upd...</td>\n",
       "      <td>flag_cancel</td>\n",
       "      <td>-(10)9</td>\n",
       "      <td>None</td>\n",
       "      <td></td>\n",
       "      <td>I</td>\n",
       "      <td>None</td>\n",
       "      <td>4</td>\n",
       "      <td>None</td>\n",
       "      <td>...</td>\n",
       "      <td>NA</td>\n",
       "      <td>NA</td>\n",
       "      <td>None</td>\n",
       "      <td>None</td>\n",
       "      <td>None</td>\n",
       "      <td>None</td>\n",
       "      <td>None</td>\n",
       "      <td>None</td>\n",
       "      <td>None</td>\n",
       "      <td>None</td>\n",
       "    </tr>\n",
       "    <tr>\n",
       "      <th>32</th>\n",
       "      <td>PRD_DB_CLIENT4D_DEV1</td>\n",
       "      <td>s_cvm_Import_DIM_ProductOffer_ProductOffer_upd...</td>\n",
       "      <td>REFUSAL_REASON</td>\n",
       "      <td>X(30)</td>\n",
       "      <td>None</td>\n",
       "      <td></td>\n",
       "      <td>CV</td>\n",
       "      <td>None</td>\n",
       "      <td>60</td>\n",
       "      <td>None</td>\n",
       "      <td>...</td>\n",
       "      <td>NA</td>\n",
       "      <td>NA</td>\n",
       "      <td>None</td>\n",
       "      <td>None</td>\n",
       "      <td>None</td>\n",
       "      <td>None</td>\n",
       "      <td>None</td>\n",
       "      <td>None</td>\n",
       "      <td>None</td>\n",
       "      <td>None</td>\n",
       "    </tr>\n",
       "    <tr>\n",
       "      <th>33</th>\n",
       "      <td>PRD_DB_CLIENT4D_DEV1</td>\n",
       "      <td>s_cvm_Import_DIM_ProductOffer_ProductOffer_upd...</td>\n",
       "      <td>STAGE_REFUSAL</td>\n",
       "      <td>X(30)</td>\n",
       "      <td>None</td>\n",
       "      <td></td>\n",
       "      <td>CV</td>\n",
       "      <td>None</td>\n",
       "      <td>60</td>\n",
       "      <td>None</td>\n",
       "      <td>...</td>\n",
       "      <td>NA</td>\n",
       "      <td>NA</td>\n",
       "      <td>None</td>\n",
       "      <td>None</td>\n",
       "      <td>None</td>\n",
       "      <td>None</td>\n",
       "      <td>None</td>\n",
       "      <td>None</td>\n",
       "      <td>None</td>\n",
       "      <td>None</td>\n",
       "    </tr>\n",
       "    <tr>\n",
       "      <th>34</th>\n",
       "      <td>PRD_DB_CLIENT4D_DEV1</td>\n",
       "      <td>s_cvm_Import_DIM_ProductOffer_ProductOffer_upd...</td>\n",
       "      <td>date_create</td>\n",
       "      <td>YYYY-MM-DDBHH:MI:SS.S(6)</td>\n",
       "      <td>None</td>\n",
       "      <td></td>\n",
       "      <td>TS</td>\n",
       "      <td>None</td>\n",
       "      <td>26</td>\n",
       "      <td>None</td>\n",
       "      <td>...</td>\n",
       "      <td>NA</td>\n",
       "      <td>NA</td>\n",
       "      <td>None</td>\n",
       "      <td>None</td>\n",
       "      <td>None</td>\n",
       "      <td>None</td>\n",
       "      <td>None</td>\n",
       "      <td>None</td>\n",
       "      <td>None</td>\n",
       "      <td>None</td>\n",
       "    </tr>\n",
       "    <tr>\n",
       "      <th>35</th>\n",
       "      <td>PRD_DB_CLIENT4D_DEV1</td>\n",
       "      <td>s_cvm_Import_DIM_ProductOffer_ProductOffer_upd...</td>\n",
       "      <td>comment_txt</td>\n",
       "      <td>X(1000)</td>\n",
       "      <td>None</td>\n",
       "      <td></td>\n",
       "      <td>CV</td>\n",
       "      <td>None</td>\n",
       "      <td>2000</td>\n",
       "      <td>None</td>\n",
       "      <td>...</td>\n",
       "      <td>NA</td>\n",
       "      <td>NA</td>\n",
       "      <td>None</td>\n",
       "      <td>None</td>\n",
       "      <td>None</td>\n",
       "      <td>None</td>\n",
       "      <td>None</td>\n",
       "      <td>None</td>\n",
       "      <td>None</td>\n",
       "      <td>None</td>\n",
       "    </tr>\n",
       "    <tr>\n",
       "      <th>36</th>\n",
       "      <td>PRD_DB_CLIENT4D_DEV1</td>\n",
       "      <td>s_cvm_Import_DIM_ProductOffer_ProductOffer_upd...</td>\n",
       "      <td>status_result</td>\n",
       "      <td>X(30)</td>\n",
       "      <td>None</td>\n",
       "      <td></td>\n",
       "      <td>CV</td>\n",
       "      <td>None</td>\n",
       "      <td>60</td>\n",
       "      <td>None</td>\n",
       "      <td>...</td>\n",
       "      <td>NA</td>\n",
       "      <td>NA</td>\n",
       "      <td>None</td>\n",
       "      <td>None</td>\n",
       "      <td>None</td>\n",
       "      <td>None</td>\n",
       "      <td>None</td>\n",
       "      <td>None</td>\n",
       "      <td>None</td>\n",
       "      <td>None</td>\n",
       "    </tr>\n",
       "    <tr>\n",
       "      <th>37</th>\n",
       "      <td>PRD_DB_CLIENT4D_DEV1</td>\n",
       "      <td>s_cvm_Import_DIM_ProductOffer_ProductOffer_upd...</td>\n",
       "      <td>Initiator_ID</td>\n",
       "      <td>X(100)</td>\n",
       "      <td>None</td>\n",
       "      <td></td>\n",
       "      <td>CV</td>\n",
       "      <td>None</td>\n",
       "      <td>200</td>\n",
       "      <td>None</td>\n",
       "      <td>...</td>\n",
       "      <td>NA</td>\n",
       "      <td>NA</td>\n",
       "      <td>None</td>\n",
       "      <td>None</td>\n",
       "      <td>None</td>\n",
       "      <td>None</td>\n",
       "      <td>None</td>\n",
       "      <td>None</td>\n",
       "      <td>None</td>\n",
       "      <td>None</td>\n",
       "    </tr>\n",
       "    <tr>\n",
       "      <th>38</th>\n",
       "      <td>PRD_DB_CLIENT4D_DEV1</td>\n",
       "      <td>s_cvm_Import_DIM_ProductOffer_ProductOffer_upd...</td>\n",
       "      <td>emp_id_last_change</td>\n",
       "      <td>X(100)</td>\n",
       "      <td>None</td>\n",
       "      <td></td>\n",
       "      <td>CV</td>\n",
       "      <td>None</td>\n",
       "      <td>200</td>\n",
       "      <td>None</td>\n",
       "      <td>...</td>\n",
       "      <td>NA</td>\n",
       "      <td>NA</td>\n",
       "      <td>None</td>\n",
       "      <td>None</td>\n",
       "      <td>None</td>\n",
       "      <td>None</td>\n",
       "      <td>None</td>\n",
       "      <td>None</td>\n",
       "      <td>None</td>\n",
       "      <td>None</td>\n",
       "    </tr>\n",
       "    <tr>\n",
       "      <th>39</th>\n",
       "      <td>PRD_DB_CLIENT4D_DEV1</td>\n",
       "      <td>s_cvm_Import_DIM_ProductOffer_ProductOffer_upd...</td>\n",
       "      <td>flag_rejected</td>\n",
       "      <td>-(3)9</td>\n",
       "      <td>None</td>\n",
       "      <td></td>\n",
       "      <td>I1</td>\n",
       "      <td>None</td>\n",
       "      <td>1</td>\n",
       "      <td>None</td>\n",
       "      <td>...</td>\n",
       "      <td>NA</td>\n",
       "      <td>NA</td>\n",
       "      <td>None</td>\n",
       "      <td>None</td>\n",
       "      <td>None</td>\n",
       "      <td>None</td>\n",
       "      <td>None</td>\n",
       "      <td>None</td>\n",
       "      <td>None</td>\n",
       "      <td>None</td>\n",
       "    </tr>\n",
       "  </tbody>\n",
       "</table>\n",
       "<p>40 rows × 49 columns</p>\n",
       "</div>"
      ],
      "text/plain": [
       "            DatabaseName                                          TableName  \\\n",
       "0   PRD_DB_CLIENT4D_DEV1  s_cvm_Import_DIM_ProductOffer_ProductOffer_upd...   \n",
       "1   PRD_DB_CLIENT4D_DEV1  s_cvm_Import_DIM_ProductOffer_ProductOffer_upd...   \n",
       "2   PRD_DB_CLIENT4D_DEV1  s_cvm_Import_DIM_ProductOffer_ProductOffer_upd...   \n",
       "3   PRD_DB_CLIENT4D_DEV1  s_cvm_Import_DIM_ProductOffer_ProductOffer_upd...   \n",
       "4   PRD_DB_CLIENT4D_DEV1  s_cvm_Import_DIM_ProductOffer_ProductOffer_upd...   \n",
       "5   PRD_DB_CLIENT4D_DEV1  s_cvm_Import_DIM_ProductOffer_ProductOffer_upd...   \n",
       "6   PRD_DB_CLIENT4D_DEV1  s_cvm_Import_DIM_ProductOffer_ProductOffer_upd...   \n",
       "7   PRD_DB_CLIENT4D_DEV1  s_cvm_Import_DIM_ProductOffer_ProductOffer_upd...   \n",
       "8   PRD_DB_CLIENT4D_DEV1  s_cvm_Import_DIM_ProductOffer_ProductOffer_upd...   \n",
       "9   PRD_DB_CLIENT4D_DEV1  s_cvm_Import_DIM_ProductOffer_ProductOffer_upd...   \n",
       "10  PRD_DB_CLIENT4D_DEV1  s_cvm_Import_DIM_ProductOffer_ProductOffer_upd...   \n",
       "11  PRD_DB_CLIENT4D_DEV1  s_cvm_Import_DIM_ProductOffer_ProductOffer_upd...   \n",
       "12  PRD_DB_CLIENT4D_DEV1  s_cvm_Import_DIM_ProductOffer_ProductOffer_upd...   \n",
       "13  PRD_DB_CLIENT4D_DEV1  s_cvm_Import_DIM_ProductOffer_ProductOffer_upd...   \n",
       "14  PRD_DB_CLIENT4D_DEV1  s_cvm_Import_DIM_ProductOffer_ProductOffer_upd...   \n",
       "15  PRD_DB_CLIENT4D_DEV1  s_cvm_Import_DIM_ProductOffer_ProductOffer_upd...   \n",
       "16  PRD_DB_CLIENT4D_DEV1  s_cvm_Import_DIM_ProductOffer_ProductOffer_upd...   \n",
       "17  PRD_DB_CLIENT4D_DEV1  s_cvm_Import_DIM_ProductOffer_ProductOffer_upd...   \n",
       "18  PRD_DB_CLIENT4D_DEV1  s_cvm_Import_DIM_ProductOffer_ProductOffer_upd...   \n",
       "19  PRD_DB_CLIENT4D_DEV1  s_cvm_Import_DIM_ProductOffer_ProductOffer_upd...   \n",
       "20  PRD_DB_CLIENT4D_DEV1  s_cvm_Import_DIM_ProductOffer_ProductOffer_upd...   \n",
       "21  PRD_DB_CLIENT4D_DEV1  s_cvm_Import_DIM_ProductOffer_ProductOffer_upd...   \n",
       "22  PRD_DB_CLIENT4D_DEV1  s_cvm_Import_DIM_ProductOffer_ProductOffer_upd...   \n",
       "23  PRD_DB_CLIENT4D_DEV1  s_cvm_Import_DIM_ProductOffer_ProductOffer_upd...   \n",
       "24  PRD_DB_CLIENT4D_DEV1  s_cvm_Import_DIM_ProductOffer_ProductOffer_upd...   \n",
       "25  PRD_DB_CLIENT4D_DEV1  s_cvm_Import_DIM_ProductOffer_ProductOffer_upd...   \n",
       "26  PRD_DB_CLIENT4D_DEV1  s_cvm_Import_DIM_ProductOffer_ProductOffer_upd...   \n",
       "27  PRD_DB_CLIENT4D_DEV1  s_cvm_Import_DIM_ProductOffer_ProductOffer_upd...   \n",
       "28  PRD_DB_CLIENT4D_DEV1  s_cvm_Import_DIM_ProductOffer_ProductOffer_upd...   \n",
       "29  PRD_DB_CLIENT4D_DEV1  s_cvm_Import_DIM_ProductOffer_ProductOffer_upd...   \n",
       "30  PRD_DB_CLIENT4D_DEV1  s_cvm_Import_DIM_ProductOffer_ProductOffer_upd...   \n",
       "31  PRD_DB_CLIENT4D_DEV1  s_cvm_Import_DIM_ProductOffer_ProductOffer_upd...   \n",
       "32  PRD_DB_CLIENT4D_DEV1  s_cvm_Import_DIM_ProductOffer_ProductOffer_upd...   \n",
       "33  PRD_DB_CLIENT4D_DEV1  s_cvm_Import_DIM_ProductOffer_ProductOffer_upd...   \n",
       "34  PRD_DB_CLIENT4D_DEV1  s_cvm_Import_DIM_ProductOffer_ProductOffer_upd...   \n",
       "35  PRD_DB_CLIENT4D_DEV1  s_cvm_Import_DIM_ProductOffer_ProductOffer_upd...   \n",
       "36  PRD_DB_CLIENT4D_DEV1  s_cvm_Import_DIM_ProductOffer_ProductOffer_upd...   \n",
       "37  PRD_DB_CLIENT4D_DEV1  s_cvm_Import_DIM_ProductOffer_ProductOffer_upd...   \n",
       "38  PRD_DB_CLIENT4D_DEV1  s_cvm_Import_DIM_ProductOffer_ProductOffer_upd...   \n",
       "39  PRD_DB_CLIENT4D_DEV1  s_cvm_Import_DIM_ProductOffer_ProductOffer_upd...   \n",
       "\n",
       "            ColumnName              ColumnFormat ColumnTitle SPParameterType  \\\n",
       "0           partner_nm                    X(100)        None                   \n",
       "1       SOURCE_LEAD_ID                     X(15)        None                   \n",
       "2                 info                   X(1000)        None                   \n",
       "3       flag_no_dozvon                    -(10)9        None                   \n",
       "4                  FEE               --(15).9(7)        None                   \n",
       "5          flag_dozvon                     -(3)9        None                   \n",
       "6               ckp_id                    X(100)        None                   \n",
       "7           Company_id                     X(15)        None                   \n",
       "8          FEE_PERCENT               --(15).9(7)        None                   \n",
       "9                 RATE               --(15).9(7)        None                   \n",
       "10         flag_worked                     -(3)9        None                   \n",
       "11     is_added_by_sas                      X(2)        None                   \n",
       "12            is_promo                      X(2)        None                   \n",
       "13     master_offer_id                     X(30)        None                   \n",
       "14         need_notify                      X(2)        None                   \n",
       "15         probability                    -(10)9        None                   \n",
       "16          start_date  YYYY-MM-DDBHH:MI:SS.S(6)        None                   \n",
       "17          ckp_id_crm                    X(100)        None                   \n",
       "18  flag_rejected_bank                    -(10)9        None                   \n",
       "19            flag_rec                     -(3)9        None                   \n",
       "20        flag_planned                    -(10)9        None                   \n",
       "21             Deal_ID                     X(30)        None                   \n",
       "22         payment_num               --(15).9(7)        None                   \n",
       "23          NOTICE_NUM                    X(100)        None                   \n",
       "24          VISIT_DATE  YYYY-MM-DDBHH:MI:SS.S(6)        None                   \n",
       "25          amount_sum               --(15).9(7)        None                   \n",
       "26       PROD_GROUP_ID                     X(15)        None                   \n",
       "27            LAST_UPD  YYYY-MM-DDBHH:MI:SS.S(6)        None                   \n",
       "28      flag_no_worked                    -(10)9        None                   \n",
       "29            currency                     X(20)        None                   \n",
       "30        flag_in_work                    -(10)9        None                   \n",
       "31         flag_cancel                    -(10)9        None                   \n",
       "32      REFUSAL_REASON                     X(30)        None                   \n",
       "33       STAGE_REFUSAL                     X(30)        None                   \n",
       "34         date_create  YYYY-MM-DDBHH:MI:SS.S(6)        None                   \n",
       "35         comment_txt                   X(1000)        None                   \n",
       "36       status_result                     X(30)        None                   \n",
       "37        Initiator_ID                    X(100)        None                   \n",
       "38  emp_id_last_change                    X(100)        None                   \n",
       "39       flag_rejected                     -(3)9        None                   \n",
       "\n",
       "   ColumnType ColumnUDTName  ColumnLength DefaultValue  ...  \\\n",
       "0        CV            None           200         None  ...   \n",
       "1        CV            None            30         None  ...   \n",
       "2        CV            None          4096         None  ...   \n",
       "3        I             None             4         None  ...   \n",
       "4        D             None            16         None  ...   \n",
       "5        I1            None             1         None  ...   \n",
       "6        CV            None           200         None  ...   \n",
       "7        CV            None            30         None  ...   \n",
       "8        D             None            16         None  ...   \n",
       "9        D             None            16         None  ...   \n",
       "10       I1            None             1         None  ...   \n",
       "11       CV            None             4         None  ...   \n",
       "12       CV            None             4         None  ...   \n",
       "13       CV            None            60         None  ...   \n",
       "14       CV            None             4         None  ...   \n",
       "15       I             None             4         None  ...   \n",
       "16       TS            None            26         None  ...   \n",
       "17       CV            None           200         None  ...   \n",
       "18       I             None             4         None  ...   \n",
       "19       I1            None             1         None  ...   \n",
       "20       I             None             4         None  ...   \n",
       "21       CV            None            60         None  ...   \n",
       "22       D             None            16         None  ...   \n",
       "23       CV            None           200         None  ...   \n",
       "24       TS            None            26         None  ...   \n",
       "25       D             None            16         None  ...   \n",
       "26       CV            None            30         None  ...   \n",
       "27       TS            None            26         None  ...   \n",
       "28       I             None             4         None  ...   \n",
       "29       CV            None            40         None  ...   \n",
       "30       I             None             4         None  ...   \n",
       "31       I             None             4         None  ...   \n",
       "32       CV            None            60         None  ...   \n",
       "33       CV            None            60         None  ...   \n",
       "34       TS            None            26         None  ...   \n",
       "35       CV            None          2000         None  ...   \n",
       "36       CV            None            60         None  ...   \n",
       "37       CV            None           200         None  ...   \n",
       "38       CV            None           200         None  ...   \n",
       "39       I1            None             1         None  ...   \n",
       "\n",
       "   ColumnPartitionFormat ColumnPartitionAC  PseudoUDTFieldId  \\\n",
       "0                   NA                NA                None   \n",
       "1                   NA                NA                None   \n",
       "2                   NA                NA                None   \n",
       "3                   NA                NA                None   \n",
       "4                   NA                NA                None   \n",
       "5                   NA                NA                None   \n",
       "6                   NA                NA                None   \n",
       "7                   NA                NA                None   \n",
       "8                   NA                NA                None   \n",
       "9                   NA                NA                None   \n",
       "10                  NA                NA                None   \n",
       "11                  NA                NA                None   \n",
       "12                  NA                NA                None   \n",
       "13                  NA                NA                None   \n",
       "14                  NA                NA                None   \n",
       "15                  NA                NA                None   \n",
       "16                  NA                NA                None   \n",
       "17                  NA                NA                None   \n",
       "18                  NA                NA                None   \n",
       "19                  NA                NA                None   \n",
       "20                  NA                NA                None   \n",
       "21                  NA                NA                None   \n",
       "22                  NA                NA                None   \n",
       "23                  NA                NA                None   \n",
       "24                  NA                NA                None   \n",
       "25                  NA                NA                None   \n",
       "26                  NA                NA                None   \n",
       "27                  NA                NA                None   \n",
       "28                  NA                NA                None   \n",
       "29                  NA                NA                None   \n",
       "30                  NA                NA                None   \n",
       "31                  NA                NA                None   \n",
       "32                  NA                NA                None   \n",
       "33                  NA                NA                None   \n",
       "34                  NA                NA                None   \n",
       "35                  NA                NA                None   \n",
       "36                  NA                NA                None   \n",
       "37                  NA                NA                None   \n",
       "38                  NA                NA                None   \n",
       "39                  NA                NA                None   \n",
       "\n",
       "    PseudoUDTFieldType  StorageFormat DatasetSchemaName InlineLength  \\\n",
       "0                 None           None              None         None   \n",
       "1                 None           None              None         None   \n",
       "2                 None           None              None         None   \n",
       "3                 None           None              None         None   \n",
       "4                 None           None              None         None   \n",
       "5                 None           None              None         None   \n",
       "6                 None           None              None         None   \n",
       "7                 None           None              None         None   \n",
       "8                 None           None              None         None   \n",
       "9                 None           None              None         None   \n",
       "10                None           None              None         None   \n",
       "11                None           None              None         None   \n",
       "12                None           None              None         None   \n",
       "13                None           None              None         None   \n",
       "14                None           None              None         None   \n",
       "15                None           None              None         None   \n",
       "16                None           None              None         None   \n",
       "17                None           None              None         None   \n",
       "18                None           None              None         None   \n",
       "19                None           None              None         None   \n",
       "20                None           None              None         None   \n",
       "21                None           None              None         None   \n",
       "22                None           None              None         None   \n",
       "23                None           None              None         None   \n",
       "24                None           None              None         None   \n",
       "25                None           None              None         None   \n",
       "26                None           None              None         None   \n",
       "27                None           None              None         None   \n",
       "28                None           None              None         None   \n",
       "29                None           None              None         None   \n",
       "30                None           None              None         None   \n",
       "31                None           None              None         None   \n",
       "32                None           None              None         None   \n",
       "33                None           None              None         None   \n",
       "34                None           None              None         None   \n",
       "35                None           None              None         None   \n",
       "36                None           None              None         None   \n",
       "37                None           None              None         None   \n",
       "38                None           None              None         None   \n",
       "39                None           None              None         None   \n",
       "\n",
       "   TSColumnType AutoColumn  RowVersionNo  \n",
       "0          None       None          None  \n",
       "1          None       None          None  \n",
       "2          None       None          None  \n",
       "3          None       None          None  \n",
       "4          None       None          None  \n",
       "5          None       None          None  \n",
       "6          None       None          None  \n",
       "7          None       None          None  \n",
       "8          None       None          None  \n",
       "9          None       None          None  \n",
       "10         None       None          None  \n",
       "11         None       None          None  \n",
       "12         None       None          None  \n",
       "13         None       None          None  \n",
       "14         None       None          None  \n",
       "15         None       None          None  \n",
       "16         None       None          None  \n",
       "17         None       None          None  \n",
       "18         None       None          None  \n",
       "19         None       None          None  \n",
       "20         None       None          None  \n",
       "21         None       None          None  \n",
       "22         None       None          None  \n",
       "23         None       None          None  \n",
       "24         None       None          None  \n",
       "25         None       None          None  \n",
       "26         None       None          None  \n",
       "27         None       None          None  \n",
       "28         None       None          None  \n",
       "29         None       None          None  \n",
       "30         None       None          None  \n",
       "31         None       None          None  \n",
       "32         None       None          None  \n",
       "33         None       None          None  \n",
       "34         None       None          None  \n",
       "35         None       None          None  \n",
       "36         None       None          None  \n",
       "37         None       None          None  \n",
       "38         None       None          None  \n",
       "39         None       None          None  \n",
       "\n",
       "[40 rows x 49 columns]"
      ]
     },
     "execution_count": 102,
     "metadata": {},
     "output_type": "execute_result"
    }
   ],
   "source": [
    "df.show(40)"
   ]
  },
  {
   "cell_type": "markdown",
   "metadata": {},
   "source": [
    "## Handling Tera Aborted Transactions"
   ]
  },
  {
   "cell_type": "code",
   "execution_count": null,
   "metadata": {
    "collapsed": true
   },
   "outputs": [],
   "source": [
    "'''\n",
    "java.sql.BatchUpdateException: \n",
    "[Teradata JDBC Driver] [TeraJDBC 15.10.00.37] [Error 1338] [SQLState HY000] \n",
    "A failure occurred while executing a PreparedStatement batch request. \n",
    "Details of the failure can be found in the exception chain that is accessible with getNextException.\n",
    "'''"
   ]
  },
  {
   "cell_type": "code",
   "execution_count": 52,
   "metadata": {
    "collapsed": true,
    "scrolled": true
   },
   "outputs": [],
   "source": [
    "my_sql = '''(\n",
    "               SELECT TOP 100 PERCENT\n",
    "                 *\n",
    "                 --UserName, ErrorCode, ErrorText, StartTime     \n",
    "               FROM dbc.DBQLogTbl \n",
    "               WHERE (lower(UserName) like '%ektov%') and\n",
    "                     (ErrorText like '%Transaction ABORTed due to deadlock%')\n",
    "               ORDER BY StartTime DESC\n",
    "            ) as Q\n",
    "         '''\n",
    "\n",
    "df = sp.get_teradata(db, my_sql)"
   ]
  },
  {
   "cell_type": "code",
   "execution_count": 53,
   "metadata": {
    "scrolled": true
   },
   "outputs": [
    {
     "data": {
      "text/plain": [
       "[Row(ProcID=Decimal('30679'), CollectTimeStamp=datetime.datetime(2022, 2, 17, 3, 23, 17, 140000), QueryID=Decimal('306790575673127150'), ZoneId=bytearray(b'\\x00\\x00\\x00\\x00'), UserID=bytearray(b'\\x00\\x00\\x14['), AcctString='DBC', ExpandAcctString='DBC', SessionID=6634959, LogicalHostID=1, RequestNum=7, InternalRequestNum=7, LogonDateTime=datetime.datetime(2022, 2, 17, 3, 18, 0, 460000), AcctStringTime=None, AcctStringHour=None, AcctStringDate=None, LogonSource='(TCP/IP) e33c 10.110.10.143 TDSB15.CGS.SBRF.RU;TDSB15COP29. CID=62C22F3 EKTOV1-AV_CA-SBRF-RU JDBC15.10.00.37;1.8.0_312 01 LSS                                                                                                                                   ', AppID='JDBC15.10.00.37;1.8.0_312                                                                 ', ClientID='EKTOV1-AV_CA-SBRF-RU                                                                      ', ClientAddr='10.110.10.143                                                                             ', QueryBand=None, ProfileID=bytearray(b'\\x00\\x00\\xe3F'), StartTime=datetime.datetime(2022, 2, 17, 3, 23, 45, 210000), FirstStepTime=datetime.datetime(2022, 2, 17, 3, 24, 0, 300000), FirstRespTime=datetime.datetime(2022, 2, 17, 3, 28, 25, 480000), LastStateChange=datetime.datetime(2022, 2, 16, 20, 30, 7, 250000), NumSteps=698, NumStepswPar=1, MaxStepsInPar=698, NumResultRows=0.0, TotalIOCount=121269.0, AMPCPUTime=24.24799919128418, ParserCPUTime=0.04399999976158142, UtilityByteCount=None, UtilityRowCount=None, ErrorCode=2631, ErrorText='Transaction ABORTed due to deadlock.                                                                                                                                                                                                                             ', WarningOnly='  ', DelayTime=15.029999732971191, AbortFlag='T ', CacheFlag='T ', StatementType='Insert                                  ', QueryText='INSERT INTO LAL_DB_HIST_IN_NONPART (\"INN\",\"MODEL_NAME\",\"HYPOTHESIS\",\"CLIENT_TYPE\",\"ID_SCEN\",\"CREATE_DT\",\"ONLY_SB\",\"DEAL_EVENT_DT\",\"MODEL_TYPE\",\"TARGET\",\"CREATE_DT_DAY\") VALUES (?,?,?,?,?,?,?,?,?,?,?)', NumOfActiveAMPs=1368, MaxAMPCPUTime=None, MaxCPUAmpNumber=None, MinAmpCPUTime=None, MaxAmpIO=None, MaxIOAmpNumber=None, MinAmpIO=None, SpoolUsage=0, WDID=12785, OpEnvID=1, SysConID=1, LSN=None, NoClassification='  ', WDOverride='  ', ResponseTimeMet='  ', ExceptionValue=None, FinalWDID=12785, TDWMEstMaxRows=None, TDWMEstLastRows=1.0, TDWMEstTotalTime=41.46220016479492, TDWMAllAmpFlag='  ', TDWMConfLevelUsed='N ', TDWMRuleID=None, UserName='EKTOV1-AV', DefaultDatabase='PRD_DB_CLIENT4D_DEV1', AMPCPUTimeNorm=972.0070190429688, ParserCPUTimeNorm=1.7640000581741333, MaxAMPCPUTimeNorm=None, MaxCPUAmpNumberNorm=None, MinAmpCPUTimeNorm=None, EstResultRows=0.0, EstProcTime=28.940616607666016, EstMaxRowCount=0.0, ProxyUser=None, ProxyRole=None, StatementGroup='DML Insert', SessionTemporalQualifier=None, CalendarName='TERADATA', SessionWDID=12730, DataCollectAlg=3, ParserExpReq=0.005572999827563763, CallNestingLevel=0, NumRequestCtx=1, KeepFlag='N ', QueryRedriven='N ', ReDriveKind=None, CPUDecayLevel=0, IODecayLevel=0, TacticalCPUException=0, TacticalIOException=0, SeqRespTime=356.44000244140625, ReqIOKB=24195178.0, ReqPhysIO=94761.0, ReqPhysIOKB=23015976.0, NumFragments=None, CheckpointNum=0.0, UnityTime=0.0, LockDelay=None, LastRespTime=datetime.datetime(2022, 2, 17, 3, 28, 25, 480000), DisCPUTime=0.24799999594688416, Statements=1, DisCPUTimeNorm=9.947279930114746, TxnMode='BTET                ', RequestMode='Exec      ', UtilityInfoAvailable='N ', UnitySQL='N ', ThrottleBypassed=None, DBQLStatus=32768, IterationCount=1000, VHLogicalIO=0.0, VHPhysIO=0.0, VHLogicalIOKB=0.0, VHPhysIOKB=0.0, TDWMEstMemUsage=4.0, MaxStepMemory=1.999969482421875, TotalServerByteCount=0, ProxyUserID=None, TxnUniq=bytearray(b'Qm\\xd4h'), LockLevel='NOLOCK', TTGranularity='Transaction', ProfileName='PFL_CORP', WDName='WD-CORP-TS-Short', FlexThrottle=None, EstMaxStepTime=41.46220016479492, ParamQuery=None, RemoteQuery=None, PersistentSpool=0, MinRespHoldTime=None, TotalFirstRespTime=280.2699890136719, MaxOneMBRowSize=0, NumResultOneMBRows=0.0, MaxNumMapAMPs=1368, MinNumMapAMPs=1368, SysDefNumMapAMPs=1368, FeatureUsage=None, ReqMaxSpool=None, NumAmpsImpacted=None, UsedIota=52723245056.0, OpEnvName='Always', SysConName='Normal', FinalWDName='WD-CORP-TS-Short', SessionWDName='WD-PARSING-TS', MaxAmpsMapNo=1028, ExtraField1=None, ExtraField2=None, ExtraField3=None, ExtraField4=None, ExtraField5=None, ExtraField6=None, ExtraField7=None, ExtraField8='F ', ExtraField9=None, ExtraField10=None, ExtraField11=None, ExtraField12=None, ExtraField13=None, ExtraField14=None, ExtraField15=None, ExtraField16=None, ExtraField17=None, ExtraField18=None, ExtraField19=None, ExtraField20=None, ExtraField21=None, ExtraField22=638.947998046875, ExtraField23=257.9750061035156, ExtraField24=None, ExtraField25=0.0, ExtraField26=None, ExtraField27=None, ExtraField28=None, ExtraField29=None, ExtraField30=None, ExtraField31=None, ExtraField32=None, ExtraField33=None, ExtraField34=None, ExtraField35=None, ExtraField36=None, ExtraField37=None, ExtraField38=1, ExtraField39=1088, ExtraField40=None, ExtraField41=None, ExtraField42=None, ExtraField43=None, ExtraField44=584788497, ExtraField45=None, ExtraField46=None, ExtraField47=None, ExtraField48=None, ExtraField49=None, ExtraField50=None, ExtraField51=None, ExtraField52=None, ExtraField53=None, ExtraField54=None, ExtraField55=None, ExtraField56=None)]"
      ]
     },
     "execution_count": 53,
     "metadata": {},
     "output_type": "execute_result"
    }
   ],
   "source": [
    "df.take(1)"
   ]
  },
  {
   "cell_type": "markdown",
   "metadata": {},
   "source": [
    "# Fetch some data from Hive Table"
   ]
  },
  {
   "cell_type": "markdown",
   "metadata": {},
   "source": [
    "### Get actual partitions from MetaStore"
   ]
  },
  {
   "cell_type": "code",
   "execution_count": 5,
   "metadata": {
    "collapsed": true
   },
   "outputs": [],
   "source": [
    "from itertools import cycle"
   ]
  },
  {
   "cell_type": "code",
   "execution_count": 6,
   "metadata": {
    "collapsed": true
   },
   "outputs": [],
   "source": [
    "conn_schema = 'sbx_team_digitcamp' #'sbx_t_team_cvm'\n",
    "table_name = 'ma_cmdm_ma_deal_new' #'lal_db_hist_in'"
   ]
  },
  {
   "cell_type": "code",
   "execution_count": null,
   "metadata": {
    "collapsed": true
   },
   "outputs": [],
   "source": [
    "#/////////////////////////////////////////////////////////////////////////////////////////////////////////////////////\n",
    "descr = hive.sql(\"describe extended {}.{}\".format(conn_schema,table_name)).collect()\n",
    "push_down = True\n",
    "loop_rows = cycle(descr)\n",
    "nextelem = next(loop_rows)\n",
    "while push_down:\n",
    "    thiselemen, nextelem = nextelem, next(loop_rows)\n",
    "    if nextelem.asDict()['col_name'] =='# Partition Information':\n",
    "        next(loop_rows)\n",
    "        part_col = next(loop_rows)\n",
    "        part_col_info = part_col.asDict()\n",
    "        push_down = False\n",
    "        \n",
    "#/////////////////////////////////////////////////////////////////////////////////////////////////////////////////////\n",
    "#/////////////////////////////////////////////////////////////////////////////////////////////////////////////////////"
   ]
  },
  {
   "cell_type": "code",
   "execution_count": 7,
   "metadata": {
    "collapsed": true,
    "scrolled": true
   },
   "outputs": [],
   "source": [
    "#/////////////////////////////////////////////////////////////////////////////////////////////////////////////////////\n",
    "#/////////////////////////////////////////////////////////////////////////////////////////////////////////////////////\n",
    "part_name = part_col_info['col_name']\n",
    "# set the fix number of sorted patitions to catch from metastore\n",
    "numdays = 10       \n",
    "#/////////////////////////////////////////////////////////////////////////////////////////////////////////////////////\n",
    "#/////////////////////////////////////////////////////////////////////////////////////////////////////////////////////\n",
    "\n",
    "hasPartitioned = len([item.asDict() for item in descr if item.asDict()['col_name'] =='# Partition Information']) > 0\n",
    "if hasPartitioned:\n",
    "    try:\n",
    "        parts = hive.sql(\"show partitions {}.{}\".format(conn_schema,table_name)).collect()\n",
    "        parts = [part['partition'] for part in parts if not part['partition'].endswith('__HIVE_DEFAULT_PARTITION__')]\n",
    "        parts = sorted(parts,reverse=True)\n",
    "        max_part = parts[0]\n",
    "        extract_date=re.compile(\"\\d{4}\\-\\d{2}\\-\\d{2}\")\n",
    "        ext = extract_date.search(max_part)\n",
    "        try:\n",
    "            max_trunc_dt = ext.group(0)\n",
    "        except:\n",
    "            max_trunc_dt = None\n",
    "        if part_col_info['data_type'] in ('date', 'timestamp', 'string') and (max_trunc_dt is not None): \n",
    "            parts = sorted(parts, reverse=True, key=lambda x: \n",
    "                           datetime.datetime.strptime(x.split(part_name+'=')[-1].split('/')[0], '%Y-%m-%d'))\n",
    "        else:\n",
    "            parts = sorted(parts, reverse=True, key=lambda x: int(x.split(part_name+'=')[-1].split('/')[0]))\n",
    "        last_part_lst = sorted(list(set([part.split(part_name+'=')[-1].split('/')[0] for part in parts])), \n",
    "                               reverse=True)[:numdays]\n",
    "    except (AnalysisException, IndexError):\n",
    "        last_part_lst = None\n",
    "else:\n",
    "    last_part_lst = None\n",
    "#/////////////////////////////////////////////////////////////////////////////////////////////////////////////////////"
   ]
  },
  {
   "cell_type": "code",
   "execution_count": 8,
   "metadata": {
    "scrolled": true
   },
   "outputs": [
    {
     "data": {
      "text/plain": [
       "['2022-02-01', '2022-01-01']"
      ]
     },
     "execution_count": 8,
     "metadata": {},
     "output_type": "execute_result"
    }
   ],
   "source": [
    "last_part_lst"
   ]
  },
  {
   "cell_type": "markdown",
   "metadata": {},
   "source": [
    "## Filter Corrupted Partitions"
   ]
  },
  {
   "cell_type": "code",
   "execution_count": 9,
   "metadata": {
    "scrolled": false
   },
   "outputs": [
    {
     "data": {
      "text/plain": [
       "['2022-02-01', '2022-01-01']"
      ]
     },
     "execution_count": 9,
     "metadata": {},
     "output_type": "execute_result"
    }
   ],
   "source": [
    "HDFS_PATH = \"hdfs://clsklsbx/user/team/team_digitcamp/hive/{}/{}\".format(table_name, part_name)+\"={}/\"\n",
    "noncorrupCTL = []\n",
    "for ctl in last_part_lst:\n",
    "    try:\n",
    "        sdf = hive.read.load(path=HDFS_PATH.format(ctl), format='parquet').limit(10)\n",
    "        noncorrupCTL.append(ctl)\n",
    "    except (AnalysisException) as err:\n",
    "        if \"Unable to infer schema for Parquet\" in str(err):\n",
    "            print(\" Unable to infer schema for Parquet. It must be specified manually\")\n",
    "            \n",
    "noncorrupCTL"
   ]
  },
  {
   "cell_type": "markdown",
   "metadata": {},
   "source": [
    "## Select Appropriate Rows Under User Conditions"
   ]
  },
  {
   "cell_type": "code",
   "execution_count": null,
   "metadata": {
    "collapsed": true,
    "scrolled": true
   },
   "outputs": [],
   "source": [
    "sdf = hive.table(\"{}.{}\".format(conn_schema,table_name))\n",
    "\n",
    "lstofdates = [datetime.datetime.strptime(item, '%Y-%m-%d') for item in noncorrupCTL]\n",
    "sdf = sdf.filter(sdf.CREATE_DT_DAY.isin(lstofdates))"
   ]
  },
  {
   "cell_type": "markdown",
   "metadata": {},
   "source": [
    "### Or via pure SQL"
   ]
  },
  {
   "cell_type": "code",
   "execution_count": 10,
   "metadata": {
    "collapsed": true,
    "scrolled": true
   },
   "outputs": [],
   "source": [
    "sdf = hive.sql('''select * from {}.{} \n",
    "                  where {} between '{}' and '{}' '''.format(conn_schema,\n",
    "                                                            table_name,\n",
    "                                                            part_name.lower(),\n",
    "                                                            noncorrupCTL[-1],\n",
    "                                                            noncorrupCTL[0]\n",
    "                                                           )\n",
    "              )"
   ]
  },
  {
   "cell_type": "code",
   "execution_count": 11,
   "metadata": {
    "collapsed": true
   },
   "outputs": [],
   "source": [
    "sdf = sdf.withColumn(\"row_id\", f.monotonically_increasing_id().cast(IntegerType()))"
   ]
  },
  {
   "cell_type": "code",
   "execution_count": 14,
   "metadata": {
    "collapsed": true
   },
   "outputs": [],
   "source": [
    "# df = sdf.sample(0.01).toPandas()\n",
    "# df.to_csv(\"~/ma_deals.csv\", sep=\",\", encoding=\"cp1251\", index=False)\n",
    "\n",
    "# with open(\"/home/ektov1-av_ca-sbrf-ru/ma_deals.csv\", \"r\", encoding=\"cp1251\") as fin, \n",
    "#      open(\"/home/ektov1-av_ca-sbrf-ru/ma_deals_utf.csv\", \"w\", encoding=\"utf8\") as fout:\n",
    "#     _in = csv.reader(fin)\n",
    "#     _out = csv.writer(fout)\n",
    "#     for ind, row in enumerate(_in):\n",
    "#         row = [el.encode(\"utf8\").decode(\"utf8\") for el in row]\n",
    "#         _out.writerow(row)"
   ]
  },
  {
   "cell_type": "code",
   "execution_count": 12,
   "metadata": {},
   "outputs": [
    {
     "data": {
      "text/plain": [
       "DataFrame[INN: string, KPP: string, HOST_APPL_ID: string, HOST_CRTR_EMP_ID: string, HOST_VKS_EMP_ID: string, HOST_CUST_ORG_ID: string, APPL_SALE_MTHD_TYPE_NAME: string, CREATE_DT: timestamp, PLAN_COMPLETE_DT: timestamp, COMPLETE_DT: timestamp, HOST_PROD_ID: string, PROD_TYPE_NAME: string, APPL_TYPE_NAME: string, APPL_CORE_TXT: string, SUM_RUB: decimal(38,10), MARGIN_PCT: decimal(38,10), GROSS_INC_RUB: decimal(38,10), CLOSE_REASON_TYPE_NAME: string, HOST_CM_EMP_ID: string, APPL_STAGE_NAME: string, ARCHIVE_FLG: string, ARCHIVE_DT: timestamp, HOST_LEAD_ID: string, REQUEST_SUM_VAL: decimal(38,10), crm_active_flg: bigint, product_full_nm: string, product_short_nm: string, product_cd_mmb: string, product_subgroup: string, product_type: string, product_priority: bigint, channel_sale: bigint, channel_eco_expert: bigint, channel_mmb_ms: bigint, channel_mmb_ckr: bigint, channel_mmb_mkk: bigint, channel_dzo: bigint, creation_month: string, product_group: string, row_id: int]"
      ]
     },
     "execution_count": 12,
     "metadata": {},
     "output_type": "execute_result"
    }
   ],
   "source": [
    "sdf.cache()"
   ]
  },
  {
   "cell_type": "code",
   "execution_count": 13,
   "metadata": {},
   "outputs": [
    {
     "data": {
      "text/plain": [
       "1127096"
      ]
     },
     "execution_count": 13,
     "metadata": {},
     "output_type": "execute_result"
    }
   ],
   "source": [
    "sdf.count()"
   ]
  },
  {
   "cell_type": "code",
   "execution_count": null,
   "metadata": {
    "scrolled": true
   },
   "outputs": [],
   "source": [
    "sdf.show()"
   ]
  },
  {
   "cell_type": "markdown",
   "metadata": {},
   "source": [
    "# IF HIVE Partitions are corrupted then try to restore data from Oracle Replica"
   ]
  },
  {
   "cell_type": "markdown",
   "metadata": {},
   "source": [
    "## FETCH Consistent Replica's Rows from Oracle"
   ]
  },
  {
   "cell_type": "code",
   "execution_count": 5,
   "metadata": {
    "collapsed": true
   },
   "outputs": [],
   "source": [
    "sql = \"\"\"\n",
    "(\n",
    "select /*+ parallel (4) */ * from ISKRA_CVM.ga_all_scenarios_hist\n",
    "where load_dt > to_timestamp('{}', 'yyyy-mm-dd')\n",
    ")\"\"\".format('2022-01-01')\n",
    "    \n",
    "sdf = sp.get_oracle(OracleDB('iskra4'), sql)"
   ]
  },
  {
   "cell_type": "code",
   "execution_count": 51,
   "metadata": {
    "scrolled": true
   },
   "outputs": [
    {
     "data": {
      "text/plain": [
       "[('INN', 'string'),\n",
       " ('KPP', 'string'),\n",
       " ('HOST_APPL_ID', 'string'),\n",
       " ('HOST_CRTR_EMP_ID', 'string'),\n",
       " ('HOST_VKS_EMP_ID', 'string'),\n",
       " ('HOST_CUST_ORG_ID', 'string'),\n",
       " ('APPL_SALE_MTHD_TYPE_NAME', 'string'),\n",
       " ('CREATE_DT', 'timestamp'),\n",
       " ('PLAN_COMPLETE_DT', 'timestamp'),\n",
       " ('COMPLETE_DT', 'timestamp'),\n",
       " ('HOST_PROD_ID', 'string'),\n",
       " ('PROD_TYPE_NAME', 'string'),\n",
       " ('APPL_TYPE_NAME', 'string'),\n",
       " ('APPL_CORE_TXT', 'string'),\n",
       " ('SUM_RUB', 'decimal(38,10)'),\n",
       " ('MARGIN_PCT', 'decimal(38,10)'),\n",
       " ('GROSS_INC_RUB', 'decimal(38,10)'),\n",
       " ('CLOSE_REASON_TYPE_NAME', 'string'),\n",
       " ('HOST_CM_EMP_ID', 'string'),\n",
       " ('APPL_STAGE_NAME', 'string'),\n",
       " ('ARCHIVE_FLG', 'string'),\n",
       " ('ARCHIVE_DT', 'timestamp'),\n",
       " ('HOST_LEAD_ID', 'string'),\n",
       " ('REQUEST_SUM_VAL', 'decimal(38,10)'),\n",
       " ('crm_active_flg', 'bigint'),\n",
       " ('product_full_nm', 'string'),\n",
       " ('product_short_nm', 'string'),\n",
       " ('product_cd_mmb', 'string'),\n",
       " ('product_subgroup', 'string'),\n",
       " ('product_type', 'string'),\n",
       " ('product_priority', 'bigint'),\n",
       " ('channel_sale', 'bigint'),\n",
       " ('channel_eco_expert', 'bigint'),\n",
       " ('channel_mmb_ms', 'bigint'),\n",
       " ('channel_mmb_ckr', 'bigint'),\n",
       " ('channel_mmb_mkk', 'bigint'),\n",
       " ('channel_dzo', 'bigint'),\n",
       " ('creation_month', 'string'),\n",
       " ('product_group', 'string'),\n",
       " ('row_id', 'int')]"
      ]
     },
     "execution_count": 51,
     "metadata": {},
     "output_type": "execute_result"
    }
   ],
   "source": [
    "sdf.dtypes"
   ]
  },
  {
   "cell_type": "markdown",
   "metadata": {},
   "source": [
    "## Temporarily Copy fetched data to HIVE"
   ]
  },
  {
   "cell_type": "code",
   "execution_count": 16,
   "metadata": {
    "collapsed": true,
    "scrolled": false
   },
   "outputs": [],
   "source": [
    "sdf = sdf.select([col for col in sdf.columns if col not in (\"COMMONSEGMENTOUID\")] + [\"COMMONSEGMENTOUID\"])"
   ]
  },
  {
   "cell_type": "code",
   "execution_count": 18,
   "metadata": {},
   "outputs": [
    {
     "data": {
      "text/plain": [
       "'INN STRING, SBBOLUSERID STRING, ID_CRM STRING, SCENARIO_ID STRING, CHANNEL STRING, ID_PRODUCT STRING, MADEAL_PRODUCT_NORM STRING, MADEAL_PROD_TYPE_NAME STRING, MADEAL_APPL_CORE_TXT STRING, MADEAL_COMPLETE_DT TIMESTAMP, HASPRODUCT DECIMAL(38,0), ESSENSE STRING, RETURNCNT DECIMAL(38,0), NUMBEROFSTEPS DECIMAL(38,0), FUNNEL_RATE STRING, SUM_OFFER_PRIORITY DECIMAL(38,0), SUM_OFFER_NONTOP DECIMAL(38,0), MINSESSIONSTARTTIME TIMESTAMP, MAXSESSIONSTARTTIME TIMESTAMP, LOAD_DT TIMESTAMP, CTL_LOADING DECIMAL(38,0), COMMONSEGMENTOUID STRING'"
      ]
     },
     "execution_count": 18,
     "metadata": {},
     "output_type": "execute_result"
    }
   ],
   "source": [
    "sdf = sdf.select([col.upper() for col in sdf.columns])\n",
    "        \n",
    "cols = ', '.join([col + ' ' + type.upper() for col, type in sdf.dtypes])\n",
    "cols"
   ]
  },
  {
   "cell_type": "code",
   "execution_count": 20,
   "metadata": {
    "scrolled": true
   },
   "outputs": [
    {
     "data": {
      "text/plain": [
       "DataFrame[]"
      ]
     },
     "execution_count": 20,
     "metadata": {},
     "output_type": "execute_result"
    }
   ],
   "source": [
    "hive_table_name   = \"GA_ALL_SCENARIOS_PART_NEW\"\n",
    "tmp_tbl_name = \"tmp_ora2hive_dlg\"\n",
    "\n",
    "sdf.registerTempTable(tmp_tbl_name)\n",
    "\n",
    "hive.sql(\"CREATE TABLE {}.{} ({})\".format(conn_schema, table_name, cols))\n",
    "hive.sql(\"INSERT INTO {}.{} SELECT * FROM {}\".format(conn_schema, hive_table_name, tmp_tbl_name))"
   ]
  },
  {
   "cell_type": "markdown",
   "metadata": {},
   "source": [
    "# Fetch data from saved HIVE TBL"
   ]
  },
  {
   "cell_type": "code",
   "execution_count": 68,
   "metadata": {
    "collapsed": true
   },
   "outputs": [],
   "source": [
    "# conn_schema = 'sbx_t_team_cvm'\n",
    "# hive_table_name   = \"LAL_DB_HIST_IN\"\n",
    "# sdf = hive.table(\"{}.{}\".format(conn_schema, hive_table_name))"
   ]
  },
  {
   "cell_type": "code",
   "execution_count": null,
   "metadata": {
    "collapsed": true,
    "scrolled": true
   },
   "outputs": [],
   "source": [
    "# sdf.selectExpr(\"max(create_dt_day) as max_create_dt_day\").show()"
   ]
  },
  {
   "cell_type": "markdown",
   "metadata": {},
   "source": [
    "## Map ColumnTypes from Spark to Teradata"
   ]
  },
  {
   "cell_type": "code",
   "execution_count": 14,
   "metadata": {
    "collapsed": true,
    "scrolled": true
   },
   "outputs": [],
   "source": [
    "df = sdf.limit(1000).toPandas()"
   ]
  },
  {
   "cell_type": "code",
   "execution_count": null,
   "metadata": {
    "scrolled": false
   },
   "outputs": [],
   "source": [
    "df.dtypes"
   ]
  },
  {
   "cell_type": "code",
   "execution_count": 3,
   "metadata": {
    "collapsed": true
   },
   "outputs": [],
   "source": [
    "#**************************************************************************************************************\n",
    "#**************************************************************************************************************\n",
    "## Place Row_ID on the first column-position in your database. \n",
    "## Teradata always use the first column as Primary Index if not explicitly specified in \n",
    "## `INSERT INTO SELECT * FROM ` clause\n",
    "#**************************************************************************************************************\n",
    "#**************************************************************************************************************"
   ]
  },
  {
   "cell_type": "code",
   "execution_count": 16,
   "metadata": {
    "scrolled": true
   },
   "outputs": [
    {
     "name": "stdout",
     "output_type": "stream",
     "text": [
      "CREATE MULTISET TABLE {0}, NO FALLBACK, \n",
      "                                     NO BEFORE JOURNAL, NO AFTER JOURNAL, \n",
      "                                     CHECKSUM = DEFAULT, \n",
      "                                     DEFAULT MERGEBLOCKRATIO ( ROW_ID INTEGER, INN VARCHAR(20), KPP VARCHAR(20), HOST_APPL_ID VARCHAR(800), HOST_CRTR_EMP_ID VARCHAR(800), HOST_VKS_EMP_ID VARCHAR(800), HOST_CUST_ORG_ID VARCHAR(800), APPL_SALE_MTHD_TYPE_NAME VARCHAR(800), CREATE_DT TIMESTAMP FORMAT 'YYYY-MM-DDBHH:MI:SS', PLAN_COMPLETE_DT DATE FORMAT 'YYYY-MM-DD', COMPLETE_DT DATE FORMAT 'YYYY-MM-DD', HOST_PROD_ID VARCHAR(800), PROD_TYPE_NAME VARCHAR(800), APPL_TYPE_NAME VARCHAR(800), APPL_CORE_TXT VARCHAR(800), SUM_RUB FLOAT, MARGIN_PCT VARCHAR(800), GROSS_INC_RUB FLOAT, CLOSE_REASON_TYPE_NAME VARCHAR(800), HOST_CM_EMP_ID VARCHAR(800), APPL_STAGE_NAME VARCHAR(800), ARCHIVE_FLG VARCHAR(800), ARCHIVE_DT VARCHAR(800), HOST_LEAD_ID VARCHAR(800), REQUEST_SUM_VAL VARCHAR(800), CRM_ACTIVE_FLG INTEGER, PRODUCT_FULL_NM VARCHAR(800), PRODUCT_SHORT_NM VARCHAR(800), PRODUCT_CD_MMB VARCHAR(800), PRODUCT_SUBGROUP VARCHAR(800), PRODUCT_TYPE VARCHAR(800), PRODUCT_PRIORITY INTEGER, CHANNEL_SALE INTEGER, CHANNEL_ECO_EXPERT INTEGER, CHANNEL_MMB_MS INTEGER, CHANNEL_MMB_CKR INTEGER, CHANNEL_MMB_MKK INTEGER, CHANNEL_DZO INTEGER, CREATION_MONTH DATE, PRODUCT_GROUP VARCHAR(800) ) PRIMARY INDEX (ROW_ID);\n"
     ]
    }
   ],
   "source": [
    "cols_specific = {}\n",
    "cols_specific[\"row_id\"] = ['INTEGER', 'INT']\n",
    "#cols_specific {COL_NAME: [TERATYPE, HIVE_TYPE]}\n",
    "\n",
    "isDateFmt = False\n",
    "PRIMARY_INDX = 'ROW_ID'\n",
    "\n",
    "str_ = '''CREATE MULTISET TABLE {0}, NO FALLBACK, \n",
    "                                     NO BEFORE JOURNAL, NO AFTER JOURNAL, \n",
    "                                     CHECKSUM = DEFAULT, \n",
    "                                     DEFAULT MERGEBLOCKRATIO ( ROW_ID INTEGER, '''\n",
    "for column_name, column in df.iteritems():\n",
    "    try:\n",
    "        if isinstance(column[column.first_valid_index()], str):\n",
    "            if (df[column_name].str.len().max() >= 4000) or ('COMMONSEGMENTOUID' in column_name.upper()):\n",
    "    #             df.drop(columns=[column_name], inplace=True)\n",
    "                str_+=column_name.upper() + ' ' +'CLOB, '\n",
    "                cols_specific[column_name] = ['CLOB', 'STRING']\n",
    "            else:\n",
    "                if 'INN' in column_name.upper() or 'KPP' in column_name.upper():\n",
    "                    str_+=column_name.upper() + ' ' +'VARCHAR(20), '\n",
    "                    cols_specific[column_name] = ['VARCHAR(20)', 'STRING']\n",
    "                elif part_name.upper() in column_name.upper():\n",
    "                    str_+=column_name.upper() + ' ' +'DATE, '\n",
    "                    cols_specific[column_name] = ['DATE', 'DATE_FORMAT({}, \"yyyy-MM-dd\")']\n",
    "                else:\n",
    "                    str_+=column_name.upper() + ' ' +'VARCHAR(800), '\n",
    "                    cols_specific[column_name] = ['VARCHAR(800)', 'STRING']\n",
    "        elif isinstance(column[column.first_valid_index()], np.integer) and (column_name.upper() != \"ROW_ID\"):\n",
    "            if len(str(column[column.first_valid_index()])) < 1.e6:\n",
    "                str_+=column_name.upper() + ' ' +'INTEGER, '\n",
    "                cols_specific[column_name] =['INTEGER', 'INT']\n",
    "            else:\n",
    "                str_+=column_name.upper() + ' ' +'INTEGER, '\n",
    "                cols_specific[column_name] =['BIGINT', 'BIGINT']            \n",
    "        elif (\n",
    "               ( isinstance(column[column.first_valid_index()], decimal.Decimal) ) or \n",
    "               ( isinstance(column[column.first_valid_index()], float) )\n",
    "             ):\n",
    "    #         df[column_name] = df[column_name].fillna(0.0)\n",
    "            str_+=column_name.upper() + ' ' +'FLOAT, ' \n",
    "            cols_specific[column_name] = ['FLOAT', 'FLOAT']\n",
    "        elif (\n",
    "                isinstance(column[column.first_valid_index()], pd.Timestamp) or \n",
    "                isinstance(column[column.first_valid_index()], datetime.date)\n",
    "             ):\n",
    "            if hasattr(column[column.first_valid_index()],'minute'):\n",
    "                if column[column.first_valid_index()].minute == 0:\n",
    "                    isDateFmt = True\n",
    "                else:\n",
    "                    isDateFmt = False\n",
    "                    str_+=column_name.upper() + ' ' +\"TIMESTAMP FORMAT 'YYYY-MM-DDBHH:MI:SS', \"\n",
    "                    cols_specific[column_name] = ['TIMESTAMP', 'DATE_FORMAT({}, \"yyyy-MM-dd HH:mm:ss\")']\n",
    "            else:\n",
    "                isDateFmt = True\n",
    "            if isDateFmt:\n",
    "                str_+=column_name.upper() + ' ' +\"DATE FORMAT 'YYYY-MM-DD', \"\n",
    "                cols_specific[column_name] = ['DATE', 'DATE_FORMAT({}, \"yyyy-MM-dd\")']            \n",
    "        else:\n",
    "            None  \n",
    "    except:\n",
    "        str_+=column_name.upper() + ' ' +'VARCHAR(800), '\n",
    "        cols_specific[column_name] = ['VARCHAR(800)', 'STRING']\n",
    "        \n",
    "res=str_.strip()[:-1] + ' )' + ' PRIMARY INDEX ({});'.format(PRIMARY_INDX)\n",
    "\n",
    "cr_tbl_sql = res\n",
    "\n",
    "print(cr_tbl_sql)"
   ]
  },
  {
   "cell_type": "markdown",
   "metadata": {},
   "source": [
    "## Set a first Connection to Teradata Host via jaydebeapi"
   ]
  },
  {
   "cell_type": "code",
   "execution_count": 17,
   "metadata": {
    "collapsed": true,
    "scrolled": false
   },
   "outputs": [],
   "source": [
    "JDBC_ARGUMENTS = \"LOGMECH=LDAP, CHARSET=UTF8,TYPE=FASTEXPORT, COLUMN_NAME=ON, MAYBENULL=ON\"\n",
    "#DB = 'PRD_DB_CLIENT4D_DEV1'\n",
    "conn = jaydebeapi.connect(\n",
    "    jclassname=\"com.teradata.jdbc.TeraDriver\",\n",
    "    url=\"jdbc:teradata://{}/database={} , {}\".format(TERADATA_HOST, DB, JDBC_ARGUMENTS),\n",
    "    driver_args={\"user\": USERNAME, \"password\": PASSWORD},\n",
    "    jars=['/home/ektov1-av_ca-sbrf-ru/notebooks/drivers/tdgssconfig.jar',\n",
    "          '/home/ektov1-av_ca-sbrf-ru/notebooks/drivers/terajdbc4.jar']\n",
    ")\n",
    "curs = conn.cursor()"
   ]
  },
  {
   "cell_type": "markdown",
   "metadata": {},
   "source": [
    "## Create an Empty Table with Predefined Column Types"
   ]
  },
  {
   "cell_type": "code",
   "execution_count": 18,
   "metadata": {
    "collapsed": true
   },
   "outputs": [],
   "source": [
    "tera_table_name = \"MA_CMDM_MA_DEAL\" #\"LAL_DB_HIST_IN_NONPART\"\n",
    "tera_target_table_name = \"MA_CMDM_MA_DEAL\" #\"LAL_DB_HIST_IN\""
   ]
  },
  {
   "cell_type": "code",
   "execution_count": null,
   "metadata": {
    "collapsed": true,
    "scrolled": false
   },
   "outputs": [],
   "source": [
    "curs.execute('DELETE FROM {} ALL'.format(tera_table_name))\n",
    "curs.execute('DROP TABLE {}'.format(tera_table_name))"
   ]
  },
  {
   "cell_type": "markdown",
   "metadata": {},
   "source": [
    "### Create NON Partitioned TBL"
   ]
  },
  {
   "cell_type": "code",
   "execution_count": 37,
   "metadata": {
    "collapsed": true,
    "scrolled": false
   },
   "outputs": [],
   "source": [
    "curs.execute(cr_tbl_sql.format(tera_table_name))\n",
    "# curs.execute(cr_tbl_sql.split(\"PARTITION BY\")[0].strip().format(tera_table_name))"
   ]
  },
  {
   "cell_type": "code",
   "execution_count": 34,
   "metadata": {
    "collapsed": true
   },
   "outputs": [],
   "source": [
    "curs.execute(\"COLLECT STAT ON {0} COLUMN(ROW_ID);\".format(tera_table_name))"
   ]
  },
  {
   "cell_type": "markdown",
   "metadata": {},
   "source": [
    "### Create Target Partitioned TBL"
   ]
  },
  {
   "cell_type": "code",
   "execution_count": 19,
   "metadata": {
    "collapsed": true,
    "scrolled": false
   },
   "outputs": [],
   "source": [
    "curs.execute('DELETE FROM {} ALL'.format(tera_target_table_name))\n",
    "curs.execute('DROP TABLE {}'.format(tera_target_table_name))"
   ]
  },
  {
   "cell_type": "code",
   "execution_count": 20,
   "metadata": {
    "collapsed": true,
    "scrolled": false
   },
   "outputs": [],
   "source": [
    "PART_COL_NAME = \"CREATION_MONTH\"\n",
    "cr_part_tbl_query = cr_tbl_sql.format(tera_target_table_name)[:-1] + \\\n",
    "\" PARTITION BY RANGE_N({} BETWEEN DATE '2020-01-01' AND DATE '2025-01-01' EACH INTERVAL '1' DAY);\".format(PART_COL_NAME)\n",
    "\n",
    "curs.execute(cr_part_tbl_query)\n",
    "# raw_data = curs.fetchall()"
   ]
  },
  {
   "cell_type": "code",
   "execution_count": 21,
   "metadata": {
    "collapsed": true
   },
   "outputs": [],
   "source": [
    "curs.execute(\"COLLECT STAT ON {0} COLUMN(ROW_ID);\".format(tera_target_table_name))"
   ]
  },
  {
   "cell_type": "code",
   "execution_count": 22,
   "metadata": {
    "collapsed": true
   },
   "outputs": [],
   "source": [
    "conn.close()"
   ]
  },
  {
   "cell_type": "markdown",
   "metadata": {},
   "source": [
    "# Inset Data From Hive Table into Teradata Table of Interest"
   ]
  },
  {
   "cell_type": "markdown",
   "metadata": {},
   "source": [
    "## HIVE REMAPPING"
   ]
  },
  {
   "cell_type": "code",
   "execution_count": 25,
   "metadata": {
    "collapsed": true
   },
   "outputs": [],
   "source": [
    "tmp_tbl_name = \"tmp_ora2hive_dlg\"\n",
    "sdf.registerTempTable(tmp_tbl_name)"
   ]
  },
  {
   "cell_type": "code",
   "execution_count": 26,
   "metadata": {},
   "outputs": [
    {
     "data": {
      "text/plain": [
       "'SELECT CAST(SUM_RUB AS FLOAT) SUM_RUB, CAST(DATE_FORMAT(COMPLETE_DT, \"yyyy-MM-dd\") as DATE) COMPLETE_DT, CAST(HOST_LEAD_ID AS STRING) HOST_LEAD_ID, CAST(INN AS STRING) INN, CAST(APPL_SALE_MTHD_TYPE_NAME AS STRING) APPL_SALE_MTHD_TYPE_NAME, CAST(PROD_TYPE_NAME AS STRING) PROD_TYPE_NAME, CAST(channel_dzo AS INT) channel_dzo, CAST(APPL_STAGE_NAME AS STRING) APPL_STAGE_NAME, CAST(APPL_TYPE_NAME AS STRING) APPL_TYPE_NAME, CAST(CLOSE_REASON_TYPE_NAME AS STRING) CLOSE_REASON_TYPE_NAME, CAST(product_full_nm AS STRING) product_full_nm, CAST(KPP AS STRING) KPP, CAST(GROSS_INC_RUB AS FLOAT) GROSS_INC_RUB, CAST(DATE_FORMAT(PLAN_COMPLETE_DT, \"yyyy-MM-dd\") as DATE) PLAN_COMPLETE_DT, CAST(DATE_FORMAT(creation_month, \"yyyy-MM-dd\") as DATE) creation_month, CAST(HOST_CRTR_EMP_ID AS STRING) HOST_CRTR_EMP_ID, CAST(HOST_CUST_ORG_ID AS STRING) HOST_CUST_ORG_ID, CAST(channel_sale AS INT) channel_sale, CAST(product_short_nm AS STRING) product_short_nm, CAST(channel_mmb_ckr AS INT) channel_mmb_ckr, CAST(channel_mmb_ms AS INT) channel_mmb_ms, CAST(REQUEST_SUM_VAL AS STRING) REQUEST_SUM_VAL, CAST(ARCHIVE_DT AS STRING) ARCHIVE_DT, CAST(APPL_CORE_TXT AS STRING) APPL_CORE_TXT, CAST(product_type AS STRING) product_type, CAST(DATE_FORMAT(CREATE_DT, \"yyyy-MM-dd HH:mm:ss\") as TIMESTAMP) CREATE_DT, CAST(HOST_PROD_ID AS STRING) HOST_PROD_ID, CAST(HOST_VKS_EMP_ID AS STRING) HOST_VKS_EMP_ID, CAST(ARCHIVE_FLG AS STRING) ARCHIVE_FLG, CAST(MARGIN_PCT AS STRING) MARGIN_PCT, CAST(HOST_CM_EMP_ID AS STRING) HOST_CM_EMP_ID, CAST(product_subgroup AS STRING) product_subgroup, CAST(channel_eco_expert AS INT) channel_eco_expert, CAST(product_priority AS INT) product_priority, CAST(HOST_APPL_ID AS STRING) HOST_APPL_ID, CAST(crm_active_flg AS INT) crm_active_flg, CAST(channel_mmb_mkk AS INT) channel_mmb_mkk, CAST(product_group AS STRING) product_group, CAST(row_id AS INT) row_id, CAST(product_cd_mmb AS STRING) product_cd_mmb FROM tmp_ora2hive_dlg'"
      ]
     },
     "execution_count": 26,
     "metadata": {},
     "output_type": "execute_result"
    }
   ],
   "source": [
    "_str = '''SELECT '''\n",
    "for col_name, spec in cols_specific.items(): \n",
    "    if '{' not in spec[1]:\n",
    "        _str+='''CAST({col} AS {type}) {col}, '''.format(col=col_name, type=spec[1])\n",
    "    else:\n",
    "        _str+='''CAST({} as {}) {}, '''.format(spec[1].format(col_name), spec[0], col_name)\n",
    "fin_query = _str.strip()[:-1] + \" FROM {}\".format(tmp_tbl_name)\n",
    "\n",
    "fin_query"
   ]
  },
  {
   "cell_type": "code",
   "execution_count": 27,
   "metadata": {
    "collapsed": true,
    "scrolled": false
   },
   "outputs": [],
   "source": [
    "sdf_casted = hive.sql(fin_query)\n",
    "sdf_casted = sdf_casted.select( [\"row_id\"]+[col for col in sdf.columns if col not in (\"row_id\")])"
   ]
  },
  {
   "cell_type": "markdown",
   "metadata": {},
   "source": [
    "# Prepare col Specification for jDBC Driver"
   ]
  },
  {
   "cell_type": "code",
   "execution_count": 28,
   "metadata": {
    "collapsed": true
   },
   "outputs": [],
   "source": [
    "sdf_toload = sdf_casted"
   ]
  },
  {
   "cell_type": "code",
   "execution_count": 29,
   "metadata": {},
   "outputs": [
    {
     "data": {
      "text/plain": [
       "'ROW_ID INTEGER, INN VARCHAR(20), KPP VARCHAR(20), HOST_APPL_ID VARCHAR(800), HOST_CRTR_EMP_ID VARCHAR(800), HOST_VKS_EMP_ID VARCHAR(800), HOST_CUST_ORG_ID VARCHAR(800), APPL_SALE_MTHD_TYPE_NAME VARCHAR(800), CREATE_DT TIMESTAMP, PLAN_COMPLETE_DT DATE, COMPLETE_DT DATE, HOST_PROD_ID VARCHAR(800), PROD_TYPE_NAME VARCHAR(800), APPL_TYPE_NAME VARCHAR(800), APPL_CORE_TXT VARCHAR(800), SUM_RUB FLOAT, MARGIN_PCT VARCHAR(800), GROSS_INC_RUB FLOAT, CLOSE_REASON_TYPE_NAME VARCHAR(800), HOST_CM_EMP_ID VARCHAR(800), APPL_STAGE_NAME VARCHAR(800), ARCHIVE_FLG VARCHAR(800), ARCHIVE_DT VARCHAR(800), HOST_LEAD_ID VARCHAR(800), REQUEST_SUM_VAL VARCHAR(800), CRM_ACTIVE_FLG INTEGER, PRODUCT_FULL_NM VARCHAR(800), PRODUCT_SHORT_NM VARCHAR(800), PRODUCT_CD_MMB VARCHAR(800), PRODUCT_SUBGROUP VARCHAR(800), PRODUCT_TYPE VARCHAR(800), PRODUCT_PRIORITY INTEGER, CHANNEL_SALE INTEGER, CHANNEL_ECO_EXPERT INTEGER, CHANNEL_MMB_MS INTEGER, CHANNEL_MMB_CKR INTEGER, CHANNEL_MMB_MKK INTEGER, CHANNEL_DZO INTEGER, CREATION_MONTH DATE, PRODUCT_GROUP VARCHAR(800)'"
      ]
     },
     "execution_count": 29,
     "metadata": {},
     "output_type": "execute_result"
    }
   ],
   "source": [
    "cols = ', '.join([col.upper() + ' ' + cols_specific[col][0] for col in sdf_toload.columns])\n",
    "cols"
   ]
  },
  {
   "cell_type": "code",
   "execution_count": 30,
   "metadata": {
    "collapsed": true
   },
   "outputs": [],
   "source": [
    "sdf_toload = sdf_toload.select([col.upper() for col in sdf.columns])"
   ]
  },
  {
   "cell_type": "markdown",
   "metadata": {},
   "source": [
    "### !!! Don't forget to create an empty table before with CLOB types followed by all non-clob columns !!!"
   ]
  },
  {
   "cell_type": "code",
   "execution_count": 31,
   "metadata": {},
   "outputs": [
    {
     "data": {
      "text/plain": [
       "'jdbc:teradata://TDSB15.cgs.sbrf.ru/database=PRD_DB_CLIENT4D_DEV1, LOGMECH=LDAP, charset=UTF8,TYPE=FASTEXPORT,                                                                      COLUMN_NAME=ON, MAYBENULL=ON'"
      ]
     },
     "execution_count": 31,
     "metadata": {},
     "output_type": "execute_result"
    }
   ],
   "source": [
    "db.dsn"
   ]
  },
  {
   "cell_type": "code",
   "execution_count": 32,
   "metadata": {},
   "outputs": [
    {
     "data": {
      "text/plain": [
       "49891"
      ]
     },
     "execution_count": 32,
     "metadata": {},
     "output_type": "execute_result"
    }
   ],
   "source": [
    "sdf_toload.rdd.getNumPartitions()"
   ]
  },
  {
   "cell_type": "code",
   "execution_count": null,
   "metadata": {
    "collapsed": true
   },
   "outputs": [],
   "source": [
    "# Don't use `overwrite` mode because jdbc driver will reset your CREATE TABLE instructions into default `CREATE SET TABLE`\n",
    "# and INDEX will be the first column in your dataset"
   ]
  },
  {
   "cell_type": "code",
   "execution_count": null,
   "metadata": {
    "collapsed": true,
    "scrolled": true
   },
   "outputs": [],
   "source": [
    "mode = 'append'\n",
    "sdf_toload.coalesce(6)\\\n",
    "    .write \\\n",
    "    .format('jdbc') \\\n",
    "    .mode(mode) \\\n",
    "    .option('url', db.dsn) \\\n",
    "    .option('user', db.user) \\\n",
    "    .option('password', db.password) \\\n",
    "    .option('dbtable', tera_target_table_name) \\\n",
    "    .option('createTableColumnTypes', cols)\\\n",
    "    .option('driver', 'com.teradata.jdbc.TeraDriver') \\\n",
    "    .save()"
   ]
  },
  {
   "cell_type": "markdown",
   "metadata": {},
   "source": [
    "### Using Worker's Parallelization"
   ]
  },
  {
   "cell_type": "code",
   "execution_count": null,
   "metadata": {
    "collapsed": true,
    "scrolled": true
   },
   "outputs": [],
   "source": [
    "num_treads = 10\n",
    "\n",
    "mode = 'append'\n",
    "sdf_toload.coalesce(10)\\\n",
    "    .write \\\n",
    "    .format('jdbc') \\\n",
    "    .mode(mode) \\\n",
    "    .option('url', db.dsn) \\\n",
    "    .option('user', db.user) \\\n",
    "    .option('password', db.password) \\\n",
    "    .option('dbtable', tera_table_name) \\\n",
    "    .option('createTableColumnTypes', cols)\\\n",
    "    .option('driver', 'com.teradata.jdbc.TeraDriver') \\\n",
    "    .option('numPartitions',num_treads) \\\n",
    "    .save()"
   ]
  },
  {
   "cell_type": "markdown",
   "metadata": {},
   "source": [
    "## Check Data written to Teratada DWH"
   ]
  },
  {
   "cell_type": "code",
   "execution_count": null,
   "metadata": {
    "collapsed": true
   },
   "outputs": [],
   "source": []
  },
  {
   "cell_type": "code",
   "execution_count": 3,
   "metadata": {
    "scrolled": true
   },
   "outputs": [
    {
     "name": "stdout",
     "output_type": "stream",
     "text": [
      "········\n"
     ]
    }
   ],
   "source": [
    "TERADATA_HOST = \"TDSB15.cgs.sbrf.ru\"\n",
    "DB = \"PRD_DB_CLIENT4D_DEV1 \"\n",
    "USERNAME = \"ektov1-av\"\n",
    "PASSWORD = getpass()\n",
    "db = TeraDB(TERADATA_HOST, DB, USERNAME, PASSWORD)"
   ]
  },
  {
   "cell_type": "code",
   "execution_count": null,
   "metadata": {
    "collapsed": true
   },
   "outputs": [],
   "source": []
  },
  {
   "cell_type": "code",
   "execution_count": 4,
   "metadata": {
    "collapsed": true
   },
   "outputs": [],
   "source": [
    "tera_table_name = \"MA_CMDM_MA_DEAL\" #\"LAL_DB_HIST_IN_NONPART\"\n",
    "tera_target_table_name = \"MA_CMDM_MA_DEAL\" #\"LAL_DB_HIST_IN\""
   ]
  },
  {
   "cell_type": "markdown",
   "metadata": {},
   "source": [
    "## Via pySpark"
   ]
  },
  {
   "cell_type": "code",
   "execution_count": null,
   "metadata": {
    "collapsed": true,
    "scrolled": false
   },
   "outputs": [],
   "source": [
    "my_sql = '''(SELECT TOP 100 \n",
    "                 *    \n",
    "             FROM PRD_DB_CLIENT4D_DEV1.{}\n",
    "             WHERE CREATE_DT_DAY = '2021-10-18'\n",
    "             ) as t\n",
    "         '''.format(tera_target_table_name)\n",
    "\n",
    "td_df = sp.get_teradata(db, my_sql)"
   ]
  },
  {
   "cell_type": "code",
   "execution_count": null,
   "metadata": {
    "scrolled": true
   },
   "outputs": [],
   "source": [
    "td_df.show()"
   ]
  },
  {
   "cell_type": "markdown",
   "metadata": {},
   "source": [
    "## or using batch loader jaydebeapi"
   ]
  },
  {
   "cell_type": "code",
   "execution_count": 5,
   "metadata": {
    "collapsed": true,
    "scrolled": true
   },
   "outputs": [],
   "source": [
    "JDBC_ARGUMENTS = \"LOGMECH=LDAP, CHARSET=UTF8,TYPE=FASTEXPORT, COLUMN_NAME=ON, MAYBENULL=ON\"\n",
    "#DB = 'PRD_DB_CLIENT4D_DEV1'\n",
    "conn = jaydebeapi.connect(\n",
    "    jclassname=\"com.teradata.jdbc.TeraDriver\",\n",
    "    url=\"jdbc:teradata://{}/database={} , {}\".format(TERADATA_HOST, DB, JDBC_ARGUMENTS),\n",
    "    driver_args={\"user\": USERNAME, \"password\": PASSWORD},\n",
    "    jars=['/home/ektov1-av_ca-sbrf-ru/notebooks/drivers/tdgssconfig.jar',\n",
    "          '/home/ektov1-av_ca-sbrf-ru/notebooks/drivers/terajdbc4.jar']\n",
    ")\n",
    "curs = conn.cursor()"
   ]
  },
  {
   "cell_type": "code",
   "execution_count": 10,
   "metadata": {
    "collapsed": true
   },
   "outputs": [],
   "source": [
    "my_sql = '''SELECT TOP 1 \n",
    "                 *    \n",
    "             FROM PRD_DB_CLIENT4D_DEV1.{}\n",
    "             --WHERE CREATE_DT_DAY = '2021-10-18'\n",
    "         '''.format(tera_target_table_name)\n",
    "\n",
    "curs.execute(my_sql)\n",
    "cols = [desc[0] for desc in curs.description]"
   ]
  },
  {
   "cell_type": "code",
   "execution_count": null,
   "metadata": {
    "scrolled": false
   },
   "outputs": [],
   "source": [
    "my_sql = '''SELECT TOP 100 \n",
    "                 *    \n",
    "             FROM PRD_DB_CLIENT4D_DEV1.{}\n",
    "             --WHERE CREATE_DT_DAY = '2021-10-18'\n",
    "         '''.format(tera_target_table_name)\n",
    "curs.execute(my_sql)\n",
    "\n",
    "pd.DataFrame(curs.fetchall(), columns=cols)"
   ]
  },
  {
   "cell_type": "code",
   "execution_count": null,
   "metadata": {
    "collapsed": true
   },
   "outputs": [],
   "source": []
  },
  {
   "cell_type": "markdown",
   "metadata": {
    "collapsed": true
   },
   "source": [
    "# Populate Partitioned TD Tbl Using Stored Temporary Tbl"
   ]
  },
  {
   "cell_type": "code",
   "execution_count": 73,
   "metadata": {
    "collapsed": true
   },
   "outputs": [],
   "source": [
    "tera_table_name = \"LAL_DB_HIST_IN_NONPART\"\n",
    "tera_target_table_name = \"LAL_DB_HIST_IN\""
   ]
  },
  {
   "cell_type": "code",
   "execution_count": 23,
   "metadata": {
    "collapsed": true
   },
   "outputs": [],
   "source": [
    "JDBC_ARGUMENTS = \"LOGMECH=LDAP, CHARSET=UTF8,TYPE=FASTEXPORT, COLUMN_NAME=ON, MAYBENULL=ON\"\n",
    "DB = 'PRD_DB_CLIENT4D_DEV1'\n",
    "conn = jaydebeapi.connect(\n",
    "    jclassname=\"com.teradata.jdbc.TeraDriver\",\n",
    "    url=\"jdbc:teradata://{}/database={} , {}\".format(TERADATA_HOST, DB, JDBC_ARGUMENTS),\n",
    "    driver_args={\"user\": USERNAME, \"password\": PASSWORD},\n",
    "    jars=['/home/ektov1-av_ca-sbrf-ru/notebooks/drivers/tdgssconfig.jar',\n",
    "          '/home/ektov1-av_ca-sbrf-ru/notebooks/drivers/terajdbc4.jar']\n",
    ")\n",
    "curs = conn.cursor()"
   ]
  },
  {
   "cell_type": "code",
   "execution_count": 75,
   "metadata": {
    "collapsed": true,
    "scrolled": true
   },
   "outputs": [],
   "source": [
    "my_sql = '''INSERT INTO PRD_DB_CLIENT4D_DEV1.{}\n",
    "            SELECT\n",
    "            *    \n",
    "            FROM PRD_DB_CLIENT4D_DEV1.{}\n",
    "            WHERE CREATE_DT_DAY IS NOT NULL\n",
    "         '''.format(tera_target_table_name, tera_table_name)\n",
    "\n",
    "curs.execute(my_sql)"
   ]
  },
  {
   "cell_type": "markdown",
   "metadata": {},
   "source": [
    "# Get Info about Row-Partitioned Table"
   ]
  },
  {
   "cell_type": "code",
   "execution_count": 24,
   "metadata": {
    "scrolled": true
   },
   "outputs": [
    {
     "data": {
      "text/plain": [
       "[(\"CREATE MULTISET TABLE PRD_DB_CLIENT4D_DEV1.MA_CMDM_MA_DEAL ,NO FALLBACK ,\\r     NO BEFORE JOURNAL,\\r     NO AFTER JOURNAL,\\r     CHECKSUM = DEFAULT,\\r     DEFAULT MERGEBLOCKRATIO,\\r     MAP = TD_MAP2\\r     (\\r      ROW_ID INTEGER,\\r      INN VARCHAR(20) CHARACTER SET UNICODE NOT CASESPECIFIC,\\r      KPP VARCHAR(20) CHARACTER SET UNICODE NOT CASESPECIFIC,\\r      HOST_APPL_ID VARCHAR(800) CHARACTER SET UNICODE NOT CASESPECIFIC,\\r      HOST_CRTR_EMP_ID VARCHAR(800) CHARACTER SET UNICODE NOT CASESPECIFIC,\\r      HOST_VKS_EMP_ID VARCHAR(800) CHARACTER SET UNICODE NOT CASESPECIFIC,\\r      HOST_CUST_ORG_ID VARCHAR(800) CHARACTER SET UNICODE NOT CASESPECIFIC,\\r      APPL_SALE_MTHD_TYPE_NAME VARCHAR(800) CHARACTER SET UNICODE NOT CASESPECIFIC,\\r      CREATE_DT TIMESTAMP(6) FORMAT 'YYYY-MM-DDBHH:MI:SS',\\r      PLAN_COMPLETE_DT DATE FORMAT 'YYYY-MM-DD',\\r      COMPLETE_DT DATE FORMAT 'YYYY-MM-DD',\\r      HOST_PROD_ID VARCHAR(800) CHARACTER SET UNICODE NOT CASESPECIFIC,\\r      PROD_TYPE_NAME VARCHAR(800) CHARACTER SET UNICODE NOT CASESPECIFIC,\\r      APPL_TYPE_NAME VARCHAR(800) CHARACTER SET UNICODE NOT CASESPECIFIC,\\r      APPL_CORE_TXT VARCHAR(800) CHARACTER SET UNICODE NOT CASESPECIFIC,\\r      SUM_RUB FLOAT,\\r      MARGIN_PCT VARCHAR(800) CHARACTER SET UNICODE NOT CASESPECIFIC,\\r      GROSS_INC_RUB FLOAT,\\r      CLOSE_REASON_TYPE_NAME VARCHAR(800) CHARACTER SET UNICODE NOT CASESPECIFIC,\\r      HOST_CM_EMP_ID VARCHAR(800) CHARACTER SET UNICODE NOT CASESPECIFIC,\\r      APPL_STAGE_NAME VARCHAR(800) CHARACTER SET UNICODE NOT CASESPECIFIC,\\r      ARCHIVE_FLG VARCHAR(800) CHARACTER SET UNICODE NOT CASESPECIFIC,\\r      ARCHIVE_DT VARCHAR(800) CHARACTER SET UNICODE NOT CASESPECIFIC,\\r      HOST_LEAD_ID VARCHAR(800) CHARACTER SET UNICODE NOT CASESPECIFIC,\\r      REQUEST_SUM_VAL VARCHAR(800) CHARACTER SET UNICODE NOT CASESPECIFIC,\\r      CRM_ACTIVE_FLG INTEGER,\\r      PRODUCT_FULL_NM VARCHAR(800) CHARACTER SET UNICODE NOT CASESPECIFIC,\\r      PRODUCT_SHORT_NM VARCHAR(800) CHARACTER SET UNICODE NOT CASESPECIFIC,\\r      PRODUCT_CD_MMB VARCHAR(800) CHARACTER SET UNICODE NOT CASESPECIFIC,\\r      PRODUCT_SUBGROUP VARCHAR(800) CHARACTER SET UNICODE NOT CASESPECIFIC,\\r      PRODUCT_TYPE VARCHAR(800) CHARACTER SET UNICODE NOT CASESPECIFIC,\\r      PRODUCT_PRIORITY INTEGER,\\r      CHANNEL_SALE INTEGER,\\r      CHANNEL_ECO_EXPERT INTEGER,\\r      CHANNEL_MMB_MS INTEGER,\\r      CHANNEL_MMB_CKR INTEGER,\\r      CHANNEL_MMB_MKK INTEGER,\\r      CHANNEL_DZO INTEGER,\\r      CREATION_MONTH DATE FORMAT 'YY/MM/DD',\\r      PRODUCT_GROUP VARCHAR(800) CHARACTER SET UNICODE NOT CASESPECIFIC)\\rPRIMARY INDEX ( ROW_ID )\\rPARTITION BY RANGE_N(CREATION_MONTH  BETWEEN DATE '2020-01-01' AND DATE '2025-01-01' EACH INTERVAL '1' DAY );\",)]"
      ]
     },
     "execution_count": 24,
     "metadata": {},
     "output_type": "execute_result"
    }
   ],
   "source": [
    "curs.execute(\"SHOW TABLE PRD_DB_CLIENT4D_DEV1.{};\".format(tera_target_table_name))\n",
    "curs.fetchall()"
   ]
  },
  {
   "cell_type": "code",
   "execution_count": 113,
   "metadata": {
    "scrolled": true
   },
   "outputs": [
    {
     "data": {
      "text/html": [
       "<div>\n",
       "<style scoped>\n",
       "    .dataframe tbody tr th:only-of-type {\n",
       "        vertical-align: middle;\n",
       "    }\n",
       "\n",
       "    .dataframe tbody tr th {\n",
       "        vertical-align: top;\n",
       "    }\n",
       "\n",
       "    .dataframe thead th {\n",
       "        text-align: right;\n",
       "    }\n",
       "</style>\n",
       "<table border=\"1\" class=\"dataframe\">\n",
       "  <thead>\n",
       "    <tr style=\"text-align: right;\">\n",
       "      <th></th>\n",
       "      <th>DatabaseName</th>\n",
       "      <th>TableName</th>\n",
       "      <th>IndexName</th>\n",
       "      <th>IndexNumber</th>\n",
       "      <th>ConstraintType</th>\n",
       "      <th>ConstraintText</th>\n",
       "      <th>ConstraintCollation</th>\n",
       "      <th>CollationName</th>\n",
       "      <th>CreatorName</th>\n",
       "      <th>CreateTimeStamp</th>\n",
       "      <th>CharSetID</th>\n",
       "      <th>SessionMode</th>\n",
       "      <th>ResolvedCurrent_Date</th>\n",
       "      <th>ResolvedCurrent_TimeStamp</th>\n",
       "    </tr>\n",
       "  </thead>\n",
       "  <tbody>\n",
       "    <tr>\n",
       "      <th>0</th>\n",
       "      <td>PRD_DB_CLIENT4D_DEV1                          ...</td>\n",
       "      <td>LAL_DB_HIST_IN                                ...</td>\n",
       "      <td>None</td>\n",
       "      <td>1</td>\n",
       "      <td>Q</td>\n",
       "      <td>CHECK ((RANGE_N(CREATE_DT_DAY  BETWEEN DATE '2...</td>\n",
       "      <td>U</td>\n",
       "      <td>None</td>\n",
       "      <td>Ektov1-AV                                     ...</td>\n",
       "      <td>2022-02-17 21:14:22</td>\n",
       "      <td>None</td>\n",
       "      <td>None</td>\n",
       "      <td>None</td>\n",
       "      <td>None</td>\n",
       "    </tr>\n",
       "  </tbody>\n",
       "</table>\n",
       "</div>"
      ],
      "text/plain": [
       "                                        DatabaseName  \\\n",
       "0  PRD_DB_CLIENT4D_DEV1                          ...   \n",
       "\n",
       "                                           TableName IndexName  IndexNumber  \\\n",
       "0  LAL_DB_HIST_IN                                ...      None            1   \n",
       "\n",
       "  ConstraintType                                     ConstraintText  \\\n",
       "0             Q   CHECK ((RANGE_N(CREATE_DT_DAY  BETWEEN DATE '2...   \n",
       "\n",
       "  ConstraintCollation CollationName  \\\n",
       "0                  U           None   \n",
       "\n",
       "                                         CreatorName     CreateTimeStamp  \\\n",
       "0  Ektov1-AV                                     ... 2022-02-17 21:14:22   \n",
       "\n",
       "  CharSetID SessionMode ResolvedCurrent_Date ResolvedCurrent_TimeStamp  \n",
       "0      None        None                 None                      None  "
      ]
     },
     "execution_count": 113,
     "metadata": {},
     "output_type": "execute_result"
    }
   ],
   "source": [
    "query = \\\n",
    "'''\n",
    "(\n",
    "SELECT\n",
    "* \n",
    "FROM dbc.indexconstraints\n",
    "WHERE 1=1\n",
    "AND databasename = '{}'\n",
    "AND tablename = '{}'\n",
    "AND constrainttype = 'Q'\n",
    ") as t\n",
    "'''.format(DB, tera_target_table_name)\n",
    "\n",
    "sp.get_teradata(db, query).show()"
   ]
  },
  {
   "cell_type": "markdown",
   "metadata": {},
   "source": [
    "# ALTER PARTITIONS"
   ]
  },
  {
   "cell_type": "code",
   "execution_count": 114,
   "metadata": {},
   "outputs": [
    {
     "data": {
      "text/plain": [
       "['2022-02-01',\n",
       " '2022-01-31',\n",
       " '2021-12-24',\n",
       " '2021-12-23',\n",
       " '2021-12-06',\n",
       " '2021-11-29',\n",
       " '2021-11-19',\n",
       " '2021-11-18',\n",
       " '2021-11-15',\n",
       " '2021-10-18']"
      ]
     },
     "execution_count": 114,
     "metadata": {},
     "output_type": "execute_result"
    }
   ],
   "source": [
    "last_part_lst"
   ]
  },
  {
   "cell_type": "code",
   "execution_count": 118,
   "metadata": {
    "collapsed": true,
    "scrolled": true
   },
   "outputs": [],
   "source": [
    "query = \\\n",
    "'''\n",
    "ALTER TABLE {}.{}\n",
    "MODIFY\n",
    "DROP RANGE BETWEEN DATE '2019-01-01' AND '2021-11-01'\n",
    "--ADD RANGE BETWEEN DATE '2019-01-01' AND '2021-11-01'\n",
    "--EACH INTERVAL '1' DAY\n",
    "WITH DELETE;\n",
    "'''.format(DB, tera_target_table_name)\n",
    "\n",
    "curs.execute(query)"
   ]
  },
  {
   "cell_type": "code",
   "execution_count": null,
   "metadata": {
    "collapsed": true
   },
   "outputs": [],
   "source": []
  },
  {
   "cell_type": "markdown",
   "metadata": {
    "collapsed": true
   },
   "source": [
    "# Tranzact between Teradata and Hive DWH"
   ]
  },
  {
   "cell_type": "code",
   "execution_count": 120,
   "metadata": {
    "collapsed": true
   },
   "outputs": [],
   "source": [
    "cols = \\\n",
    "['INN',\n",
    " 'MODEL_NAME',\n",
    " 'HYPOTHESIS',\n",
    " 'CLIENT_TYPE',\n",
    " 'ID_SCEN',\n",
    " 'CREATE_DT',\n",
    " 'ONLY_SB',\n",
    " 'DEAL_EVENT_DT',\n",
    " 'MODEL_TYPE',\n",
    " 'TARGET',\n",
    " 'CREATE_DT_DAY',\n",
    " 'ROW_ID']\n",
    "\n",
    "DATABASE_NAME = tera_target_table_name"
   ]
  },
  {
   "cell_type": "code",
   "execution_count": 121,
   "metadata": {
    "collapsed": true,
    "scrolled": false
   },
   "outputs": [],
   "source": [
    "my_sql = '''(SELECT \n",
    "                 {cols}\n",
    "             FROM {db}.{tbl} SAMPLE 100) as t\n",
    "         '''.format(db=DB, tbl = DATABASE_NAME, cols = \", \".join(cols) )\n",
    "\n",
    "sdf = sp.get_teradata(db, my_sql)"
   ]
  },
  {
   "cell_type": "code",
   "execution_count": null,
   "metadata": {
    "scrolled": true
   },
   "outputs": [],
   "source": [
    "sdf.show()"
   ]
  },
  {
   "cell_type": "code",
   "execution_count": 36,
   "metadata": {},
   "outputs": [
    {
     "data": {
      "text/plain": [
       "DataFrame[]"
      ]
     },
     "execution_count": 36,
     "metadata": {},
     "output_type": "execute_result"
    }
   ],
   "source": [
    "conn_schema = 'sbx_t_team_cvm'\n",
    "table_name = DATABASE_NAME\n",
    "hive.sql(\"drop table if exists {schema}.{tbl} purge\".format(schema=conn_schema, tbl=table_name))\n",
    "insert = ', '.join([\"{} {}\".format(col, _type) for col, _type in sdf.dtypes if col.lower()])\n",
    "\n",
    "hive.sql('''create table {schema}.{tbl} (\n",
    "                                         {fields}\n",
    "                                            )\n",
    "         '''.format(schema=conn_schema,\n",
    "                    tbl=table_name,\n",
    "                    fields=insert)\n",
    "        )"
   ]
  },
  {
   "cell_type": "code",
   "execution_count": 37,
   "metadata": {
    "collapsed": true
   },
   "outputs": [],
   "source": [
    "my_sql = '''(SELECT \n",
    "                 {cols}\n",
    "             FROM {db}.{tbl}) as t\n",
    "         '''.format(db=DB, tbl = DATABASE_NAME, cols = \", \".join(cols) )\n",
    "sdf = sp.get_teradata(db, my_sql, BATCH_SIZE=100000)"
   ]
  },
  {
   "cell_type": "code",
   "execution_count": 38,
   "metadata": {
    "collapsed": true
   },
   "outputs": [],
   "source": [
    "part_tbl = \"tmp_\"+table_name\n",
    "sdf.registerTempTable(part_tbl)"
   ]
  },
  {
   "cell_type": "code",
   "execution_count": 39,
   "metadata": {},
   "outputs": [
    {
     "name": "stdout",
     "output_type": "stream",
     "text": [
      "CPU times: user 272 ms, sys: 207 ms, total: 479 ms\n",
      "Wall time: 21min 53s\n"
     ]
    },
    {
     "data": {
      "text/plain": [
       "DataFrame[]"
      ]
     },
     "execution_count": 39,
     "metadata": {},
     "output_type": "execute_result"
    }
   ],
   "source": [
    "%%time\n",
    "hive.sql(\"\"\"\n",
    "insert into table {schema}.{tbl}\n",
    "select * from {tmp_tbl}\n",
    "\"\"\".format(schema=conn_schema,\n",
    "           tbl=table_name,\n",
    "           tmp_tbl=part_tbl)\n",
    "        )"
   ]
  },
  {
   "cell_type": "code",
   "execution_count": null,
   "metadata": {
    "collapsed": true
   },
   "outputs": [],
   "source": []
  }
 ],
 "metadata": {
  "kernelspec": {
   "display_name": "Python 3",
   "language": "python",
   "name": "python3"
  },
  "language_info": {
   "codemirror_mode": {
    "name": "ipython",
    "version": 3
   },
   "file_extension": ".py",
   "mimetype": "text/x-python",
   "name": "python",
   "nbconvert_exporter": "python",
   "pygments_lexer": "ipython3",
   "version": "3.7.4"
  }
 },
 "nbformat": 4,
 "nbformat_minor": 2
}
